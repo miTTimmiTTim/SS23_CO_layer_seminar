{
 "cells": [
  {
   "cell_type": "code",
   "execution_count": 1,
   "metadata": {},
   "outputs": [],
   "source": [
    "using CSV\n",
    "using DataFrames\n",
    "using Hungarian\n",
    "using InferOpt\n",
    "using Flux\n",
    "using StatsBase\n",
    "using MLJ\n",
    "using ProgressMeter\n",
    "using Distances\n",
    "using Random"
   ]
  },
  {
   "cell_type": "code",
   "execution_count": 2,
   "metadata": {},
   "outputs": [],
   "source": [
    "using JuMP\n",
    "using MathOptInterface\n",
    "using Gurobi\n",
    "using Graphs\n",
    "using Plots\n",
    "using JLD2\n",
    "using FileIO"
   ]
  },
  {
   "cell_type": "code",
   "execution_count": 3,
   "metadata": {},
   "outputs": [
    {
     "data": {
      "text/plain": [
       "display_solution (generic function with 1 method)"
      ]
     },
     "metadata": {},
     "output_type": "display_data"
    }
   ],
   "source": [
    "include(\"optimization_Util.jl\")"
   ]
  },
  {
   "attachments": {},
   "cell_type": "markdown",
   "metadata": {},
   "source": [
    "### Training and evaluation of the pipeline using a generic regularization layer "
   ]
  },
  {
   "cell_type": "code",
   "execution_count": 4,
   "metadata": {},
   "outputs": [],
   "source": [
    "ENV[\"COLUMNS\"] = 100\n",
    "ENV[\"LINES\"] = 100\n",
    "Random.seed!(67);"
   ]
  },
  {
   "cell_type": "code",
   "execution_count": 5,
   "metadata": {},
   "outputs": [
    {
     "data": {
      "text/plain": [
       "Dict{String, Any} with 4 entries:\n",
       "  \"Y\"   => [[0 0 … 0 0; 0 0 … 0 0; … ; 0 0 … 0 0; 0 0 … 0 0], [0 0 … 0 0; 0 0 … 0 0; … ; 0 0 … 0 0;…\n",
       "  \"X\"   => Array{Float32, 3}[[0.0 0.0 … 0.0 0.0; 0.0303127 0.0325272 … 0.0179837 0.0136011; 0.02519…\n",
       "  \"X_A\" => DataFrame[\u001b[1m67×2 DataFrame\u001b[0m…\n",
       "  \"X_C\" => DataFrame[\u001b[1m201×2 DataFrame\u001b[0m…"
      ]
     },
     "metadata": {},
     "output_type": "display_data"
    }
   ],
   "source": [
    "file = File(format\"JLD2\", \"Data/train_data.jld2\")\n",
    "train_data = JLD2.load(file)"
   ]
  },
  {
   "cell_type": "code",
   "execution_count": 6,
   "metadata": {},
   "outputs": [
    {
     "data": {
      "text/plain": [
       "Dict{String, Any} with 4 entries:\n",
       "  \"Y\"   => [[0 0 … 0 0; 0 0 … 0 0; … ; 0 0 … 0 0; 0 0 … 0 0], [0 0 … 0 0; 0 0 … 0 0; … ; 0 0 … 0 0;…\n",
       "  \"X\"   => Array{Float32, 3}[[1.0 0.0 … 0.0 0.0; 0.0174359 0.0132141 … 0.00802322 0.0326288; 0.0329…\n",
       "  \"X_A\" => DataFrame[\u001b[1m54×2 DataFrame\u001b[0m…\n",
       "  \"X_C\" => DataFrame[\u001b[1m177×2 DataFrame\u001b[0m…"
      ]
     },
     "metadata": {},
     "output_type": "display_data"
    }
   ],
   "source": [
    "file = File(format\"JLD2\", \"Data/test_data.jld2\")\n",
    "test_data = JLD2.load(file)"
   ]
  },
  {
   "cell_type": "code",
   "execution_count": 7,
   "metadata": {},
   "outputs": [],
   "source": [
    "X_train, X_A_train, X_C_train, Y_train = train_data[\"X\"], train_data[\"X_A\"], train_data[\"X_C\"], train_data[\"Y\"];"
   ]
  },
  {
   "cell_type": "code",
   "execution_count": 8,
   "metadata": {},
   "outputs": [],
   "source": [
    "X_test, X_A_test, X_C_test, Y_test = test_data[\"X\"], test_data[\"X_A\"], test_data[\"X_C\"], test_data[\"Y\"];"
   ]
  },
  {
   "cell_type": "code",
   "execution_count": 9,
   "metadata": {},
   "outputs": [
    {
     "data": {
      "text/plain": [
       "optimizer"
      ]
     },
     "metadata": {},
     "output_type": "display_data"
    }
   ],
   "source": [
    "\"\"\"\n",
    "optimizer(cost_matrix)\n",
    "\n",
    "Wrapper function for the hungarian assignment algorithm.\n",
    "\"\"\"\n",
    "function optimizer(cost_matrix)\n",
    "    vector = hungarian(-cost_matrix)[1]\n",
    "    n, m = size(cost_matrix)\n",
    "\n",
    "    # Create a matrix of size n×n filled with 0's\n",
    "    matrix = zeros(Int, n, m)\n",
    "\n",
    "    # Set the value to 1 at the specified points in the vector\n",
    "    for i in 1:length(vector)\n",
    "        matrix[i, vector[i]] = 1\n",
    "    end\n",
    "    return matrix\n",
    "end"
   ]
  },
  {
   "attachments": {},
   "cell_type": "markdown",
   "metadata": {},
   "source": [
    "Generic Regularization layer from InferOpt using the half_square_norm with FenchelYoung Loss"
   ]
  },
  {
   "cell_type": "code",
   "execution_count": 10,
   "metadata": {},
   "outputs": [],
   "source": [
    "optimizer_layer = RegularizedGeneric(\n",
    "    optimizer;\n",
    "    omega=y -> half_square_norm(y),\n",
    "    omega_grad=y -> y\n",
    "    )\n",
    "loss = FenchelYoungLoss(optimizer_layer);"
   ]
  },
  {
   "attachments": {},
   "cell_type": "markdown",
   "metadata": {},
   "source": [
    "Linear Model for each entry in the Matrix\n",
    "with dimension reduction to reduce M:N:4 Matrix to M:N Matrix"
   ]
  },
  {
   "cell_type": "code",
   "execution_count": 11,
   "metadata": {},
   "outputs": [
    {
     "data": {
      "text/plain": [
       "Chain(\n",
       "  Dense(4 => 1),                        \u001b[90m# 5 parameters\u001b[39m\n",
       "  var\"#32#33\"(),\n",
       ") "
      ]
     },
     "metadata": {},
     "output_type": "display_data"
    }
   ],
   "source": [
    "og_encoder = Chain(\n",
    "  Dense(4, 1),\n",
    "  z -> dropdims(z; dims=1),\n",
    ")"
   ]
  },
  {
   "attachments": {},
   "cell_type": "markdown",
   "metadata": {},
   "source": [
    "Trainings run of the Pipeline using Adam optimizer with early stop and best model recovery"
   ]
  },
  {
   "cell_type": "code",
   "execution_count": 12,
   "metadata": {},
   "outputs": [
    {
     "name": "stderr",
     "output_type": "stream",
     "text": [
      "\r\u001b[32mTraining epoch:   1%|█                                   |  ETA: 1:22:49\u001b[39m\u001b[K"
     ]
    },
    {
     "name": "stderr",
     "output_type": "stream",
     "text": [
      "\r\u001b[32mTraining epoch:   2%|█                                   |  ETA: 1:06:26\u001b[39m\u001b[K"
     ]
    },
    {
     "name": "stderr",
     "output_type": "stream",
     "text": [
      "\r\u001b[32mTraining epoch:   2%|█                                   |  ETA: 0:57:47\u001b[39m\u001b[K"
     ]
    },
    {
     "name": "stderr",
     "output_type": "stream",
     "text": [
      "\r\u001b[32mTraining epoch:   2%|█                                   |  ETA: 0:52:47\u001b[39m\u001b[K"
     ]
    },
    {
     "name": "stderr",
     "output_type": "stream",
     "text": [
      "\r\u001b[32mTraining epoch:   3%|██                                  |  ETA: 0:49:21\u001b[39m\u001b[K"
     ]
    },
    {
     "name": "stderr",
     "output_type": "stream",
     "text": [
      "\r\u001b[32mTraining epoch:   4%|██                                  |  ETA: 0:46:26\u001b[39m\u001b[K"
     ]
    },
    {
     "name": "stderr",
     "output_type": "stream",
     "text": [
      "\r\u001b[32mTraining epoch:   4%|██                                  |  ETA: 0:42:57\u001b[39m\u001b[K"
     ]
    },
    {
     "name": "stderr",
     "output_type": "stream",
     "text": [
      "\r\u001b[32mTraining epoch:   4%|██                                  |  ETA: 0:40:15\u001b[39m\u001b[K"
     ]
    },
    {
     "name": "stderr",
     "output_type": "stream",
     "text": [
      "\r"
     ]
    },
    {
     "name": "stderr",
     "output_type": "stream",
     "text": [
      "\u001b[32mTraining epoch:   5%|██                                  |  ETA: 0:38:03\u001b[39m\u001b[K\r\u001b[32mTraining epoch:   6%|██                                  |  ETA: 0:36:24\u001b[39m\u001b[K"
     ]
    },
    {
     "name": "stderr",
     "output_type": "stream",
     "text": [
      "\r\u001b[32mTraining epoch:   6%|███                                 |  ETA: 0:34:55\u001b[39m\u001b[K"
     ]
    },
    {
     "name": "stderr",
     "output_type": "stream",
     "text": [
      "\r\u001b[32mTraining epoch:   6%|███                                 |  ETA: 0:33:50\u001b[39m\u001b[K"
     ]
    },
    {
     "name": "stderr",
     "output_type": "stream",
     "text": [
      "\r\u001b[32mTraining epoch:   7%|███                                 |  ETA: 0:32:42\u001b[39m\u001b[K"
     ]
    },
    {
     "name": "stderr",
     "output_type": "stream",
     "text": [
      "\r\u001b[32mTraining epoch: 100%|████████████████████████████████████| Time: 0:02:34\u001b[39m\u001b[K\n"
     ]
    },
    {
     "data": {
      "text/plain": [
       "Chain(\n",
       "  Dense(4 => 1),                        \u001b[90m# 5 parameters\u001b[39m\n",
       "  var\"#32#33\"(),\n",
       ") "
      ]
     },
     "metadata": {},
     "output_type": "display_data"
    }
   ],
   "source": [
    "# Create a copy of the original encoder\n",
    "encoder = deepcopy(og_encoder)\n",
    "\n",
    "# Initialize the optimizer\n",
    "opt_state = Flux.setup(Adam(), encoder)\n",
    "\n",
    "# Initialize the losses array\n",
    "losses = Float64[]\n",
    "best_loss = Inf\n",
    "best_model = deepcopy(encoder)\n",
    "\n",
    "# Define the early stopping criterion\n",
    "es = Flux.early_stopping(() -> best_loss, 5)\n",
    "\n",
    "@showprogress \"Training epoch:\" for epoch in 1:200\n",
    "    l = 0.0\n",
    "    # Iterate through each data point\n",
    "    for (x, y) in zip(X_train, Y_train)\n",
    "        \n",
    "        # Calculate gradients using the current data point\n",
    "        val, grads = Flux.withgradient(encoder) do m\n",
    "            # Any code inside here is differentiated.\n",
    "            # Evaluation of the model and loss must be inside!\n",
    "            result = m(x)\n",
    "            loss(result, y)\n",
    "        end\n",
    "        l += val \n",
    "        # Update the model parameters using the calculated gradients\n",
    "        Flux.update!(opt_state, encoder, grads[1])\n",
    "    end\n",
    "\n",
    "    # Calculate average loss for this epoch\n",
    "    average_loss = l / length(X_train)\n",
    "    # Append the average loss to the losses array\n",
    "    push!(losses, average_loss)\n",
    "    # Check for improvement \n",
    "    if average_loss < best_loss && average_loss > 0\n",
    "        best_loss = average_loss\n",
    "        best_model = deepcopy(encoder)\n",
    "    else\n",
    "        es() && break\n",
    "    end\n",
    "end\n",
    "encoder = best_model  # set encoder to the best model"
   ]
  },
  {
   "cell_type": "code",
   "execution_count": 13,
   "metadata": {},
   "outputs": [
    {
     "data": {
      "image/png": "[encoded data removed]",
      "image/svg+xml": [
       "<?xml version=\"1.0\" encoding=\"utf-8\"?>\n",
       "<svg xmlns=\"http://www.w3.org/2000/svg\" xmlns:xlink=\"http://www.w3.org/1999/xlink\" width=\"600\" height=\"400\" viewBox=\"0 0 2400 1600\">\n",
       "<defs>\n",
       "  <clipPath id=\"clip350\">\n",
       "    <rect x=\"0\" y=\"0\" width=\"2400\" height=\"1600\"/>\n",
       "  </clipPath>\n",
       "</defs>\n",
       "<path clip-path=\"url(#clip350)\" d=\"M0 1600 L2400 1600 L2400 0 L0 0  Z\" fill=\"#ffffff\" fill-rule=\"evenodd\" fill-opacity=\"1\"/>\n",
       "<defs>\n",
       "  <clipPath id=\"clip351\">\n",
       "    <rect x=\"480\" y=\"0\" width=\"1681\" height=\"1600\"/>\n",
       "  </clipPath>\n",
       "</defs>\n",
       "<path clip-path=\"url(#clip350)\" d=\"M205.121 1423.18 L2352.76 1423.18 L2352.76 47.2441 L205.121 47.2441  Z\" fill=\"#ffffff\" fill-rule=\"evenodd\" fill-opacity=\"1\"/>\n",
       "<defs>\n",
       "  <clipPath id=\"clip352\">\n",
       "    <rect x=\"205\" y=\"47\" width=\"2149\" height=\"1377\"/>\n",
       "  </clipPath>\n",
       "</defs>\n",
       "<polyline clip-path=\"url(#clip352)\" style=\"stroke:#000000; stroke-linecap:round; stroke-linejoin:round; stroke-width:2; stroke-opacity:0.1; fill:none\" points=\"410.622,1423.18 410.622,47.2441 \"/>\n",
       "<polyline clip-path=\"url(#clip352)\" style=\"stroke:#000000; stroke-linecap:round; stroke-linejoin:round; stroke-width:2; stroke-opacity:0.1; fill:none\" points=\"700.061,1423.18 700.061,47.2441 \"/>\n",
       "<polyline clip-path=\"url(#clip352)\" style=\"stroke:#000000; stroke-linecap:round; stroke-linejoin:round; stroke-width:2; stroke-opacity:0.1; fill:none\" points=\"989.5,1423.18 989.5,47.2441 \"/>\n",
       "<polyline clip-path=\"url(#clip352)\" style=\"stroke:#000000; stroke-linecap:round; stroke-linejoin:round; stroke-width:2; stroke-opacity:0.1; fill:none\" points=\"1278.94,1423.18 1278.94,47.2441 \"/>\n",
       "<polyline clip-path=\"url(#clip352)\" style=\"stroke:#000000; stroke-linecap:round; stroke-linejoin:round; stroke-width:2; stroke-opacity:0.1; fill:none\" points=\"1568.38,1423.18 1568.38,47.2441 \"/>\n",
       "<polyline clip-path=\"url(#clip352)\" style=\"stroke:#000000; stroke-linecap:round; stroke-linejoin:round; stroke-width:2; stroke-opacity:0.1; fill:none\" points=\"1857.82,1423.18 1857.82,47.2441 \"/>\n",
       "<polyline clip-path=\"url(#clip352)\" style=\"stroke:#000000; stroke-linecap:round; stroke-linejoin:round; stroke-width:2; stroke-opacity:0.1; fill:none\" points=\"2147.25,1423.18 2147.25,47.2441 \"/>\n",
       "<polyline clip-path=\"url(#clip350)\" style=\"stroke:#000000; stroke-linecap:round; stroke-linejoin:round; stroke-width:4; stroke-opacity:1; fill:none\" points=\"205.121,1423.18 2352.76,1423.18 \"/>\n",
       "<polyline clip-path=\"url(#clip350)\" style=\"stroke:#000000; stroke-linecap:round; stroke-linejoin:round; stroke-width:4; stroke-opacity:1; fill:none\" points=\"410.622,1423.18 410.622,1404.28 \"/>\n",
       "<polyline clip-path=\"url(#clip350)\" style=\"stroke:#000000; stroke-linecap:round; stroke-linejoin:round; stroke-width:4; stroke-opacity:1; fill:none\" points=\"700.061,1423.18 700.061,1404.28 \"/>\n",
       "<polyline clip-path=\"url(#clip350)\" style=\"stroke:#000000; stroke-linecap:round; stroke-linejoin:round; stroke-width:4; stroke-opacity:1; fill:none\" points=\"989.5,1423.18 989.5,1404.28 \"/>\n",
       "<polyline clip-path=\"url(#clip350)\" style=\"stroke:#000000; stroke-linecap:round; stroke-linejoin:round; stroke-width:4; stroke-opacity:1; fill:none\" points=\"1278.94,1423.18 1278.94,1404.28 \"/>\n",
       "<polyline clip-path=\"url(#clip350)\" style=\"stroke:#000000; stroke-linecap:round; stroke-linejoin:round; stroke-width:4; stroke-opacity:1; fill:none\" points=\"1568.38,1423.18 1568.38,1404.28 \"/>\n",
       "<polyline clip-path=\"url(#clip350)\" style=\"stroke:#000000; stroke-linecap:round; stroke-linejoin:round; stroke-width:4; stroke-opacity:1; fill:none\" points=\"1857.82,1423.18 1857.82,1404.28 \"/>\n",
       "<polyline clip-path=\"url(#clip350)\" style=\"stroke:#000000; stroke-linecap:round; stroke-linejoin:round; stroke-width:4; stroke-opacity:1; fill:none\" points=\"2147.25,1423.18 2147.25,1404.28 \"/>\n",
       "<path clip-path=\"url(#clip350)\" d=\"M405.275 1481.64 L421.595 1481.64 L421.595 1485.58 L399.65 1485.58 L399.65 1481.64 Q402.312 1478.89 406.896 1474.26 Q411.502 1469.61 412.683 1468.27 Q414.928 1465.74 415.808 1464.01 Q416.71 1462.25 416.71 1460.56 Q416.71 1457.8 414.766 1456.07 Q412.845 1454.33 409.743 1454.33 Q407.544 1454.33 405.09 1455.09 Q402.66 1455.86 399.882 1457.41 L399.882 1452.69 Q402.706 1451.55 405.159 1450.97 Q407.613 1450.39 409.65 1450.39 Q415.021 1450.39 418.215 1453.08 Q421.409 1455.77 421.409 1460.26 Q421.409 1462.39 420.599 1464.31 Q419.812 1466.2 417.706 1468.8 Q417.127 1469.47 414.025 1472.69 Q410.923 1475.88 405.275 1481.64 Z\" fill=\"#000000\" fill-rule=\"nonzero\" fill-opacity=\"1\" /><path clip-path=\"url(#clip350)\" d=\"M703.07 1455.09 L691.265 1473.54 L703.07 1473.54 L703.07 1455.09 M701.843 1451.02 L707.723 1451.02 L707.723 1473.54 L712.654 1473.54 L712.654 1477.43 L707.723 1477.43 L707.723 1485.58 L703.07 1485.58 L703.07 1477.43 L687.469 1477.43 L687.469 1472.92 L701.843 1451.02 Z\" fill=\"#000000\" fill-rule=\"nonzero\" fill-opacity=\"1\" /><path clip-path=\"url(#clip350)\" d=\"M989.905 1466.44 Q986.757 1466.44 984.905 1468.59 Q983.076 1470.74 983.076 1474.49 Q983.076 1478.22 984.905 1480.39 Q986.757 1482.55 989.905 1482.55 Q993.053 1482.55 994.882 1480.39 Q996.734 1478.22 996.734 1474.49 Q996.734 1470.74 994.882 1468.59 Q993.053 1466.44 989.905 1466.44 M999.187 1451.78 L999.187 1456.04 Q997.428 1455.21 995.622 1454.77 Q993.84 1454.33 992.081 1454.33 Q987.451 1454.33 984.997 1457.45 Q982.567 1460.58 982.22 1466.9 Q983.585 1464.89 985.646 1463.82 Q987.706 1462.73 990.183 1462.73 Q995.391 1462.73 998.4 1465.9 Q1001.43 1469.05 1001.43 1474.49 Q1001.43 1479.82 998.284 1483.03 Q995.136 1486.25 989.905 1486.25 Q983.91 1486.25 980.738 1481.67 Q977.567 1477.06 977.567 1468.33 Q977.567 1460.14 981.456 1455.28 Q985.345 1450.39 991.896 1450.39 Q993.655 1450.39 995.437 1450.74 Q997.243 1451.09 999.187 1451.78 Z\" fill=\"#000000\" fill-rule=\"nonzero\" fill-opacity=\"1\" /><path clip-path=\"url(#clip350)\" d=\"M1278.94 1469.17 Q1275.61 1469.17 1273.68 1470.95 Q1271.79 1472.73 1271.79 1475.86 Q1271.79 1478.98 1273.68 1480.77 Q1275.61 1482.55 1278.94 1482.55 Q1282.27 1482.55 1284.19 1480.77 Q1286.11 1478.96 1286.11 1475.86 Q1286.11 1472.73 1284.19 1470.95 Q1282.29 1469.17 1278.94 1469.17 M1274.26 1467.18 Q1271.25 1466.44 1269.56 1464.38 Q1267.9 1462.32 1267.9 1459.35 Q1267.9 1455.21 1270.84 1452.8 Q1273.8 1450.39 1278.94 1450.39 Q1284.1 1450.39 1287.04 1452.8 Q1289.98 1455.21 1289.98 1459.35 Q1289.98 1462.32 1288.29 1464.38 Q1286.62 1466.44 1283.64 1467.18 Q1287.02 1467.96 1288.89 1470.26 Q1290.79 1472.55 1290.79 1475.86 Q1290.79 1480.88 1287.71 1483.57 Q1284.66 1486.25 1278.94 1486.25 Q1273.22 1486.25 1270.14 1483.57 Q1267.09 1480.88 1267.09 1475.86 Q1267.09 1472.55 1268.98 1470.26 Q1270.88 1467.96 1274.26 1467.18 M1272.55 1459.79 Q1272.55 1462.48 1274.22 1463.98 Q1275.91 1465.49 1278.94 1465.49 Q1281.95 1465.49 1283.64 1463.98 Q1285.35 1462.48 1285.35 1459.79 Q1285.35 1457.11 1283.64 1455.6 Q1281.95 1454.1 1278.94 1454.1 Q1275.91 1454.1 1274.22 1455.6 Q1272.55 1457.11 1272.55 1459.79 Z\" fill=\"#000000\" fill-rule=\"nonzero\" fill-opacity=\"1\" /><path clip-path=\"url(#clip350)\" d=\"M1543.06 1481.64 L1550.7 1481.64 L1550.7 1455.28 L1542.39 1456.95 L1542.39 1452.69 L1550.66 1451.02 L1555.33 1451.02 L1555.33 1481.64 L1562.97 1481.64 L1562.97 1485.58 L1543.06 1485.58 L1543.06 1481.64 Z\" fill=\"#000000\" fill-rule=\"nonzero\" fill-opacity=\"1\" /><path clip-path=\"url(#clip350)\" d=\"M1582.42 1454.1 Q1578.81 1454.1 1576.98 1457.66 Q1575.17 1461.2 1575.17 1468.33 Q1575.17 1475.44 1576.98 1479.01 Q1578.81 1482.55 1582.42 1482.55 Q1586.05 1482.55 1587.86 1479.01 Q1589.68 1475.44 1589.68 1468.33 Q1589.68 1461.2 1587.86 1457.66 Q1586.05 1454.1 1582.42 1454.1 M1582.42 1450.39 Q1588.23 1450.39 1591.28 1455 Q1594.36 1459.58 1594.36 1468.33 Q1594.36 1477.06 1591.28 1481.67 Q1588.23 1486.25 1582.42 1486.25 Q1576.61 1486.25 1573.53 1481.67 Q1570.47 1477.06 1570.47 1468.33 Q1570.47 1459.58 1573.53 1455 Q1576.61 1450.39 1582.42 1450.39 Z\" fill=\"#000000\" fill-rule=\"nonzero\" fill-opacity=\"1\" /><path clip-path=\"url(#clip350)\" d=\"M1833.3 1481.64 L1840.94 1481.64 L1840.94 1455.28 L1832.63 1456.95 L1832.63 1452.69 L1840.89 1451.02 L1845.57 1451.02 L1845.57 1481.64 L1853.21 1481.64 L1853.21 1485.58 L1833.3 1485.58 L1833.3 1481.64 Z\" fill=\"#000000\" fill-rule=\"nonzero\" fill-opacity=\"1\" /><path clip-path=\"url(#clip350)\" d=\"M1866.68 1481.64 L1883 1481.64 L1883 1485.58 L1861.06 1485.58 L1861.06 1481.64 Q1863.72 1478.89 1868.3 1474.26 Q1872.91 1469.61 1874.09 1468.27 Q1876.33 1465.74 1877.21 1464.01 Q1878.12 1462.25 1878.12 1460.56 Q1878.12 1457.8 1876.17 1456.07 Q1874.25 1454.33 1871.15 1454.33 Q1868.95 1454.33 1866.5 1455.09 Q1864.07 1455.86 1861.29 1457.41 L1861.29 1452.69 Q1864.11 1451.55 1866.57 1450.97 Q1869.02 1450.39 1871.06 1450.39 Q1876.43 1450.39 1879.62 1453.08 Q1882.82 1455.77 1882.82 1460.26 Q1882.82 1462.39 1882.01 1464.31 Q1881.22 1466.2 1879.11 1468.8 Q1878.53 1469.47 1875.43 1472.69 Q1872.33 1475.88 1866.68 1481.64 Z\" fill=\"#000000\" fill-rule=\"nonzero\" fill-opacity=\"1\" /><path clip-path=\"url(#clip350)\" d=\"M2121.7 1481.64 L2129.34 1481.64 L2129.34 1455.28 L2121.03 1456.95 L2121.03 1452.69 L2129.29 1451.02 L2133.97 1451.02 L2133.97 1481.64 L2141.61 1481.64 L2141.61 1485.58 L2121.7 1485.58 L2121.7 1481.64 Z\" fill=\"#000000\" fill-rule=\"nonzero\" fill-opacity=\"1\" /><path clip-path=\"url(#clip350)\" d=\"M2163.9 1455.09 L2152.09 1473.54 L2163.9 1473.54 L2163.9 1455.09 M2162.67 1451.02 L2168.55 1451.02 L2168.55 1473.54 L2173.48 1473.54 L2173.48 1477.43 L2168.55 1477.43 L2168.55 1485.58 L2163.9 1485.58 L2163.9 1477.43 L2148.3 1477.43 L2148.3 1472.92 L2162.67 1451.02 Z\" fill=\"#000000\" fill-rule=\"nonzero\" fill-opacity=\"1\" /><path clip-path=\"url(#clip350)\" d=\"M1185.11 1520.52 L1215.15 1520.52 L1215.15 1525.93 L1191.54 1525.93 L1191.54 1540 L1214.17 1540 L1214.17 1545.41 L1191.54 1545.41 L1191.54 1562.63 L1215.73 1562.63 L1215.73 1568.04 L1185.11 1568.04 L1185.11 1520.52 Z\" fill=\"#000000\" fill-rule=\"nonzero\" fill-opacity=\"1\" /><path clip-path=\"url(#clip350)\" d=\"M1231.7 1562.7 L1231.7 1581.6 L1225.82 1581.6 L1225.82 1532.4 L1231.7 1532.4 L1231.7 1537.81 Q1233.55 1534.62 1236.35 1533.1 Q1239.18 1531.54 1243.1 1531.54 Q1249.59 1531.54 1253.63 1536.69 Q1257.71 1541.85 1257.71 1550.25 Q1257.71 1558.65 1253.63 1563.81 Q1249.59 1568.97 1243.1 1568.97 Q1239.18 1568.97 1236.35 1567.44 Q1233.55 1565.88 1231.7 1562.7 M1251.63 1550.25 Q1251.63 1543.79 1248.96 1540.13 Q1246.31 1536.44 1241.67 1536.44 Q1237.02 1536.44 1234.35 1540.13 Q1231.7 1543.79 1231.7 1550.25 Q1231.7 1556.71 1234.35 1560.4 Q1237.02 1564.07 1241.67 1564.07 Q1246.31 1564.07 1248.96 1560.4 Q1251.63 1556.71 1251.63 1550.25 Z\" fill=\"#000000\" fill-rule=\"nonzero\" fill-opacity=\"1\" /><path clip-path=\"url(#clip350)\" d=\"M1281.23 1536.5 Q1276.52 1536.5 1273.78 1540.19 Q1271.04 1543.85 1271.04 1550.25 Q1271.04 1556.65 1273.75 1560.34 Q1276.49 1564 1281.23 1564 Q1285.91 1564 1288.65 1560.31 Q1291.38 1556.62 1291.38 1550.25 Q1291.38 1543.92 1288.65 1540.23 Q1285.91 1536.5 1281.23 1536.5 M1281.23 1531.54 Q1288.87 1531.54 1293.23 1536.5 Q1297.59 1541.47 1297.59 1550.25 Q1297.59 1559 1293.23 1564 Q1288.87 1568.97 1281.23 1568.97 Q1273.56 1568.97 1269.2 1564 Q1264.87 1559 1264.87 1550.25 Q1264.87 1541.47 1269.2 1536.5 Q1273.56 1531.54 1281.23 1531.54 Z\" fill=\"#000000\" fill-rule=\"nonzero\" fill-opacity=\"1\" /><path clip-path=\"url(#clip350)\" d=\"M1332.95 1533.76 L1332.95 1539.24 Q1330.47 1537.87 1327.95 1537.2 Q1325.47 1536.5 1322.93 1536.5 Q1317.23 1536.5 1314.08 1540.13 Q1310.93 1543.73 1310.93 1550.25 Q1310.93 1556.78 1314.08 1560.4 Q1317.23 1564 1322.93 1564 Q1325.47 1564 1327.95 1563.33 Q1330.47 1562.63 1332.95 1561.26 L1332.95 1566.68 Q1330.5 1567.82 1327.86 1568.39 Q1325.25 1568.97 1322.29 1568.97 Q1314.24 1568.97 1309.49 1563.91 Q1304.75 1558.85 1304.75 1550.25 Q1304.75 1541.53 1309.53 1536.53 Q1314.33 1531.54 1322.67 1531.54 Q1325.38 1531.54 1327.95 1532.11 Q1330.53 1532.65 1332.95 1533.76 Z\" fill=\"#000000\" fill-rule=\"nonzero\" fill-opacity=\"1\" /><path clip-path=\"url(#clip350)\" d=\"M1372.77 1546.53 L1372.77 1568.04 L1366.91 1568.04 L1366.91 1546.72 Q1366.91 1541.66 1364.94 1539.14 Q1362.97 1536.63 1359.02 1536.63 Q1354.28 1536.63 1351.54 1539.65 Q1348.8 1542.68 1348.8 1547.9 L1348.8 1568.04 L1342.91 1568.04 L1342.91 1518.52 L1348.8 1518.52 L1348.8 1537.93 Q1350.9 1534.72 1353.74 1533.13 Q1356.6 1531.54 1360.32 1531.54 Q1366.47 1531.54 1369.62 1535.36 Q1372.77 1539.14 1372.77 1546.53 Z\" fill=\"#000000\" fill-rule=\"nonzero\" fill-opacity=\"1\" /><polyline clip-path=\"url(#clip352)\" style=\"stroke:#000000; stroke-linecap:round; stroke-linejoin:round; stroke-width:2; stroke-opacity:0.1; fill:none\" points=\"205.121,1402.99 2352.76,1402.99 \"/>\n",
       "<polyline clip-path=\"url(#clip352)\" style=\"stroke:#000000; stroke-linecap:round; stroke-linejoin:round; stroke-width:2; stroke-opacity:0.1; fill:none\" points=\"205.121,1027.74 2352.76,1027.74 \"/>\n",
       "<polyline clip-path=\"url(#clip352)\" style=\"stroke:#000000; stroke-linecap:round; stroke-linejoin:round; stroke-width:2; stroke-opacity:0.1; fill:none\" points=\"205.121,652.481 2352.76,652.481 \"/>\n",
       "<polyline clip-path=\"url(#clip352)\" style=\"stroke:#000000; stroke-linecap:round; stroke-linejoin:round; stroke-width:2; stroke-opacity:0.1; fill:none\" points=\"205.121,277.225 2352.76,277.225 \"/>\n",
       "<polyline clip-path=\"url(#clip350)\" style=\"stroke:#000000; stroke-linecap:round; stroke-linejoin:round; stroke-width:4; stroke-opacity:1; fill:none\" points=\"205.121,1423.18 205.121,47.2441 \"/>\n",
       "<polyline clip-path=\"url(#clip350)\" style=\"stroke:#000000; stroke-linecap:round; stroke-linejoin:round; stroke-width:4; stroke-opacity:1; fill:none\" points=\"205.121,1402.99 224.019,1402.99 \"/>\n",
       "<polyline clip-path=\"url(#clip350)\" style=\"stroke:#000000; stroke-linecap:round; stroke-linejoin:round; stroke-width:4; stroke-opacity:1; fill:none\" points=\"205.121,1027.74 224.019,1027.74 \"/>\n",
       "<polyline clip-path=\"url(#clip350)\" style=\"stroke:#000000; stroke-linecap:round; stroke-linejoin:round; stroke-width:4; stroke-opacity:1; fill:none\" points=\"205.121,652.481 224.019,652.481 \"/>\n",
       "<polyline clip-path=\"url(#clip350)\" style=\"stroke:#000000; stroke-linecap:round; stroke-linejoin:round; stroke-width:4; stroke-opacity:1; fill:none\" points=\"205.121,277.225 224.019,277.225 \"/>\n",
       "<path clip-path=\"url(#clip350)\" d=\"M131.181 1401.64 Q134.538 1402.36 136.413 1404.62 Q138.311 1406.89 138.311 1410.23 Q138.311 1415.34 134.792 1418.14 Q131.274 1420.94 124.793 1420.94 Q122.617 1420.94 120.302 1420.5 Q118.01 1420.09 115.556 1419.23 L115.556 1414.72 Q117.501 1415.85 119.816 1416.43 Q122.13 1417.01 124.654 1417.01 Q129.052 1417.01 131.343 1415.27 Q133.658 1413.54 133.658 1410.23 Q133.658 1407.17 131.505 1405.46 Q129.376 1403.72 125.556 1403.72 L121.529 1403.72 L121.529 1399.88 L125.742 1399.88 Q129.191 1399.88 131.019 1398.51 Q132.848 1397.12 132.848 1394.53 Q132.848 1391.87 130.95 1390.46 Q129.075 1389.02 125.556 1389.02 Q123.635 1389.02 121.436 1389.44 Q119.237 1389.86 116.598 1390.74 L116.598 1386.57 Q119.26 1385.83 121.575 1385.46 Q123.913 1385.09 125.973 1385.09 Q131.297 1385.09 134.399 1387.52 Q137.501 1389.93 137.501 1394.05 Q137.501 1396.92 135.857 1398.91 Q134.214 1400.87 131.181 1401.64 Z\" fill=\"#000000\" fill-rule=\"nonzero\" fill-opacity=\"1\" /><path clip-path=\"url(#clip350)\" d=\"M157.177 1388.79 Q153.566 1388.79 151.737 1392.36 Q149.931 1395.9 149.931 1403.03 Q149.931 1410.13 151.737 1413.7 Q153.566 1417.24 157.177 1417.24 Q160.811 1417.24 162.616 1413.7 Q164.445 1410.13 164.445 1403.03 Q164.445 1395.9 162.616 1392.36 Q160.811 1388.79 157.177 1388.79 M157.177 1385.09 Q162.987 1385.09 166.042 1389.69 Q169.121 1394.28 169.121 1403.03 Q169.121 1411.75 166.042 1416.36 Q162.987 1420.94 157.177 1420.94 Q151.366 1420.94 148.288 1416.36 Q145.232 1411.75 145.232 1403.03 Q145.232 1394.28 148.288 1389.69 Q151.366 1385.09 157.177 1385.09 Z\" fill=\"#000000\" fill-rule=\"nonzero\" fill-opacity=\"1\" /><path clip-path=\"url(#clip350)\" d=\"M132.177 1026.38 Q135.533 1027.1 137.408 1029.37 Q139.306 1031.64 139.306 1034.97 Q139.306 1040.09 135.788 1042.89 Q132.269 1045.69 125.788 1045.69 Q123.612 1045.69 121.297 1045.25 Q119.006 1044.83 116.552 1043.97 L116.552 1039.46 Q118.496 1040.6 120.811 1041.17 Q123.126 1041.75 125.649 1041.75 Q130.047 1041.75 132.339 1040.02 Q134.654 1038.28 134.654 1034.97 Q134.654 1031.91 132.501 1030.2 Q130.371 1028.47 126.552 1028.47 L122.524 1028.47 L122.524 1024.62 L126.737 1024.62 Q130.186 1024.62 132.015 1023.26 Q133.843 1021.87 133.843 1019.28 Q133.843 1016.61 131.945 1015.2 Q130.07 1013.77 126.552 1013.77 Q124.63 1013.77 122.431 1014.18 Q120.232 1014.6 117.593 1015.48 L117.593 1011.31 Q120.255 1010.57 122.57 1010.2 Q124.908 1009.83 126.968 1009.83 Q132.292 1009.83 135.394 1012.26 Q138.496 1014.67 138.496 1018.79 Q138.496 1021.66 136.853 1023.65 Q135.209 1025.62 132.177 1026.38 Z\" fill=\"#000000\" fill-rule=\"nonzero\" fill-opacity=\"1\" /><path clip-path=\"url(#clip350)\" d=\"M148.218 1010.46 L166.575 1010.46 L166.575 1014.39 L152.501 1014.39 L152.501 1022.86 Q153.519 1022.52 154.538 1022.35 Q155.556 1022.17 156.575 1022.17 Q162.362 1022.17 165.741 1025.34 Q169.121 1028.51 169.121 1033.93 Q169.121 1039.51 165.649 1042.61 Q162.177 1045.69 155.857 1045.69 Q153.681 1045.69 151.413 1045.32 Q149.167 1044.95 146.76 1044.21 L146.76 1039.51 Q148.843 1040.64 151.066 1041.2 Q153.288 1041.75 155.765 1041.75 Q159.769 1041.75 162.107 1039.65 Q164.445 1037.54 164.445 1033.93 Q164.445 1030.32 162.107 1028.21 Q159.769 1026.1 155.765 1026.1 Q153.89 1026.1 152.015 1026.52 Q150.163 1026.94 148.218 1027.82 L148.218 1010.46 Z\" fill=\"#000000\" fill-rule=\"nonzero\" fill-opacity=\"1\" /><path clip-path=\"url(#clip350)\" d=\"M129.862 639.275 L118.056 657.724 L129.862 657.724 L129.862 639.275 M128.635 635.201 L134.515 635.201 L134.515 657.724 L139.445 657.724 L139.445 661.612 L134.515 661.612 L134.515 669.761 L129.862 669.761 L129.862 661.612 L114.26 661.612 L114.26 657.099 L128.635 635.201 Z\" fill=\"#000000\" fill-rule=\"nonzero\" fill-opacity=\"1\" /><path clip-path=\"url(#clip350)\" d=\"M157.177 638.279 Q153.566 638.279 151.737 641.844 Q149.931 645.386 149.931 652.515 Q149.931 659.622 151.737 663.187 Q153.566 666.728 157.177 666.728 Q160.811 666.728 162.616 663.187 Q164.445 659.622 164.445 652.515 Q164.445 645.386 162.616 641.844 Q160.811 638.279 157.177 638.279 M157.177 634.576 Q162.987 634.576 166.042 639.182 Q169.121 643.765 169.121 652.515 Q169.121 661.242 166.042 665.849 Q162.987 670.432 157.177 670.432 Q151.366 670.432 148.288 665.849 Q145.232 661.242 145.232 652.515 Q145.232 643.765 148.288 639.182 Q151.366 634.576 157.177 634.576 Z\" fill=\"#000000\" fill-rule=\"nonzero\" fill-opacity=\"1\" /><path clip-path=\"url(#clip350)\" d=\"M130.857 264.019 L119.052 282.468 L130.857 282.468 L130.857 264.019 M129.63 259.945 L135.51 259.945 L135.51 282.468 L140.441 282.468 L140.441 286.357 L135.51 286.357 L135.51 294.505 L130.857 294.505 L130.857 286.357 L115.256 286.357 L115.256 281.843 L129.63 259.945 Z\" fill=\"#000000\" fill-rule=\"nonzero\" fill-opacity=\"1\" /><path clip-path=\"url(#clip350)\" d=\"M148.218 259.945 L166.575 259.945 L166.575 263.88 L152.501 263.88 L152.501 272.352 Q153.519 272.005 154.538 271.843 Q155.556 271.658 156.575 271.658 Q162.362 271.658 165.741 274.829 Q169.121 278 169.121 283.417 Q169.121 288.996 165.649 292.097 Q162.177 295.176 155.857 295.176 Q153.681 295.176 151.413 294.806 Q149.167 294.435 146.76 293.695 L146.76 288.996 Q148.843 290.13 151.066 290.685 Q153.288 291.241 155.765 291.241 Q159.769 291.241 162.107 289.134 Q164.445 287.028 164.445 283.417 Q164.445 279.806 162.107 277.699 Q159.769 275.593 155.765 275.593 Q153.89 275.593 152.015 276.009 Q150.163 276.426 148.218 277.306 L148.218 259.945 Z\" fill=\"#000000\" fill-rule=\"nonzero\" fill-opacity=\"1\" /><path clip-path=\"url(#clip350)\" d=\"M16.4842 801.909 L16.4842 795.479 L58.5933 795.479 L58.5933 772.34 L64.0042 772.34 L64.0042 801.909 L16.4842 801.909 Z\" fill=\"#000000\" fill-rule=\"nonzero\" fill-opacity=\"1\" /><path clip-path=\"url(#clip350)\" d=\"M32.4621 753.179 Q32.4621 757.89 36.1542 760.627 Q39.8145 763.364 46.212 763.364 Q52.6095 763.364 56.3017 760.659 Q59.9619 757.922 59.9619 753.179 Q59.9619 748.5 56.2698 745.763 Q52.5777 743.026 46.212 743.026 Q39.8781 743.026 36.186 745.763 Q32.4621 748.5 32.4621 753.179 M27.4968 753.179 Q27.4968 745.54 32.4621 741.18 Q37.4273 736.819 46.212 736.819 Q54.9649 736.819 59.9619 741.18 Q64.9272 745.54 64.9272 753.179 Q64.9272 760.85 59.9619 765.21 Q54.9649 769.539 46.212 769.539 Q37.4273 769.539 32.4621 765.21 Q27.4968 760.85 27.4968 753.179 Z\" fill=\"#000000\" fill-rule=\"nonzero\" fill-opacity=\"1\" /><path clip-path=\"url(#clip350)\" d=\"M29.4065 704.386 L34.9447 704.386 Q33.6716 706.869 33.035 709.542 Q32.3984 712.216 32.3984 715.08 Q32.3984 719.441 33.7352 721.637 Q35.072 723.801 37.7456 723.801 Q39.7826 723.801 40.9603 722.242 Q42.1061 720.682 43.1565 715.972 L43.6021 713.966 Q44.9389 707.728 47.3897 705.118 Q49.8086 702.476 54.1691 702.476 Q59.1344 702.476 62.0308 706.423 Q64.9272 710.338 64.9272 717.213 Q64.9272 720.078 64.3543 723.197 Q63.8132 726.284 62.6992 729.722 L56.6518 729.722 Q58.3387 726.475 59.198 723.324 Q60.0256 720.173 60.0256 717.086 Q60.0256 712.948 58.6251 710.72 Q57.1929 708.492 54.6147 708.492 Q52.2276 708.492 50.9545 710.115 Q49.6813 711.707 48.5037 717.149 L48.0262 719.186 Q46.8804 724.629 44.5251 727.048 Q42.138 729.467 38.0002 729.467 Q32.9713 729.467 30.2341 725.902 Q27.4968 722.337 27.4968 715.781 Q27.4968 712.534 27.9743 709.67 Q28.4517 706.805 29.4065 704.386 Z\" fill=\"#000000\" fill-rule=\"nonzero\" fill-opacity=\"1\" /><path clip-path=\"url(#clip350)\" d=\"M29.4065 670.425 L34.9447 670.425 Q33.6716 672.908 33.035 675.581 Q32.3984 678.255 32.3984 681.119 Q32.3984 685.48 33.7352 687.676 Q35.072 689.84 37.7456 689.84 Q39.7826 689.84 40.9603 688.281 Q42.1061 686.721 43.1565 682.011 L43.6021 680.005 Q44.9389 673.767 47.3897 671.157 Q49.8086 668.515 54.1691 668.515 Q59.1344 668.515 62.0308 672.462 Q64.9272 676.377 64.9272 683.252 Q64.9272 686.116 64.3543 689.236 Q63.8132 692.323 62.6992 695.761 L56.6518 695.761 Q58.3387 692.514 59.198 689.363 Q60.0256 686.212 60.0256 683.125 Q60.0256 678.987 58.6251 676.759 Q57.1929 674.531 54.6147 674.531 Q52.2276 674.531 50.9545 676.154 Q49.6813 677.746 48.5037 683.188 L48.0262 685.225 Q46.8804 690.668 44.5251 693.087 Q42.138 695.506 38.0002 695.506 Q32.9713 695.506 30.2341 691.941 Q27.4968 688.376 27.4968 681.82 Q27.4968 678.573 27.9743 675.709 Q28.4517 672.844 29.4065 670.425 Z\" fill=\"#000000\" fill-rule=\"nonzero\" fill-opacity=\"1\" /><polyline clip-path=\"url(#clip352)\" style=\"stroke:#009af9; stroke-linecap:round; stroke-linejoin:round; stroke-width:4; stroke-opacity:1; fill:none\" points=\"265.903,86.1857 410.622,300.702 555.342,512.735 700.061,720.511 844.78,927.364 989.5,1131.11 1134.22,1323.17 1278.94,1383.23 1423.66,1383.07 1568.38,1383.29 1713.1,1384.24 1857.82,1382.74 2002.54,1383.41 2147.25,1383.16 2291.97,1383.19 \"/>\n",
       "<path clip-path=\"url(#clip350)\" d=\"M2013.97 196.789 L2281.17 196.789 L2281.17 93.1086 L2013.97 93.1086  Z\" fill=\"#ffffff\" fill-rule=\"evenodd\" fill-opacity=\"1\"/>\n",
       "<polyline clip-path=\"url(#clip350)\" style=\"stroke:#000000; stroke-linecap:round; stroke-linejoin:round; stroke-width:4; stroke-opacity:1; fill:none\" points=\"2013.97,196.789 2281.17,196.789 2281.17,93.1086 2013.97,93.1086 2013.97,196.789 \"/>\n",
       "<polyline clip-path=\"url(#clip350)\" style=\"stroke:#009af9; stroke-linecap:round; stroke-linejoin:round; stroke-width:4; stroke-opacity:1; fill:none\" points=\"2037.84,144.949 2181.01,144.949 \"/>\n",
       "<path clip-path=\"url(#clip350)\" d=\"M2218.72 164.636 Q2216.91 169.266 2215.2 170.678 Q2213.49 172.09 2210.62 172.09 L2207.21 172.09 L2207.21 168.525 L2209.71 168.525 Q2211.47 168.525 2212.44 167.692 Q2213.42 166.858 2214.6 163.756 L2215.36 161.812 L2204.88 136.303 L2209.39 136.303 L2217.49 156.581 L2225.59 136.303 L2230.11 136.303 L2218.72 164.636 Z\" fill=\"#000000\" fill-rule=\"nonzero\" fill-opacity=\"1\" /><path clip-path=\"url(#clip350)\" d=\"M2237.4 158.293 L2245.04 158.293 L2245.04 131.928 L2236.73 133.595 L2236.73 129.335 L2244.99 127.669 L2249.67 127.669 L2249.67 158.293 L2257.31 158.293 L2257.31 162.229 L2237.4 162.229 L2237.4 158.293 Z\" fill=\"#000000\" fill-rule=\"nonzero\" fill-opacity=\"1\" /></svg>\n"
      ],
      "text/html": [
       "<?xml version=\"1.0\" encoding=\"utf-8\"?>\n",
       "<svg xmlns=\"http://www.w3.org/2000/svg\" xmlns:xlink=\"http://www.w3.org/1999/xlink\" width=\"600\" height=\"400\" viewBox=\"0 0 2400 1600\">\n",
       "<defs>\n",
       "  <clipPath id=\"clip400\">\n",
       "    <rect x=\"0\" y=\"0\" width=\"2400\" height=\"1600\"/>\n",
       "  </clipPath>\n",
       "</defs>\n",
       "<path clip-path=\"url(#clip400)\" d=\"M0 1600 L2400 1600 L2400 0 L0 0  Z\" fill=\"#ffffff\" fill-rule=\"evenodd\" fill-opacity=\"1\"/>\n",
       "<defs>\n",
       "  <clipPath id=\"clip401\">\n",
       "    <rect x=\"480\" y=\"0\" width=\"1681\" height=\"1600\"/>\n",
       "  </clipPath>\n",
       "</defs>\n",
       "<path clip-path=\"url(#clip400)\" d=\"M205.121 1423.18 L2352.76 1423.18 L2352.76 47.2441 L205.121 47.2441  Z\" fill=\"#ffffff\" fill-rule=\"evenodd\" fill-opacity=\"1\"/>\n",
       "<defs>\n",
       "  <clipPath id=\"clip402\">\n",
       "    <rect x=\"205\" y=\"47\" width=\"2149\" height=\"1377\"/>\n",
       "  </clipPath>\n",
       "</defs>\n",
       "<polyline clip-path=\"url(#clip402)\" style=\"stroke:#000000; stroke-linecap:round; stroke-linejoin:round; stroke-width:2; stroke-opacity:0.1; fill:none\" points=\"410.622,1423.18 410.622,47.2441 \"/>\n",
       "<polyline clip-path=\"url(#clip402)\" style=\"stroke:#000000; stroke-linecap:round; stroke-linejoin:round; stroke-width:2; stroke-opacity:0.1; fill:none\" points=\"700.061,1423.18 700.061,47.2441 \"/>\n",
       "<polyline clip-path=\"url(#clip402)\" style=\"stroke:#000000; stroke-linecap:round; stroke-linejoin:round; stroke-width:2; stroke-opacity:0.1; fill:none\" points=\"989.5,1423.18 989.5,47.2441 \"/>\n",
       "<polyline clip-path=\"url(#clip402)\" style=\"stroke:#000000; stroke-linecap:round; stroke-linejoin:round; stroke-width:2; stroke-opacity:0.1; fill:none\" points=\"1278.94,1423.18 1278.94,47.2441 \"/>\n",
       "<polyline clip-path=\"url(#clip402)\" style=\"stroke:#000000; stroke-linecap:round; stroke-linejoin:round; stroke-width:2; stroke-opacity:0.1; fill:none\" points=\"1568.38,1423.18 1568.38,47.2441 \"/>\n",
       "<polyline clip-path=\"url(#clip402)\" style=\"stroke:#000000; stroke-linecap:round; stroke-linejoin:round; stroke-width:2; stroke-opacity:0.1; fill:none\" points=\"1857.82,1423.18 1857.82,47.2441 \"/>\n",
       "<polyline clip-path=\"url(#clip402)\" style=\"stroke:#000000; stroke-linecap:round; stroke-linejoin:round; stroke-width:2; stroke-opacity:0.1; fill:none\" points=\"2147.25,1423.18 2147.25,47.2441 \"/>\n",
       "<polyline clip-path=\"url(#clip400)\" style=\"stroke:#000000; stroke-linecap:round; stroke-linejoin:round; stroke-width:4; stroke-opacity:1; fill:none\" points=\"205.121,1423.18 2352.76,1423.18 \"/>\n",
       "<polyline clip-path=\"url(#clip400)\" style=\"stroke:#000000; stroke-linecap:round; stroke-linejoin:round; stroke-width:4; stroke-opacity:1; fill:none\" points=\"410.622,1423.18 410.622,1404.28 \"/>\n",
       "<polyline clip-path=\"url(#clip400)\" style=\"stroke:#000000; stroke-linecap:round; stroke-linejoin:round; stroke-width:4; stroke-opacity:1; fill:none\" points=\"700.061,1423.18 700.061,1404.28 \"/>\n",
       "<polyline clip-path=\"url(#clip400)\" style=\"stroke:#000000; stroke-linecap:round; stroke-linejoin:round; stroke-width:4; stroke-opacity:1; fill:none\" points=\"989.5,1423.18 989.5,1404.28 \"/>\n",
       "<polyline clip-path=\"url(#clip400)\" style=\"stroke:#000000; stroke-linecap:round; stroke-linejoin:round; stroke-width:4; stroke-opacity:1; fill:none\" points=\"1278.94,1423.18 1278.94,1404.28 \"/>\n",
       "<polyline clip-path=\"url(#clip400)\" style=\"stroke:#000000; stroke-linecap:round; stroke-linejoin:round; stroke-width:4; stroke-opacity:1; fill:none\" points=\"1568.38,1423.18 1568.38,1404.28 \"/>\n",
       "<polyline clip-path=\"url(#clip400)\" style=\"stroke:#000000; stroke-linecap:round; stroke-linejoin:round; stroke-width:4; stroke-opacity:1; fill:none\" points=\"1857.82,1423.18 1857.82,1404.28 \"/>\n",
       "<polyline clip-path=\"url(#clip400)\" style=\"stroke:#000000; stroke-linecap:round; stroke-linejoin:round; stroke-width:4; stroke-opacity:1; fill:none\" points=\"2147.25,1423.18 2147.25,1404.28 \"/>\n",
       "<path clip-path=\"url(#clip400)\" d=\"M405.275 1481.64 L421.595 1481.64 L421.595 1485.58 L399.65 1485.58 L399.65 1481.64 Q402.312 1478.89 406.896 1474.26 Q411.502 1469.61 412.683 1468.27 Q414.928 1465.74 415.808 1464.01 Q416.71 1462.25 416.71 1460.56 Q416.71 1457.8 414.766 1456.07 Q412.845 1454.33 409.743 1454.33 Q407.544 1454.33 405.09 1455.09 Q402.66 1455.86 399.882 1457.41 L399.882 1452.69 Q402.706 1451.55 405.159 1450.97 Q407.613 1450.39 409.65 1450.39 Q415.021 1450.39 418.215 1453.08 Q421.409 1455.77 421.409 1460.26 Q421.409 1462.39 420.599 1464.31 Q419.812 1466.2 417.706 1468.8 Q417.127 1469.47 414.025 1472.69 Q410.923 1475.88 405.275 1481.64 Z\" fill=\"#000000\" fill-rule=\"nonzero\" fill-opacity=\"1\" /><path clip-path=\"url(#clip400)\" d=\"M703.07 1455.09 L691.265 1473.54 L703.07 1473.54 L703.07 1455.09 M701.843 1451.02 L707.723 1451.02 L707.723 1473.54 L712.654 1473.54 L712.654 1477.43 L707.723 1477.43 L707.723 1485.58 L703.07 1485.58 L703.07 1477.43 L687.469 1477.43 L687.469 1472.92 L701.843 1451.02 Z\" fill=\"#000000\" fill-rule=\"nonzero\" fill-opacity=\"1\" /><path clip-path=\"url(#clip400)\" d=\"M989.905 1466.44 Q986.757 1466.44 984.905 1468.59 Q983.076 1470.74 983.076 1474.49 Q983.076 1478.22 984.905 1480.39 Q986.757 1482.55 989.905 1482.55 Q993.053 1482.55 994.882 1480.39 Q996.734 1478.22 996.734 1474.49 Q996.734 1470.74 994.882 1468.59 Q993.053 1466.44 989.905 1466.44 M999.187 1451.78 L999.187 1456.04 Q997.428 1455.21 995.622 1454.77 Q993.84 1454.33 992.081 1454.33 Q987.451 1454.33 984.997 1457.45 Q982.567 1460.58 982.22 1466.9 Q983.585 1464.89 985.646 1463.82 Q987.706 1462.73 990.183 1462.73 Q995.391 1462.73 998.4 1465.9 Q1001.43 1469.05 1001.43 1474.49 Q1001.43 1479.82 998.284 1483.03 Q995.136 1486.25 989.905 1486.25 Q983.91 1486.25 980.738 1481.67 Q977.567 1477.06 977.567 1468.33 Q977.567 1460.14 981.456 1455.28 Q985.345 1450.39 991.896 1450.39 Q993.655 1450.39 995.437 1450.74 Q997.243 1451.09 999.187 1451.78 Z\" fill=\"#000000\" fill-rule=\"nonzero\" fill-opacity=\"1\" /><path clip-path=\"url(#clip400)\" d=\"M1278.94 1469.17 Q1275.61 1469.17 1273.68 1470.95 Q1271.79 1472.73 1271.79 1475.86 Q1271.79 1478.98 1273.68 1480.77 Q1275.61 1482.55 1278.94 1482.55 Q1282.27 1482.55 1284.19 1480.77 Q1286.11 1478.96 1286.11 1475.86 Q1286.11 1472.73 1284.19 1470.95 Q1282.29 1469.17 1278.94 1469.17 M1274.26 1467.18 Q1271.25 1466.44 1269.56 1464.38 Q1267.9 1462.32 1267.9 1459.35 Q1267.9 1455.21 1270.84 1452.8 Q1273.8 1450.39 1278.94 1450.39 Q1284.1 1450.39 1287.04 1452.8 Q1289.98 1455.21 1289.98 1459.35 Q1289.98 1462.32 1288.29 1464.38 Q1286.62 1466.44 1283.64 1467.18 Q1287.02 1467.96 1288.89 1470.26 Q1290.79 1472.55 1290.79 1475.86 Q1290.79 1480.88 1287.71 1483.57 Q1284.66 1486.25 1278.94 1486.25 Q1273.22 1486.25 1270.14 1483.57 Q1267.09 1480.88 1267.09 1475.86 Q1267.09 1472.55 1268.98 1470.26 Q1270.88 1467.96 1274.26 1467.18 M1272.55 1459.79 Q1272.55 1462.48 1274.22 1463.98 Q1275.91 1465.49 1278.94 1465.49 Q1281.95 1465.49 1283.64 1463.98 Q1285.35 1462.48 1285.35 1459.79 Q1285.35 1457.11 1283.64 1455.6 Q1281.95 1454.1 1278.94 1454.1 Q1275.91 1454.1 1274.22 1455.6 Q1272.55 1457.11 1272.55 1459.79 Z\" fill=\"#000000\" fill-rule=\"nonzero\" fill-opacity=\"1\" /><path clip-path=\"url(#clip400)\" d=\"M1543.06 1481.64 L1550.7 1481.64 L1550.7 1455.28 L1542.39 1456.95 L1542.39 1452.69 L1550.66 1451.02 L1555.33 1451.02 L1555.33 1481.64 L1562.97 1481.64 L1562.97 1485.58 L1543.06 1485.58 L1543.06 1481.64 Z\" fill=\"#000000\" fill-rule=\"nonzero\" fill-opacity=\"1\" /><path clip-path=\"url(#clip400)\" d=\"M1582.42 1454.1 Q1578.81 1454.1 1576.98 1457.66 Q1575.17 1461.2 1575.17 1468.33 Q1575.17 1475.44 1576.98 1479.01 Q1578.81 1482.55 1582.42 1482.55 Q1586.05 1482.55 1587.86 1479.01 Q1589.68 1475.44 1589.68 1468.33 Q1589.68 1461.2 1587.86 1457.66 Q1586.05 1454.1 1582.42 1454.1 M1582.42 1450.39 Q1588.23 1450.39 1591.28 1455 Q1594.36 1459.58 1594.36 1468.33 Q1594.36 1477.06 1591.28 1481.67 Q1588.23 1486.25 1582.42 1486.25 Q1576.61 1486.25 1573.53 1481.67 Q1570.47 1477.06 1570.47 1468.33 Q1570.47 1459.58 1573.53 1455 Q1576.61 1450.39 1582.42 1450.39 Z\" fill=\"#000000\" fill-rule=\"nonzero\" fill-opacity=\"1\" /><path clip-path=\"url(#clip400)\" d=\"M1833.3 1481.64 L1840.94 1481.64 L1840.94 1455.28 L1832.63 1456.95 L1832.63 1452.69 L1840.89 1451.02 L1845.57 1451.02 L1845.57 1481.64 L1853.21 1481.64 L1853.21 1485.58 L1833.3 1485.58 L1833.3 1481.64 Z\" fill=\"#000000\" fill-rule=\"nonzero\" fill-opacity=\"1\" /><path clip-path=\"url(#clip400)\" d=\"M1866.68 1481.64 L1883 1481.64 L1883 1485.58 L1861.06 1485.58 L1861.06 1481.64 Q1863.72 1478.89 1868.3 1474.26 Q1872.91 1469.61 1874.09 1468.27 Q1876.33 1465.74 1877.21 1464.01 Q1878.12 1462.25 1878.12 1460.56 Q1878.12 1457.8 1876.17 1456.07 Q1874.25 1454.33 1871.15 1454.33 Q1868.95 1454.33 1866.5 1455.09 Q1864.07 1455.86 1861.29 1457.41 L1861.29 1452.69 Q1864.11 1451.55 1866.57 1450.97 Q1869.02 1450.39 1871.06 1450.39 Q1876.43 1450.39 1879.62 1453.08 Q1882.82 1455.77 1882.82 1460.26 Q1882.82 1462.39 1882.01 1464.31 Q1881.22 1466.2 1879.11 1468.8 Q1878.53 1469.47 1875.43 1472.69 Q1872.33 1475.88 1866.68 1481.64 Z\" fill=\"#000000\" fill-rule=\"nonzero\" fill-opacity=\"1\" /><path clip-path=\"url(#clip400)\" d=\"M2121.7 1481.64 L2129.34 1481.64 L2129.34 1455.28 L2121.03 1456.95 L2121.03 1452.69 L2129.29 1451.02 L2133.97 1451.02 L2133.97 1481.64 L2141.61 1481.64 L2141.61 1485.58 L2121.7 1485.58 L2121.7 1481.64 Z\" fill=\"#000000\" fill-rule=\"nonzero\" fill-opacity=\"1\" /><path clip-path=\"url(#clip400)\" d=\"M2163.9 1455.09 L2152.09 1473.54 L2163.9 1473.54 L2163.9 1455.09 M2162.67 1451.02 L2168.55 1451.02 L2168.55 1473.54 L2173.48 1473.54 L2173.48 1477.43 L2168.55 1477.43 L2168.55 1485.58 L2163.9 1485.58 L2163.9 1477.43 L2148.3 1477.43 L2148.3 1472.92 L2162.67 1451.02 Z\" fill=\"#000000\" fill-rule=\"nonzero\" fill-opacity=\"1\" /><path clip-path=\"url(#clip400)\" d=\"M1185.11 1520.52 L1215.15 1520.52 L1215.15 1525.93 L1191.54 1525.93 L1191.54 1540 L1214.17 1540 L1214.17 1545.41 L1191.54 1545.41 L1191.54 1562.63 L1215.73 1562.63 L1215.73 1568.04 L1185.11 1568.04 L1185.11 1520.52 Z\" fill=\"#000000\" fill-rule=\"nonzero\" fill-opacity=\"1\" /><path clip-path=\"url(#clip400)\" d=\"M1231.7 1562.7 L1231.7 1581.6 L1225.82 1581.6 L1225.82 1532.4 L1231.7 1532.4 L1231.7 1537.81 Q1233.55 1534.62 1236.35 1533.1 Q1239.18 1531.54 1243.1 1531.54 Q1249.59 1531.54 1253.63 1536.69 Q1257.71 1541.85 1257.71 1550.25 Q1257.71 1558.65 1253.63 1563.81 Q1249.59 1568.97 1243.1 1568.97 Q1239.18 1568.97 1236.35 1567.44 Q1233.55 1565.88 1231.7 1562.7 M1251.63 1550.25 Q1251.63 1543.79 1248.96 1540.13 Q1246.31 1536.44 1241.67 1536.44 Q1237.02 1536.44 1234.35 1540.13 Q1231.7 1543.79 1231.7 1550.25 Q1231.7 1556.71 1234.35 1560.4 Q1237.02 1564.07 1241.67 1564.07 Q1246.31 1564.07 1248.96 1560.4 Q1251.63 1556.71 1251.63 1550.25 Z\" fill=\"#000000\" fill-rule=\"nonzero\" fill-opacity=\"1\" /><path clip-path=\"url(#clip400)\" d=\"M1281.23 1536.5 Q1276.52 1536.5 1273.78 1540.19 Q1271.04 1543.85 1271.04 1550.25 Q1271.04 1556.65 1273.75 1560.34 Q1276.49 1564 1281.23 1564 Q1285.91 1564 1288.65 1560.31 Q1291.38 1556.62 1291.38 1550.25 Q1291.38 1543.92 1288.65 1540.23 Q1285.91 1536.5 1281.23 1536.5 M1281.23 1531.54 Q1288.87 1531.54 1293.23 1536.5 Q1297.59 1541.47 1297.59 1550.25 Q1297.59 1559 1293.23 1564 Q1288.87 1568.97 1281.23 1568.97 Q1273.56 1568.97 1269.2 1564 Q1264.87 1559 1264.87 1550.25 Q1264.87 1541.47 1269.2 1536.5 Q1273.56 1531.54 1281.23 1531.54 Z\" fill=\"#000000\" fill-rule=\"nonzero\" fill-opacity=\"1\" /><path clip-path=\"url(#clip400)\" d=\"M1332.95 1533.76 L1332.95 1539.24 Q1330.47 1537.87 1327.95 1537.2 Q1325.47 1536.5 1322.93 1536.5 Q1317.23 1536.5 1314.08 1540.13 Q1310.93 1543.73 1310.93 1550.25 Q1310.93 1556.78 1314.08 1560.4 Q1317.23 1564 1322.93 1564 Q1325.47 1564 1327.95 1563.33 Q1330.47 1562.63 1332.95 1561.26 L1332.95 1566.68 Q1330.5 1567.82 1327.86 1568.39 Q1325.25 1568.97 1322.29 1568.97 Q1314.24 1568.97 1309.49 1563.91 Q1304.75 1558.85 1304.75 1550.25 Q1304.75 1541.53 1309.53 1536.53 Q1314.33 1531.54 1322.67 1531.54 Q1325.38 1531.54 1327.95 1532.11 Q1330.53 1532.65 1332.95 1533.76 Z\" fill=\"#000000\" fill-rule=\"nonzero\" fill-opacity=\"1\" /><path clip-path=\"url(#clip400)\" d=\"M1372.77 1546.53 L1372.77 1568.04 L1366.91 1568.04 L1366.91 1546.72 Q1366.91 1541.66 1364.94 1539.14 Q1362.97 1536.63 1359.02 1536.63 Q1354.28 1536.63 1351.54 1539.65 Q1348.8 1542.68 1348.8 1547.9 L1348.8 1568.04 L1342.91 1568.04 L1342.91 1518.52 L1348.8 1518.52 L1348.8 1537.93 Q1350.9 1534.72 1353.74 1533.13 Q1356.6 1531.54 1360.32 1531.54 Q1366.47 1531.54 1369.62 1535.36 Q1372.77 1539.14 1372.77 1546.53 Z\" fill=\"#000000\" fill-rule=\"nonzero\" fill-opacity=\"1\" /><polyline clip-path=\"url(#clip402)\" style=\"stroke:#000000; stroke-linecap:round; stroke-linejoin:round; stroke-width:2; stroke-opacity:0.1; fill:none\" points=\"205.121,1402.99 2352.76,1402.99 \"/>\n",
       "<polyline clip-path=\"url(#clip402)\" style=\"stroke:#000000; stroke-linecap:round; stroke-linejoin:round; stroke-width:2; stroke-opacity:0.1; fill:none\" points=\"205.121,1027.74 2352.76,1027.74 \"/>\n",
       "<polyline clip-path=\"url(#clip402)\" style=\"stroke:#000000; stroke-linecap:round; stroke-linejoin:round; stroke-width:2; stroke-opacity:0.1; fill:none\" points=\"205.121,652.481 2352.76,652.481 \"/>\n",
       "<polyline clip-path=\"url(#clip402)\" style=\"stroke:#000000; stroke-linecap:round; stroke-linejoin:round; stroke-width:2; stroke-opacity:0.1; fill:none\" points=\"205.121,277.225 2352.76,277.225 \"/>\n",
       "<polyline clip-path=\"url(#clip400)\" style=\"stroke:#000000; stroke-linecap:round; stroke-linejoin:round; stroke-width:4; stroke-opacity:1; fill:none\" points=\"205.121,1423.18 205.121,47.2441 \"/>\n",
       "<polyline clip-path=\"url(#clip400)\" style=\"stroke:#000000; stroke-linecap:round; stroke-linejoin:round; stroke-width:4; stroke-opacity:1; fill:none\" points=\"205.121,1402.99 224.019,1402.99 \"/>\n",
       "<polyline clip-path=\"url(#clip400)\" style=\"stroke:#000000; stroke-linecap:round; stroke-linejoin:round; stroke-width:4; stroke-opacity:1; fill:none\" points=\"205.121,1027.74 224.019,1027.74 \"/>\n",
       "<polyline clip-path=\"url(#clip400)\" style=\"stroke:#000000; stroke-linecap:round; stroke-linejoin:round; stroke-width:4; stroke-opacity:1; fill:none\" points=\"205.121,652.481 224.019,652.481 \"/>\n",
       "<polyline clip-path=\"url(#clip400)\" style=\"stroke:#000000; stroke-linecap:round; stroke-linejoin:round; stroke-width:4; stroke-opacity:1; fill:none\" points=\"205.121,277.225 224.019,277.225 \"/>\n",
       "<path clip-path=\"url(#clip400)\" d=\"M131.181 1401.64 Q134.538 1402.36 136.413 1404.62 Q138.311 1406.89 138.311 1410.23 Q138.311 1415.34 134.792 1418.14 Q131.274 1420.94 124.793 1420.94 Q122.617 1420.94 120.302 1420.5 Q118.01 1420.09 115.556 1419.23 L115.556 1414.72 Q117.501 1415.85 119.816 1416.43 Q122.13 1417.01 124.654 1417.01 Q129.052 1417.01 131.343 1415.27 Q133.658 1413.54 133.658 1410.23 Q133.658 1407.17 131.505 1405.46 Q129.376 1403.72 125.556 1403.72 L121.529 1403.72 L121.529 1399.88 L125.742 1399.88 Q129.191 1399.88 131.019 1398.51 Q132.848 1397.12 132.848 1394.53 Q132.848 1391.87 130.95 1390.46 Q129.075 1389.02 125.556 1389.02 Q123.635 1389.02 121.436 1389.44 Q119.237 1389.86 116.598 1390.74 L116.598 1386.57 Q119.26 1385.83 121.575 1385.46 Q123.913 1385.09 125.973 1385.09 Q131.297 1385.09 134.399 1387.52 Q137.501 1389.93 137.501 1394.05 Q137.501 1396.92 135.857 1398.91 Q134.214 1400.87 131.181 1401.64 Z\" fill=\"#000000\" fill-rule=\"nonzero\" fill-opacity=\"1\" /><path clip-path=\"url(#clip400)\" d=\"M157.177 1388.79 Q153.566 1388.79 151.737 1392.36 Q149.931 1395.9 149.931 1403.03 Q149.931 1410.13 151.737 1413.7 Q153.566 1417.24 157.177 1417.24 Q160.811 1417.24 162.616 1413.7 Q164.445 1410.13 164.445 1403.03 Q164.445 1395.9 162.616 1392.36 Q160.811 1388.79 157.177 1388.79 M157.177 1385.09 Q162.987 1385.09 166.042 1389.69 Q169.121 1394.28 169.121 1403.03 Q169.121 1411.75 166.042 1416.36 Q162.987 1420.94 157.177 1420.94 Q151.366 1420.94 148.288 1416.36 Q145.232 1411.75 145.232 1403.03 Q145.232 1394.28 148.288 1389.69 Q151.366 1385.09 157.177 1385.09 Z\" fill=\"#000000\" fill-rule=\"nonzero\" fill-opacity=\"1\" /><path clip-path=\"url(#clip400)\" d=\"M132.177 1026.38 Q135.533 1027.1 137.408 1029.37 Q139.306 1031.64 139.306 1034.97 Q139.306 1040.09 135.788 1042.89 Q132.269 1045.69 125.788 1045.69 Q123.612 1045.69 121.297 1045.25 Q119.006 1044.83 116.552 1043.97 L116.552 1039.46 Q118.496 1040.6 120.811 1041.17 Q123.126 1041.75 125.649 1041.75 Q130.047 1041.75 132.339 1040.02 Q134.654 1038.28 134.654 1034.97 Q134.654 1031.91 132.501 1030.2 Q130.371 1028.47 126.552 1028.47 L122.524 1028.47 L122.524 1024.62 L126.737 1024.62 Q130.186 1024.62 132.015 1023.26 Q133.843 1021.87 133.843 1019.28 Q133.843 1016.61 131.945 1015.2 Q130.07 1013.77 126.552 1013.77 Q124.63 1013.77 122.431 1014.18 Q120.232 1014.6 117.593 1015.48 L117.593 1011.31 Q120.255 1010.57 122.57 1010.2 Q124.908 1009.83 126.968 1009.83 Q132.292 1009.83 135.394 1012.26 Q138.496 1014.67 138.496 1018.79 Q138.496 1021.66 136.853 1023.65 Q135.209 1025.62 132.177 1026.38 Z\" fill=\"#000000\" fill-rule=\"nonzero\" fill-opacity=\"1\" /><path clip-path=\"url(#clip400)\" d=\"M148.218 1010.46 L166.575 1010.46 L166.575 1014.39 L152.501 1014.39 L152.501 1022.86 Q153.519 1022.52 154.538 1022.35 Q155.556 1022.17 156.575 1022.17 Q162.362 1022.17 165.741 1025.34 Q169.121 1028.51 169.121 1033.93 Q169.121 1039.51 165.649 1042.61 Q162.177 1045.69 155.857 1045.69 Q153.681 1045.69 151.413 1045.32 Q149.167 1044.95 146.76 1044.21 L146.76 1039.51 Q148.843 1040.64 151.066 1041.2 Q153.288 1041.75 155.765 1041.75 Q159.769 1041.75 162.107 1039.65 Q164.445 1037.54 164.445 1033.93 Q164.445 1030.32 162.107 1028.21 Q159.769 1026.1 155.765 1026.1 Q153.89 1026.1 152.015 1026.52 Q150.163 1026.94 148.218 1027.82 L148.218 1010.46 Z\" fill=\"#000000\" fill-rule=\"nonzero\" fill-opacity=\"1\" /><path clip-path=\"url(#clip400)\" d=\"M129.862 639.275 L118.056 657.724 L129.862 657.724 L129.862 639.275 M128.635 635.201 L134.515 635.201 L134.515 657.724 L139.445 657.724 L139.445 661.612 L134.515 661.612 L134.515 669.761 L129.862 669.761 L129.862 661.612 L114.26 661.612 L114.26 657.099 L128.635 635.201 Z\" fill=\"#000000\" fill-rule=\"nonzero\" fill-opacity=\"1\" /><path clip-path=\"url(#clip400)\" d=\"M157.177 638.279 Q153.566 638.279 151.737 641.844 Q149.931 645.386 149.931 652.515 Q149.931 659.622 151.737 663.187 Q153.566 666.728 157.177 666.728 Q160.811 666.728 162.616 663.187 Q164.445 659.622 164.445 652.515 Q164.445 645.386 162.616 641.844 Q160.811 638.279 157.177 638.279 M157.177 634.576 Q162.987 634.576 166.042 639.182 Q169.121 643.765 169.121 652.515 Q169.121 661.242 166.042 665.849 Q162.987 670.432 157.177 670.432 Q151.366 670.432 148.288 665.849 Q145.232 661.242 145.232 652.515 Q145.232 643.765 148.288 639.182 Q151.366 634.576 157.177 634.576 Z\" fill=\"#000000\" fill-rule=\"nonzero\" fill-opacity=\"1\" /><path clip-path=\"url(#clip400)\" d=\"M130.857 264.019 L119.052 282.468 L130.857 282.468 L130.857 264.019 M129.63 259.945 L135.51 259.945 L135.51 282.468 L140.441 282.468 L140.441 286.357 L135.51 286.357 L135.51 294.505 L130.857 294.505 L130.857 286.357 L115.256 286.357 L115.256 281.843 L129.63 259.945 Z\" fill=\"#000000\" fill-rule=\"nonzero\" fill-opacity=\"1\" /><path clip-path=\"url(#clip400)\" d=\"M148.218 259.945 L166.575 259.945 L166.575 263.88 L152.501 263.88 L152.501 272.352 Q153.519 272.005 154.538 271.843 Q155.556 271.658 156.575 271.658 Q162.362 271.658 165.741 274.829 Q169.121 278 169.121 283.417 Q169.121 288.996 165.649 292.097 Q162.177 295.176 155.857 295.176 Q153.681 295.176 151.413 294.806 Q149.167 294.435 146.76 293.695 L146.76 288.996 Q148.843 290.13 151.066 290.685 Q153.288 291.241 155.765 291.241 Q159.769 291.241 162.107 289.134 Q164.445 287.028 164.445 283.417 Q164.445 279.806 162.107 277.699 Q159.769 275.593 155.765 275.593 Q153.89 275.593 152.015 276.009 Q150.163 276.426 148.218 277.306 L148.218 259.945 Z\" fill=\"#000000\" fill-rule=\"nonzero\" fill-opacity=\"1\" /><path clip-path=\"url(#clip400)\" d=\"M16.4842 801.909 L16.4842 795.479 L58.5933 795.479 L58.5933 772.34 L64.0042 772.34 L64.0042 801.909 L16.4842 801.909 Z\" fill=\"#000000\" fill-rule=\"nonzero\" fill-opacity=\"1\" /><path clip-path=\"url(#clip400)\" d=\"M32.4621 753.179 Q32.4621 757.89 36.1542 760.627 Q39.8145 763.364 46.212 763.364 Q52.6095 763.364 56.3017 760.659 Q59.9619 757.922 59.9619 753.179 Q59.9619 748.5 56.2698 745.763 Q52.5777 743.026 46.212 743.026 Q39.8781 743.026 36.186 745.763 Q32.4621 748.5 32.4621 753.179 M27.4968 753.179 Q27.4968 745.54 32.4621 741.18 Q37.4273 736.819 46.212 736.819 Q54.9649 736.819 59.9619 741.18 Q64.9272 745.54 64.9272 753.179 Q64.9272 760.85 59.9619 765.21 Q54.9649 769.539 46.212 769.539 Q37.4273 769.539 32.4621 765.21 Q27.4968 760.85 27.4968 753.179 Z\" fill=\"#000000\" fill-rule=\"nonzero\" fill-opacity=\"1\" /><path clip-path=\"url(#clip400)\" d=\"M29.4065 704.386 L34.9447 704.386 Q33.6716 706.869 33.035 709.542 Q32.3984 712.216 32.3984 715.08 Q32.3984 719.441 33.7352 721.637 Q35.072 723.801 37.7456 723.801 Q39.7826 723.801 40.9603 722.242 Q42.1061 720.682 43.1565 715.972 L43.6021 713.966 Q44.9389 707.728 47.3897 705.118 Q49.8086 702.476 54.1691 702.476 Q59.1344 702.476 62.0308 706.423 Q64.9272 710.338 64.9272 717.213 Q64.9272 720.078 64.3543 723.197 Q63.8132 726.284 62.6992 729.722 L56.6518 729.722 Q58.3387 726.475 59.198 723.324 Q60.0256 720.173 60.0256 717.086 Q60.0256 712.948 58.6251 710.72 Q57.1929 708.492 54.6147 708.492 Q52.2276 708.492 50.9545 710.115 Q49.6813 711.707 48.5037 717.149 L48.0262 719.186 Q46.8804 724.629 44.5251 727.048 Q42.138 729.467 38.0002 729.467 Q32.9713 729.467 30.2341 725.902 Q27.4968 722.337 27.4968 715.781 Q27.4968 712.534 27.9743 709.67 Q28.4517 706.805 29.4065 704.386 Z\" fill=\"#000000\" fill-rule=\"nonzero\" fill-opacity=\"1\" /><path clip-path=\"url(#clip400)\" d=\"M29.4065 670.425 L34.9447 670.425 Q33.6716 672.908 33.035 675.581 Q32.3984 678.255 32.3984 681.119 Q32.3984 685.48 33.7352 687.676 Q35.072 689.84 37.7456 689.84 Q39.7826 689.84 40.9603 688.281 Q42.1061 686.721 43.1565 682.011 L43.6021 680.005 Q44.9389 673.767 47.3897 671.157 Q49.8086 668.515 54.1691 668.515 Q59.1344 668.515 62.0308 672.462 Q64.9272 676.377 64.9272 683.252 Q64.9272 686.116 64.3543 689.236 Q63.8132 692.323 62.6992 695.761 L56.6518 695.761 Q58.3387 692.514 59.198 689.363 Q60.0256 686.212 60.0256 683.125 Q60.0256 678.987 58.6251 676.759 Q57.1929 674.531 54.6147 674.531 Q52.2276 674.531 50.9545 676.154 Q49.6813 677.746 48.5037 683.188 L48.0262 685.225 Q46.8804 690.668 44.5251 693.087 Q42.138 695.506 38.0002 695.506 Q32.9713 695.506 30.2341 691.941 Q27.4968 688.376 27.4968 681.82 Q27.4968 678.573 27.9743 675.709 Q28.4517 672.844 29.4065 670.425 Z\" fill=\"#000000\" fill-rule=\"nonzero\" fill-opacity=\"1\" /><polyline clip-path=\"url(#clip402)\" style=\"stroke:#009af9; stroke-linecap:round; stroke-linejoin:round; stroke-width:4; stroke-opacity:1; fill:none\" points=\"265.903,86.1857 410.622,300.702 555.342,512.735 700.061,720.511 844.78,927.364 989.5,1131.11 1134.22,1323.17 1278.94,1383.23 1423.66,1383.07 1568.38,1383.29 1713.1,1384.24 1857.82,1382.74 2002.54,1383.41 2147.25,1383.16 2291.97,1383.19 \"/>\n",
       "<path clip-path=\"url(#clip400)\" d=\"M2013.97 196.789 L2281.17 196.789 L2281.17 93.1086 L2013.97 93.1086  Z\" fill=\"#ffffff\" fill-rule=\"evenodd\" fill-opacity=\"1\"/>\n",
       "<polyline clip-path=\"url(#clip400)\" style=\"stroke:#000000; stroke-linecap:round; stroke-linejoin:round; stroke-width:4; stroke-opacity:1; fill:none\" points=\"2013.97,196.789 2281.17,196.789 2281.17,93.1086 2013.97,93.1086 2013.97,196.789 \"/>\n",
       "<polyline clip-path=\"url(#clip400)\" style=\"stroke:#009af9; stroke-linecap:round; stroke-linejoin:round; stroke-width:4; stroke-opacity:1; fill:none\" points=\"2037.84,144.949 2181.01,144.949 \"/>\n",
       "<path clip-path=\"url(#clip400)\" d=\"M2218.72 164.636 Q2216.91 169.266 2215.2 170.678 Q2213.49 172.09 2210.62 172.09 L2207.21 172.09 L2207.21 168.525 L2209.71 168.525 Q2211.47 168.525 2212.44 167.692 Q2213.42 166.858 2214.6 163.756 L2215.36 161.812 L2204.88 136.303 L2209.39 136.303 L2217.49 156.581 L2225.59 136.303 L2230.11 136.303 L2218.72 164.636 Z\" fill=\"#000000\" fill-rule=\"nonzero\" fill-opacity=\"1\" /><path clip-path=\"url(#clip400)\" d=\"M2237.4 158.293 L2245.04 158.293 L2245.04 131.928 L2236.73 133.595 L2236.73 129.335 L2244.99 127.669 L2249.67 127.669 L2249.67 158.293 L2257.31 158.293 L2257.31 162.229 L2237.4 162.229 L2237.4 158.293 Z\" fill=\"#000000\" fill-rule=\"nonzero\" fill-opacity=\"1\" /></svg>\n"
      ]
     },
     "metadata": {},
     "output_type": "display_data"
    }
   ],
   "source": [
    "plot(losses; xlabel=\"Epoch\", ylabel=\"Loss\")"
   ]
  },
  {
   "cell_type": "code",
   "execution_count": 14,
   "metadata": {},
   "outputs": [],
   "source": [
    "Y_test_pred = [optimizer(encoder(x)) for x in X_test];"
   ]
  },
  {
   "attachments": {},
   "cell_type": "markdown",
   "metadata": {},
   "source": [
    "Evaluations of the resulting pipeline using TravelingSalesPerson with pickup and delivery"
   ]
  },
  {
   "cell_type": "code",
   "execution_count": 15,
   "metadata": {},
   "outputs": [
    {
     "data": {
      "text/plain": [
       "(Any[Any[Delivery(0.285346664252601, 0.6273783228378499), Delivery(0.24729524152972113, 0.6628829842550245), Delivery(0.3783120422506709, 0.048379579810059865), Delivery(0.47991851433751576, 0.3707969674749293), Delivery(0.8264013413387067, 0.4703621739147121), Delivery(0.8239548385343233, 0.606538926136958), Delivery(0.1350309617043981, 0.3708253000664519), Delivery(0.132045408695281, 0.43123728701746944), Delivery(0.43696027617590094, 0.48756806489193616), Delivery(0.5256088107148651, 0.45820021948378514)  …  Delivery(0.39307066589540063, 0.4521628001019801), Delivery(0.2599478427455764, 0.34918721588169577), Delivery(0.19145244001483747, 0.4720641267535328), Delivery(0.12007041323853788, 0.3480334978059114), Delivery(0.2947361659722497, 0.32271153723750273), Delivery(0.518799375267699, 0.3719299120233189), Delivery(0.20720045402617457, 0.33598569900260533), Delivery(0.14732147941555362, 0.40038345148013094), Delivery(0.3374655945205997, 0.12195601148557526), Delivery(0.37483029765392484, 0.06633492834741664)], Any[Delivery(0.459945591702841, 0.06947460903433474), Delivery(0.46627239448399754, 0.10804848204377145), Delivery(0.48400902292340314, 0.0), Delivery(0.6374869365090288, 0.19005566788627673), Delivery(0.5865550345339836, 0.34366374970194724), Delivery(0.5599667339088438, 0.1670151970005232), Delivery(0.6414325623512279, 0.21456772680322828), Delivery(0.5757840761153871, 0.3207779558294384), Delivery(0.4572522355550041, 0.15216562544237014), Delivery(0.4640626534432567, 0.056420537427700625)  …  Delivery(0.4013468410247256, 0.4795083883465124), Delivery(0.2297260236320552, 0.3290298132877944), Delivery(0.04481693566858558, 0.46702545873812207), Delivery(0.020893917204127747, 0.4625740785823224), Delivery(0.24869075635008484, 0.4217956619166328), Delivery(0.09198107238779507, 0.33763363371255056), Delivery(0.04212211514682242, 0.4560857001540419), Delivery(0.15242988101737584, 0.2727267747119431), Delivery(0.5846183473723122, 0.16959018267408207), Delivery(0.5913032010372863, 0.021633930224925237)], Any[Delivery(0.5101690486752573, 0.06050474842406016), Delivery(0.5079427203258685, 0.0810050064724454), Delivery(0.5511898246835949, 0.6043357450506751), Delivery(0.6553292637433191, 0.8684524457471111), Delivery(0.6549378921530629, 0.6060150913480126), Delivery(0.5968167330937493, 0.5916447999083547), Delivery(0.47955825019411424, 0.6298605865997229), Delivery(0.5769951957419156, 0.5742405181918037), Delivery(0.5391918332596178, 0.29057557113753396), Delivery(0.7173939731213852, 0.3050858390937373)  …  Delivery(0.40287172919434916, 0.2056900781082022), Delivery(0.3478597476481058, 0.040056770774193215), Delivery(0.30130548479305924, 0.7504544823213529), Delivery(0.13646958515948948, 0.5957074404827474), Delivery(0.4127713069632662, 0.33612863540096116), Delivery(0.34209813500540365, 0.2776862890436918), Delivery(0.20720045402617457, 0.33598569900260533), Delivery(0.21789738314733637, 0.4786502409005558), Delivery(0.6672079291911307, 0.616957263627718), Delivery(0.6973407031503552, 0.9202257347085718)], Any[Delivery(0.18973790774482688, 0.5448248020981691), Delivery(0.20289399958270465, 0.5248186552610311), Delivery(0.23319006375511914, 0.4162952444482584), Delivery(0.18874448705097138, 0.5078658986328816), Delivery(0.14505151005987893, 0.5900056061658244), Delivery(0.34725469729069575, 0.4875935663400992), Delivery(0.2516626660379381, 0.7524073448978424), Delivery(0.2484172223438689, 0.6506071119451332), Delivery(0.26011886239428084, 0.71177187832149), Delivery(0.14483766872108492, 0.6656998030034745)  …  Delivery(0.33585066273811304, 0.12343025550790104), Delivery(0.3333208216306353, 0.24805166123453662), Delivery(0.3098351619837189, 0.4271268415552503), Delivery(0.4107783498799045, 0.2010934711796621), Delivery(0.14719084581032876, 0.7416014902466578), Delivery(0.14483766872108492, 0.6656998030034745), Delivery(0.2830691588672635, 0.6390995649136392), Delivery(0.184135236889685, 0.426508409620687), Delivery(0.1409465267822151, 0.5098001449704567), Delivery(0.36855545094971287, 0.34617871081995194)], Any[Delivery(0.6408148673072004, 0.507149692234475), Delivery(0.6495027199615258, 0.5669345050452039), Delivery(0.5751177945018024, 0.1411248410052771), Delivery(0.4899056984224404, 0.016715307247333312), Delivery(0.5470458771666485, 0.14834861831704563), Delivery(0.6312906117336047, 0.289429914407565), Delivery(0.600466786211615, 0.08720724025672248), Delivery(0.6379377437204123, 0.16893697886037545), Delivery(0.48070029331219677, 0.15995367385631118), Delivery(0.5178993988918955, 0.09940369073782407)  …  Delivery(0.14437217660385704, 0.3658380611267808), Delivery(0.12007041323853788, 0.3480334978059114), Delivery(0.3226164452652189, 0.6344543027729677), Delivery(0.27597699351436117, 0.46353238244164613), Delivery(0.08879607086603969, 0.6762848846089282), Delivery(0.1843077738875101, 0.7020434704534626), Delivery(0.8226066197096112, 0.48170239321642555), Delivery(0.7308602949908816, 0.46502227444392286), Delivery(0.17559795521278443, 0.42252418038817774), Delivery(0.19517888760786786, 0.44486673663671)], Any[Delivery(0.22030311810809217, 0.4664683852513962), Delivery(0.2272964200923503, 0.3798946529856446), Delivery(0.6156820828771126, 0.21727812632243557), Delivery(0.5493349692110373, 0.13803220417343934), Delivery(0.44093428486253566, 0.6157203316877231), Delivery(0.6303703490576129, 0.49801507379311455), Delivery(0.8408646369140323, 0.5424088211886928), Delivery(0.8885212951134287, 0.5786428586929303), Delivery(0.6508779330033475, 0.541507249803847), Delivery(0.6775231902123832, 0.568340387943079)  …  Delivery(0.258302504821615, 0.3169708255731391), Delivery(0.41027621350181354, 0.47320692621791327), Delivery(0.12407410081886977, 0.7307373639080632), Delivery(0.11275796052815609, 0.6896358894966669), Delivery(0.38862459762472845, 0.649264297910411), Delivery(0.13556637994099516, 0.7100680854541948), Delivery(0.23001065239779867, 0.45085642609478394), Delivery(0.24884465811370676, 0.37849349038739577), Delivery(0.3683687962295367, 0.3966536922923448), Delivery(0.27423726247075847, 0.3397942858761131)], Any[Delivery(0.24866752629827063, 0.5789027444182104), Delivery(0.22611017587902496, 0.32055733872632464), Delivery(0.08576810503326128, 0.6785688163129502), Delivery(0.15624861453367828, 0.75076235661456), Delivery(0.3324236738486585, 0.525300163947983), Delivery(0.23497654738188853, 0.3069380989493057), Delivery(0.4496436059754003, 0.019768967635450566), Delivery(0.4519154689925923, 0.009392579404136318), Delivery(0.5173245063376221, 0.5550137989856709), Delivery(0.7067233856097342, 0.5802846511051127)  …  Delivery(0.06353111813901965, 0.27038994955820034), Delivery(0.05801161197101185, 0.23046736959121414), Delivery(0.2297260236320552, 0.3362363461428979), Delivery(0.30655127862853937, 0.1145875337281298), Delivery(0.822593439140182, 0.8565843126999665), Delivery(0.6855974722041064, 0.8759355662644511), Delivery(0.15157624238679152, 0.41898792150530145), Delivery(0.179358202885338, 0.42891296963811226), Delivery(0.026897334060966633, 0.43335503726431596), Delivery(0.026919660510197382, 0.45600038782068136)], Any[Delivery(0.41892150153699814, 0.11999062391777308), Delivery(0.4184074870637022, 0.17158829098461406), Delivery(0.15157624238679152, 0.41898792150530145), Delivery(0.14065865886178663, 0.4084734775904555), Delivery(0.6259583477767597, 0.5595064372446557), Delivery(0.533556930071813, 0.7542177374868411), Delivery(0.8268568915626465, 0.49289636193850545), Delivery(0.8348421688107573, 0.5518032791362941), Delivery(0.5865550345339836, 0.34366374970194724), Delivery(0.5665118277403058, 0.16706783481020637)  …  Delivery(0.43454477786769957, 0.49955356865374945), Delivery(0.4272379631693314, 0.46891419146543), Delivery(0.030279878454825174, 0.7811568359848873), Delivery(0.10694873734188096, 0.7640882920251718), Delivery(0.3747919675783543, 0.3450436625753883), Delivery(0.3275823032267483, 0.5310243232018595), Delivery(0.16099064572912755, 0.42512673243792065), Delivery(0.13585548708903605, 0.3206388826209899), Delivery(0.6909376384896753, 0.852415514226277), Delivery(0.6757371951113642, 0.8191097111613943)], Any[Delivery(0.46627239448399754, 0.11041499992253712), Delivery(0.5470458771666485, 0.14516907153641104), Delivery(0.7886415860289403, 0.5866839998695379), Delivery(0.8478587905839776, 0.46096328519765045), Delivery(0.5579868383797002, 0.26403520470421904), Delivery(0.5888410731156906, 0.25535831525902186), Delivery(0.4668240946321394, 0.14367573657969865), Delivery(0.4972042391829754, 0.1089439733437067), Delivery(0.7948064375245165, 0.49961250453906964), Delivery(0.840398049582796, 0.5358596040648355)  …  Delivery(0.06576914478859155, 0.37666846642337853), Delivery(0.049542693593879715, 0.3642756753091744), Delivery(0.020055747556497867, 0.30696807664945935), Delivery(0.2649216461914513, 0.7055707179745067), Delivery(0.19527706567749398, 0.37517207631424043), Delivery(0.23889700016009432, 0.32494346702646465), Delivery(0.6819270991199582, 0.8730774356479436), Delivery(0.6941485089227842, 0.9028679120793393), Delivery(0.10125899875533194, 0.6542977646785502), Delivery(0.33133190285394554, 0.601659286044356)], Any[Delivery(0.6447541341782757, 0.5913857614401469), Delivery(0.6480418603279319, 0.6028119086933813), Delivery(0.6216115757913018, 0.5772406341386114), Delivery(0.641817306270328, 0.5518452092871272), Delivery(0.9328826838644546, 0.6229479191842587), Delivery(0.8765903016291365, 0.6131351974101398), Delivery(0.2553381044628161, 0.3895632907822085), Delivery(0.4598280681497392, 0.3925974023823264), Delivery(0.8852372783448652, 0.5374259805026922), Delivery(0.8043691530000688, 0.5436807918657843)  …  Delivery(0.016374022148674422, 0.265859397203915), Delivery(0.07191227575522405, 0.24657014907045482), Delivery(0.1990464220477554, 0.42176584317516463), Delivery(0.15625847963248132, 0.4161126833375246), Delivery(0.16835758522696237, 0.4233224363195304), Delivery(0.1979857541571381, 0.3201972673561901), Delivery(0.6700373798033852, 0.8735287094360489), Delivery(0.6808953174490958, 0.8580055499547847), Delivery(0.17791901951626543, 0.4164555956286436), Delivery(0.16813244557086454, 0.3965579643392675)]  …  Any[Delivery(0.271675575231721, 0.6101206644067164), Delivery(0.2914364752479562, 0.6159985765872714), Delivery(0.6644177221005382, 0.2789421622504526), Delivery(0.6306357624381042, 0.30520220246699425), Delivery(0.6272959251389392, 0.6975101321659143), Delivery(0.6143010437227202, 0.7262325138057939), Delivery(0.22964214435724556, 0.6925757828045551), Delivery(0.21640847367068533, 0.42016234713142586), Delivery(0.6189511473370902, 0.34084825272587493), Delivery(0.6073465612848921, 0.3159769394459392)  …  Delivery(0.04238161223250581, 0.5179623533662022), Delivery(0.03697631064203134, 0.45349247287899574), Delivery(0.26123477621831304, 0.3967740706280165), Delivery(0.03824499530419458, 0.47865593603475837), Delivery(0.6865819714439272, 0.19522520430950338), Delivery(0.6111210258819149, 0.2648601502358892), Delivery(0.3825869274697584, 0.6228114499599953), Delivery(0.16428525532524343, 0.6780121913282204), Delivery(0.2723139038860466, 0.5510669346864563), Delivery(0.3231313684900019, 0.44541223039475175)], Any[Delivery(0.5007825347165198, 0.12169411618764099), Delivery(0.4918507318994962, 0.05197710852567514), Delivery(0.44772727694513637, 0.09084209076125634), Delivery(0.5144198058405172, 0.10383386074212396), Delivery(0.6587932573953329, 0.5390770340995614), Delivery(0.7109316138634745, 0.5880661749435236), Delivery(0.5865550345339836, 0.34366374970194724), Delivery(0.46696689181920087, 0.0903402163914064), Delivery(0.6075235785638522, 0.19311599205345253), Delivery(0.5671660232462165, 0.19389293963555937)  …  Delivery(0.21764907220176521, 0.5296556371155761), Delivery(0.2210669856077324, 0.44457892038706587), Delivery(0.16734770907019186, 0.3983869736430949), Delivery(0.17791901951626543, 0.40752972855027003), Delivery(0.15713461904569564, 0.2820364100057623), Delivery(0.1920470976039376, 0.3865088110360466), Delivery(0.12248660257486621, 0.5169351844132888), Delivery(0.14514829654110675, 0.39593732790387803), Delivery(0.09117838118336531, 0.6946296544498793), Delivery(0.1022932690317521, 0.7507442594351972)], Any[Delivery(0.5447361995412536, 0.20657335597768997), Delivery(0.6414325623512279, 0.20996890995730894), Delivery(0.6489945593830861, 0.1843289168156771), Delivery(0.5751177945018024, 0.1381001209979298), Delivery(0.67285502190902, 0.5738326468182219), Delivery(0.5344122472945779, 0.7038742222878693), Delivery(0.6751314877925608, 0.6013053458095315), Delivery(0.731451715373294, 0.8956813963097668), Delivery(0.8613980012169438, 0.5956806526209396), Delivery(0.779036997486314, 0.45923783156817544)  …  Delivery(0.2007806154151933, 0.4510424282509611), Delivery(0.09351859057657552, 0.479685648477105), Delivery(0.3677402785441401, 0.3707701207179651), Delivery(0.3589722063115998, 0.32030956846608905), Delivery(0.08879607086603969, 0.6762848846089282), Delivery(0.1652704200229834, 0.6876326525628471), Delivery(0.06236330707642325, 0.44196937047150325), Delivery(0.18131639401946092, 0.4606176273458603), Delivery(0.1910056581387673, 0.437728785503584), Delivery(0.11894168134723024, 0.3351597905104326)], Any[Delivery(0.707007548236192, 0.30492298253826094), Delivery(0.6069009278287616, 0.1619083153496098), Delivery(0.5914234926760368, 0.3291264461109926), Delivery(0.5914234926760368, 0.3220722993044654), Delivery(0.6896333519246608, 0.5878258473307569), Delivery(0.67285502190902, 0.5615337271146721), Delivery(0.48180044980110365, 0.06483920312841313), Delivery(0.4918507318994962, 0.05197710852567514), Delivery(0.5128092794731403, 0.7643174582748362), Delivery(0.5159362075336672, 0.5773932413142793)  …  Delivery(0.4158515134756085, 0.34628141720129907), Delivery(0.3466027329342139, 0.24477600928204243), Delivery(0.6869119120788949, 0.8777037522423279), Delivery(0.644376635868373, 0.9166263834389599), Delivery(0.7032719381604974, 0.41147606347267207), Delivery(0.6812394101554091, 0.5064956646862918), Delivery(0.22394042882931894, 0.61130286973088), Delivery(0.29617466842588136, 0.7390128145858197), Delivery(0.7948064375245165, 0.49961250453906964), Delivery(0.8130684615272441, 0.344040856697012)], Any[Delivery(0.2885907683708575, 0.7026115578363036), Delivery(0.253722857262907, 0.6699030207414389), Delivery(0.24504908864562014, 0.5226673544815845), Delivery(0.29423812562335305, 0.4656875830838237), Delivery(0.5581751796294706, 0.34900059265138184), Delivery(0.603317655740032, 0.3490993023315449), Delivery(0.5043473140169231, 0.09734067342719734), Delivery(0.40187168659933753, 0.10007554268570848), Delivery(0.5595569821714221, 0.2868286386355712), Delivery(0.5751177945018024, 0.1381001209979298)  …  Delivery(0.1061627929075057, 0.3826950195108511), Delivery(0.13096366920935357, 0.35083410191353265), Delivery(0.10876501902851382, 0.36525281660786346), Delivery(0.11050866042612503, 0.36494990685687206), Delivery(0.20497434489552857, 0.47077836018875424), Delivery(0.23582430592292386, 0.4180337435862632), Delivery(0.39307066589540063, 0.4521628001019801), Delivery(0.4224515612610446, 0.462963165104346), Delivery(0.10483735487455154, 0.665324883516363), Delivery(0.14365257700706716, 0.7452331537494972)], Any[Delivery(0.8438234777366571, 0.5762425890021565), Delivery(0.8317813869282813, 0.4967850585181432), Delivery(0.30816094846963005, 0.6317136703700735), Delivery(0.24122648499963636, 0.3765296362597923), Delivery(0.48400902292340314, 0.0), Delivery(0.46479457452416795, 0.02915816401009953), Delivery(0.2590470336033623, 0.5607370827741884), Delivery(0.3667909497229779, 0.3229134238612976), Delivery(0.8327150121974002, 0.45327081744442044), Delivery(0.7424982991558913, 0.43256643937307654)  …  Delivery(0.1061627929075057, 0.3826950195108511), Delivery(0.22741479678970872, 0.39413369447725294), Delivery(0.249224708619797, 0.43262926345233493), Delivery(0.09703112230668655, 0.4213487787171881), Delivery(0.14476835427843737, 0.41668759259439997), Delivery(0.14732147941555362, 0.40038345148013094), Delivery(0.3098889106260637, 0.07931208471269408), Delivery(0.30152472072468306, 0.08901504438417664), Delivery(0.8955846628809779, 0.7500939256484048), Delivery(0.6843047672005227, 0.8458452413739191)], Any[Delivery(0.2272964200923503, 0.388215246401976), Delivery(0.1803716747423537, 0.4518994587660003), Delivery(0.7529150948498898, 0.25593361243939244), Delivery(0.826142873323784, 0.255446223354687), Delivery(0.659167441489227, 0.41261156404233906), Delivery(0.5511898246835949, 0.591383054325294), Delivery(0.5617253148970182, 0.2993149441599379), Delivery(0.43030764649680264, 0.1352736125101057), Delivery(0.2645704194399115, 0.5647383955836641), Delivery(0.3499700376290446, 0.5953320044584071)  …  Delivery(0.06734727038788942, 0.25377930563515905), Delivery(0.008369945146381608, 0.2653360621424512), Delivery(0.3121935438474093, 0.5350491358189454), Delivery(0.17676446919911065, 0.6177043643056875), Delivery(0.41329275136914667, 0.4183258578214157), Delivery(0.4641881078697257, 0.4157193383483497), Delivery(0.7858477898560357, 0.2894765462670014), Delivery(0.7704325960550309, 0.2429838499148174), Delivery(0.6855298745832131, 0.874041066415609), Delivery(0.8942502382781982, 0.8575229412865742)], Any[Delivery(0.5872512929830722, 0.36675255173931764), Delivery(0.6235815518823755, 0.32750633506599386), Delivery(0.3750776226372325, 0.44271436356165933), Delivery(0.34747786660756613, 0.3573234525253714), Delivery(0.5729861543136449, 0.18781092385203896), Delivery(0.5490362432470395, 0.20685693741926148), Delivery(0.22964214435724556, 0.6925757828045551), Delivery(0.18874448705097138, 0.5078658986328816), Delivery(0.5483916276309636, 0.4860573479902232), Delivery(0.6859253472059261, 0.5620206469087466)  …  Delivery(0.12365684662155656, 0.6524730798836919), Delivery(0.35261565522094995, 0.36828684253796534), Delivery(0.40313384043012634, 0.4641078723781394), Delivery(0.43454477786769957, 0.4888466678481553), Delivery(0.41037171351982266, 0.4677418248525832), Delivery(0.43454477786769957, 0.4888466678481553), Delivery(0.8077875549934902, 0.6016487422294302), Delivery(0.8285913573931459, 0.5131981645074677), Delivery(0.04434906221729789, 0.49223126873307477), Delivery(0.2300490047616559, 0.41725129759064156)], Any[Delivery(0.5955261879211432, 0.3592743850636974), Delivery(0.5486723843412303, 0.2852747690150429), Delivery(0.7716112736354622, 0.22635126798574717), Delivery(0.8035108035800416, 0.284500743180876), Delivery(0.8882074318164924, 0.7836945301198225), Delivery(0.4957935736790314, 0.4015655064712811), Delivery(0.8381832137901183, 0.4920129438568952), Delivery(0.8388116918333285, 0.47525329349480794), Delivery(0.43015468811211544, 0.051979080347506874), Delivery(0.6720074143036234, 0.18216943559011148)  …  Delivery(0.24507089682295796, 0.33800539123717743), Delivery(0.3048668575643264, 0.3002796710370759), Delivery(0.1805791410152905, 0.3018888960035494), Delivery(0.10949005021445522, 0.5145121020558464), Delivery(0.34139485221351296, 0.2447526965553754), Delivery(0.3098351619837189, 0.41797225832153795), Delivery(0.5250054090404058, 0.44656252897909754), Delivery(0.6556770655492664, 0.5634487643071148), Delivery(0.1955389352522833, 0.720669942649837), Delivery(0.08879607086603969, 0.6617901124159399)], Any[Delivery(0.35148028980125773, 0.6135185312290181), Delivery(0.30816094846963005, 0.6181741902610279), Delivery(0.13687932042911025, 0.48008380990651317), Delivery(0.24504908864562014, 0.511465057330875), Delivery(0.47153760121968624, 0.03108939832984315), Delivery(0.5493379095480742, 0.08894545028398194), Delivery(0.8133571981722466, 0.4995188728443533), Delivery(0.868013504574344, 0.5852090784778345), Delivery(0.5769951957419156, 0.5868177467405772), Delivery(0.6480418603279319, 0.6028119086933813)  …  Delivery(0.15075547467762349, 0.4807817432734781), Delivery(0.23966549998059733, 0.34516819218324596), Delivery(0.39157308474104635, 0.6051179330478046), Delivery(0.14687710908550516, 0.38574880247836457), Delivery(0.32402190478093384, 0.2901646257568261), Delivery(0.3821617180213942, 0.44221771229544743), Delivery(0.17800127653633713, 0.6845231437733728), Delivery(0.18230305445351008, 0.6512282364792765), Delivery(0.6834252736321587, 0.3252744604113348), Delivery(0.6812394101554091, 0.5064956646862918)]], Any[Any[(1, 2), (3, 4), (5, 6), (7, 8), (9, 10), (11, 12), (13, 14), (15, 16), (17, 18), (19, 20)  …  (89, 90), (91, 92), (93, 94), (95, 96), (97, 98), (99, 100), (101, 102), (103, 104), (105, 106), (107, 108)], Any[(1, 2), (3, 4), (5, 6), (7, 8), (9, 10), (11, 12), (13, 14), (15, 16), (17, 18), (19, 20)  …  (79, 80), (81, 82), (83, 84), (85, 86), (87, 88), (89, 90), (91, 92), (93, 94), (95, 96), (97, 98)], Any[(1, 2), (3, 4), (5, 6), (7, 8), (9, 10), (11, 12), (13, 14), (15, 16), (17, 18), (19, 20)  …  (137, 138), (139, 140), (141, 142), (143, 144), (145, 146), (147, 148), (149, 150), (151, 152), (153, 154), (155, 156)], Any[(1, 2), (3, 4), (5, 6), (7, 8), (9, 10), (11, 12), (13, 14), (15, 16), (17, 18), (19, 20)  …  (101, 102), (103, 104), (105, 106), (107, 108), (109, 110), (111, 112), (113, 114), (115, 116), (117, 118), (119, 120)], Any[(1, 2), (3, 4), (5, 6), (7, 8), (9, 10), (11, 12), (13, 14), (15, 16), (17, 18), (19, 20)  …  (117, 118), (119, 120), (121, 122), (123, 124), (125, 126), (127, 128), (129, 130), (131, 132), (133, 134), (135, 136)], Any[(1, 2), (3, 4), (5, 6), (7, 8), (9, 10), (11, 12), (13, 14), (15, 16), (17, 18), (19, 20)  …  (107, 108), (109, 110), (111, 112), (113, 114), (115, 116), (117, 118), (119, 120), (121, 122), (123, 124), (125, 126)], Any[(1, 2), (3, 4), (5, 6), (7, 8), (9, 10), (11, 12), (13, 14), (15, 16), (17, 18), (19, 20)  …  (143, 144), (145, 146), (147, 148), (149, 150), (151, 152), (153, 154), (155, 156), (157, 158), (159, 160), (161, 162)], Any[(1, 2), (3, 4), (5, 6), (7, 8), (9, 10), (11, 12), (13, 14), (15, 16), (17, 18), (19, 20)  …  (173, 174), (175, 176), (177, 178), (179, 180), (181, 182), (183, 184), (185, 186), (187, 188), (189, 190), (191, 192)], Any[(1, 2), (3, 4), (5, 6), (7, 8), (9, 10), (11, 12), (13, 14), (15, 16), (17, 18), (19, 20)  …  (93, 94), (95, 96), (97, 98), (99, 100), (101, 102), (103, 104), (105, 106), (107, 108), (109, 110), (111, 112)], Any[(1, 2), (3, 4), (5, 6), (7, 8), (9, 10), (11, 12), (13, 14), (15, 16), (17, 18), (19, 20)  …  (131, 132), (133, 134), (135, 136), (137, 138), (139, 140), (141, 142), (143, 144), (145, 146), (147, 148), (149, 150)]  …  Any[(1, 2), (3, 4), (5, 6), (7, 8), (9, 10), (11, 12), (13, 14), (15, 16), (17, 18), (19, 20)  …  (135, 136), (137, 138), (139, 140), (141, 142), (143, 144), (145, 146), (147, 148), (149, 150), (151, 152), (153, 154)], Any[(1, 2), (3, 4), (5, 6), (7, 8), (9, 10), (11, 12), (13, 14), (15, 16), (17, 18), (19, 20)  …  (125, 126), (127, 128), (129, 130), (131, 132), (133, 134), (135, 136), (137, 138), (139, 140), (141, 142), (143, 144)], Any[(1, 2), (3, 4), (5, 6), (7, 8), (9, 10), (11, 12), (13, 14), (15, 16), (17, 18), (19, 20)  …  (145, 146), (147, 148), (149, 150), (151, 152), (153, 154), (155, 156), (157, 158), (159, 160), (161, 162), (163, 164)], Any[(1, 2), (3, 4), (5, 6), (7, 8), (9, 10), (11, 12), (13, 14), (15, 16), (17, 18), (19, 20)  …  (123, 124), (125, 126), (127, 128), (129, 130), (131, 132), (133, 134), (135, 136), (137, 138), (139, 140), (141, 142)], Any[(1, 2), (3, 4), (5, 6), (7, 8), (9, 10), (11, 12), (13, 14), (15, 16), (17, 18), (19, 20)  …  (95, 96), (97, 98), (99, 100), (101, 102), (103, 104), (105, 106), (107, 108), (109, 110), (111, 112), (113, 114)], Any[(1, 2), (3, 4), (5, 6), (7, 8), (9, 10), (11, 12), (13, 14), (15, 16), (17, 18), (19, 20)  …  (93, 94), (95, 96), (97, 98), (99, 100), (101, 102), (103, 104), (105, 106), (107, 108), (109, 110), (111, 112)], Any[(1, 2), (3, 4), (5, 6), (7, 8), (9, 10), (11, 12), (13, 14), (15, 16), (17, 18), (19, 20)  …  (113, 114), (115, 116), (117, 118), (119, 120), (121, 122), (123, 124), (125, 126), (127, 128), (129, 130), (131, 132)], Any[(1, 2), (3, 4), (5, 6), (7, 8), (9, 10), (11, 12), (13, 14), (15, 16), (17, 18), (19, 20)  …  (75, 76), (77, 78), (79, 80), (81, 82), (83, 84), (85, 86), (87, 88), (89, 90), (91, 92), (93, 94)], Any[(1, 2), (3, 4), (5, 6), (7, 8), (9, 10), (11, 12), (13, 14), (15, 16), (17, 18), (19, 20)  …  (81, 82), (83, 84), (85, 86), (87, 88), (89, 90), (91, 92), (93, 94), (95, 96), (97, 98), (99, 100)], Any[(1, 2), (3, 4), (5, 6), (7, 8), (9, 10), (11, 12), (13, 14), (15, 16), (17, 18), (19, 20)  …  (117, 118), (119, 120), (121, 122), (123, 124), (125, 126), (127, 128), (129, 130), (131, 132), (133, 134), (135, 136)]])"
      ]
     },
     "metadata": {},
     "output_type": "display_data"
    }
   ],
   "source": [
    "pred_deliveries, pred_constraints = create_deliveries(X_A_test, X_C_test, Y_test_pred)\n",
    "true_deliveries, true_constraints = create_deliveries(X_A_test, X_C_test, Y_test)"
   ]
  },
  {
   "cell_type": "code",
   "execution_count": 16,
   "metadata": {},
   "outputs": [
    {
     "name": "stderr",
     "output_type": "stream",
     "text": [
      "\r\u001b[32mprogress ...   3%|██                                     |  ETA: 0:26:27\u001b[39m\u001b[K"
     ]
    },
    {
     "name": "stdout",
     "output_type": "stream",
     "text": [
      "Set parameter Username\r\n",
      "Academic license - for non-commercial use only - expires 2024-03-28\r\n",
      "Set parameter Username\r\n",
      "Academic license - for non-commercial use only - expires 2024-03-28\r\n",
      "Set parameter Username\r\n",
      "Academic license - for non-commercial use only - expires 2024-03-28\r\n"
     ]
    },
    {
     "name": "stderr",
     "output_type": "stream",
     "text": [
      "\r\u001b[32mprogress ...   6%|███                                    |  ETA: 0:25:13\u001b[39m\u001b[K"
     ]
    },
    {
     "name": "stdout",
     "output_type": "stream",
     "text": [
      "Set parameter Username\r\n",
      "Academic license - for non-commercial use only - expires 2024-03-28\r\n",
      "Set parameter Username\r\n",
      "Academic license - for non-commercial use only - expires 2024-03-28\r\n",
      "Set parameter Username\r\n",
      "Academic license - for non-commercial use only - expires 2024-03-28\r\n"
     ]
    },
    {
     "name": "stderr",
     "output_type": "stream",
     "text": [
      "\r\u001b[32mprogress ...   8%|████                                   |  ETA: 0:47:22\u001b[39m\u001b[K"
     ]
    },
    {
     "name": "stdout",
     "output_type": "stream",
     "text": [
      "Set parameter Username\r\n",
      "Academic license - for non-commercial use only - expires 2024-03-28\r\n",
      "Set parameter Username\r\n",
      "Academic license - for non-commercial use only - expires 2024-03-28\r\n"
     ]
    },
    {
     "name": "stderr",
     "output_type": "stream",
     "text": [
      "\r\u001b[32mprogress ...  10%|████                                   |  ETA: 0:44:50\u001b[39m\u001b[K"
     ]
    },
    {
     "name": "stdout",
     "output_type": "stream",
     "text": [
      "Set parameter Username\r\n",
      "Academic license - for non-commercial use only - expires 2024-03-28\r\n",
      "Set parameter Username\r\n",
      "Academic license - for non-commercial use only - expires 2024-03-28\r\n"
     ]
    },
    {
     "name": "stderr",
     "output_type": "stream",
     "text": [
      "\r\u001b[32mprogress ...  11%|█████                                  |  ETA: 0:46:23\u001b[39m\u001b[K"
     ]
    },
    {
     "name": "stdout",
     "output_type": "stream",
     "text": [
      "Set parameter Username\r\n",
      "Academic license - for non-commercial use only - expires 2024-03-28\r\n"
     ]
    },
    {
     "name": "stderr",
     "output_type": "stream",
     "text": [
      "\r\u001b[32mprogress ...  13%|██████                                 |  ETA: 1:34:15\u001b[39m\u001b[K"
     ]
    },
    {
     "name": "stdout",
     "output_type": "stream",
     "text": [
      "Set parameter Username\r\n",
      "Academic license - for non-commercial use only - expires 2024-03-28\r\n",
      "Set parameter Username\r\n",
      "Academic license - for non-commercial use only - expires 2024-03-28\r\n"
     ]
    },
    {
     "name": "stderr",
     "output_type": "stream",
     "text": [
      "\r\u001b[32mprogress ...  15%|██████                                 |  ETA: 1:23:06\u001b[39m\u001b[K"
     ]
    },
    {
     "name": "stdout",
     "output_type": "stream",
     "text": [
      "Set parameter Username\r\n",
      "Academic license - for non-commercial use only - expires 2024-03-28\r\n",
      "Set parameter Username\r\n",
      "Academic license - for non-commercial use only - expires 2024-03-28\r\n"
     ]
    },
    {
     "name": "stderr",
     "output_type": "stream",
     "text": [
      "\r\u001b[32mprogress ...  18%|████████                               |  ETA: 1:10:46\u001b[39m\u001b[K"
     ]
    },
    {
     "name": "stdout",
     "output_type": "stream",
     "text": [
      "Set parameter Username\r\n",
      "Academic license - for non-commercial use only - expires 2024-03-28\r\n",
      "Set parameter Username\r\n",
      "Academic license - for non-commercial use only - expires 2024-03-28\r\n",
      "Set parameter Username\r\n",
      "Academic license - for non-commercial use only - expires 2024-03-28\r\n"
     ]
    },
    {
     "name": "stderr",
     "output_type": "stream",
     "text": [
      "\r\u001b[32mprogress ...  20%|████████                               |  ETA: 1:05:38\u001b[39m\u001b[K"
     ]
    },
    {
     "name": "stdout",
     "output_type": "stream",
     "text": [
      "Set parameter Username\r\n",
      "Academic license - for non-commercial use only - expires 2024-03-28\r\n",
      "Set parameter Username\r\n",
      "Academic license - for non-commercial use only - expires 2024-03-28\r\n"
     ]
    },
    {
     "name": "stderr",
     "output_type": "stream",
     "text": [
      "\r\u001b[32mprogress ...  30%|████████████                           |  ETA: 0:56:01\u001b[39m\u001b[K"
     ]
    },
    {
     "name": "stdout",
     "output_type": "stream",
     "text": [
      "Set parameter Username\r\n",
      "Academic license - for non-commercial use only - expires 2024-03-28\r\n",
      "Set parameter Username\r\n",
      "Academic license - for non-commercial use only - expires 2024-03-28\r\n",
      "Set parameter Username\r\n",
      "Academic license - for non-commercial use only - expires 2024-03-28\r\n",
      "Set parameter Username\r\n",
      "Academic license - for non-commercial use only - expires 2024-03-28\r\n",
      "Set parameter Username\r\n",
      "Academic license - for non-commercial use only - expires 2024-03-28\r\n",
      "Set parameter Username\r\n",
      "Academic license - for non-commercial use only - expires 2024-03-28\r\n",
      "Set parameter Username\r\n",
      "Academic license - for non-commercial use only - expires 2024-03-28\r\n",
      "Set parameter Username\r\n",
      "Academic license - for non-commercial use only - expires 2024-03-28\r\n",
      "Set parameter Username\r\n",
      "Academic license - for non-commercial use only - expires 2024-03-28\r\n",
      "Set parameter Username\r\n",
      "Academic license - for non-commercial use only - expires 2024-03-28\r\n"
     ]
    },
    {
     "name": "stderr",
     "output_type": "stream",
     "text": [
      "\r\u001b[32mprogress ...  35%|██████████████                         |  ETA: 0:47:11\u001b[39m\u001b[K"
     ]
    },
    {
     "name": "stdout",
     "output_type": "stream",
     "text": [
      "Set parameter Username\r\n",
      "Academic license - for non-commercial use only - expires 2024-03-28\r\n",
      "Set parameter Username\r\n",
      "Academic license - for non-commercial use only - expires 2024-03-28\r\n",
      "Set parameter Username\r\n",
      "Academic license - for non-commercial use only - expires 2024-03-28\r\n",
      "Set parameter Username\r\n",
      "Academic license - for non-commercial use only - expires 2024-03-28\r\n",
      "Set parameter Username\r\n",
      "Academic license - for non-commercial use only - expires 2024-03-28\r\n"
     ]
    },
    {
     "name": "stderr",
     "output_type": "stream",
     "text": [
      "\r\u001b[32mprogress ...  37%|███████████████                        |  ETA: 0:44:56\u001b[39m\u001b[K"
     ]
    },
    {
     "name": "stdout",
     "output_type": "stream",
     "text": [
      "Set parameter Username\r\n",
      "Academic license - for non-commercial use only - expires 2024-03-28\r\n",
      "Set parameter Username\r\n",
      "Academic license - for non-commercial use only - expires 2024-03-28\r\n"
     ]
    },
    {
     "name": "stderr",
     "output_type": "stream",
     "text": [
      "\r\u001b[32mprogress ...  38%|███████████████                        |  ETA: 0:45:25\u001b[39m\u001b[K"
     ]
    },
    {
     "name": "stdout",
     "output_type": "stream",
     "text": [
      "Set parameter Username\r\n",
      "Academic license - for non-commercial use only - expires 2024-03-28\r\n"
     ]
    },
    {
     "name": "stderr",
     "output_type": "stream",
     "text": [
      "\r\u001b[32mprogress ...  40%|████████████████                       |  ETA: 0:43:05\u001b[39m\u001b[K"
     ]
    },
    {
     "name": "stdout",
     "output_type": "stream",
     "text": [
      "Set parameter Username\r\n",
      "Academic license - for non-commercial use only - expires 2024-03-28\r\n",
      "Set parameter Username\r\n",
      "Academic license - for non-commercial use only - expires 2024-03-28\r\n"
     ]
    },
    {
     "name": "stderr",
     "output_type": "stream",
     "text": [
      "\r\u001b[32mprogress ...  50%|████████████████████                   |  ETA: 0:35:33\u001b[39m\u001b[K"
     ]
    },
    {
     "name": "stdout",
     "output_type": "stream",
     "text": [
      "Set parameter Username\r\n",
      "Academic license - for non-commercial use only - expires 2024-03-28\r\n",
      "Set parameter Username\r\n",
      "Academic license - for non-commercial use only - expires 2024-03-28\r\n",
      "Set parameter Username\r\n",
      "Academic license - for non-commercial use only - expires 2024-03-28\r\n",
      "Set parameter Username\r\n",
      "Academic license - for non-commercial use only - expires 2024-03-28\r\n",
      "Set parameter Username\r\n",
      "Academic license - for non-commercial use only - expires 2024-03-28\r\n",
      "Set parameter Username\r\n",
      "Academic license - for non-commercial use only - expires 2024-03-28\r\n",
      "Set parameter Username\r\n",
      "Academic license - for non-commercial use only - expires 2024-03-28\r\n",
      "Set parameter Username\r\n",
      "Academic license - for non-commercial use only - expires 2024-03-28\r\n",
      "Set parameter Username\r\n",
      "Academic license - for non-commercial use only - expires 2024-03-28\r\n",
      "Set parameter Username\r\n",
      "Academic license - for non-commercial use only - expires 2024-03-28\r\n"
     ]
    },
    {
     "name": "stderr",
     "output_type": "stream",
     "text": [
      "\r\u001b[32mprogress ...  51%|████████████████████                   |  ETA: 0:36:49\u001b[39m\u001b[K"
     ]
    },
    {
     "name": "stdout",
     "output_type": "stream",
     "text": [
      "Set parameter Username\r\n",
      "Academic license - for non-commercial use only - expires 2024-03-28\r\n"
     ]
    },
    {
     "name": "stderr",
     "output_type": "stream",
     "text": [
      "\r\u001b[32mprogress ...  52%|█████████████████████                  |  ETA: 0:36:15\u001b[39m\u001b[K"
     ]
    },
    {
     "name": "stdout",
     "output_type": "stream",
     "text": [
      "Set parameter Username\r\n",
      "Academic license - for non-commercial use only - expires 2024-03-28\r\n"
     ]
    },
    {
     "name": "stderr",
     "output_type": "stream",
     "text": [
      "\r\u001b[32mprogress ...  54%|██████████████████████                 |  ETA: 0:34:03\u001b[39m\u001b[K"
     ]
    },
    {
     "name": "stdout",
     "output_type": "stream",
     "text": [
      "Set parameter Username\r\n",
      "Academic license - for non-commercial use only - expires 2024-03-28\r\n",
      "Set parameter Username\r\n",
      "Academic license - for non-commercial use only - expires 2024-03-28\r\n"
     ]
    },
    {
     "name": "stderr",
     "output_type": "stream",
     "text": [
      "\r\u001b[32mprogress ...  59%|████████████████████████               |  ETA: 0:29:54\u001b[39m\u001b[K"
     ]
    },
    {
     "name": "stdout",
     "output_type": "stream",
     "text": [
      "Set parameter Username\r\n",
      "Academic license - for non-commercial use only - expires 2024-03-28\r\n",
      "Set parameter Username\r\n",
      "Academic license - for non-commercial use only - expires 2024-03-28\r\n",
      "Set parameter Username\r\n",
      "Academic license - for non-commercial use only - expires 2024-03-28\r\n",
      "Set parameter Username\r\n",
      "Academic license - for non-commercial use only - expires 2024-03-28\r\n",
      "Set parameter Username\r\n",
      "Academic license - for non-commercial use only - expires 2024-03-28\r\n"
     ]
    },
    {
     "name": "stderr",
     "output_type": "stream",
     "text": [
      "\r\u001b[32mprogress ...  60%|████████████████████████               |  ETA: 0:29:01\u001b[39m\u001b[K"
     ]
    },
    {
     "name": "stdout",
     "output_type": "stream",
     "text": [
      "Set parameter Username\r\n",
      "Academic license - for non-commercial use only - expires 2024-03-28\r\n"
     ]
    },
    {
     "name": "stderr",
     "output_type": "stream",
     "text": [
      "\r\u001b[32mprogress ...  61%|████████████████████████               |  ETA: 0:28:27\u001b[39m\u001b[K"
     ]
    },
    {
     "name": "stdout",
     "output_type": "stream",
     "text": [
      "Set parameter Username\r\n",
      "Academic license - for non-commercial use only - expires 2024-03-28\r\n"
     ]
    },
    {
     "name": "stderr",
     "output_type": "stream",
     "text": [
      "\r\u001b[32mprogress ...  62%|█████████████████████████              |  ETA: 0:27:53\u001b[39m\u001b[K"
     ]
    },
    {
     "name": "stdout",
     "output_type": "stream",
     "text": [
      "Set parameter Username\r\n",
      "Academic license - for non-commercial use only - expires 2024-03-28\r\n"
     ]
    },
    {
     "name": "stderr",
     "output_type": "stream",
     "text": [
      "\r\u001b[32mprogress ...  67%|███████████████████████████            |  ETA: 0:24:51\u001b[39m\u001b[K"
     ]
    },
    {
     "name": "stdout",
     "output_type": "stream",
     "text": [
      "Set parameter Username\r\n",
      "Academic license - for non-commercial use only - expires 2024-03-28\r\n",
      "Set parameter Username\r\n",
      "Academic license - for non-commercial use only - expires 2024-03-28\r\n",
      "Set parameter Username\r\n",
      "Academic license - for non-commercial use only - expires 2024-03-28\r\n",
      "Set parameter Username\r\n",
      "Academic license - for non-commercial use only - expires 2024-03-28\r\n",
      "Set parameter Username\r\n",
      "Academic license - for non-commercial use only - expires 2024-03-28\r\n"
     ]
    },
    {
     "name": "stderr",
     "output_type": "stream",
     "text": [
      "\r\u001b[32mprogress ...  68%|███████████████████████████            |  ETA: 0:24:12\u001b[39m\u001b[K"
     ]
    },
    {
     "name": "stdout",
     "output_type": "stream",
     "text": [
      "Set parameter Username\r\n",
      "Academic license - for non-commercial use only - expires 2024-03-28\r\n"
     ]
    },
    {
     "name": "stderr",
     "output_type": "stream",
     "text": [
      "\r\u001b[32mprogress ...  69%|███████████████████████████            |  ETA: 0:23:25\u001b[39m\u001b[K"
     ]
    },
    {
     "name": "stdout",
     "output_type": "stream",
     "text": [
      "Set parameter Username\r\n",
      "Academic license - for non-commercial use only - expires 2024-03-28\r\n"
     ]
    },
    {
     "name": "stderr",
     "output_type": "stream",
     "text": [
      "\r\u001b[32mprogress ...  71%|████████████████████████████           |  ETA: 0:21:38\u001b[39m\u001b[K"
     ]
    },
    {
     "name": "stdout",
     "output_type": "stream",
     "text": [
      "Set parameter Username\r\n",
      "Academic license - for non-commercial use only - expires 2024-03-28\r\n",
      "Set parameter Username\r\n",
      "Academic license - for non-commercial use only - expires 2024-03-28\r\n"
     ]
    },
    {
     "name": "stderr",
     "output_type": "stream",
     "text": [
      "\r\u001b[32mprogress ...  72%|█████████████████████████████          |  ETA: 0:21:01\u001b[39m\u001b[K"
     ]
    },
    {
     "name": "stdout",
     "output_type": "stream",
     "text": [
      "Set parameter Username\r\n",
      "Academic license - for non-commercial use only - expires 2024-03-28\r\n"
     ]
    },
    {
     "name": "stderr",
     "output_type": "stream",
     "text": [
      "\r\u001b[32mprogress ...  75%|██████████████████████████████         |  ETA: 0:18:24\u001b[39m\u001b[K"
     ]
    },
    {
     "name": "stdout",
     "output_type": "stream",
     "text": [
      "Set parameter Username\r\n",
      "Academic license - for non-commercial use only - expires 2024-03-28\r\n",
      "Set parameter Username\r\n",
      "Academic license - for non-commercial use only - expires 2024-03-28\r\n",
      "Set parameter Username\r\n",
      "Academic license - for non-commercial use only - expires 2024-03-28\r\n"
     ]
    },
    {
     "name": "stderr",
     "output_type": "stream",
     "text": [
      "\r\u001b[32mprogress ...  76%|██████████████████████████████         |  ETA: 0:17:40\u001b[39m\u001b[K"
     ]
    },
    {
     "name": "stdout",
     "output_type": "stream",
     "text": [
      "Set parameter Username\r\n",
      "Academic license - for non-commercial use only - expires 2024-03-28\r\n"
     ]
    },
    {
     "name": "stderr",
     "output_type": "stream",
     "text": [
      "\r\u001b[32mprogress ...  77%|███████████████████████████████        |  ETA: 0:17:11\u001b[39m\u001b[K"
     ]
    },
    {
     "name": "stdout",
     "output_type": "stream",
     "text": [
      "Set parameter Username\r\n",
      "Academic license - for non-commercial use only - expires 2024-03-28\r\n"
     ]
    },
    {
     "name": "stderr",
     "output_type": "stream",
     "text": [
      "\r\u001b[32mprogress ...  79%|███████████████████████████████        |  ETA: 0:15:31\u001b[39m\u001b[K"
     ]
    },
    {
     "name": "stdout",
     "output_type": "stream",
     "text": [
      "Set parameter Username\r\n",
      "Academic license - for non-commercial use only - expires 2024-03-28\r\n",
      "Set parameter Username\r\n",
      "Academic license - for non-commercial use only - expires 2024-03-28\r\n"
     ]
    },
    {
     "name": "stderr",
     "output_type": "stream",
     "text": [
      "\r\u001b[32mprogress ...  80%|████████████████████████████████       |  ETA: 0:14:48\u001b[39m\u001b[K"
     ]
    },
    {
     "name": "stdout",
     "output_type": "stream",
     "text": [
      "Set parameter Username\r\n",
      "Academic license - for non-commercial use only - expires 2024-03-28\r\n"
     ]
    },
    {
     "name": "stderr",
     "output_type": "stream",
     "text": [
      "\r\u001b[32mprogress ...  82%|████████████████████████████████       |  ETA: 0:13:17\u001b[39m\u001b[K"
     ]
    },
    {
     "name": "stdout",
     "output_type": "stream",
     "text": [
      "Set parameter Username\r\n",
      "Academic license - for non-commercial use only - expires 2024-03-28\r\n",
      "Set parameter Username\r\n",
      "Academic license - for non-commercial use only - expires 2024-03-28\r\n"
     ]
    },
    {
     "name": "stderr",
     "output_type": "stream",
     "text": [
      "\r\u001b[32mprogress ...  84%|█████████████████████████████████      |  ETA: 0:11:39\u001b[39m\u001b[K"
     ]
    },
    {
     "name": "stdout",
     "output_type": "stream",
     "text": [
      "Set parameter Username\r\n",
      "Academic license - for non-commercial use only - expires 2024-03-28\r\n",
      "Set parameter Username\r\n",
      "Academic license - for non-commercial use only - expires 2024-03-28\r\n"
     ]
    },
    {
     "name": "stderr",
     "output_type": "stream",
     "text": [
      "\r\u001b[32mprogress ...  85%|██████████████████████████████████     |  ETA: 0:10:54\u001b[39m\u001b[K"
     ]
    },
    {
     "name": "stdout",
     "output_type": "stream",
     "text": [
      "Set parameter Username\r\n",
      "Academic license - for non-commercial use only - expires 2024-03-28\r\n"
     ]
    },
    {
     "name": "stderr",
     "output_type": "stream",
     "text": [
      "\r\u001b[32mprogress ...  86%|██████████████████████████████████     |  ETA: 0:10:32\u001b[39m\u001b[K"
     ]
    },
    {
     "name": "stdout",
     "output_type": "stream",
     "text": [
      "Set parameter Username\r\n",
      "Academic license - for non-commercial use only - expires 2024-03-28\r\n"
     ]
    },
    {
     "name": "stderr",
     "output_type": "stream",
     "text": [
      "\r\u001b[32mprogress ...  89%|███████████████████████████████████    |  ETA: 0:08:09\u001b[39m\u001b[K"
     ]
    },
    {
     "name": "stdout",
     "output_type": "stream",
     "text": [
      "Set parameter Username\r\n",
      "Academic license - for non-commercial use only - expires 2024-03-28\r\n",
      "Set parameter Username\r\n",
      "Academic license - for non-commercial use only - expires 2024-03-28\r\n",
      "Set parameter Username\r\n",
      "Academic license - for non-commercial use only - expires 2024-03-28\r\n"
     ]
    },
    {
     "name": "stderr",
     "output_type": "stream",
     "text": [
      "\r\u001b[32mprogress ...  90%|████████████████████████████████████   |  ETA: 0:07:25\u001b[39m\u001b[K"
     ]
    },
    {
     "name": "stdout",
     "output_type": "stream",
     "text": [
      "Set parameter Username\r\n",
      "Academic license - for non-commercial use only - expires 2024-03-28\r\n"
     ]
    },
    {
     "name": "stderr",
     "output_type": "stream",
     "text": [
      "\r\u001b[32mprogress ...  91%|████████████████████████████████████   |  ETA: 0:06:41\u001b[39m\u001b[K"
     ]
    },
    {
     "name": "stdout",
     "output_type": "stream",
     "text": [
      "Set parameter Username\r\n",
      "Academic license - for non-commercial use only - expires 2024-03-28\r\n"
     ]
    },
    {
     "name": "stderr",
     "output_type": "stream",
     "text": [
      "\r\u001b[32mprogress ...  93%|█████████████████████████████████████  |  ETA: 0:05:10\u001b[39m\u001b[K"
     ]
    },
    {
     "name": "stdout",
     "output_type": "stream",
     "text": [
      "Set parameter Username\r\n",
      "Academic license - for non-commercial use only - expires 2024-03-28\r\n",
      "Set parameter Username\r\n",
      "Academic license - for non-commercial use only - expires 2024-03-28\r\n"
     ]
    },
    {
     "name": "stderr",
     "output_type": "stream",
     "text": [
      "\r\u001b[32mprogress ...  94%|█████████████████████████████████████  |  ETA: 0:04:27\u001b[39m\u001b[K"
     ]
    },
    {
     "name": "stdout",
     "output_type": "stream",
     "text": [
      "Set parameter Username\r\n",
      "Academic license - for non-commercial use only - expires 2024-03-28\r\n"
     ]
    },
    {
     "name": "stderr",
     "output_type": "stream",
     "text": [
      "\r\u001b[32mprogress ...  96%|██████████████████████████████████████ |  ETA: 0:02:56\u001b[39m\u001b[K"
     ]
    },
    {
     "name": "stdout",
     "output_type": "stream",
     "text": [
      "Set parameter Username\r\n",
      "Academic license - for non-commercial use only - expires 2024-03-28\r\n",
      "Set parameter Username\r\n",
      "Academic license - for non-commercial use only - expires 2024-03-28\r\n"
     ]
    },
    {
     "name": "stderr",
     "output_type": "stream",
     "text": [
      "\r\u001b[32mprogress ...  98%|███████████████████████████████████████|  ETA: 0:01:27\u001b[39m\u001b[K"
     ]
    },
    {
     "name": "stdout",
     "output_type": "stream",
     "text": [
      "Set parameter Username\r\n",
      "Academic license - for non-commercial use only - expires 2024-03-28\r\n",
      "Set parameter Username\r\n",
      "Academic license - for non-commercial use only - expires 2024-03-28\r\n"
     ]
    },
    {
     "name": "stderr",
     "output_type": "stream",
     "text": [
      "\r\u001b[32mprogress ... 100%|███████████████████████████████████████| Time: 1:11:41\u001b[39m\u001b[K\n"
     ]
    },
    {
     "name": "stdout",
     "output_type": "stream",
     "text": [
      "Set parameter Username\r\n",
      "Academic license - for non-commercial use only - expires 2024-03-28\r\n",
      "Set parameter Username\r\n",
      "Academic license - for non-commercial use only - expires 2024-03-28\r\n"
     ]
    }
   ],
   "source": [
    "pred_solution = []\n",
    "@showprogress 30 \"progress ...\" for (delivery, constraint) in zip(pred_deliveries, pred_constraints)\n",
    "   push!(pred_solution, solve_tsp(delivery, constraint, Gurobi.Optimizer));\n",
    "end"
   ]
  },
  {
   "cell_type": "code",
   "execution_count": 17,
   "metadata": {},
   "outputs": [],
   "source": [
    "file = File(format\"JLD2\", \"Data/regulized_output.jld2\")\n",
    "  \n",
    "# Save data into the file\n",
    "save(file, \"delivery\", pred_deliveries, \"constraint\", pred_constraints, \"solutions\", pred_solution, \"trainings_losses\", losses)"
   ]
  },
  {
   "cell_type": "code",
   "execution_count": 18,
   "metadata": {},
   "outputs": [],
   "source": []
  }
 ],
 "metadata": {
  "kernelspec": {
   "display_name": "Julia 1.8.5",
   "language": "julia",
   "name": "julia-1.8"
  },
  "language_info": {
   "file_extension": ".jl",
   "mimetype": "application/julia",
   "name": "julia",
   "version": "1.8.5"
  },
  "orig_nbformat": 4
 },
 "nbformat": 4,
 "nbformat_minor": 2
}
