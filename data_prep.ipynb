{
 "cells": [
  {
   "cell_type": "code",
   "execution_count": 1,
   "metadata": {},
   "outputs": [],
   "source": [
    "using CSV\n",
    "using DataFrames\n",
    "using Hungarian\n",
    "using InferOpt\n",
    "using Flux\n",
    "using UnicodePlots\n",
    "using StatsBase\n",
    "using MLJ\n",
    "using ProgressMeter\n",
    "using Distances\n",
    "using Random"
   ]
  },
  {
   "cell_type": "code",
   "execution_count": 15,
   "metadata": {},
   "outputs": [],
   "source": [
    "using JuMP\n",
    "using MathOptInterface\n",
    "using Gurobi\n",
    "using Graphs\n",
    "using Plots\n",
    "using JLD2"
   ]
  },
  {
   "cell_type": "code",
   "execution_count": 18,
   "metadata": {},
   "outputs": [],
   "source": [
    "using FileIO"
   ]
  },
  {
   "cell_type": "code",
   "execution_count": 3,
   "metadata": {},
   "outputs": [
    {
     "data": {
      "text/plain": [
       "display_solution_old (generic function with 1 method)"
      ]
     },
     "metadata": {},
     "output_type": "display_data"
    }
   ],
   "source": [
    "include(\"assingment_Util.jl\")"
   ]
  },
  {
   "cell_type": "code",
   "execution_count": 4,
   "metadata": {},
   "outputs": [],
   "source": [
    "ENV[\"COLUMNS\"] = 100\n",
    "ENV[\"LINES\"] = 100\n",
    "Random.seed!(67);"
   ]
  },
  {
   "cell_type": "code",
   "execution_count": 5,
   "metadata": {},
   "outputs": [],
   "source": [
    "df = CSV.read(\"data_container.csv\", DataFrame);"
   ]
  },
  {
   "cell_type": "code",
   "execution_count": 6,
   "metadata": {},
   "outputs": [],
   "source": [
    "df = sort(df, [:Beginn]);"
   ]
  },
  {
   "cell_type": "code",
   "execution_count": 7,
   "metadata": {},
   "outputs": [],
   "source": [
    "df = remove_days_with_few_occurrences(df, 10);"
   ]
  },
  {
   "cell_type": "code",
   "execution_count": 8,
   "metadata": {},
   "outputs": [],
   "source": [
    "df_unique_Containers = unique_Containers(df);"
   ]
  },
  {
   "cell_type": "code",
   "execution_count": 9,
   "metadata": {},
   "outputs": [],
   "source": [
    "df_unique_Containers = add_origin_positions(df_unique_Containers, mean(df.Baustelle_x_Koordinate), mean(df.Baustelle_y_Koordinate));"
   ]
  },
  {
   "cell_type": "code",
   "execution_count": 10,
   "metadata": {},
   "outputs": [],
   "source": [
    "df_unique_Containers = add_container_coordinates(df_unique_Containers);"
   ]
  },
  {
   "cell_type": "code",
   "execution_count": 11,
   "metadata": {},
   "outputs": [
    {
     "name": "stdout",
     "output_type": "stream",
     "text": [
      "(39576, 9)\n",
      "(13475, 9)\n"
     ]
    }
   ],
   "source": [
    "df_train, df_test = split(df, 0.75);\n",
    "println(size(df_train))\n",
    "println(size(df_test))"
   ]
  },
  {
   "cell_type": "code",
   "execution_count": 12,
   "metadata": {},
   "outputs": [],
   "source": [
    "Y_train = turn_data_into_assignment_matrix(df_test, df_unique_Containers, 50);\n",
    "Y_test = turn_data_into_assignment_matrix(df_test, df_unique_Containers, 50);"
   ]
  },
  {
   "cell_type": "code",
   "execution_count": 13,
   "metadata": {},
   "outputs": [],
   "source": [
    "X_train, X_A_train, X_C_train = turn_data_into_input_values(df_train, df_unique_Containers, 50);"
   ]
  },
  {
   "cell_type": "code",
   "execution_count": 23,
   "metadata": {},
   "outputs": [],
   "source": [
    "X_test, X_A_test, X_C_test = turn_data_into_input_values(df_test, df_unique_Containers, 50);"
   ]
  },
  {
   "cell_type": "code",
   "execution_count": 19,
   "metadata": {},
   "outputs": [],
   "source": [
    "file = File(format\"JLD2\", \"Data/train_data.jld2\")\n",
    "  \n",
    "# Save data into the file\n",
    "save(file, \"X\", X_train, \"X_A\", X_A_train, \"X_C\", X_C_train, \"Y\", Y_train)"
   ]
  },
  {
   "cell_type": "code",
   "execution_count": null,
   "metadata": {},
   "outputs": [],
   "source": [
    "file = File(format\"JLD2\", \"Data/test_data.jld2\")\n",
    "  \n",
    "# Save data into the file\n",
    "save(file, \"X\", X_test, \"X_A\", X_A_test, \"X_C\", X_C_test, \"Y\", Y_test)"
   ]
  },
  {
   "cell_type": "code",
   "execution_count": null,
   "metadata": {},
   "outputs": [],
   "source": []
  }
 ],
 "metadata": {
  "kernelspec": {
   "display_name": "Julia 1.8.5",
   "language": "julia",
   "name": "julia-1.8"
  },
  "language_info": {
   "file_extension": ".jl",
   "mimetype": "application/julia",
   "name": "julia",
   "version": "1.8.5"
  },
  "orig_nbformat": 4
 },
 "nbformat": 4,
 "nbformat_minor": 2
}
