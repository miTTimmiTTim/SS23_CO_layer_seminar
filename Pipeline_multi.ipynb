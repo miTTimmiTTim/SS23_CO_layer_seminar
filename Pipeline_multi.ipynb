{
 "cells": [
  {
   "cell_type": "code",
   "execution_count": 1,
   "metadata": {},
   "outputs": [],
   "source": [
    "using DataFrames\n",
    "using Hungarian\n",
    "using InferOpt\n",
    "using Flux\n",
    "using MLJ\n",
    "using ProgressMeter\n",
    "using Random"
   ]
  },
  {
   "cell_type": "code",
   "execution_count": 2,
   "metadata": {},
   "outputs": [],
   "source": [
    "using JuMP\n",
    "using MathOptInterface\n",
    "using Gurobi\n",
    "using Graphs\n",
    "using Plots\n",
    "using JLD2\n",
    "using FileIO"
   ]
  },
  {
   "cell_type": "code",
   "execution_count": 3,
   "metadata": {},
   "outputs": [
    {
     "data": {
      "text/plain": [
       "display_solution (generic function with 1 method)"
      ]
     },
     "metadata": {},
     "output_type": "display_data"
    }
   ],
   "source": [
    "include(\"optimization_Util.jl\")"
   ]
  },
  {
   "cell_type": "code",
   "execution_count": 4,
   "metadata": {},
   "outputs": [],
   "source": [
    "ENV[\"COLUMNS\"] = 100\n",
    "ENV[\"LINES\"] = 100\n",
    "Random.seed!(67);"
   ]
  },
  {
   "attachments": {},
   "cell_type": "markdown",
   "metadata": {},
   "source": [
    "### Training and evaluation of the pipeline using a multiplicatinve perturbationA layer "
   ]
  },
  {
   "cell_type": "code",
   "execution_count": 5,
   "metadata": {},
   "outputs": [
    {
     "data": {
      "text/plain": [
       "Dict{String, Any} with 4 entries:\n",
       "  \"Y\"   => [[0 0 … 0 0; 0 0 … 0 0; … ; 0 0 … 0 0; 0 0 … 0 0], [0 0 … 0 0; 0 0 … 0 0; … ; 0 0 … 0 0;…\n",
       "  \"X\"   => Array{Float32, 3}[[0.0 0.0 … 0.0 0.0; 0.0303127 0.0325272 … 0.0179837 0.0136011; 0.02519…\n",
       "  \"X_A\" => DataFrame[\u001b[1m67×2 DataFrame\u001b[0m…\n",
       "  \"X_C\" => DataFrame[\u001b[1m201×2 DataFrame\u001b[0m…"
      ]
     },
     "metadata": {},
     "output_type": "display_data"
    }
   ],
   "source": [
    "file = File(format\"JLD2\", \"Data/train_data.jld2\")\n",
    "train_data = JLD2.load(file)"
   ]
  },
  {
   "cell_type": "code",
   "execution_count": 6,
   "metadata": {},
   "outputs": [
    {
     "data": {
      "text/plain": [
       "Dict{String, Any} with 4 entries:\n",
       "  \"Y\"   => [[0 0 … 0 0; 0 0 … 0 0; … ; 0 0 … 0 0; 0 0 … 0 0], [0 0 … 0 0; 0 0 … 0 0; … ; 0 0 … 0 0;…\n",
       "  \"X\"   => Array{Float32, 3}[[1.0 0.0 … 0.0 0.0; 0.0174359 0.0132141 … 0.00802322 0.0326288; 0.0329…\n",
       "  \"X_A\" => DataFrame[\u001b[1m54×2 DataFrame\u001b[0m…\n",
       "  \"X_C\" => DataFrame[\u001b[1m177×2 DataFrame\u001b[0m…"
      ]
     },
     "metadata": {},
     "output_type": "display_data"
    }
   ],
   "source": [
    "file = File(format\"JLD2\", \"Data/test_data.jld2\")\n",
    "test_data = JLD2.load(file)"
   ]
  },
  {
   "cell_type": "code",
   "execution_count": 7,
   "metadata": {},
   "outputs": [],
   "source": [
    "X_train, X_A_train, X_C_train, Y_train = train_data[\"X\"], train_data[\"X_A\"], train_data[\"X_C\"], train_data[\"Y\"];"
   ]
  },
  {
   "cell_type": "code",
   "execution_count": 8,
   "metadata": {},
   "outputs": [],
   "source": [
    "X_test, X_A_test, X_C_test, Y_test = test_data[\"X\"], test_data[\"X_A\"], test_data[\"X_C\"], test_data[\"Y\"];"
   ]
  },
  {
   "cell_type": "code",
   "execution_count": 9,
   "metadata": {},
   "outputs": [
    {
     "data": {
      "text/plain": [
       "optimizer"
      ]
     },
     "metadata": {},
     "output_type": "display_data"
    }
   ],
   "source": [
    "\"\"\"\n",
    "optimizer(cost_matrix)\n",
    "\n",
    "Wrapper function for the hungarian assignment algorithm.\n",
    "\"\"\"\n",
    "function optimizer(cost_matrix)\n",
    "    vector = hungarian(-cost_matrix)[1]\n",
    "    n, m = size(cost_matrix)\n",
    "\n",
    "    # Create a matrix of size n×n filled with 0's\n",
    "    matrix = zeros(Int, n, m)\n",
    "\n",
    "    # Set the value to 1 at the specified points in the vector\n",
    "    for i in 1:length(vector)\n",
    "        matrix[i, vector[i]] = 1\n",
    "    end\n",
    "    return matrix\n",
    "end"
   ]
  },
  {
   "attachments": {},
   "cell_type": "markdown",
   "metadata": {},
   "source": [
    "Multiplicative perturbation Layer using ε \\in {0.1, 1} and nb_samples=5"
   ]
  },
  {
   "cell_type": "code",
   "execution_count": 11,
   "metadata": {},
   "outputs": [],
   "source": [
    "optimizer_layer = PerturbedMultiplicative(optimizer; ε=0.1, nb_samples=5, seed=69);\n",
    "loss = FenchelYoungLoss(optimizer_layer);"
   ]
  },
  {
   "attachments": {},
   "cell_type": "markdown",
   "metadata": {},
   "source": [
    "Linear Model for each entry in the Matrix\n",
    "with dimension reduction to reduce M:N:4 Matrix to M:N Matrix"
   ]
  },
  {
   "cell_type": "code",
   "execution_count": 12,
   "metadata": {},
   "outputs": [
    {
     "data": {
      "text/plain": [
       "Chain(\n",
       "  Dense(4 => 1),                        \u001b[90m# 5 parameters\u001b[39m\n",
       "  var\"#28#29\"(),\n",
       ") "
      ]
     },
     "metadata": {},
     "output_type": "display_data"
    }
   ],
   "source": [
    "og_encoder = Chain(\n",
    "  Dense(4, 1),\n",
    "  z -> dropdims(z; dims=1),\n",
    ")"
   ]
  },
  {
   "attachments": {},
   "cell_type": "markdown",
   "metadata": {},
   "source": [
    "Trainings run of the Pipeline using Adam optimizer with early stop and best model recovery"
   ]
  },
  {
   "cell_type": "code",
   "execution_count": 13,
   "metadata": {},
   "outputs": [
    {
     "name": "stderr",
     "output_type": "stream",
     "text": [
      "\r\u001b[32mTraining epoch:   1%|█                                   |  ETA: 0:41:35\u001b[39m\u001b[K"
     ]
    },
    {
     "name": "stderr",
     "output_type": "stream",
     "text": [
      "\r\u001b[32mTraining epoch:   2%|█                                   |  ETA: 0:30:13\u001b[39m\u001b[K"
     ]
    },
    {
     "name": "stderr",
     "output_type": "stream",
     "text": [
      "\r\u001b[32mTraining epoch:   2%|█                                   |  ETA: 0:24:19\u001b[39m\u001b[K"
     ]
    },
    {
     "name": "stderr",
     "output_type": "stream",
     "text": [
      "\r\u001b[32mTraining epoch:   2%|█                                   |  ETA: 0:21:11\u001b[39m\u001b[K"
     ]
    },
    {
     "name": "stderr",
     "output_type": "stream",
     "text": [
      "\r\u001b[32mTraining epoch:   3%|██                                  |  ETA: 0:19:12\u001b[39m\u001b[K"
     ]
    },
    {
     "name": "stderr",
     "output_type": "stream",
     "text": [
      "\r\u001b[32mTraining epoch:   4%|██                                  |  ETA: 0:17:38\u001b[39m\u001b[K"
     ]
    },
    {
     "name": "stderr",
     "output_type": "stream",
     "text": [
      "\r\u001b[32mTraining epoch:   4%|██                                  |  ETA: 0:15:57\u001b[39m\u001b[K"
     ]
    },
    {
     "name": "stderr",
     "output_type": "stream",
     "text": [
      "\r\u001b[32mTraining epoch:   4%|██                                  |  ETA: 0:14:38\u001b[39m\u001b[K"
     ]
    },
    {
     "name": "stderr",
     "output_type": "stream",
     "text": [
      "\r\u001b[32mTraining epoch:   5%|██                                  |  ETA: 0:13:35\u001b[39m\u001b[K"
     ]
    },
    {
     "name": "stderr",
     "output_type": "stream",
     "text": [
      "\r\u001b[32mTraining epoch:   6%|██                                  |  ETA: 0:12:43\u001b[39m\u001b[K"
     ]
    },
    {
     "name": "stderr",
     "output_type": "stream",
     "text": [
      "\r\u001b[32mTraining epoch:   6%|███                                 |  ETA: 0:12:00\u001b[39m\u001b[K"
     ]
    },
    {
     "name": "stderr",
     "output_type": "stream",
     "text": [
      "\r\u001b[32mTraining epoch:   6%|███                                 |  ETA: 0:11:27\u001b[39m\u001b[K"
     ]
    },
    {
     "name": "stderr",
     "output_type": "stream",
     "text": [
      "\r\u001b[32mTraining epoch:   7%|███                                 |  ETA: 0:10:56\u001b[39m\u001b[K"
     ]
    },
    {
     "name": "stderr",
     "output_type": "stream",
     "text": [
      "\r\u001b[32mTraining epoch:   8%|███                                 |  ETA: 0:10:30\u001b[39m\u001b[K"
     ]
    },
    {
     "name": "stderr",
     "output_type": "stream",
     "text": [
      "\r\u001b[32mTraining epoch:   8%|███                                 |  ETA: 0:10:09\u001b[39m\u001b[K"
     ]
    },
    {
     "name": "stderr",
     "output_type": "stream",
     "text": [
      "\r\u001b[32mTraining epoch:   8%|████                                |  ETA: 0:09:49\u001b[39m\u001b[K"
     ]
    },
    {
     "name": "stderr",
     "output_type": "stream",
     "text": [
      "\r\u001b[32mTraining epoch: 100%|████████████████████████████████████| Time: 0:00:56\u001b[39m\u001b[K\n"
     ]
    },
    {
     "data": {
      "text/plain": [
       "Chain(\n",
       "  Dense(4 => 1),                        \u001b[90m# 5 parameters\u001b[39m\n",
       "  var\"#28#29\"(),\n",
       ") "
      ]
     },
     "metadata": {},
     "output_type": "display_data"
    }
   ],
   "source": [
    "# Create a copy of the original encoder\n",
    "encoder = deepcopy(og_encoder)\n",
    "\n",
    "# Initialize the optimizer\n",
    "opt_state = Flux.setup(Adam(), encoder)\n",
    "\n",
    "# Initialize the losses array\n",
    "losses = Float64[]\n",
    "best_loss = Inf\n",
    "best_model = deepcopy(encoder)\n",
    "\n",
    "# Define the early stopping criterion\n",
    "es = Flux.early_stopping(() -> best_loss, 5)\n",
    "\n",
    "@showprogress \"Training epoch:\" for epoch in 1:200\n",
    "    l = 0.0\n",
    "    # Iterate through each data point\n",
    "    for (x, y) in zip(X_train, Y_train)\n",
    "        \n",
    "        # Calculate gradients using the current data point\n",
    "        val, grads = Flux.withgradient(encoder) do m\n",
    "            # Any code inside here is differentiated.\n",
    "            # Evaluation of the model and loss must be inside!\n",
    "            result = m(x)\n",
    "            loss(result, y)\n",
    "        end\n",
    "        l += val \n",
    "        # Update the model parameters using the calculated gradients\n",
    "        Flux.update!(opt_state, encoder, grads[1])\n",
    "    end\n",
    "\n",
    "    # Calculate average loss for this epoch\n",
    "    average_loss = l / length(X_train)\n",
    "    # Append the average loss to the losses array\n",
    "    push!(losses, average_loss)\n",
    "    # Check for improvement \n",
    "    if average_loss < best_loss && average_loss > 0\n",
    "        best_loss = average_loss\n",
    "        best_model = deepcopy(encoder)\n",
    "    else\n",
    "        es() && break\n",
    "    end\n",
    "end\n",
    "encoder = best_model  # set encoder to the best model"
   ]
  },
  {
   "cell_type": "code",
   "execution_count": 14,
   "metadata": {},
   "outputs": [
    {
     "data": {
      "image/png": "[encoded data removed]",
      "image/svg+xml": [
       "<?xml version=\"1.0\" encoding=\"utf-8\"?>\n",
       "<svg xmlns=\"http://www.w3.org/2000/svg\" xmlns:xlink=\"http://www.w3.org/1999/xlink\" width=\"600\" height=\"400\" viewBox=\"0 0 2400 1600\">\n",
       "<defs>\n",
       "  <clipPath id=\"clip420\">\n",
       "    <rect x=\"0\" y=\"0\" width=\"2400\" height=\"1600\"/>\n",
       "  </clipPath>\n",
       "</defs>\n",
       "<path clip-path=\"url(#clip420)\" d=\"M0 1600 L2400 1600 L2400 0 L0 0  Z\" fill=\"#ffffff\" fill-rule=\"evenodd\" fill-opacity=\"1\"/>\n",
       "<defs>\n",
       "  <clipPath id=\"clip421\">\n",
       "    <rect x=\"480\" y=\"0\" width=\"1681\" height=\"1600\"/>\n",
       "  </clipPath>\n",
       "</defs>\n",
       "<path clip-path=\"url(#clip420)\" d=\"M203.964 1423.18 L2352.76 1423.18 L2352.76 47.2441 L203.964 47.2441  Z\" fill=\"#ffffff\" fill-rule=\"evenodd\" fill-opacity=\"1\"/>\n",
       "<defs>\n",
       "  <clipPath id=\"clip422\">\n",
       "    <rect x=\"203\" y=\"47\" width=\"2150\" height=\"1377\"/>\n",
       "  </clipPath>\n",
       "</defs>\n",
       "<polyline clip-path=\"url(#clip422)\" style=\"stroke:#000000; stroke-linecap:round; stroke-linejoin:round; stroke-width:2; stroke-opacity:0.1; fill:none\" points=\"443.646,1423.18 443.646,47.2441 \"/>\n",
       "<polyline clip-path=\"url(#clip422)\" style=\"stroke:#000000; stroke-linecap:round; stroke-linejoin:round; stroke-width:2; stroke-opacity:0.1; fill:none\" points=\"741.758,1423.18 741.758,47.2441 \"/>\n",
       "<polyline clip-path=\"url(#clip422)\" style=\"stroke:#000000; stroke-linecap:round; stroke-linejoin:round; stroke-width:2; stroke-opacity:0.1; fill:none\" points=\"1039.87,1423.18 1039.87,47.2441 \"/>\n",
       "<polyline clip-path=\"url(#clip422)\" style=\"stroke:#000000; stroke-linecap:round; stroke-linejoin:round; stroke-width:2; stroke-opacity:0.1; fill:none\" points=\"1337.98,1423.18 1337.98,47.2441 \"/>\n",
       "<polyline clip-path=\"url(#clip422)\" style=\"stroke:#000000; stroke-linecap:round; stroke-linejoin:round; stroke-width:2; stroke-opacity:0.1; fill:none\" points=\"1636.09,1423.18 1636.09,47.2441 \"/>\n",
       "<polyline clip-path=\"url(#clip422)\" style=\"stroke:#000000; stroke-linecap:round; stroke-linejoin:round; stroke-width:2; stroke-opacity:0.1; fill:none\" points=\"1934.21,1423.18 1934.21,47.2441 \"/>\n",
       "<polyline clip-path=\"url(#clip422)\" style=\"stroke:#000000; stroke-linecap:round; stroke-linejoin:round; stroke-width:2; stroke-opacity:0.1; fill:none\" points=\"2232.32,1423.18 2232.32,47.2441 \"/>\n",
       "<polyline clip-path=\"url(#clip420)\" style=\"stroke:#000000; stroke-linecap:round; stroke-linejoin:round; stroke-width:4; stroke-opacity:1; fill:none\" points=\"203.964,1423.18 2352.76,1423.18 \"/>\n",
       "<polyline clip-path=\"url(#clip420)\" style=\"stroke:#000000; stroke-linecap:round; stroke-linejoin:round; stroke-width:4; stroke-opacity:1; fill:none\" points=\"443.646,1423.18 443.646,1404.28 \"/>\n",
       "<polyline clip-path=\"url(#clip420)\" style=\"stroke:#000000; stroke-linecap:round; stroke-linejoin:round; stroke-width:4; stroke-opacity:1; fill:none\" points=\"741.758,1423.18 741.758,1404.28 \"/>\n",
       "<polyline clip-path=\"url(#clip420)\" style=\"stroke:#000000; stroke-linecap:round; stroke-linejoin:round; stroke-width:4; stroke-opacity:1; fill:none\" points=\"1039.87,1423.18 1039.87,1404.28 \"/>\n",
       "<polyline clip-path=\"url(#clip420)\" style=\"stroke:#000000; stroke-linecap:round; stroke-linejoin:round; stroke-width:4; stroke-opacity:1; fill:none\" points=\"1337.98,1423.18 1337.98,1404.28 \"/>\n",
       "<polyline clip-path=\"url(#clip420)\" style=\"stroke:#000000; stroke-linecap:round; stroke-linejoin:round; stroke-width:4; stroke-opacity:1; fill:none\" points=\"1636.09,1423.18 1636.09,1404.28 \"/>\n",
       "<polyline clip-path=\"url(#clip420)\" style=\"stroke:#000000; stroke-linecap:round; stroke-linejoin:round; stroke-width:4; stroke-opacity:1; fill:none\" points=\"1934.21,1423.18 1934.21,1404.28 \"/>\n",
       "<polyline clip-path=\"url(#clip420)\" style=\"stroke:#000000; stroke-linecap:round; stroke-linejoin:round; stroke-width:4; stroke-opacity:1; fill:none\" points=\"2232.32,1423.18 2232.32,1404.28 \"/>\n",
       "<path clip-path=\"url(#clip420)\" d=\"M415.382 1481.64 L431.701 1481.64 L431.701 1485.58 L409.757 1485.58 L409.757 1481.64 Q412.419 1478.89 417.002 1474.26 Q421.609 1469.61 422.789 1468.27 Q425.035 1465.74 425.914 1464.01 Q426.817 1462.25 426.817 1460.56 Q426.817 1457.8 424.873 1456.07 Q422.951 1454.33 419.85 1454.33 Q417.651 1454.33 415.197 1455.09 Q412.766 1455.86 409.989 1457.41 L409.989 1452.69 Q412.813 1451.55 415.266 1450.97 Q417.72 1450.39 419.757 1450.39 Q425.127 1450.39 428.322 1453.08 Q431.516 1455.77 431.516 1460.26 Q431.516 1462.39 430.706 1464.31 Q429.919 1466.2 427.812 1468.8 Q427.234 1469.47 424.132 1472.69 Q421.03 1475.88 415.382 1481.64 Z\" fill=\"#000000\" fill-rule=\"nonzero\" fill-opacity=\"1\" /><path clip-path=\"url(#clip420)\" d=\"M441.516 1479.7 L446.4 1479.7 L446.4 1485.58 L441.516 1485.58 L441.516 1479.7 Z\" fill=\"#000000\" fill-rule=\"nonzero\" fill-opacity=\"1\" /><path clip-path=\"url(#clip420)\" d=\"M456.632 1451.02 L474.988 1451.02 L474.988 1454.96 L460.914 1454.96 L460.914 1463.43 Q461.933 1463.08 462.951 1462.92 Q463.97 1462.73 464.988 1462.73 Q470.775 1462.73 474.155 1465.9 Q477.534 1469.08 477.534 1474.49 Q477.534 1480.07 474.062 1483.17 Q470.59 1486.25 464.271 1486.25 Q462.095 1486.25 459.826 1485.88 Q457.581 1485.51 455.173 1484.77 L455.173 1480.07 Q457.257 1481.2 459.479 1481.76 Q461.701 1482.32 464.178 1482.32 Q468.183 1482.32 470.521 1480.21 Q472.859 1478.1 472.859 1474.49 Q472.859 1470.88 470.521 1468.77 Q468.183 1466.67 464.178 1466.67 Q462.303 1466.67 460.428 1467.08 Q458.576 1467.5 456.632 1468.38 L456.632 1451.02 Z\" fill=\"#000000\" fill-rule=\"nonzero\" fill-opacity=\"1\" /><path clip-path=\"url(#clip420)\" d=\"M708.922 1451.02 L727.279 1451.02 L727.279 1454.96 L713.205 1454.96 L713.205 1463.43 Q714.223 1463.08 715.242 1462.92 Q716.26 1462.73 717.279 1462.73 Q723.066 1462.73 726.445 1465.9 Q729.825 1469.08 729.825 1474.49 Q729.825 1480.07 726.353 1483.17 Q722.881 1486.25 716.561 1486.25 Q714.385 1486.25 712.117 1485.88 Q709.871 1485.51 707.464 1484.77 L707.464 1480.07 Q709.547 1481.2 711.77 1481.76 Q713.992 1482.32 716.469 1482.32 Q720.473 1482.32 722.811 1480.21 Q725.149 1478.1 725.149 1474.49 Q725.149 1470.88 722.811 1468.77 Q720.473 1466.67 716.469 1466.67 Q714.594 1466.67 712.719 1467.08 Q710.867 1467.5 708.922 1468.38 L708.922 1451.02 Z\" fill=\"#000000\" fill-rule=\"nonzero\" fill-opacity=\"1\" /><path clip-path=\"url(#clip420)\" d=\"M739.038 1479.7 L743.922 1479.7 L743.922 1485.58 L739.038 1485.58 L739.038 1479.7 Z\" fill=\"#000000\" fill-rule=\"nonzero\" fill-opacity=\"1\" /><path clip-path=\"url(#clip420)\" d=\"M764.107 1454.1 Q760.496 1454.1 758.668 1457.66 Q756.862 1461.2 756.862 1468.33 Q756.862 1475.44 758.668 1479.01 Q760.496 1482.55 764.107 1482.55 Q767.742 1482.55 769.547 1479.01 Q771.376 1475.44 771.376 1468.33 Q771.376 1461.2 769.547 1457.66 Q767.742 1454.1 764.107 1454.1 M764.107 1450.39 Q769.917 1450.39 772.973 1455 Q776.052 1459.58 776.052 1468.33 Q776.052 1477.06 772.973 1481.67 Q769.917 1486.25 764.107 1486.25 Q758.297 1486.25 755.218 1481.67 Q752.163 1477.06 752.163 1468.33 Q752.163 1459.58 755.218 1455 Q758.297 1450.39 764.107 1450.39 Z\" fill=\"#000000\" fill-rule=\"nonzero\" fill-opacity=\"1\" /><path clip-path=\"url(#clip420)\" d=\"M1006.19 1451.02 L1028.41 1451.02 L1028.41 1453.01 L1015.87 1485.58 L1010.98 1485.58 L1022.79 1454.96 L1006.19 1454.96 L1006.19 1451.02 Z\" fill=\"#000000\" fill-rule=\"nonzero\" fill-opacity=\"1\" /><path clip-path=\"url(#clip420)\" d=\"M1037.53 1479.7 L1042.42 1479.7 L1042.42 1485.58 L1037.53 1485.58 L1037.53 1479.7 Z\" fill=\"#000000\" fill-rule=\"nonzero\" fill-opacity=\"1\" /><path clip-path=\"url(#clip420)\" d=\"M1052.65 1451.02 L1071 1451.02 L1071 1454.96 L1056.93 1454.96 L1056.93 1463.43 Q1057.95 1463.08 1058.97 1462.92 Q1059.99 1462.73 1061 1462.73 Q1066.79 1462.73 1070.17 1465.9 Q1073.55 1469.08 1073.55 1474.49 Q1073.55 1480.07 1070.08 1483.17 Q1066.61 1486.25 1060.29 1486.25 Q1058.11 1486.25 1055.84 1485.88 Q1053.6 1485.51 1051.19 1484.77 L1051.19 1480.07 Q1053.27 1481.2 1055.49 1481.76 Q1057.72 1482.32 1060.19 1482.32 Q1064.2 1482.32 1066.54 1480.21 Q1068.87 1478.1 1068.87 1474.49 Q1068.87 1470.88 1066.54 1468.77 Q1064.2 1466.67 1060.19 1466.67 Q1058.32 1466.67 1056.44 1467.08 Q1054.59 1467.5 1052.65 1468.38 L1052.65 1451.02 Z\" fill=\"#000000\" fill-rule=\"nonzero\" fill-opacity=\"1\" /><path clip-path=\"url(#clip420)\" d=\"M1290.05 1481.64 L1297.69 1481.64 L1297.69 1455.28 L1289.38 1456.95 L1289.38 1452.69 L1297.65 1451.02 L1302.32 1451.02 L1302.32 1481.64 L1309.96 1481.64 L1309.96 1485.58 L1290.05 1485.58 L1290.05 1481.64 Z\" fill=\"#000000\" fill-rule=\"nonzero\" fill-opacity=\"1\" /><path clip-path=\"url(#clip420)\" d=\"M1329.41 1454.1 Q1325.79 1454.1 1323.97 1457.66 Q1322.16 1461.2 1322.16 1468.33 Q1322.16 1475.44 1323.97 1479.01 Q1325.79 1482.55 1329.41 1482.55 Q1333.04 1482.55 1334.85 1479.01 Q1336.67 1475.44 1336.67 1468.33 Q1336.67 1461.2 1334.85 1457.66 Q1333.04 1454.1 1329.41 1454.1 M1329.41 1450.39 Q1335.22 1450.39 1338.27 1455 Q1341.35 1459.58 1341.35 1468.33 Q1341.35 1477.06 1338.27 1481.67 Q1335.22 1486.25 1329.41 1486.25 Q1323.6 1486.25 1320.52 1481.67 Q1317.46 1477.06 1317.46 1468.33 Q1317.46 1459.58 1320.52 1455 Q1323.6 1450.39 1329.41 1450.39 Z\" fill=\"#000000\" fill-rule=\"nonzero\" fill-opacity=\"1\" /><path clip-path=\"url(#clip420)\" d=\"M1349.57 1479.7 L1354.45 1479.7 L1354.45 1485.58 L1349.57 1485.58 L1349.57 1479.7 Z\" fill=\"#000000\" fill-rule=\"nonzero\" fill-opacity=\"1\" /><path clip-path=\"url(#clip420)\" d=\"M1374.64 1454.1 Q1371.03 1454.1 1369.2 1457.66 Q1367.39 1461.2 1367.39 1468.33 Q1367.39 1475.44 1369.2 1479.01 Q1371.03 1482.55 1374.64 1482.55 Q1378.27 1482.55 1380.08 1479.01 Q1381.91 1475.44 1381.91 1468.33 Q1381.91 1461.2 1380.08 1457.66 Q1378.27 1454.1 1374.64 1454.1 M1374.64 1450.39 Q1380.45 1450.39 1383.5 1455 Q1386.58 1459.58 1386.58 1468.33 Q1386.58 1477.06 1383.5 1481.67 Q1380.45 1486.25 1374.64 1486.25 Q1368.83 1486.25 1365.75 1481.67 Q1362.69 1477.06 1362.69 1468.33 Q1362.69 1459.58 1365.75 1455 Q1368.83 1450.39 1374.64 1450.39 Z\" fill=\"#000000\" fill-rule=\"nonzero\" fill-opacity=\"1\" /><path clip-path=\"url(#clip420)\" d=\"M1588.66 1481.64 L1596.3 1481.64 L1596.3 1455.28 L1587.99 1456.95 L1587.99 1452.69 L1596.26 1451.02 L1600.93 1451.02 L1600.93 1481.64 L1608.57 1481.64 L1608.57 1485.58 L1588.66 1485.58 L1588.66 1481.64 Z\" fill=\"#000000\" fill-rule=\"nonzero\" fill-opacity=\"1\" /><path clip-path=\"url(#clip420)\" d=\"M1622.04 1481.64 L1638.36 1481.64 L1638.36 1485.58 L1616.42 1485.58 L1616.42 1481.64 Q1619.08 1478.89 1623.66 1474.26 Q1628.27 1469.61 1629.45 1468.27 Q1631.7 1465.74 1632.58 1464.01 Q1633.48 1462.25 1633.48 1460.56 Q1633.48 1457.8 1631.53 1456.07 Q1629.61 1454.33 1626.51 1454.33 Q1624.31 1454.33 1621.86 1455.09 Q1619.43 1455.86 1616.65 1457.41 L1616.65 1452.69 Q1619.47 1451.55 1621.93 1450.97 Q1624.38 1450.39 1626.42 1450.39 Q1631.79 1450.39 1634.98 1453.08 Q1638.18 1455.77 1638.18 1460.26 Q1638.18 1462.39 1637.37 1464.31 Q1636.58 1466.2 1634.47 1468.8 Q1633.9 1469.47 1630.79 1472.69 Q1627.69 1475.88 1622.04 1481.64 Z\" fill=\"#000000\" fill-rule=\"nonzero\" fill-opacity=\"1\" /><path clip-path=\"url(#clip420)\" d=\"M1648.18 1479.7 L1653.06 1479.7 L1653.06 1485.58 L1648.18 1485.58 L1648.18 1479.7 Z\" fill=\"#000000\" fill-rule=\"nonzero\" fill-opacity=\"1\" /><path clip-path=\"url(#clip420)\" d=\"M1663.29 1451.02 L1681.65 1451.02 L1681.65 1454.96 L1667.58 1454.96 L1667.58 1463.43 Q1668.59 1463.08 1669.61 1462.92 Q1670.63 1462.73 1671.65 1462.73 Q1677.44 1462.73 1680.82 1465.9 Q1684.2 1469.08 1684.2 1474.49 Q1684.2 1480.07 1680.72 1483.17 Q1677.25 1486.25 1670.93 1486.25 Q1668.76 1486.25 1666.49 1485.88 Q1664.24 1485.51 1661.83 1484.77 L1661.83 1480.07 Q1663.92 1481.2 1666.14 1481.76 Q1668.36 1482.32 1670.84 1482.32 Q1674.84 1482.32 1677.18 1480.21 Q1679.52 1478.1 1679.52 1474.49 Q1679.52 1470.88 1677.18 1468.77 Q1674.84 1466.67 1670.84 1466.67 Q1668.96 1466.67 1667.09 1467.08 Q1665.24 1467.5 1663.29 1468.38 L1663.29 1451.02 Z\" fill=\"#000000\" fill-rule=\"nonzero\" fill-opacity=\"1\" /><path clip-path=\"url(#clip420)\" d=\"M1886.28 1481.64 L1893.92 1481.64 L1893.92 1455.28 L1885.61 1456.95 L1885.61 1452.69 L1893.87 1451.02 L1898.55 1451.02 L1898.55 1481.64 L1906.19 1481.64 L1906.19 1485.58 L1886.28 1485.58 L1886.28 1481.64 Z\" fill=\"#000000\" fill-rule=\"nonzero\" fill-opacity=\"1\" /><path clip-path=\"url(#clip420)\" d=\"M1915.68 1451.02 L1934.03 1451.02 L1934.03 1454.96 L1919.96 1454.96 L1919.96 1463.43 Q1920.98 1463.08 1922 1462.92 Q1923.01 1462.73 1924.03 1462.73 Q1929.82 1462.73 1933.2 1465.9 Q1936.58 1469.08 1936.58 1474.49 Q1936.58 1480.07 1933.11 1483.17 Q1929.63 1486.25 1923.32 1486.25 Q1921.14 1486.25 1918.87 1485.88 Q1916.63 1485.51 1914.22 1484.77 L1914.22 1480.07 Q1916.3 1481.2 1918.52 1481.76 Q1920.75 1482.32 1923.22 1482.32 Q1927.23 1482.32 1929.57 1480.21 Q1931.9 1478.1 1931.9 1474.49 Q1931.9 1470.88 1929.57 1468.77 Q1927.23 1466.67 1923.22 1466.67 Q1921.35 1466.67 1919.47 1467.08 Q1917.62 1467.5 1915.68 1468.38 L1915.68 1451.02 Z\" fill=\"#000000\" fill-rule=\"nonzero\" fill-opacity=\"1\" /><path clip-path=\"url(#clip420)\" d=\"M1945.79 1479.7 L1950.68 1479.7 L1950.68 1485.58 L1945.79 1485.58 L1945.79 1479.7 Z\" fill=\"#000000\" fill-rule=\"nonzero\" fill-opacity=\"1\" /><path clip-path=\"url(#clip420)\" d=\"M1970.86 1454.1 Q1967.25 1454.1 1965.42 1457.66 Q1963.62 1461.2 1963.62 1468.33 Q1963.62 1475.44 1965.42 1479.01 Q1967.25 1482.55 1970.86 1482.55 Q1974.5 1482.55 1976.3 1479.01 Q1978.13 1475.44 1978.13 1468.33 Q1978.13 1461.2 1976.3 1457.66 Q1974.5 1454.1 1970.86 1454.1 M1970.86 1450.39 Q1976.67 1450.39 1979.73 1455 Q1982.81 1459.58 1982.81 1468.33 Q1982.81 1477.06 1979.73 1481.67 Q1976.67 1486.25 1970.86 1486.25 Q1965.05 1486.25 1961.97 1481.67 Q1958.92 1477.06 1958.92 1468.33 Q1958.92 1459.58 1961.97 1455 Q1965.05 1450.39 1970.86 1450.39 Z\" fill=\"#000000\" fill-rule=\"nonzero\" fill-opacity=\"1\" /><path clip-path=\"url(#clip420)\" d=\"M2184.89 1481.64 L2192.53 1481.64 L2192.53 1455.28 L2184.22 1456.95 L2184.22 1452.69 L2192.48 1451.02 L2197.16 1451.02 L2197.16 1481.64 L2204.8 1481.64 L2204.8 1485.58 L2184.89 1485.58 L2184.89 1481.64 Z\" fill=\"#000000\" fill-rule=\"nonzero\" fill-opacity=\"1\" /><path clip-path=\"url(#clip420)\" d=\"M2213.06 1451.02 L2235.28 1451.02 L2235.28 1453.01 L2222.74 1485.58 L2217.85 1485.58 L2229.66 1454.96 L2213.06 1454.96 L2213.06 1451.02 Z\" fill=\"#000000\" fill-rule=\"nonzero\" fill-opacity=\"1\" /><path clip-path=\"url(#clip420)\" d=\"M2244.4 1479.7 L2249.29 1479.7 L2249.29 1485.58 L2244.4 1485.58 L2244.4 1479.7 Z\" fill=\"#000000\" fill-rule=\"nonzero\" fill-opacity=\"1\" /><path clip-path=\"url(#clip420)\" d=\"M2259.52 1451.02 L2277.87 1451.02 L2277.87 1454.96 L2263.8 1454.96 L2263.8 1463.43 Q2264.82 1463.08 2265.84 1462.92 Q2266.86 1462.73 2267.87 1462.73 Q2273.66 1462.73 2277.04 1465.9 Q2280.42 1469.08 2280.42 1474.49 Q2280.42 1480.07 2276.95 1483.17 Q2273.48 1486.25 2267.16 1486.25 Q2264.98 1486.25 2262.71 1485.88 Q2260.47 1485.51 2258.06 1484.77 L2258.06 1480.07 Q2260.14 1481.2 2262.36 1481.76 Q2264.59 1482.32 2267.06 1482.32 Q2271.07 1482.32 2273.41 1480.21 Q2275.74 1478.1 2275.74 1474.49 Q2275.74 1470.88 2273.41 1468.77 Q2271.07 1466.67 2267.06 1466.67 Q2265.19 1466.67 2263.31 1467.08 Q2261.46 1467.5 2259.52 1468.38 L2259.52 1451.02 Z\" fill=\"#000000\" fill-rule=\"nonzero\" fill-opacity=\"1\" /><path clip-path=\"url(#clip420)\" d=\"M1184.53 1520.52 L1214.58 1520.52 L1214.58 1525.93 L1190.96 1525.93 L1190.96 1540 L1213.59 1540 L1213.59 1545.41 L1190.96 1545.41 L1190.96 1562.63 L1215.15 1562.63 L1215.15 1568.04 L1184.53 1568.04 L1184.53 1520.52 Z\" fill=\"#000000\" fill-rule=\"nonzero\" fill-opacity=\"1\" /><path clip-path=\"url(#clip420)\" d=\"M1231.13 1562.7 L1231.13 1581.6 L1225.24 1581.6 L1225.24 1532.4 L1231.13 1532.4 L1231.13 1537.81 Q1232.97 1534.62 1235.77 1533.1 Q1238.61 1531.54 1242.52 1531.54 Q1249.01 1531.54 1253.06 1536.69 Q1257.13 1541.85 1257.13 1550.25 Q1257.13 1558.65 1253.06 1563.81 Q1249.01 1568.97 1242.52 1568.97 Q1238.61 1568.97 1235.77 1567.44 Q1232.97 1565.88 1231.13 1562.7 M1251.05 1550.25 Q1251.05 1543.79 1248.38 1540.13 Q1245.74 1536.44 1241.09 1536.44 Q1236.44 1536.44 1233.77 1540.13 Q1231.13 1543.79 1231.13 1550.25 Q1231.13 1556.71 1233.77 1560.4 Q1236.44 1564.07 1241.09 1564.07 Q1245.74 1564.07 1248.38 1560.4 Q1251.05 1556.71 1251.05 1550.25 Z\" fill=\"#000000\" fill-rule=\"nonzero\" fill-opacity=\"1\" /><path clip-path=\"url(#clip420)\" d=\"M1280.65 1536.5 Q1275.94 1536.5 1273.2 1540.19 Q1270.47 1543.85 1270.47 1550.25 Q1270.47 1556.65 1273.17 1560.34 Q1275.91 1564 1280.65 1564 Q1285.33 1564 1288.07 1560.31 Q1290.8 1556.62 1290.8 1550.25 Q1290.8 1543.92 1288.07 1540.23 Q1285.33 1536.5 1280.65 1536.5 M1280.65 1531.54 Q1288.29 1531.54 1292.65 1536.5 Q1297.01 1541.47 1297.01 1550.25 Q1297.01 1559 1292.65 1564 Q1288.29 1568.97 1280.65 1568.97 Q1272.98 1568.97 1268.62 1564 Q1264.29 1559 1264.29 1550.25 Q1264.29 1541.47 1268.62 1536.5 Q1272.98 1531.54 1280.65 1531.54 Z\" fill=\"#000000\" fill-rule=\"nonzero\" fill-opacity=\"1\" /><path clip-path=\"url(#clip420)\" d=\"M1332.37 1533.76 L1332.37 1539.24 Q1329.89 1537.87 1327.38 1537.2 Q1324.89 1536.5 1322.35 1536.5 Q1316.65 1536.5 1313.5 1540.13 Q1310.35 1543.73 1310.35 1550.25 Q1310.35 1556.78 1313.5 1560.4 Q1316.65 1564 1322.35 1564 Q1324.89 1564 1327.38 1563.33 Q1329.89 1562.63 1332.37 1561.26 L1332.37 1566.68 Q1329.92 1567.82 1327.28 1568.39 Q1324.67 1568.97 1321.71 1568.97 Q1313.66 1568.97 1308.92 1563.91 Q1304.17 1558.85 1304.17 1550.25 Q1304.17 1541.53 1308.95 1536.53 Q1313.75 1531.54 1322.09 1531.54 Q1324.8 1531.54 1327.38 1532.11 Q1329.95 1532.65 1332.37 1533.76 Z\" fill=\"#000000\" fill-rule=\"nonzero\" fill-opacity=\"1\" /><path clip-path=\"url(#clip420)\" d=\"M1372.19 1546.53 L1372.19 1568.04 L1366.33 1568.04 L1366.33 1546.72 Q1366.33 1541.66 1364.36 1539.14 Q1362.39 1536.63 1358.44 1536.63 Q1353.7 1536.63 1350.96 1539.65 Q1348.22 1542.68 1348.22 1547.9 L1348.22 1568.04 L1342.34 1568.04 L1342.34 1518.52 L1348.22 1518.52 L1348.22 1537.93 Q1350.32 1534.72 1353.16 1533.13 Q1356.02 1531.54 1359.75 1531.54 Q1365.89 1531.54 1369.04 1535.36 Q1372.19 1539.14 1372.19 1546.53 Z\" fill=\"#000000\" fill-rule=\"nonzero\" fill-opacity=\"1\" /><polyline clip-path=\"url(#clip422)\" style=\"stroke:#000000; stroke-linecap:round; stroke-linejoin:round; stroke-width:2; stroke-opacity:0.1; fill:none\" points=\"203.964,1384.39 2352.76,1384.39 \"/>\n",
       "<polyline clip-path=\"url(#clip422)\" style=\"stroke:#000000; stroke-linecap:round; stroke-linejoin:round; stroke-width:2; stroke-opacity:0.1; fill:none\" points=\"203.964,1011.48 2352.76,1011.48 \"/>\n",
       "<polyline clip-path=\"url(#clip422)\" style=\"stroke:#000000; stroke-linecap:round; stroke-linejoin:round; stroke-width:2; stroke-opacity:0.1; fill:none\" points=\"203.964,638.57 2352.76,638.57 \"/>\n",
       "<polyline clip-path=\"url(#clip422)\" style=\"stroke:#000000; stroke-linecap:round; stroke-linejoin:round; stroke-width:2; stroke-opacity:0.1; fill:none\" points=\"203.964,265.66 2352.76,265.66 \"/>\n",
       "<polyline clip-path=\"url(#clip420)\" style=\"stroke:#000000; stroke-linecap:round; stroke-linejoin:round; stroke-width:4; stroke-opacity:1; fill:none\" points=\"203.964,1423.18 203.964,47.2441 \"/>\n",
       "<polyline clip-path=\"url(#clip420)\" style=\"stroke:#000000; stroke-linecap:round; stroke-linejoin:round; stroke-width:4; stroke-opacity:1; fill:none\" points=\"203.964,1384.39 222.861,1384.39 \"/>\n",
       "<polyline clip-path=\"url(#clip420)\" style=\"stroke:#000000; stroke-linecap:round; stroke-linejoin:round; stroke-width:4; stroke-opacity:1; fill:none\" points=\"203.964,1011.48 222.861,1011.48 \"/>\n",
       "<polyline clip-path=\"url(#clip420)\" style=\"stroke:#000000; stroke-linecap:round; stroke-linejoin:round; stroke-width:4; stroke-opacity:1; fill:none\" points=\"203.964,638.57 222.861,638.57 \"/>\n",
       "<polyline clip-path=\"url(#clip420)\" style=\"stroke:#000000; stroke-linecap:round; stroke-linejoin:round; stroke-width:4; stroke-opacity:1; fill:none\" points=\"203.964,265.66 222.861,265.66 \"/>\n",
       "<path clip-path=\"url(#clip420)\" d=\"M156.019 1370.19 Q152.408 1370.19 150.579 1373.75 Q148.774 1377.29 148.774 1384.42 Q148.774 1391.53 150.579 1395.1 Q152.408 1398.64 156.019 1398.64 Q159.653 1398.64 161.459 1395.1 Q163.288 1391.53 163.288 1384.42 Q163.288 1377.29 161.459 1373.75 Q159.653 1370.19 156.019 1370.19 M156.019 1366.48 Q161.829 1366.48 164.885 1371.09 Q167.964 1375.67 167.964 1384.42 Q167.964 1393.15 164.885 1397.76 Q161.829 1402.34 156.019 1402.34 Q150.209 1402.34 147.13 1397.76 Q144.075 1393.15 144.075 1384.42 Q144.075 1375.67 147.13 1371.09 Q150.209 1366.48 156.019 1366.48 Z\" fill=\"#000000\" fill-rule=\"nonzero\" fill-opacity=\"1\" /><path clip-path=\"url(#clip420)\" d=\"M116.668 1024.82 L124.306 1024.82 L124.306 998.459 L115.996 1000.13 L115.996 995.866 L124.26 994.2 L128.936 994.2 L128.936 1024.82 L136.575 1024.82 L136.575 1028.76 L116.668 1028.76 L116.668 1024.82 Z\" fill=\"#000000\" fill-rule=\"nonzero\" fill-opacity=\"1\" /><path clip-path=\"url(#clip420)\" d=\"M156.019 997.279 Q152.408 997.279 150.579 1000.84 Q148.774 1004.38 148.774 1011.51 Q148.774 1018.62 150.579 1022.19 Q152.408 1025.73 156.019 1025.73 Q159.653 1025.73 161.459 1022.19 Q163.288 1018.62 163.288 1011.51 Q163.288 1004.38 161.459 1000.84 Q159.653 997.279 156.019 997.279 M156.019 993.575 Q161.829 993.575 164.885 998.181 Q167.964 1002.76 167.964 1011.51 Q167.964 1020.24 164.885 1024.85 Q161.829 1029.43 156.019 1029.43 Q150.209 1029.43 147.13 1024.85 Q144.075 1020.24 144.075 1011.51 Q144.075 1002.76 147.13 998.181 Q150.209 993.575 156.019 993.575 Z\" fill=\"#000000\" fill-rule=\"nonzero\" fill-opacity=\"1\" /><path clip-path=\"url(#clip420)\" d=\"M119.885 651.915 L136.204 651.915 L136.204 655.85 L114.26 655.85 L114.26 651.915 Q116.922 649.16 121.505 644.53 Q126.112 639.878 127.292 638.535 Q129.538 636.012 130.417 634.276 Q131.32 632.517 131.32 630.827 Q131.32 628.072 129.376 626.336 Q127.455 624.6 124.353 624.6 Q122.154 624.6 119.7 625.364 Q117.269 626.128 114.492 627.679 L114.492 622.957 Q117.316 621.822 119.769 621.244 Q122.223 620.665 124.26 620.665 Q129.63 620.665 132.825 623.35 Q136.019 626.035 136.019 630.526 Q136.019 632.656 135.209 634.577 Q134.422 636.475 132.316 639.068 Q131.737 639.739 128.635 642.956 Q125.533 646.151 119.885 651.915 Z\" fill=\"#000000\" fill-rule=\"nonzero\" fill-opacity=\"1\" /><path clip-path=\"url(#clip420)\" d=\"M156.019 624.369 Q152.408 624.369 150.579 627.933 Q148.774 631.475 148.774 638.605 Q148.774 645.711 150.579 649.276 Q152.408 652.817 156.019 652.817 Q159.653 652.817 161.459 649.276 Q163.288 645.711 163.288 638.605 Q163.288 631.475 161.459 627.933 Q159.653 624.369 156.019 624.369 M156.019 620.665 Q161.829 620.665 164.885 625.271 Q167.964 629.855 167.964 638.605 Q167.964 647.331 164.885 651.938 Q161.829 656.521 156.019 656.521 Q150.209 656.521 147.13 651.938 Q144.075 647.331 144.075 638.605 Q144.075 629.855 147.13 625.271 Q150.209 620.665 156.019 620.665 Z\" fill=\"#000000\" fill-rule=\"nonzero\" fill-opacity=\"1\" /><path clip-path=\"url(#clip420)\" d=\"M130.024 264.306 Q133.38 265.023 135.255 267.292 Q137.154 269.56 137.154 272.894 Q137.154 278.009 133.635 280.81 Q130.117 283.611 123.635 283.611 Q121.459 283.611 119.144 283.171 Q116.853 282.755 114.399 281.898 L114.399 277.384 Q116.343 278.519 118.658 279.097 Q120.973 279.676 123.496 279.676 Q127.894 279.676 130.186 277.94 Q132.501 276.204 132.501 272.894 Q132.501 269.838 130.348 268.125 Q128.218 266.389 124.399 266.389 L120.371 266.389 L120.371 262.546 L124.584 262.546 Q128.033 262.546 129.862 261.181 Q131.691 259.792 131.691 257.199 Q131.691 254.537 129.792 253.125 Q127.917 251.69 124.399 251.69 Q122.478 251.69 120.279 252.107 Q118.08 252.523 115.441 253.403 L115.441 249.236 Q118.103 248.496 120.418 248.125 Q122.755 247.755 124.816 247.755 Q130.14 247.755 133.242 250.185 Q136.343 252.593 136.343 256.713 Q136.343 259.584 134.7 261.574 Q133.056 263.542 130.024 264.306 Z\" fill=\"#000000\" fill-rule=\"nonzero\" fill-opacity=\"1\" /><path clip-path=\"url(#clip420)\" d=\"M156.019 251.459 Q152.408 251.459 150.579 255.023 Q148.774 258.565 148.774 265.695 Q148.774 272.801 150.579 276.366 Q152.408 279.907 156.019 279.907 Q159.653 279.907 161.459 276.366 Q163.288 272.801 163.288 265.695 Q163.288 258.565 161.459 255.023 Q159.653 251.459 156.019 251.459 M156.019 247.755 Q161.829 247.755 164.885 252.361 Q167.964 256.945 167.964 265.695 Q167.964 274.421 164.885 279.028 Q161.829 283.611 156.019 283.611 Q150.209 283.611 147.13 279.028 Q144.075 274.421 144.075 265.695 Q144.075 256.945 147.13 252.361 Q150.209 247.755 156.019 247.755 Z\" fill=\"#000000\" fill-rule=\"nonzero\" fill-opacity=\"1\" /><path clip-path=\"url(#clip420)\" d=\"M16.4842 801.909 L16.4842 795.479 L58.5933 795.479 L58.5933 772.34 L64.0042 772.34 L64.0042 801.909 L16.4842 801.909 Z\" fill=\"#000000\" fill-rule=\"nonzero\" fill-opacity=\"1\" /><path clip-path=\"url(#clip420)\" d=\"M32.4621 753.179 Q32.4621 757.89 36.1542 760.627 Q39.8145 763.364 46.212 763.364 Q52.6095 763.364 56.3017 760.659 Q59.9619 757.922 59.9619 753.179 Q59.9619 748.5 56.2698 745.763 Q52.5777 743.026 46.212 743.026 Q39.8781 743.026 36.186 745.763 Q32.4621 748.5 32.4621 753.179 M27.4968 753.179 Q27.4968 745.54 32.4621 741.18 Q37.4273 736.819 46.212 736.819 Q54.9649 736.819 59.9619 741.18 Q64.9272 745.54 64.9272 753.179 Q64.9272 760.85 59.9619 765.21 Q54.9649 769.539 46.212 769.539 Q37.4273 769.539 32.4621 765.21 Q27.4968 760.85 27.4968 753.179 Z\" fill=\"#000000\" fill-rule=\"nonzero\" fill-opacity=\"1\" /><path clip-path=\"url(#clip420)\" d=\"M29.4065 704.386 L34.9447 704.386 Q33.6716 706.869 33.035 709.542 Q32.3984 712.216 32.3984 715.08 Q32.3984 719.441 33.7352 721.637 Q35.072 723.801 37.7456 723.801 Q39.7826 723.801 40.9603 722.242 Q42.1061 720.682 43.1565 715.972 L43.6021 713.966 Q44.9389 707.728 47.3897 705.118 Q49.8086 702.476 54.1691 702.476 Q59.1344 702.476 62.0308 706.423 Q64.9272 710.338 64.9272 717.213 Q64.9272 720.078 64.3543 723.197 Q63.8132 726.284 62.6992 729.722 L56.6518 729.722 Q58.3387 726.475 59.198 723.324 Q60.0256 720.173 60.0256 717.086 Q60.0256 712.948 58.6251 710.72 Q57.1929 708.492 54.6147 708.492 Q52.2276 708.492 50.9545 710.115 Q49.6813 711.707 48.5037 717.149 L48.0262 719.186 Q46.8804 724.629 44.5251 727.048 Q42.138 729.467 38.0002 729.467 Q32.9713 729.467 30.2341 725.902 Q27.4968 722.337 27.4968 715.781 Q27.4968 712.534 27.9743 709.67 Q28.4517 706.805 29.4065 704.386 Z\" fill=\"#000000\" fill-rule=\"nonzero\" fill-opacity=\"1\" /><path clip-path=\"url(#clip420)\" d=\"M29.4065 670.425 L34.9447 670.425 Q33.6716 672.908 33.035 675.581 Q32.3984 678.255 32.3984 681.119 Q32.3984 685.48 33.7352 687.676 Q35.072 689.84 37.7456 689.84 Q39.7826 689.84 40.9603 688.281 Q42.1061 686.721 43.1565 682.011 L43.6021 680.005 Q44.9389 673.767 47.3897 671.157 Q49.8086 668.515 54.1691 668.515 Q59.1344 668.515 62.0308 672.462 Q64.9272 676.377 64.9272 683.252 Q64.9272 686.116 64.3543 689.236 Q63.8132 692.323 62.6992 695.761 L56.6518 695.761 Q58.3387 692.514 59.198 689.363 Q60.0256 686.212 60.0256 683.125 Q60.0256 678.987 58.6251 676.759 Q57.1929 674.531 54.6147 674.531 Q52.2276 674.531 50.9545 676.154 Q49.6813 677.746 48.5037 683.188 L48.0262 685.225 Q46.8804 690.668 44.5251 693.087 Q42.138 695.506 38.0002 695.506 Q32.9713 695.506 30.2341 691.941 Q27.4968 688.376 27.4968 681.82 Q27.4968 678.573 27.9743 675.709 Q28.4517 672.844 29.4065 670.425 Z\" fill=\"#000000\" fill-rule=\"nonzero\" fill-opacity=\"1\" /><polyline clip-path=\"url(#clip422)\" style=\"stroke:#009af9; stroke-linecap:round; stroke-linejoin:round; stroke-width:4; stroke-opacity:1; fill:none\" points=\"264.778,86.1857 384.023,365.612 503.268,639.084 622.513,900.658 741.758,1117.61 861.003,1232.48 980.248,1332.15 1099.49,1380.45 1218.74,1381.8 1337.98,1383.09 1457.23,1384.1 1576.47,1384.23 1695.72,1384.17 1814.96,1384.21 1934.21,1384.17 2053.45,1384.24 2172.7,1384.23 2291.94,1384.2 \"/>\n",
       "<path clip-path=\"url(#clip420)\" d=\"M2013.82 196.789 L2281.13 196.789 L2281.13 93.1086 L2013.82 93.1086  Z\" fill=\"#ffffff\" fill-rule=\"evenodd\" fill-opacity=\"1\"/>\n",
       "<polyline clip-path=\"url(#clip420)\" style=\"stroke:#000000; stroke-linecap:round; stroke-linejoin:round; stroke-width:4; stroke-opacity:1; fill:none\" points=\"2013.82,196.789 2281.13,196.789 2281.13,93.1086 2013.82,93.1086 2013.82,196.789 \"/>\n",
       "<polyline clip-path=\"url(#clip420)\" style=\"stroke:#009af9; stroke-linecap:round; stroke-linejoin:round; stroke-width:4; stroke-opacity:1; fill:none\" points=\"2037.7,144.949 2180.95,144.949 \"/>\n",
       "<path clip-path=\"url(#clip420)\" d=\"M2218.67 164.636 Q2216.86 169.266 2215.15 170.678 Q2213.43 172.09 2210.56 172.09 L2207.16 172.09 L2207.16 168.525 L2209.66 168.525 Q2211.42 168.525 2212.39 167.692 Q2213.37 166.858 2214.55 163.756 L2215.31 161.812 L2204.82 136.303 L2209.34 136.303 L2217.44 156.581 L2225.54 136.303 L2230.06 136.303 L2218.67 164.636 Z\" fill=\"#000000\" fill-rule=\"nonzero\" fill-opacity=\"1\" /><path clip-path=\"url(#clip420)\" d=\"M2237.35 158.293 L2244.99 158.293 L2244.99 131.928 L2236.68 133.595 L2236.68 129.335 L2244.94 127.669 L2249.62 127.669 L2249.62 158.293 L2257.25 158.293 L2257.25 162.229 L2237.35 162.229 L2237.35 158.293 Z\" fill=\"#000000\" fill-rule=\"nonzero\" fill-opacity=\"1\" /></svg>\n"
      ],
      "text/html": [
       "<?xml version=\"1.0\" encoding=\"utf-8\"?>\n",
       "<svg xmlns=\"http://www.w3.org/2000/svg\" xmlns:xlink=\"http://www.w3.org/1999/xlink\" width=\"600\" height=\"400\" viewBox=\"0 0 2400 1600\">\n",
       "<defs>\n",
       "  <clipPath id=\"clip470\">\n",
       "    <rect x=\"0\" y=\"0\" width=\"2400\" height=\"1600\"/>\n",
       "  </clipPath>\n",
       "</defs>\n",
       "<path clip-path=\"url(#clip470)\" d=\"M0 1600 L2400 1600 L2400 0 L0 0  Z\" fill=\"#ffffff\" fill-rule=\"evenodd\" fill-opacity=\"1\"/>\n",
       "<defs>\n",
       "  <clipPath id=\"clip471\">\n",
       "    <rect x=\"480\" y=\"0\" width=\"1681\" height=\"1600\"/>\n",
       "  </clipPath>\n",
       "</defs>\n",
       "<path clip-path=\"url(#clip470)\" d=\"M203.964 1423.18 L2352.76 1423.18 L2352.76 47.2441 L203.964 47.2441  Z\" fill=\"#ffffff\" fill-rule=\"evenodd\" fill-opacity=\"1\"/>\n",
       "<defs>\n",
       "  <clipPath id=\"clip472\">\n",
       "    <rect x=\"203\" y=\"47\" width=\"2150\" height=\"1377\"/>\n",
       "  </clipPath>\n",
       "</defs>\n",
       "<polyline clip-path=\"url(#clip472)\" style=\"stroke:#000000; stroke-linecap:round; stroke-linejoin:round; stroke-width:2; stroke-opacity:0.1; fill:none\" points=\"443.646,1423.18 443.646,47.2441 \"/>\n",
       "<polyline clip-path=\"url(#clip472)\" style=\"stroke:#000000; stroke-linecap:round; stroke-linejoin:round; stroke-width:2; stroke-opacity:0.1; fill:none\" points=\"741.758,1423.18 741.758,47.2441 \"/>\n",
       "<polyline clip-path=\"url(#clip472)\" style=\"stroke:#000000; stroke-linecap:round; stroke-linejoin:round; stroke-width:2; stroke-opacity:0.1; fill:none\" points=\"1039.87,1423.18 1039.87,47.2441 \"/>\n",
       "<polyline clip-path=\"url(#clip472)\" style=\"stroke:#000000; stroke-linecap:round; stroke-linejoin:round; stroke-width:2; stroke-opacity:0.1; fill:none\" points=\"1337.98,1423.18 1337.98,47.2441 \"/>\n",
       "<polyline clip-path=\"url(#clip472)\" style=\"stroke:#000000; stroke-linecap:round; stroke-linejoin:round; stroke-width:2; stroke-opacity:0.1; fill:none\" points=\"1636.09,1423.18 1636.09,47.2441 \"/>\n",
       "<polyline clip-path=\"url(#clip472)\" style=\"stroke:#000000; stroke-linecap:round; stroke-linejoin:round; stroke-width:2; stroke-opacity:0.1; fill:none\" points=\"1934.21,1423.18 1934.21,47.2441 \"/>\n",
       "<polyline clip-path=\"url(#clip472)\" style=\"stroke:#000000; stroke-linecap:round; stroke-linejoin:round; stroke-width:2; stroke-opacity:0.1; fill:none\" points=\"2232.32,1423.18 2232.32,47.2441 \"/>\n",
       "<polyline clip-path=\"url(#clip470)\" style=\"stroke:#000000; stroke-linecap:round; stroke-linejoin:round; stroke-width:4; stroke-opacity:1; fill:none\" points=\"203.964,1423.18 2352.76,1423.18 \"/>\n",
       "<polyline clip-path=\"url(#clip470)\" style=\"stroke:#000000; stroke-linecap:round; stroke-linejoin:round; stroke-width:4; stroke-opacity:1; fill:none\" points=\"443.646,1423.18 443.646,1404.28 \"/>\n",
       "<polyline clip-path=\"url(#clip470)\" style=\"stroke:#000000; stroke-linecap:round; stroke-linejoin:round; stroke-width:4; stroke-opacity:1; fill:none\" points=\"741.758,1423.18 741.758,1404.28 \"/>\n",
       "<polyline clip-path=\"url(#clip470)\" style=\"stroke:#000000; stroke-linecap:round; stroke-linejoin:round; stroke-width:4; stroke-opacity:1; fill:none\" points=\"1039.87,1423.18 1039.87,1404.28 \"/>\n",
       "<polyline clip-path=\"url(#clip470)\" style=\"stroke:#000000; stroke-linecap:round; stroke-linejoin:round; stroke-width:4; stroke-opacity:1; fill:none\" points=\"1337.98,1423.18 1337.98,1404.28 \"/>\n",
       "<polyline clip-path=\"url(#clip470)\" style=\"stroke:#000000; stroke-linecap:round; stroke-linejoin:round; stroke-width:4; stroke-opacity:1; fill:none\" points=\"1636.09,1423.18 1636.09,1404.28 \"/>\n",
       "<polyline clip-path=\"url(#clip470)\" style=\"stroke:#000000; stroke-linecap:round; stroke-linejoin:round; stroke-width:4; stroke-opacity:1; fill:none\" points=\"1934.21,1423.18 1934.21,1404.28 \"/>\n",
       "<polyline clip-path=\"url(#clip470)\" style=\"stroke:#000000; stroke-linecap:round; stroke-linejoin:round; stroke-width:4; stroke-opacity:1; fill:none\" points=\"2232.32,1423.18 2232.32,1404.28 \"/>\n",
       "<path clip-path=\"url(#clip470)\" d=\"M415.382 1481.64 L431.701 1481.64 L431.701 1485.58 L409.757 1485.58 L409.757 1481.64 Q412.419 1478.89 417.002 1474.26 Q421.609 1469.61 422.789 1468.27 Q425.035 1465.74 425.914 1464.01 Q426.817 1462.25 426.817 1460.56 Q426.817 1457.8 424.873 1456.07 Q422.951 1454.33 419.85 1454.33 Q417.651 1454.33 415.197 1455.09 Q412.766 1455.86 409.989 1457.41 L409.989 1452.69 Q412.813 1451.55 415.266 1450.97 Q417.72 1450.39 419.757 1450.39 Q425.127 1450.39 428.322 1453.08 Q431.516 1455.77 431.516 1460.26 Q431.516 1462.39 430.706 1464.31 Q429.919 1466.2 427.812 1468.8 Q427.234 1469.47 424.132 1472.69 Q421.03 1475.88 415.382 1481.64 Z\" fill=\"#000000\" fill-rule=\"nonzero\" fill-opacity=\"1\" /><path clip-path=\"url(#clip470)\" d=\"M441.516 1479.7 L446.4 1479.7 L446.4 1485.58 L441.516 1485.58 L441.516 1479.7 Z\" fill=\"#000000\" fill-rule=\"nonzero\" fill-opacity=\"1\" /><path clip-path=\"url(#clip470)\" d=\"M456.632 1451.02 L474.988 1451.02 L474.988 1454.96 L460.914 1454.96 L460.914 1463.43 Q461.933 1463.08 462.951 1462.92 Q463.97 1462.73 464.988 1462.73 Q470.775 1462.73 474.155 1465.9 Q477.534 1469.08 477.534 1474.49 Q477.534 1480.07 474.062 1483.17 Q470.59 1486.25 464.271 1486.25 Q462.095 1486.25 459.826 1485.88 Q457.581 1485.51 455.173 1484.77 L455.173 1480.07 Q457.257 1481.2 459.479 1481.76 Q461.701 1482.32 464.178 1482.32 Q468.183 1482.32 470.521 1480.21 Q472.859 1478.1 472.859 1474.49 Q472.859 1470.88 470.521 1468.77 Q468.183 1466.67 464.178 1466.67 Q462.303 1466.67 460.428 1467.08 Q458.576 1467.5 456.632 1468.38 L456.632 1451.02 Z\" fill=\"#000000\" fill-rule=\"nonzero\" fill-opacity=\"1\" /><path clip-path=\"url(#clip470)\" d=\"M708.922 1451.02 L727.279 1451.02 L727.279 1454.96 L713.205 1454.96 L713.205 1463.43 Q714.223 1463.08 715.242 1462.92 Q716.26 1462.73 717.279 1462.73 Q723.066 1462.73 726.445 1465.9 Q729.825 1469.08 729.825 1474.49 Q729.825 1480.07 726.353 1483.17 Q722.881 1486.25 716.561 1486.25 Q714.385 1486.25 712.117 1485.88 Q709.871 1485.51 707.464 1484.77 L707.464 1480.07 Q709.547 1481.2 711.77 1481.76 Q713.992 1482.32 716.469 1482.32 Q720.473 1482.32 722.811 1480.21 Q725.149 1478.1 725.149 1474.49 Q725.149 1470.88 722.811 1468.77 Q720.473 1466.67 716.469 1466.67 Q714.594 1466.67 712.719 1467.08 Q710.867 1467.5 708.922 1468.38 L708.922 1451.02 Z\" fill=\"#000000\" fill-rule=\"nonzero\" fill-opacity=\"1\" /><path clip-path=\"url(#clip470)\" d=\"M739.038 1479.7 L743.922 1479.7 L743.922 1485.58 L739.038 1485.58 L739.038 1479.7 Z\" fill=\"#000000\" fill-rule=\"nonzero\" fill-opacity=\"1\" /><path clip-path=\"url(#clip470)\" d=\"M764.107 1454.1 Q760.496 1454.1 758.668 1457.66 Q756.862 1461.2 756.862 1468.33 Q756.862 1475.44 758.668 1479.01 Q760.496 1482.55 764.107 1482.55 Q767.742 1482.55 769.547 1479.01 Q771.376 1475.44 771.376 1468.33 Q771.376 1461.2 769.547 1457.66 Q767.742 1454.1 764.107 1454.1 M764.107 1450.39 Q769.917 1450.39 772.973 1455 Q776.052 1459.58 776.052 1468.33 Q776.052 1477.06 772.973 1481.67 Q769.917 1486.25 764.107 1486.25 Q758.297 1486.25 755.218 1481.67 Q752.163 1477.06 752.163 1468.33 Q752.163 1459.58 755.218 1455 Q758.297 1450.39 764.107 1450.39 Z\" fill=\"#000000\" fill-rule=\"nonzero\" fill-opacity=\"1\" /><path clip-path=\"url(#clip470)\" d=\"M1006.19 1451.02 L1028.41 1451.02 L1028.41 1453.01 L1015.87 1485.58 L1010.98 1485.58 L1022.79 1454.96 L1006.19 1454.96 L1006.19 1451.02 Z\" fill=\"#000000\" fill-rule=\"nonzero\" fill-opacity=\"1\" /><path clip-path=\"url(#clip470)\" d=\"M1037.53 1479.7 L1042.42 1479.7 L1042.42 1485.58 L1037.53 1485.58 L1037.53 1479.7 Z\" fill=\"#000000\" fill-rule=\"nonzero\" fill-opacity=\"1\" /><path clip-path=\"url(#clip470)\" d=\"M1052.65 1451.02 L1071 1451.02 L1071 1454.96 L1056.93 1454.96 L1056.93 1463.43 Q1057.95 1463.08 1058.97 1462.92 Q1059.99 1462.73 1061 1462.73 Q1066.79 1462.73 1070.17 1465.9 Q1073.55 1469.08 1073.55 1474.49 Q1073.55 1480.07 1070.08 1483.17 Q1066.61 1486.25 1060.29 1486.25 Q1058.11 1486.25 1055.84 1485.88 Q1053.6 1485.51 1051.19 1484.77 L1051.19 1480.07 Q1053.27 1481.2 1055.49 1481.76 Q1057.72 1482.32 1060.19 1482.32 Q1064.2 1482.32 1066.54 1480.21 Q1068.87 1478.1 1068.87 1474.49 Q1068.87 1470.88 1066.54 1468.77 Q1064.2 1466.67 1060.19 1466.67 Q1058.32 1466.67 1056.44 1467.08 Q1054.59 1467.5 1052.65 1468.38 L1052.65 1451.02 Z\" fill=\"#000000\" fill-rule=\"nonzero\" fill-opacity=\"1\" /><path clip-path=\"url(#clip470)\" d=\"M1290.05 1481.64 L1297.69 1481.64 L1297.69 1455.28 L1289.38 1456.95 L1289.38 1452.69 L1297.65 1451.02 L1302.32 1451.02 L1302.32 1481.64 L1309.96 1481.64 L1309.96 1485.58 L1290.05 1485.58 L1290.05 1481.64 Z\" fill=\"#000000\" fill-rule=\"nonzero\" fill-opacity=\"1\" /><path clip-path=\"url(#clip470)\" d=\"M1329.41 1454.1 Q1325.79 1454.1 1323.97 1457.66 Q1322.16 1461.2 1322.16 1468.33 Q1322.16 1475.44 1323.97 1479.01 Q1325.79 1482.55 1329.41 1482.55 Q1333.04 1482.55 1334.85 1479.01 Q1336.67 1475.44 1336.67 1468.33 Q1336.67 1461.2 1334.85 1457.66 Q1333.04 1454.1 1329.41 1454.1 M1329.41 1450.39 Q1335.22 1450.39 1338.27 1455 Q1341.35 1459.58 1341.35 1468.33 Q1341.35 1477.06 1338.27 1481.67 Q1335.22 1486.25 1329.41 1486.25 Q1323.6 1486.25 1320.52 1481.67 Q1317.46 1477.06 1317.46 1468.33 Q1317.46 1459.58 1320.52 1455 Q1323.6 1450.39 1329.41 1450.39 Z\" fill=\"#000000\" fill-rule=\"nonzero\" fill-opacity=\"1\" /><path clip-path=\"url(#clip470)\" d=\"M1349.57 1479.7 L1354.45 1479.7 L1354.45 1485.58 L1349.57 1485.58 L1349.57 1479.7 Z\" fill=\"#000000\" fill-rule=\"nonzero\" fill-opacity=\"1\" /><path clip-path=\"url(#clip470)\" d=\"M1374.64 1454.1 Q1371.03 1454.1 1369.2 1457.66 Q1367.39 1461.2 1367.39 1468.33 Q1367.39 1475.44 1369.2 1479.01 Q1371.03 1482.55 1374.64 1482.55 Q1378.27 1482.55 1380.08 1479.01 Q1381.91 1475.44 1381.91 1468.33 Q1381.91 1461.2 1380.08 1457.66 Q1378.27 1454.1 1374.64 1454.1 M1374.64 1450.39 Q1380.45 1450.39 1383.5 1455 Q1386.58 1459.58 1386.58 1468.33 Q1386.58 1477.06 1383.5 1481.67 Q1380.45 1486.25 1374.64 1486.25 Q1368.83 1486.25 1365.75 1481.67 Q1362.69 1477.06 1362.69 1468.33 Q1362.69 1459.58 1365.75 1455 Q1368.83 1450.39 1374.64 1450.39 Z\" fill=\"#000000\" fill-rule=\"nonzero\" fill-opacity=\"1\" /><path clip-path=\"url(#clip470)\" d=\"M1588.66 1481.64 L1596.3 1481.64 L1596.3 1455.28 L1587.99 1456.95 L1587.99 1452.69 L1596.26 1451.02 L1600.93 1451.02 L1600.93 1481.64 L1608.57 1481.64 L1608.57 1485.58 L1588.66 1485.58 L1588.66 1481.64 Z\" fill=\"#000000\" fill-rule=\"nonzero\" fill-opacity=\"1\" /><path clip-path=\"url(#clip470)\" d=\"M1622.04 1481.64 L1638.36 1481.64 L1638.36 1485.58 L1616.42 1485.58 L1616.42 1481.64 Q1619.08 1478.89 1623.66 1474.26 Q1628.27 1469.61 1629.45 1468.27 Q1631.7 1465.74 1632.58 1464.01 Q1633.48 1462.25 1633.48 1460.56 Q1633.48 1457.8 1631.53 1456.07 Q1629.61 1454.33 1626.51 1454.33 Q1624.31 1454.33 1621.86 1455.09 Q1619.43 1455.86 1616.65 1457.41 L1616.65 1452.69 Q1619.47 1451.55 1621.93 1450.97 Q1624.38 1450.39 1626.42 1450.39 Q1631.79 1450.39 1634.98 1453.08 Q1638.18 1455.77 1638.18 1460.26 Q1638.18 1462.39 1637.37 1464.31 Q1636.58 1466.2 1634.47 1468.8 Q1633.9 1469.47 1630.79 1472.69 Q1627.69 1475.88 1622.04 1481.64 Z\" fill=\"#000000\" fill-rule=\"nonzero\" fill-opacity=\"1\" /><path clip-path=\"url(#clip470)\" d=\"M1648.18 1479.7 L1653.06 1479.7 L1653.06 1485.58 L1648.18 1485.58 L1648.18 1479.7 Z\" fill=\"#000000\" fill-rule=\"nonzero\" fill-opacity=\"1\" /><path clip-path=\"url(#clip470)\" d=\"M1663.29 1451.02 L1681.65 1451.02 L1681.65 1454.96 L1667.58 1454.96 L1667.58 1463.43 Q1668.59 1463.08 1669.61 1462.92 Q1670.63 1462.73 1671.65 1462.73 Q1677.44 1462.73 1680.82 1465.9 Q1684.2 1469.08 1684.2 1474.49 Q1684.2 1480.07 1680.72 1483.17 Q1677.25 1486.25 1670.93 1486.25 Q1668.76 1486.25 1666.49 1485.88 Q1664.24 1485.51 1661.83 1484.77 L1661.83 1480.07 Q1663.92 1481.2 1666.14 1481.76 Q1668.36 1482.32 1670.84 1482.32 Q1674.84 1482.32 1677.18 1480.21 Q1679.52 1478.1 1679.52 1474.49 Q1679.52 1470.88 1677.18 1468.77 Q1674.84 1466.67 1670.84 1466.67 Q1668.96 1466.67 1667.09 1467.08 Q1665.24 1467.5 1663.29 1468.38 L1663.29 1451.02 Z\" fill=\"#000000\" fill-rule=\"nonzero\" fill-opacity=\"1\" /><path clip-path=\"url(#clip470)\" d=\"M1886.28 1481.64 L1893.92 1481.64 L1893.92 1455.28 L1885.61 1456.95 L1885.61 1452.69 L1893.87 1451.02 L1898.55 1451.02 L1898.55 1481.64 L1906.19 1481.64 L1906.19 1485.58 L1886.28 1485.58 L1886.28 1481.64 Z\" fill=\"#000000\" fill-rule=\"nonzero\" fill-opacity=\"1\" /><path clip-path=\"url(#clip470)\" d=\"M1915.68 1451.02 L1934.03 1451.02 L1934.03 1454.96 L1919.96 1454.96 L1919.96 1463.43 Q1920.98 1463.08 1922 1462.92 Q1923.01 1462.73 1924.03 1462.73 Q1929.82 1462.73 1933.2 1465.9 Q1936.58 1469.08 1936.58 1474.49 Q1936.58 1480.07 1933.11 1483.17 Q1929.63 1486.25 1923.32 1486.25 Q1921.14 1486.25 1918.87 1485.88 Q1916.63 1485.51 1914.22 1484.77 L1914.22 1480.07 Q1916.3 1481.2 1918.52 1481.76 Q1920.75 1482.32 1923.22 1482.32 Q1927.23 1482.32 1929.57 1480.21 Q1931.9 1478.1 1931.9 1474.49 Q1931.9 1470.88 1929.57 1468.77 Q1927.23 1466.67 1923.22 1466.67 Q1921.35 1466.67 1919.47 1467.08 Q1917.62 1467.5 1915.68 1468.38 L1915.68 1451.02 Z\" fill=\"#000000\" fill-rule=\"nonzero\" fill-opacity=\"1\" /><path clip-path=\"url(#clip470)\" d=\"M1945.79 1479.7 L1950.68 1479.7 L1950.68 1485.58 L1945.79 1485.58 L1945.79 1479.7 Z\" fill=\"#000000\" fill-rule=\"nonzero\" fill-opacity=\"1\" /><path clip-path=\"url(#clip470)\" d=\"M1970.86 1454.1 Q1967.25 1454.1 1965.42 1457.66 Q1963.62 1461.2 1963.62 1468.33 Q1963.62 1475.44 1965.42 1479.01 Q1967.25 1482.55 1970.86 1482.55 Q1974.5 1482.55 1976.3 1479.01 Q1978.13 1475.44 1978.13 1468.33 Q1978.13 1461.2 1976.3 1457.66 Q1974.5 1454.1 1970.86 1454.1 M1970.86 1450.39 Q1976.67 1450.39 1979.73 1455 Q1982.81 1459.58 1982.81 1468.33 Q1982.81 1477.06 1979.73 1481.67 Q1976.67 1486.25 1970.86 1486.25 Q1965.05 1486.25 1961.97 1481.67 Q1958.92 1477.06 1958.92 1468.33 Q1958.92 1459.58 1961.97 1455 Q1965.05 1450.39 1970.86 1450.39 Z\" fill=\"#000000\" fill-rule=\"nonzero\" fill-opacity=\"1\" /><path clip-path=\"url(#clip470)\" d=\"M2184.89 1481.64 L2192.53 1481.64 L2192.53 1455.28 L2184.22 1456.95 L2184.22 1452.69 L2192.48 1451.02 L2197.16 1451.02 L2197.16 1481.64 L2204.8 1481.64 L2204.8 1485.58 L2184.89 1485.58 L2184.89 1481.64 Z\" fill=\"#000000\" fill-rule=\"nonzero\" fill-opacity=\"1\" /><path clip-path=\"url(#clip470)\" d=\"M2213.06 1451.02 L2235.28 1451.02 L2235.28 1453.01 L2222.74 1485.58 L2217.85 1485.58 L2229.66 1454.96 L2213.06 1454.96 L2213.06 1451.02 Z\" fill=\"#000000\" fill-rule=\"nonzero\" fill-opacity=\"1\" /><path clip-path=\"url(#clip470)\" d=\"M2244.4 1479.7 L2249.29 1479.7 L2249.29 1485.58 L2244.4 1485.58 L2244.4 1479.7 Z\" fill=\"#000000\" fill-rule=\"nonzero\" fill-opacity=\"1\" /><path clip-path=\"url(#clip470)\" d=\"M2259.52 1451.02 L2277.87 1451.02 L2277.87 1454.96 L2263.8 1454.96 L2263.8 1463.43 Q2264.82 1463.08 2265.84 1462.92 Q2266.86 1462.73 2267.87 1462.73 Q2273.66 1462.73 2277.04 1465.9 Q2280.42 1469.08 2280.42 1474.49 Q2280.42 1480.07 2276.95 1483.17 Q2273.48 1486.25 2267.16 1486.25 Q2264.98 1486.25 2262.71 1485.88 Q2260.47 1485.51 2258.06 1484.77 L2258.06 1480.07 Q2260.14 1481.2 2262.36 1481.76 Q2264.59 1482.32 2267.06 1482.32 Q2271.07 1482.32 2273.41 1480.21 Q2275.74 1478.1 2275.74 1474.49 Q2275.74 1470.88 2273.41 1468.77 Q2271.07 1466.67 2267.06 1466.67 Q2265.19 1466.67 2263.31 1467.08 Q2261.46 1467.5 2259.52 1468.38 L2259.52 1451.02 Z\" fill=\"#000000\" fill-rule=\"nonzero\" fill-opacity=\"1\" /><path clip-path=\"url(#clip470)\" d=\"M1184.53 1520.52 L1214.58 1520.52 L1214.58 1525.93 L1190.96 1525.93 L1190.96 1540 L1213.59 1540 L1213.59 1545.41 L1190.96 1545.41 L1190.96 1562.63 L1215.15 1562.63 L1215.15 1568.04 L1184.53 1568.04 L1184.53 1520.52 Z\" fill=\"#000000\" fill-rule=\"nonzero\" fill-opacity=\"1\" /><path clip-path=\"url(#clip470)\" d=\"M1231.13 1562.7 L1231.13 1581.6 L1225.24 1581.6 L1225.24 1532.4 L1231.13 1532.4 L1231.13 1537.81 Q1232.97 1534.62 1235.77 1533.1 Q1238.61 1531.54 1242.52 1531.54 Q1249.01 1531.54 1253.06 1536.69 Q1257.13 1541.85 1257.13 1550.25 Q1257.13 1558.65 1253.06 1563.81 Q1249.01 1568.97 1242.52 1568.97 Q1238.61 1568.97 1235.77 1567.44 Q1232.97 1565.88 1231.13 1562.7 M1251.05 1550.25 Q1251.05 1543.79 1248.38 1540.13 Q1245.74 1536.44 1241.09 1536.44 Q1236.44 1536.44 1233.77 1540.13 Q1231.13 1543.79 1231.13 1550.25 Q1231.13 1556.71 1233.77 1560.4 Q1236.44 1564.07 1241.09 1564.07 Q1245.74 1564.07 1248.38 1560.4 Q1251.05 1556.71 1251.05 1550.25 Z\" fill=\"#000000\" fill-rule=\"nonzero\" fill-opacity=\"1\" /><path clip-path=\"url(#clip470)\" d=\"M1280.65 1536.5 Q1275.94 1536.5 1273.2 1540.19 Q1270.47 1543.85 1270.47 1550.25 Q1270.47 1556.65 1273.17 1560.34 Q1275.91 1564 1280.65 1564 Q1285.33 1564 1288.07 1560.31 Q1290.8 1556.62 1290.8 1550.25 Q1290.8 1543.92 1288.07 1540.23 Q1285.33 1536.5 1280.65 1536.5 M1280.65 1531.54 Q1288.29 1531.54 1292.65 1536.5 Q1297.01 1541.47 1297.01 1550.25 Q1297.01 1559 1292.65 1564 Q1288.29 1568.97 1280.65 1568.97 Q1272.98 1568.97 1268.62 1564 Q1264.29 1559 1264.29 1550.25 Q1264.29 1541.47 1268.62 1536.5 Q1272.98 1531.54 1280.65 1531.54 Z\" fill=\"#000000\" fill-rule=\"nonzero\" fill-opacity=\"1\" /><path clip-path=\"url(#clip470)\" d=\"M1332.37 1533.76 L1332.37 1539.24 Q1329.89 1537.87 1327.38 1537.2 Q1324.89 1536.5 1322.35 1536.5 Q1316.65 1536.5 1313.5 1540.13 Q1310.35 1543.73 1310.35 1550.25 Q1310.35 1556.78 1313.5 1560.4 Q1316.65 1564 1322.35 1564 Q1324.89 1564 1327.38 1563.33 Q1329.89 1562.63 1332.37 1561.26 L1332.37 1566.68 Q1329.92 1567.82 1327.28 1568.39 Q1324.67 1568.97 1321.71 1568.97 Q1313.66 1568.97 1308.92 1563.91 Q1304.17 1558.85 1304.17 1550.25 Q1304.17 1541.53 1308.95 1536.53 Q1313.75 1531.54 1322.09 1531.54 Q1324.8 1531.54 1327.38 1532.11 Q1329.95 1532.65 1332.37 1533.76 Z\" fill=\"#000000\" fill-rule=\"nonzero\" fill-opacity=\"1\" /><path clip-path=\"url(#clip470)\" d=\"M1372.19 1546.53 L1372.19 1568.04 L1366.33 1568.04 L1366.33 1546.72 Q1366.33 1541.66 1364.36 1539.14 Q1362.39 1536.63 1358.44 1536.63 Q1353.7 1536.63 1350.96 1539.65 Q1348.22 1542.68 1348.22 1547.9 L1348.22 1568.04 L1342.34 1568.04 L1342.34 1518.52 L1348.22 1518.52 L1348.22 1537.93 Q1350.32 1534.72 1353.16 1533.13 Q1356.02 1531.54 1359.75 1531.54 Q1365.89 1531.54 1369.04 1535.36 Q1372.19 1539.14 1372.19 1546.53 Z\" fill=\"#000000\" fill-rule=\"nonzero\" fill-opacity=\"1\" /><polyline clip-path=\"url(#clip472)\" style=\"stroke:#000000; stroke-linecap:round; stroke-linejoin:round; stroke-width:2; stroke-opacity:0.1; fill:none\" points=\"203.964,1384.39 2352.76,1384.39 \"/>\n",
       "<polyline clip-path=\"url(#clip472)\" style=\"stroke:#000000; stroke-linecap:round; stroke-linejoin:round; stroke-width:2; stroke-opacity:0.1; fill:none\" points=\"203.964,1011.48 2352.76,1011.48 \"/>\n",
       "<polyline clip-path=\"url(#clip472)\" style=\"stroke:#000000; stroke-linecap:round; stroke-linejoin:round; stroke-width:2; stroke-opacity:0.1; fill:none\" points=\"203.964,638.57 2352.76,638.57 \"/>\n",
       "<polyline clip-path=\"url(#clip472)\" style=\"stroke:#000000; stroke-linecap:round; stroke-linejoin:round; stroke-width:2; stroke-opacity:0.1; fill:none\" points=\"203.964,265.66 2352.76,265.66 \"/>\n",
       "<polyline clip-path=\"url(#clip470)\" style=\"stroke:#000000; stroke-linecap:round; stroke-linejoin:round; stroke-width:4; stroke-opacity:1; fill:none\" points=\"203.964,1423.18 203.964,47.2441 \"/>\n",
       "<polyline clip-path=\"url(#clip470)\" style=\"stroke:#000000; stroke-linecap:round; stroke-linejoin:round; stroke-width:4; stroke-opacity:1; fill:none\" points=\"203.964,1384.39 222.861,1384.39 \"/>\n",
       "<polyline clip-path=\"url(#clip470)\" style=\"stroke:#000000; stroke-linecap:round; stroke-linejoin:round; stroke-width:4; stroke-opacity:1; fill:none\" points=\"203.964,1011.48 222.861,1011.48 \"/>\n",
       "<polyline clip-path=\"url(#clip470)\" style=\"stroke:#000000; stroke-linecap:round; stroke-linejoin:round; stroke-width:4; stroke-opacity:1; fill:none\" points=\"203.964,638.57 222.861,638.57 \"/>\n",
       "<polyline clip-path=\"url(#clip470)\" style=\"stroke:#000000; stroke-linecap:round; stroke-linejoin:round; stroke-width:4; stroke-opacity:1; fill:none\" points=\"203.964,265.66 222.861,265.66 \"/>\n",
       "<path clip-path=\"url(#clip470)\" d=\"M156.019 1370.19 Q152.408 1370.19 150.579 1373.75 Q148.774 1377.29 148.774 1384.42 Q148.774 1391.53 150.579 1395.1 Q152.408 1398.64 156.019 1398.64 Q159.653 1398.64 161.459 1395.1 Q163.288 1391.53 163.288 1384.42 Q163.288 1377.29 161.459 1373.75 Q159.653 1370.19 156.019 1370.19 M156.019 1366.48 Q161.829 1366.48 164.885 1371.09 Q167.964 1375.67 167.964 1384.42 Q167.964 1393.15 164.885 1397.76 Q161.829 1402.34 156.019 1402.34 Q150.209 1402.34 147.13 1397.76 Q144.075 1393.15 144.075 1384.42 Q144.075 1375.67 147.13 1371.09 Q150.209 1366.48 156.019 1366.48 Z\" fill=\"#000000\" fill-rule=\"nonzero\" fill-opacity=\"1\" /><path clip-path=\"url(#clip470)\" d=\"M116.668 1024.82 L124.306 1024.82 L124.306 998.459 L115.996 1000.13 L115.996 995.866 L124.26 994.2 L128.936 994.2 L128.936 1024.82 L136.575 1024.82 L136.575 1028.76 L116.668 1028.76 L116.668 1024.82 Z\" fill=\"#000000\" fill-rule=\"nonzero\" fill-opacity=\"1\" /><path clip-path=\"url(#clip470)\" d=\"M156.019 997.279 Q152.408 997.279 150.579 1000.84 Q148.774 1004.38 148.774 1011.51 Q148.774 1018.62 150.579 1022.19 Q152.408 1025.73 156.019 1025.73 Q159.653 1025.73 161.459 1022.19 Q163.288 1018.62 163.288 1011.51 Q163.288 1004.38 161.459 1000.84 Q159.653 997.279 156.019 997.279 M156.019 993.575 Q161.829 993.575 164.885 998.181 Q167.964 1002.76 167.964 1011.51 Q167.964 1020.24 164.885 1024.85 Q161.829 1029.43 156.019 1029.43 Q150.209 1029.43 147.13 1024.85 Q144.075 1020.24 144.075 1011.51 Q144.075 1002.76 147.13 998.181 Q150.209 993.575 156.019 993.575 Z\" fill=\"#000000\" fill-rule=\"nonzero\" fill-opacity=\"1\" /><path clip-path=\"url(#clip470)\" d=\"M119.885 651.915 L136.204 651.915 L136.204 655.85 L114.26 655.85 L114.26 651.915 Q116.922 649.16 121.505 644.53 Q126.112 639.878 127.292 638.535 Q129.538 636.012 130.417 634.276 Q131.32 632.517 131.32 630.827 Q131.32 628.072 129.376 626.336 Q127.455 624.6 124.353 624.6 Q122.154 624.6 119.7 625.364 Q117.269 626.128 114.492 627.679 L114.492 622.957 Q117.316 621.822 119.769 621.244 Q122.223 620.665 124.26 620.665 Q129.63 620.665 132.825 623.35 Q136.019 626.035 136.019 630.526 Q136.019 632.656 135.209 634.577 Q134.422 636.475 132.316 639.068 Q131.737 639.739 128.635 642.956 Q125.533 646.151 119.885 651.915 Z\" fill=\"#000000\" fill-rule=\"nonzero\" fill-opacity=\"1\" /><path clip-path=\"url(#clip470)\" d=\"M156.019 624.369 Q152.408 624.369 150.579 627.933 Q148.774 631.475 148.774 638.605 Q148.774 645.711 150.579 649.276 Q152.408 652.817 156.019 652.817 Q159.653 652.817 161.459 649.276 Q163.288 645.711 163.288 638.605 Q163.288 631.475 161.459 627.933 Q159.653 624.369 156.019 624.369 M156.019 620.665 Q161.829 620.665 164.885 625.271 Q167.964 629.855 167.964 638.605 Q167.964 647.331 164.885 651.938 Q161.829 656.521 156.019 656.521 Q150.209 656.521 147.13 651.938 Q144.075 647.331 144.075 638.605 Q144.075 629.855 147.13 625.271 Q150.209 620.665 156.019 620.665 Z\" fill=\"#000000\" fill-rule=\"nonzero\" fill-opacity=\"1\" /><path clip-path=\"url(#clip470)\" d=\"M130.024 264.306 Q133.38 265.023 135.255 267.292 Q137.154 269.56 137.154 272.894 Q137.154 278.009 133.635 280.81 Q130.117 283.611 123.635 283.611 Q121.459 283.611 119.144 283.171 Q116.853 282.755 114.399 281.898 L114.399 277.384 Q116.343 278.519 118.658 279.097 Q120.973 279.676 123.496 279.676 Q127.894 279.676 130.186 277.94 Q132.501 276.204 132.501 272.894 Q132.501 269.838 130.348 268.125 Q128.218 266.389 124.399 266.389 L120.371 266.389 L120.371 262.546 L124.584 262.546 Q128.033 262.546 129.862 261.181 Q131.691 259.792 131.691 257.199 Q131.691 254.537 129.792 253.125 Q127.917 251.69 124.399 251.69 Q122.478 251.69 120.279 252.107 Q118.08 252.523 115.441 253.403 L115.441 249.236 Q118.103 248.496 120.418 248.125 Q122.755 247.755 124.816 247.755 Q130.14 247.755 133.242 250.185 Q136.343 252.593 136.343 256.713 Q136.343 259.584 134.7 261.574 Q133.056 263.542 130.024 264.306 Z\" fill=\"#000000\" fill-rule=\"nonzero\" fill-opacity=\"1\" /><path clip-path=\"url(#clip470)\" d=\"M156.019 251.459 Q152.408 251.459 150.579 255.023 Q148.774 258.565 148.774 265.695 Q148.774 272.801 150.579 276.366 Q152.408 279.907 156.019 279.907 Q159.653 279.907 161.459 276.366 Q163.288 272.801 163.288 265.695 Q163.288 258.565 161.459 255.023 Q159.653 251.459 156.019 251.459 M156.019 247.755 Q161.829 247.755 164.885 252.361 Q167.964 256.945 167.964 265.695 Q167.964 274.421 164.885 279.028 Q161.829 283.611 156.019 283.611 Q150.209 283.611 147.13 279.028 Q144.075 274.421 144.075 265.695 Q144.075 256.945 147.13 252.361 Q150.209 247.755 156.019 247.755 Z\" fill=\"#000000\" fill-rule=\"nonzero\" fill-opacity=\"1\" /><path clip-path=\"url(#clip470)\" d=\"M16.4842 801.909 L16.4842 795.479 L58.5933 795.479 L58.5933 772.34 L64.0042 772.34 L64.0042 801.909 L16.4842 801.909 Z\" fill=\"#000000\" fill-rule=\"nonzero\" fill-opacity=\"1\" /><path clip-path=\"url(#clip470)\" d=\"M32.4621 753.179 Q32.4621 757.89 36.1542 760.627 Q39.8145 763.364 46.212 763.364 Q52.6095 763.364 56.3017 760.659 Q59.9619 757.922 59.9619 753.179 Q59.9619 748.5 56.2698 745.763 Q52.5777 743.026 46.212 743.026 Q39.8781 743.026 36.186 745.763 Q32.4621 748.5 32.4621 753.179 M27.4968 753.179 Q27.4968 745.54 32.4621 741.18 Q37.4273 736.819 46.212 736.819 Q54.9649 736.819 59.9619 741.18 Q64.9272 745.54 64.9272 753.179 Q64.9272 760.85 59.9619 765.21 Q54.9649 769.539 46.212 769.539 Q37.4273 769.539 32.4621 765.21 Q27.4968 760.85 27.4968 753.179 Z\" fill=\"#000000\" fill-rule=\"nonzero\" fill-opacity=\"1\" /><path clip-path=\"url(#clip470)\" d=\"M29.4065 704.386 L34.9447 704.386 Q33.6716 706.869 33.035 709.542 Q32.3984 712.216 32.3984 715.08 Q32.3984 719.441 33.7352 721.637 Q35.072 723.801 37.7456 723.801 Q39.7826 723.801 40.9603 722.242 Q42.1061 720.682 43.1565 715.972 L43.6021 713.966 Q44.9389 707.728 47.3897 705.118 Q49.8086 702.476 54.1691 702.476 Q59.1344 702.476 62.0308 706.423 Q64.9272 710.338 64.9272 717.213 Q64.9272 720.078 64.3543 723.197 Q63.8132 726.284 62.6992 729.722 L56.6518 729.722 Q58.3387 726.475 59.198 723.324 Q60.0256 720.173 60.0256 717.086 Q60.0256 712.948 58.6251 710.72 Q57.1929 708.492 54.6147 708.492 Q52.2276 708.492 50.9545 710.115 Q49.6813 711.707 48.5037 717.149 L48.0262 719.186 Q46.8804 724.629 44.5251 727.048 Q42.138 729.467 38.0002 729.467 Q32.9713 729.467 30.2341 725.902 Q27.4968 722.337 27.4968 715.781 Q27.4968 712.534 27.9743 709.67 Q28.4517 706.805 29.4065 704.386 Z\" fill=\"#000000\" fill-rule=\"nonzero\" fill-opacity=\"1\" /><path clip-path=\"url(#clip470)\" d=\"M29.4065 670.425 L34.9447 670.425 Q33.6716 672.908 33.035 675.581 Q32.3984 678.255 32.3984 681.119 Q32.3984 685.48 33.7352 687.676 Q35.072 689.84 37.7456 689.84 Q39.7826 689.84 40.9603 688.281 Q42.1061 686.721 43.1565 682.011 L43.6021 680.005 Q44.9389 673.767 47.3897 671.157 Q49.8086 668.515 54.1691 668.515 Q59.1344 668.515 62.0308 672.462 Q64.9272 676.377 64.9272 683.252 Q64.9272 686.116 64.3543 689.236 Q63.8132 692.323 62.6992 695.761 L56.6518 695.761 Q58.3387 692.514 59.198 689.363 Q60.0256 686.212 60.0256 683.125 Q60.0256 678.987 58.6251 676.759 Q57.1929 674.531 54.6147 674.531 Q52.2276 674.531 50.9545 676.154 Q49.6813 677.746 48.5037 683.188 L48.0262 685.225 Q46.8804 690.668 44.5251 693.087 Q42.138 695.506 38.0002 695.506 Q32.9713 695.506 30.2341 691.941 Q27.4968 688.376 27.4968 681.82 Q27.4968 678.573 27.9743 675.709 Q28.4517 672.844 29.4065 670.425 Z\" fill=\"#000000\" fill-rule=\"nonzero\" fill-opacity=\"1\" /><polyline clip-path=\"url(#clip472)\" style=\"stroke:#009af9; stroke-linecap:round; stroke-linejoin:round; stroke-width:4; stroke-opacity:1; fill:none\" points=\"264.778,86.1857 384.023,365.612 503.268,639.084 622.513,900.658 741.758,1117.61 861.003,1232.48 980.248,1332.15 1099.49,1380.45 1218.74,1381.8 1337.98,1383.09 1457.23,1384.1 1576.47,1384.23 1695.72,1384.17 1814.96,1384.21 1934.21,1384.17 2053.45,1384.24 2172.7,1384.23 2291.94,1384.2 \"/>\n",
       "<path clip-path=\"url(#clip470)\" d=\"M2013.82 196.789 L2281.13 196.789 L2281.13 93.1086 L2013.82 93.1086  Z\" fill=\"#ffffff\" fill-rule=\"evenodd\" fill-opacity=\"1\"/>\n",
       "<polyline clip-path=\"url(#clip470)\" style=\"stroke:#000000; stroke-linecap:round; stroke-linejoin:round; stroke-width:4; stroke-opacity:1; fill:none\" points=\"2013.82,196.789 2281.13,196.789 2281.13,93.1086 2013.82,93.1086 2013.82,196.789 \"/>\n",
       "<polyline clip-path=\"url(#clip470)\" style=\"stroke:#009af9; stroke-linecap:round; stroke-linejoin:round; stroke-width:4; stroke-opacity:1; fill:none\" points=\"2037.7,144.949 2180.95,144.949 \"/>\n",
       "<path clip-path=\"url(#clip470)\" d=\"M2218.67 164.636 Q2216.86 169.266 2215.15 170.678 Q2213.43 172.09 2210.56 172.09 L2207.16 172.09 L2207.16 168.525 L2209.66 168.525 Q2211.42 168.525 2212.39 167.692 Q2213.37 166.858 2214.55 163.756 L2215.31 161.812 L2204.82 136.303 L2209.34 136.303 L2217.44 156.581 L2225.54 136.303 L2230.06 136.303 L2218.67 164.636 Z\" fill=\"#000000\" fill-rule=\"nonzero\" fill-opacity=\"1\" /><path clip-path=\"url(#clip470)\" d=\"M2237.35 158.293 L2244.99 158.293 L2244.99 131.928 L2236.68 133.595 L2236.68 129.335 L2244.94 127.669 L2249.62 127.669 L2249.62 158.293 L2257.25 158.293 L2257.25 162.229 L2237.35 162.229 L2237.35 158.293 Z\" fill=\"#000000\" fill-rule=\"nonzero\" fill-opacity=\"1\" /></svg>\n"
      ]
     },
     "metadata": {},
     "output_type": "display_data"
    }
   ],
   "source": [
    "plot(losses; xlabel=\"Epoch\", ylabel=\"Loss\")"
   ]
  },
  {
   "cell_type": "code",
   "execution_count": 15,
   "metadata": {},
   "outputs": [],
   "source": [
    "Y_test_pred = [optimizer(encoder(x)) for x in X_test];"
   ]
  },
  {
   "cell_type": "code",
   "execution_count": 16,
   "metadata": {},
   "outputs": [
    {
     "data": {
      "text/plain": [
       "(Any[Any[Delivery(0.285346664252601, 0.6273783228378499), Delivery(0.24729524152972113, 0.6628829842550245), Delivery(0.3783120422506709, 0.048379579810059865), Delivery(0.47991851433751576, 0.3707969674749293), Delivery(0.8264013413387067, 0.4703621739147121), Delivery(0.8239548385343233, 0.606538926136958), Delivery(0.1350309617043981, 0.3708253000664519), Delivery(0.132045408695281, 0.43123728701746944), Delivery(0.43696027617590094, 0.48756806489193616), Delivery(0.5256088107148651, 0.45820021948378514)  …  Delivery(0.39307066589540063, 0.4521628001019801), Delivery(0.2599478427455764, 0.34918721588169577), Delivery(0.19145244001483747, 0.4720641267535328), Delivery(0.12007041323853788, 0.3480334978059114), Delivery(0.2947361659722497, 0.32271153723750273), Delivery(0.518799375267699, 0.3719299120233189), Delivery(0.20720045402617457, 0.33598569900260533), Delivery(0.14732147941555362, 0.40038345148013094), Delivery(0.3374655945205997, 0.12195601148557526), Delivery(0.37483029765392484, 0.06633492834741664)], Any[Delivery(0.459945591702841, 0.06947460903433474), Delivery(0.46627239448399754, 0.10804848204377145), Delivery(0.48400902292340314, 0.0), Delivery(0.6374869365090288, 0.19005566788627673), Delivery(0.5865550345339836, 0.34366374970194724), Delivery(0.5599667339088438, 0.1670151970005232), Delivery(0.6414325623512279, 0.21456772680322828), Delivery(0.5757840761153871, 0.3207779558294384), Delivery(0.4572522355550041, 0.15216562544237014), Delivery(0.4640626534432567, 0.056420537427700625)  …  Delivery(0.4013468410247256, 0.4795083883465124), Delivery(0.2297260236320552, 0.3290298132877944), Delivery(0.04481693566858558, 0.46702545873812207), Delivery(0.020893917204127747, 0.4625740785823224), Delivery(0.24869075635008484, 0.4217956619166328), Delivery(0.09198107238779507, 0.33763363371255056), Delivery(0.04212211514682242, 0.4560857001540419), Delivery(0.15242988101737584, 0.2727267747119431), Delivery(0.5846183473723122, 0.16959018267408207), Delivery(0.5913032010372863, 0.021633930224925237)], Any[Delivery(0.5101690486752573, 0.06050474842406016), Delivery(0.5079427203258685, 0.0810050064724454), Delivery(0.5511898246835949, 0.6043357450506751), Delivery(0.6553292637433191, 0.8684524457471111), Delivery(0.6549378921530629, 0.6060150913480126), Delivery(0.5968167330937493, 0.5916447999083547), Delivery(0.47955825019411424, 0.6298605865997229), Delivery(0.5769951957419156, 0.5742405181918037), Delivery(0.5391918332596178, 0.29057557113753396), Delivery(0.7173939731213852, 0.3050858390937373)  …  Delivery(0.40287172919434916, 0.2056900781082022), Delivery(0.3478597476481058, 0.040056770774193215), Delivery(0.30130548479305924, 0.7504544823213529), Delivery(0.13646958515948948, 0.5957074404827474), Delivery(0.4127713069632662, 0.33612863540096116), Delivery(0.34209813500540365, 0.2776862890436918), Delivery(0.20720045402617457, 0.33598569900260533), Delivery(0.21789738314733637, 0.4786502409005558), Delivery(0.6672079291911307, 0.616957263627718), Delivery(0.6973407031503552, 0.9202257347085718)], Any[Delivery(0.18973790774482688, 0.5448248020981691), Delivery(0.20289399958270465, 0.5248186552610311), Delivery(0.23319006375511914, 0.4162952444482584), Delivery(0.18874448705097138, 0.5078658986328816), Delivery(0.14505151005987893, 0.5900056061658244), Delivery(0.34725469729069575, 0.4875935663400992), Delivery(0.2516626660379381, 0.7524073448978424), Delivery(0.2484172223438689, 0.6506071119451332), Delivery(0.26011886239428084, 0.71177187832149), Delivery(0.14483766872108492, 0.6656998030034745)  …  Delivery(0.33585066273811304, 0.12343025550790104), Delivery(0.3333208216306353, 0.24805166123453662), Delivery(0.3098351619837189, 0.4271268415552503), Delivery(0.4107783498799045, 0.2010934711796621), Delivery(0.14719084581032876, 0.7416014902466578), Delivery(0.14483766872108492, 0.6656998030034745), Delivery(0.2830691588672635, 0.6390995649136392), Delivery(0.184135236889685, 0.426508409620687), Delivery(0.1409465267822151, 0.5098001449704567), Delivery(0.36855545094971287, 0.34617871081995194)], Any[Delivery(0.6408148673072004, 0.507149692234475), Delivery(0.6495027199615258, 0.5669345050452039), Delivery(0.5751177945018024, 0.1411248410052771), Delivery(0.4899056984224404, 0.016715307247333312), Delivery(0.5470458771666485, 0.14834861831704563), Delivery(0.6312906117336047, 0.289429914407565), Delivery(0.600466786211615, 0.08720724025672248), Delivery(0.6379377437204123, 0.16893697886037545), Delivery(0.48070029331219677, 0.15995367385631118), Delivery(0.5178993988918955, 0.09940369073782407)  …  Delivery(0.14437217660385704, 0.3658380611267808), Delivery(0.12007041323853788, 0.3480334978059114), Delivery(0.3226164452652189, 0.6344543027729677), Delivery(0.27597699351436117, 0.46353238244164613), Delivery(0.08879607086603969, 0.6762848846089282), Delivery(0.1843077738875101, 0.7020434704534626), Delivery(0.8226066197096112, 0.48170239321642555), Delivery(0.7308602949908816, 0.46502227444392286), Delivery(0.17559795521278443, 0.42252418038817774), Delivery(0.19517888760786786, 0.44486673663671)], Any[Delivery(0.22030311810809217, 0.4664683852513962), Delivery(0.2272964200923503, 0.3798946529856446), Delivery(0.6156820828771126, 0.21727812632243557), Delivery(0.5493349692110373, 0.13803220417343934), Delivery(0.44093428486253566, 0.6157203316877231), Delivery(0.6303703490576129, 0.49801507379311455), Delivery(0.8408646369140323, 0.5424088211886928), Delivery(0.8885212951134287, 0.5786428586929303), Delivery(0.6508779330033475, 0.541507249803847), Delivery(0.6775231902123832, 0.568340387943079)  …  Delivery(0.258302504821615, 0.3169708255731391), Delivery(0.41027621350181354, 0.47320692621791327), Delivery(0.12407410081886977, 0.7307373639080632), Delivery(0.11275796052815609, 0.6896358894966669), Delivery(0.38862459762472845, 0.649264297910411), Delivery(0.13556637994099516, 0.7100680854541948), Delivery(0.23001065239779867, 0.45085642609478394), Delivery(0.24884465811370676, 0.37849349038739577), Delivery(0.3683687962295367, 0.3966536922923448), Delivery(0.27423726247075847, 0.3397942858761131)], Any[Delivery(0.24866752629827063, 0.5789027444182104), Delivery(0.22611017587902496, 0.32055733872632464), Delivery(0.08576810503326128, 0.6785688163129502), Delivery(0.15624861453367828, 0.75076235661456), Delivery(0.3324236738486585, 0.525300163947983), Delivery(0.23497654738188853, 0.3069380989493057), Delivery(0.4496436059754003, 0.019768967635450566), Delivery(0.4519154689925923, 0.009392579404136318), Delivery(0.5173245063376221, 0.5550137989856709), Delivery(0.7067233856097342, 0.5802846511051127)  …  Delivery(0.06353111813901965, 0.27038994955820034), Delivery(0.05801161197101185, 0.23046736959121414), Delivery(0.2297260236320552, 0.3362363461428979), Delivery(0.30655127862853937, 0.1145875337281298), Delivery(0.822593439140182, 0.8565843126999665), Delivery(0.6855974722041064, 0.8759355662644511), Delivery(0.15157624238679152, 0.41898792150530145), Delivery(0.179358202885338, 0.42891296963811226), Delivery(0.026897334060966633, 0.43335503726431596), Delivery(0.026919660510197382, 0.45600038782068136)], Any[Delivery(0.41892150153699814, 0.11999062391777308), Delivery(0.4184074870637022, 0.17158829098461406), Delivery(0.15157624238679152, 0.41898792150530145), Delivery(0.14065865886178663, 0.4084734775904555), Delivery(0.6259583477767597, 0.5595064372446557), Delivery(0.533556930071813, 0.7542177374868411), Delivery(0.8268568915626465, 0.49289636193850545), Delivery(0.8348421688107573, 0.5518032791362941), Delivery(0.5865550345339836, 0.34366374970194724), Delivery(0.5665118277403058, 0.16706783481020637)  …  Delivery(0.43454477786769957, 0.49955356865374945), Delivery(0.4272379631693314, 0.46891419146543), Delivery(0.030279878454825174, 0.7811568359848873), Delivery(0.10694873734188096, 0.7640882920251718), Delivery(0.3747919675783543, 0.3450436625753883), Delivery(0.3275823032267483, 0.5310243232018595), Delivery(0.16099064572912755, 0.42512673243792065), Delivery(0.13585548708903605, 0.3206388826209899), Delivery(0.6909376384896753, 0.852415514226277), Delivery(0.6757371951113642, 0.8191097111613943)], Any[Delivery(0.46627239448399754, 0.11041499992253712), Delivery(0.5470458771666485, 0.14516907153641104), Delivery(0.7886415860289403, 0.5866839998695379), Delivery(0.8478587905839776, 0.46096328519765045), Delivery(0.5579868383797002, 0.26403520470421904), Delivery(0.5888410731156906, 0.25535831525902186), Delivery(0.4668240946321394, 0.14367573657969865), Delivery(0.4972042391829754, 0.1089439733437067), Delivery(0.7948064375245165, 0.49961250453906964), Delivery(0.840398049582796, 0.5358596040648355)  …  Delivery(0.06576914478859155, 0.37666846642337853), Delivery(0.049542693593879715, 0.3642756753091744), Delivery(0.020055747556497867, 0.30696807664945935), Delivery(0.2649216461914513, 0.7055707179745067), Delivery(0.19527706567749398, 0.37517207631424043), Delivery(0.23889700016009432, 0.32494346702646465), Delivery(0.6819270991199582, 0.8730774356479436), Delivery(0.6941485089227842, 0.9028679120793393), Delivery(0.10125899875533194, 0.6542977646785502), Delivery(0.33133190285394554, 0.601659286044356)], Any[Delivery(0.6447541341782757, 0.5913857614401469), Delivery(0.6480418603279319, 0.6028119086933813), Delivery(0.6216115757913018, 0.5772406341386114), Delivery(0.641817306270328, 0.5518452092871272), Delivery(0.9328826838644546, 0.6229479191842587), Delivery(0.8765903016291365, 0.6131351974101398), Delivery(0.2553381044628161, 0.3895632907822085), Delivery(0.4598280681497392, 0.3925974023823264), Delivery(0.8852372783448652, 0.5374259805026922), Delivery(0.8043691530000688, 0.5436807918657843)  …  Delivery(0.016374022148674422, 0.265859397203915), Delivery(0.07191227575522405, 0.24657014907045482), Delivery(0.1990464220477554, 0.42176584317516463), Delivery(0.15625847963248132, 0.4161126833375246), Delivery(0.16835758522696237, 0.4233224363195304), Delivery(0.1979857541571381, 0.3201972673561901), Delivery(0.6700373798033852, 0.8735287094360489), Delivery(0.6808953174490958, 0.8580055499547847), Delivery(0.17791901951626543, 0.4164555956286436), Delivery(0.16813244557086454, 0.3965579643392675)]  …  Any[Delivery(0.271675575231721, 0.6101206644067164), Delivery(0.2914364752479562, 0.6159985765872714), Delivery(0.6644177221005382, 0.2789421622504526), Delivery(0.6306357624381042, 0.30520220246699425), Delivery(0.6272959251389392, 0.6975101321659143), Delivery(0.6143010437227202, 0.7262325138057939), Delivery(0.22964214435724556, 0.6925757828045551), Delivery(0.21640847367068533, 0.42016234713142586), Delivery(0.6189511473370902, 0.34084825272587493), Delivery(0.6073465612848921, 0.3159769394459392)  …  Delivery(0.04238161223250581, 0.5179623533662022), Delivery(0.03697631064203134, 0.45349247287899574), Delivery(0.26123477621831304, 0.3967740706280165), Delivery(0.03824499530419458, 0.47865593603475837), Delivery(0.6865819714439272, 0.19522520430950338), Delivery(0.6111210258819149, 0.2648601502358892), Delivery(0.3825869274697584, 0.6228114499599953), Delivery(0.16428525532524343, 0.6780121913282204), Delivery(0.2723139038860466, 0.5510669346864563), Delivery(0.3231313684900019, 0.44541223039475175)], Any[Delivery(0.5007825347165198, 0.12169411618764099), Delivery(0.4918507318994962, 0.05197710852567514), Delivery(0.44772727694513637, 0.09084209076125634), Delivery(0.5144198058405172, 0.10383386074212396), Delivery(0.6587932573953329, 0.5390770340995614), Delivery(0.7109316138634745, 0.5880661749435236), Delivery(0.5865550345339836, 0.34366374970194724), Delivery(0.46696689181920087, 0.0903402163914064), Delivery(0.6075235785638522, 0.19311599205345253), Delivery(0.5671660232462165, 0.19389293963555937)  …  Delivery(0.21764907220176521, 0.5296556371155761), Delivery(0.2210669856077324, 0.44457892038706587), Delivery(0.16734770907019186, 0.3983869736430949), Delivery(0.17791901951626543, 0.40752972855027003), Delivery(0.15713461904569564, 0.2820364100057623), Delivery(0.1920470976039376, 0.3865088110360466), Delivery(0.12248660257486621, 0.5169351844132888), Delivery(0.14514829654110675, 0.39593732790387803), Delivery(0.09117838118336531, 0.6946296544498793), Delivery(0.1022932690317521, 0.7507442594351972)], Any[Delivery(0.5447361995412536, 0.20657335597768997), Delivery(0.6414325623512279, 0.20996890995730894), Delivery(0.6489945593830861, 0.1843289168156771), Delivery(0.5751177945018024, 0.1381001209979298), Delivery(0.67285502190902, 0.5738326468182219), Delivery(0.5344122472945779, 0.7038742222878693), Delivery(0.6751314877925608, 0.6013053458095315), Delivery(0.731451715373294, 0.8956813963097668), Delivery(0.8613980012169438, 0.5956806526209396), Delivery(0.779036997486314, 0.45923783156817544)  …  Delivery(0.2007806154151933, 0.4510424282509611), Delivery(0.09351859057657552, 0.479685648477105), Delivery(0.3677402785441401, 0.3707701207179651), Delivery(0.3589722063115998, 0.32030956846608905), Delivery(0.08879607086603969, 0.6762848846089282), Delivery(0.1652704200229834, 0.6876326525628471), Delivery(0.06236330707642325, 0.44196937047150325), Delivery(0.18131639401946092, 0.4606176273458603), Delivery(0.1910056581387673, 0.437728785503584), Delivery(0.11894168134723024, 0.3351597905104326)], Any[Delivery(0.707007548236192, 0.30492298253826094), Delivery(0.6069009278287616, 0.1619083153496098), Delivery(0.5914234926760368, 0.3291264461109926), Delivery(0.5914234926760368, 0.3220722993044654), Delivery(0.6896333519246608, 0.5878258473307569), Delivery(0.67285502190902, 0.5615337271146721), Delivery(0.48180044980110365, 0.06483920312841313), Delivery(0.4918507318994962, 0.05197710852567514), Delivery(0.5128092794731403, 0.7643174582748362), Delivery(0.5159362075336672, 0.5773932413142793)  …  Delivery(0.4158515134756085, 0.34628141720129907), Delivery(0.3466027329342139, 0.24477600928204243), Delivery(0.6869119120788949, 0.8777037522423279), Delivery(0.644376635868373, 0.9166263834389599), Delivery(0.7032719381604974, 0.41147606347267207), Delivery(0.6812394101554091, 0.5064956646862918), Delivery(0.22394042882931894, 0.61130286973088), Delivery(0.29617466842588136, 0.7390128145858197), Delivery(0.7948064375245165, 0.49961250453906964), Delivery(0.8130684615272441, 0.344040856697012)], Any[Delivery(0.2885907683708575, 0.7026115578363036), Delivery(0.253722857262907, 0.6699030207414389), Delivery(0.24504908864562014, 0.5226673544815845), Delivery(0.29423812562335305, 0.4656875830838237), Delivery(0.5581751796294706, 0.34900059265138184), Delivery(0.603317655740032, 0.3490993023315449), Delivery(0.5043473140169231, 0.09734067342719734), Delivery(0.40187168659933753, 0.10007554268570848), Delivery(0.5595569821714221, 0.2868286386355712), Delivery(0.5751177945018024, 0.1381001209979298)  …  Delivery(0.1061627929075057, 0.3826950195108511), Delivery(0.13096366920935357, 0.35083410191353265), Delivery(0.10876501902851382, 0.36525281660786346), Delivery(0.11050866042612503, 0.36494990685687206), Delivery(0.20497434489552857, 0.47077836018875424), Delivery(0.23582430592292386, 0.4180337435862632), Delivery(0.39307066589540063, 0.4521628001019801), Delivery(0.4224515612610446, 0.462963165104346), Delivery(0.10483735487455154, 0.665324883516363), Delivery(0.14365257700706716, 0.7452331537494972)], Any[Delivery(0.8438234777366571, 0.5762425890021565), Delivery(0.8317813869282813, 0.4967850585181432), Delivery(0.30816094846963005, 0.6317136703700735), Delivery(0.24122648499963636, 0.3765296362597923), Delivery(0.48400902292340314, 0.0), Delivery(0.46479457452416795, 0.02915816401009953), Delivery(0.2590470336033623, 0.5607370827741884), Delivery(0.3667909497229779, 0.3229134238612976), Delivery(0.8327150121974002, 0.45327081744442044), Delivery(0.7424982991558913, 0.43256643937307654)  …  Delivery(0.1061627929075057, 0.3826950195108511), Delivery(0.22741479678970872, 0.39413369447725294), Delivery(0.249224708619797, 0.43262926345233493), Delivery(0.09703112230668655, 0.4213487787171881), Delivery(0.14476835427843737, 0.41668759259439997), Delivery(0.14732147941555362, 0.40038345148013094), Delivery(0.3098889106260637, 0.07931208471269408), Delivery(0.30152472072468306, 0.08901504438417664), Delivery(0.8955846628809779, 0.7500939256484048), Delivery(0.6843047672005227, 0.8458452413739191)], Any[Delivery(0.2272964200923503, 0.388215246401976), Delivery(0.1803716747423537, 0.4518994587660003), Delivery(0.7529150948498898, 0.25593361243939244), Delivery(0.826142873323784, 0.255446223354687), Delivery(0.659167441489227, 0.41261156404233906), Delivery(0.5511898246835949, 0.591383054325294), Delivery(0.5617253148970182, 0.2993149441599379), Delivery(0.43030764649680264, 0.1352736125101057), Delivery(0.2645704194399115, 0.5647383955836641), Delivery(0.3499700376290446, 0.5953320044584071)  …  Delivery(0.06734727038788942, 0.25377930563515905), Delivery(0.008369945146381608, 0.2653360621424512), Delivery(0.3121935438474093, 0.5350491358189454), Delivery(0.17676446919911065, 0.6177043643056875), Delivery(0.41329275136914667, 0.4183258578214157), Delivery(0.4641881078697257, 0.4157193383483497), Delivery(0.7858477898560357, 0.2894765462670014), Delivery(0.7704325960550309, 0.2429838499148174), Delivery(0.6855298745832131, 0.874041066415609), Delivery(0.8942502382781982, 0.8575229412865742)], Any[Delivery(0.5872512929830722, 0.36675255173931764), Delivery(0.6235815518823755, 0.32750633506599386), Delivery(0.3750776226372325, 0.44271436356165933), Delivery(0.34747786660756613, 0.3573234525253714), Delivery(0.5729861543136449, 0.18781092385203896), Delivery(0.5490362432470395, 0.20685693741926148), Delivery(0.22964214435724556, 0.6925757828045551), Delivery(0.18874448705097138, 0.5078658986328816), Delivery(0.5483916276309636, 0.4860573479902232), Delivery(0.6859253472059261, 0.5620206469087466)  …  Delivery(0.12365684662155656, 0.6524730798836919), Delivery(0.35261565522094995, 0.36828684253796534), Delivery(0.40313384043012634, 0.4641078723781394), Delivery(0.43454477786769957, 0.4888466678481553), Delivery(0.41037171351982266, 0.4677418248525832), Delivery(0.43454477786769957, 0.4888466678481553), Delivery(0.8077875549934902, 0.6016487422294302), Delivery(0.8285913573931459, 0.5131981645074677), Delivery(0.04434906221729789, 0.49223126873307477), Delivery(0.2300490047616559, 0.41725129759064156)], Any[Delivery(0.5955261879211432, 0.3592743850636974), Delivery(0.5486723843412303, 0.2852747690150429), Delivery(0.7716112736354622, 0.22635126798574717), Delivery(0.8035108035800416, 0.284500743180876), Delivery(0.8882074318164924, 0.7836945301198225), Delivery(0.4957935736790314, 0.4015655064712811), Delivery(0.8381832137901183, 0.4920129438568952), Delivery(0.8388116918333285, 0.47525329349480794), Delivery(0.43015468811211544, 0.051979080347506874), Delivery(0.6720074143036234, 0.18216943559011148)  …  Delivery(0.24507089682295796, 0.33800539123717743), Delivery(0.3048668575643264, 0.3002796710370759), Delivery(0.1805791410152905, 0.3018888960035494), Delivery(0.10949005021445522, 0.5145121020558464), Delivery(0.34139485221351296, 0.2447526965553754), Delivery(0.3098351619837189, 0.41797225832153795), Delivery(0.5250054090404058, 0.44656252897909754), Delivery(0.6556770655492664, 0.5634487643071148), Delivery(0.1955389352522833, 0.720669942649837), Delivery(0.08879607086603969, 0.6617901124159399)], Any[Delivery(0.35148028980125773, 0.6135185312290181), Delivery(0.30816094846963005, 0.6181741902610279), Delivery(0.13687932042911025, 0.48008380990651317), Delivery(0.24504908864562014, 0.511465057330875), Delivery(0.47153760121968624, 0.03108939832984315), Delivery(0.5493379095480742, 0.08894545028398194), Delivery(0.8133571981722466, 0.4995188728443533), Delivery(0.868013504574344, 0.5852090784778345), Delivery(0.5769951957419156, 0.5868177467405772), Delivery(0.6480418603279319, 0.6028119086933813)  …  Delivery(0.15075547467762349, 0.4807817432734781), Delivery(0.23966549998059733, 0.34516819218324596), Delivery(0.39157308474104635, 0.6051179330478046), Delivery(0.14687710908550516, 0.38574880247836457), Delivery(0.32402190478093384, 0.2901646257568261), Delivery(0.3821617180213942, 0.44221771229544743), Delivery(0.17800127653633713, 0.6845231437733728), Delivery(0.18230305445351008, 0.6512282364792765), Delivery(0.6834252736321587, 0.3252744604113348), Delivery(0.6812394101554091, 0.5064956646862918)]], Any[Any[(1, 2), (3, 4), (5, 6), (7, 8), (9, 10), (11, 12), (13, 14), (15, 16), (17, 18), (19, 20)  …  (89, 90), (91, 92), (93, 94), (95, 96), (97, 98), (99, 100), (101, 102), (103, 104), (105, 106), (107, 108)], Any[(1, 2), (3, 4), (5, 6), (7, 8), (9, 10), (11, 12), (13, 14), (15, 16), (17, 18), (19, 20)  …  (79, 80), (81, 82), (83, 84), (85, 86), (87, 88), (89, 90), (91, 92), (93, 94), (95, 96), (97, 98)], Any[(1, 2), (3, 4), (5, 6), (7, 8), (9, 10), (11, 12), (13, 14), (15, 16), (17, 18), (19, 20)  …  (137, 138), (139, 140), (141, 142), (143, 144), (145, 146), (147, 148), (149, 150), (151, 152), (153, 154), (155, 156)], Any[(1, 2), (3, 4), (5, 6), (7, 8), (9, 10), (11, 12), (13, 14), (15, 16), (17, 18), (19, 20)  …  (101, 102), (103, 104), (105, 106), (107, 108), (109, 110), (111, 112), (113, 114), (115, 116), (117, 118), (119, 120)], Any[(1, 2), (3, 4), (5, 6), (7, 8), (9, 10), (11, 12), (13, 14), (15, 16), (17, 18), (19, 20)  …  (117, 118), (119, 120), (121, 122), (123, 124), (125, 126), (127, 128), (129, 130), (131, 132), (133, 134), (135, 136)], Any[(1, 2), (3, 4), (5, 6), (7, 8), (9, 10), (11, 12), (13, 14), (15, 16), (17, 18), (19, 20)  …  (107, 108), (109, 110), (111, 112), (113, 114), (115, 116), (117, 118), (119, 120), (121, 122), (123, 124), (125, 126)], Any[(1, 2), (3, 4), (5, 6), (7, 8), (9, 10), (11, 12), (13, 14), (15, 16), (17, 18), (19, 20)  …  (143, 144), (145, 146), (147, 148), (149, 150), (151, 152), (153, 154), (155, 156), (157, 158), (159, 160), (161, 162)], Any[(1, 2), (3, 4), (5, 6), (7, 8), (9, 10), (11, 12), (13, 14), (15, 16), (17, 18), (19, 20)  …  (173, 174), (175, 176), (177, 178), (179, 180), (181, 182), (183, 184), (185, 186), (187, 188), (189, 190), (191, 192)], Any[(1, 2), (3, 4), (5, 6), (7, 8), (9, 10), (11, 12), (13, 14), (15, 16), (17, 18), (19, 20)  …  (93, 94), (95, 96), (97, 98), (99, 100), (101, 102), (103, 104), (105, 106), (107, 108), (109, 110), (111, 112)], Any[(1, 2), (3, 4), (5, 6), (7, 8), (9, 10), (11, 12), (13, 14), (15, 16), (17, 18), (19, 20)  …  (131, 132), (133, 134), (135, 136), (137, 138), (139, 140), (141, 142), (143, 144), (145, 146), (147, 148), (149, 150)]  …  Any[(1, 2), (3, 4), (5, 6), (7, 8), (9, 10), (11, 12), (13, 14), (15, 16), (17, 18), (19, 20)  …  (135, 136), (137, 138), (139, 140), (141, 142), (143, 144), (145, 146), (147, 148), (149, 150), (151, 152), (153, 154)], Any[(1, 2), (3, 4), (5, 6), (7, 8), (9, 10), (11, 12), (13, 14), (15, 16), (17, 18), (19, 20)  …  (125, 126), (127, 128), (129, 130), (131, 132), (133, 134), (135, 136), (137, 138), (139, 140), (141, 142), (143, 144)], Any[(1, 2), (3, 4), (5, 6), (7, 8), (9, 10), (11, 12), (13, 14), (15, 16), (17, 18), (19, 20)  …  (145, 146), (147, 148), (149, 150), (151, 152), (153, 154), (155, 156), (157, 158), (159, 160), (161, 162), (163, 164)], Any[(1, 2), (3, 4), (5, 6), (7, 8), (9, 10), (11, 12), (13, 14), (15, 16), (17, 18), (19, 20)  …  (123, 124), (125, 126), (127, 128), (129, 130), (131, 132), (133, 134), (135, 136), (137, 138), (139, 140), (141, 142)], Any[(1, 2), (3, 4), (5, 6), (7, 8), (9, 10), (11, 12), (13, 14), (15, 16), (17, 18), (19, 20)  …  (95, 96), (97, 98), (99, 100), (101, 102), (103, 104), (105, 106), (107, 108), (109, 110), (111, 112), (113, 114)], Any[(1, 2), (3, 4), (5, 6), (7, 8), (9, 10), (11, 12), (13, 14), (15, 16), (17, 18), (19, 20)  …  (93, 94), (95, 96), (97, 98), (99, 100), (101, 102), (103, 104), (105, 106), (107, 108), (109, 110), (111, 112)], Any[(1, 2), (3, 4), (5, 6), (7, 8), (9, 10), (11, 12), (13, 14), (15, 16), (17, 18), (19, 20)  …  (113, 114), (115, 116), (117, 118), (119, 120), (121, 122), (123, 124), (125, 126), (127, 128), (129, 130), (131, 132)], Any[(1, 2), (3, 4), (5, 6), (7, 8), (9, 10), (11, 12), (13, 14), (15, 16), (17, 18), (19, 20)  …  (75, 76), (77, 78), (79, 80), (81, 82), (83, 84), (85, 86), (87, 88), (89, 90), (91, 92), (93, 94)], Any[(1, 2), (3, 4), (5, 6), (7, 8), (9, 10), (11, 12), (13, 14), (15, 16), (17, 18), (19, 20)  …  (81, 82), (83, 84), (85, 86), (87, 88), (89, 90), (91, 92), (93, 94), (95, 96), (97, 98), (99, 100)], Any[(1, 2), (3, 4), (5, 6), (7, 8), (9, 10), (11, 12), (13, 14), (15, 16), (17, 18), (19, 20)  …  (117, 118), (119, 120), (121, 122), (123, 124), (125, 126), (127, 128), (129, 130), (131, 132), (133, 134), (135, 136)]])"
      ]
     },
     "metadata": {},
     "output_type": "display_data"
    }
   ],
   "source": [
    "pred_deliveries, pred_constraints = create_deliveries(X_A_test, X_C_test, Y_test_pred)\n",
    "true_deliveries, true_constraints = create_deliveries(X_A_test, X_C_test, Y_test)"
   ]
  },
  {
   "attachments": {},
   "cell_type": "markdown",
   "metadata": {},
   "source": [
    "Evaluations of the resulting pipeline using TravelingSalesPerson with pickup and delivery"
   ]
  },
  {
   "cell_type": "code",
   "execution_count": 17,
   "metadata": {},
   "outputs": [
    {
     "name": "stderr",
     "output_type": "stream",
     "text": [
      "\r\u001b[32mprogress ...   9%|████                                   |  ETA: 0:44:55\u001b[39m\u001b[K"
     ]
    },
    {
     "name": "stdout",
     "output_type": "stream",
     "text": [
      "Set parameter Username\r\n",
      "Academic license - for non-commercial use only - expires 2024-03-28\r\n",
      "Set parameter Username\r\n",
      "Academic license - for non-commercial use only - expires 2024-03-28\r\n",
      "Set parameter Username\r\n",
      "Academic license - for non-commercial use only - expires 2024-03-28\r\n",
      "Set parameter Username\r\n",
      "Academic license - for non-commercial use only - expires 2024-03-28\r\n",
      "Set parameter Username\r\n",
      "Academic license - for non-commercial use only - expires 2024-03-28\r\n",
      "Set parameter Username\r\n",
      "Academic license - for non-commercial use only - expires 2024-03-28\r\n",
      "Set parameter Username\r\n",
      "Academic license - for non-commercial use only - expires 2024-03-28\r\n",
      "Set parameter Username\r\n",
      "Academic license - for non-commercial use only - expires 2024-03-28\r\n",
      "Set parameter Username\r\n",
      "Academic license - for non-commercial use only - expires 2024-03-28\r\n"
     ]
    },
    {
     "name": "stderr",
     "output_type": "stream",
     "text": [
      "\r\u001b[32mprogress ...  13%|██████                                 |  ETA: 2:23:45\u001b[39m\u001b[K"
     ]
    },
    {
     "name": "stdout",
     "output_type": "stream",
     "text": [
      "Set parameter Username\r\n",
      "Academic license - for non-commercial use only - expires 2024-03-28\r\n",
      "Set parameter Username\r\n",
      "Academic license - for non-commercial use only - expires 2024-03-28\r\n",
      "Set parameter Username\r\n",
      "Academic license - for non-commercial use only - expires 2024-03-28\r\n",
      "Set parameter Username\r\n",
      "Academic license - for non-commercial use only - expires 2024-03-28\r\n"
     ]
    },
    {
     "name": "stderr",
     "output_type": "stream",
     "text": [
      "\r\u001b[32mprogress ...  17%|███████                                |  ETA: 1:56:28\u001b[39m\u001b[K"
     ]
    },
    {
     "name": "stdout",
     "output_type": "stream",
     "text": [
      "Set parameter Username\r\n",
      "Academic license - for non-commercial use only - expires 2024-03-28\r\n",
      "Set parameter Username\r\n",
      "Academic license - for non-commercial use only - expires 2024-03-28\r\n",
      "Set parameter Username\r\n",
      "Academic license - for non-commercial use only - expires 2024-03-28\r\n",
      "Set parameter Username\r\n",
      "Academic license - for non-commercial use only - expires 2024-03-28\r\n"
     ]
    },
    {
     "name": "stdout",
     "output_type": "stream",
     "text": [
      "Set parameter Username\r\n",
      "Academic license - for non-commercial use only - expires 2024-03-28\r\n",
      "Set parameter Username\r\n",
      "Academic license - for non-commercial use only - expires 2024-03-28\r\n",
      "Set parameter Username\r\n",
      "Academic license - for non-commercial use only - expires 2024-03-28\r\n"
     ]
    },
    {
     "name": "stderr",
     "output_type": "stream",
     "text": [
      "\r"
     ]
    },
    {
     "name": "stderr",
     "output_type": "stream",
     "text": [
      "\u001b[32mprogress ...  20%|████████                               |  ETA: 1:54:08\u001b[39m\u001b[K"
     ]
    },
    {
     "name": "stdout",
     "output_type": "stream",
     "text": [
      "Set parameter Username\r\n",
      "Academic license - for non-commercial use only - expires 2024-03-28\r\n",
      "Set parameter Username\r\n",
      "Academic license - for non-commercial use only - expires 2024-03-28\r\n",
      "Set parameter Username\r\n",
      "Academic license - for non-commercial use only - expires 2024-03-28\r\n",
      "Set parameter Username\r\n",
      "Academic license - for non-commercial use only - expires 2024-03-28\r\n",
      "Set parameter Username\r\n",
      "Academic license - for non-commercial use only - expires 2024-03-28\r\n",
      "Set parameter Username\r\n",
      "Academic license - for non-commercial use only - expires 2024-03-28\r\n",
      "Set parameter Username\r\n",
      "Academic license - for non-commercial use only - expires 2024-03-28\r\n",
      "Set parameter Username\r\n",
      "Academic license - for non-commercial use only - expires 2024-03-28\r\n",
      "Set parameter Username\r\n",
      "Academic license - for non-commercial use only - expires 2024-03-28\r\n",
      "Set parameter Username\r\n",
      "Academic license - for non-commercial use only - expires 2024-03-28\r\n"
     ]
    },
    {
     "name": "stderr",
     "output_type": "stream",
     "text": [
      "\r\u001b[32mprogress ...  30%|████████████                           |  ETA: 1:50:25\u001b[39m\u001b[K"
     ]
    },
    {
     "name": "stderr",
     "output_type": "stream",
     "text": [
      "\r\u001b[32mprogress ...  38%|███████████████                        |  ETA: 1:28:37\u001b[39m\u001b[K"
     ]
    },
    {
     "name": "stdout",
     "output_type": "stream",
     "text": [
      "Set parameter Username\r\n",
      "Academic license - for non-commercial use only - expires 2024-03-28\r\n",
      "Set parameter Username\r\n",
      "Academic license - for non-commercial use only - expires 2024-03-28\r\n",
      "Set parameter Username\r\n",
      "Academic license - for non-commercial use only - expires 2024-03-28\r\n",
      "Set parameter Username\r\n",
      "Academic license - for non-commercial use only - expires 2024-03-28\r\n",
      "Set parameter Username\r\n",
      "Academic license - for non-commercial use only - expires 2024-03-28\r\n",
      "Set parameter Username\r\n",
      "Academic license - for non-commercial use only - expires 2024-03-28\r\n",
      "Set parameter Username\r\n",
      "Academic license - for non-commercial use only - expires 2024-03-28\r\n",
      "Set parameter Username\r\n",
      "Academic license - for non-commercial use only - expires 2024-03-28\r\n"
     ]
    },
    {
     "name": "stdout",
     "output_type": "stream",
     "text": [
      "Set parameter Username\r\n",
      "Academic license - for non-commercial use only - expires 2024-03-28\r\n",
      "Set parameter Username\r\n",
      "Academic license - for non-commercial use only - expires 2024-03-28\r\n",
      "Set parameter Username\r\n",
      "Academic license - for non-commercial use only - expires 2024-03-28\r\n",
      "Set parameter Username\r\n",
      "Academic license - for non-commercial use only - expires 2024-03-28\r\n",
      "Set parameter Username\r\n",
      "Academic license - for non-commercial use only - expires 2024-03-28\r\n"
     ]
    },
    {
     "name": "stderr",
     "output_type": "stream",
     "text": [
      "\r"
     ]
    },
    {
     "name": "stderr",
     "output_type": "stream",
     "text": [
      "\u001b[32mprogress ...  43%|█████████████████                      |  ETA: 1:22:59\u001b[39m\u001b[K"
     ]
    },
    {
     "name": "stderr",
     "output_type": "stream",
     "text": [
      "\r\u001b[32mprogress ...  44%|██████████████████                     |  ETA: 1:23:34\u001b[39m\u001b[K"
     ]
    },
    {
     "name": "stdout",
     "output_type": "stream",
     "text": [
      "Set parameter Username\r\n",
      "Academic license - for non-commercial use only - expires 2024-03-28\r\n"
     ]
    },
    {
     "name": "stderr",
     "output_type": "stream",
     "text": [
      "\r\u001b[32mprogress ...  46%|██████████████████                     |  ETA: 1:20:34\u001b[39m\u001b[K"
     ]
    },
    {
     "name": "stdout",
     "output_type": "stream",
     "text": [
      "Set parameter Username\r\n",
      "Academic license - for non-commercial use only - expires 2024-03-28\r\n",
      "Set parameter Username\r\n",
      "Academic license - for non-commercial use only - expires 2024-03-28\r\n"
     ]
    },
    {
     "name": "stderr",
     "output_type": "stream",
     "text": [
      "\r\u001b[32mprogress ...  52%|█████████████████████                  |  ETA: 1:21:39\u001b[39m\u001b[K"
     ]
    },
    {
     "name": "stdout",
     "output_type": "stream",
     "text": [
      "Set parameter Username\r\n",
      "Academic license - for non-commercial use only - expires 2024-03-28\r\n",
      "Set parameter Username\r\n",
      "Academic license - for non-commercial use only - expires 2024-03-28\r\n",
      "Set parameter Username\r\n",
      "Academic license - for non-commercial use only - expires 2024-03-28\r\n",
      "Set parameter Username\r\n",
      "Academic license - for non-commercial use only - expires 2024-03-28\r\n",
      "Set parameter Username\r\n",
      "Academic license - for non-commercial use only - expires 2024-03-28\r\n",
      "Set parameter Username\r\n",
      "Academic license - for non-commercial use only - expires 2024-03-28\r\n"
     ]
    },
    {
     "name": "stderr",
     "output_type": "stream",
     "text": [
      "\r\u001b[32mprogress ...  56%|██████████████████████                 |  ETA: 1:15:56\u001b[39m\u001b[K"
     ]
    },
    {
     "name": "stdout",
     "output_type": "stream",
     "text": [
      "Set parameter Username\r\n",
      "Academic license - for non-commercial use only - expires 2024-03-28\r\n",
      "Set parameter Username\r\n",
      "Academic license - for non-commercial use only - expires 2024-03-28\r\n",
      "Set parameter Username\r\n",
      "Academic license - for non-commercial use only - expires 2024-03-28\r\n",
      "Set parameter Username\r\n",
      "Academic license - for non-commercial use only - expires 2024-03-28\r\n"
     ]
    },
    {
     "name": "stderr",
     "output_type": "stream",
     "text": [
      "\r\u001b[32mprogress ...  57%|███████████████████████                |  ETA: 1:14:29\u001b[39m\u001b[K"
     ]
    },
    {
     "name": "stdout",
     "output_type": "stream",
     "text": [
      "Set parameter Username\r\n",
      "Academic license - for non-commercial use only - expires 2024-03-28\r\n"
     ]
    },
    {
     "name": "stdout",
     "output_type": "stream",
     "text": [
      "Set parameter Username\r\n",
      "Academic license - for non-commercial use only - expires 2024-03-28\r\n"
     ]
    },
    {
     "name": "stderr",
     "output_type": "stream",
     "text": [
      "\r\u001b[32mprogress ...  58%|███████████████████████                |  ETA: 1:13:37\u001b[39m\u001b[K"
     ]
    },
    {
     "name": "stdout",
     "output_type": "stream",
     "text": [
      "Set parameter Username\r\n",
      "Academic license - for non-commercial use only - expires 2024-03-28\r\n",
      "Set parameter Username\r\n",
      "Academic license - for non-commercial use only - expires 2024-03-28\r\n",
      "Set parameter Username\r\n",
      "Academic license - for non-commercial use only - expires 2024-03-28\r\n",
      "Set parameter Username\r\n",
      "Academic license - for non-commercial use only - expires 2024-03-28\r\n",
      "Set parameter Username\r\n",
      "Academic license - for non-commercial use only - expires 2024-03-28\r\n"
     ]
    },
    {
     "name": "stderr",
     "output_type": "stream",
     "text": [
      "\r"
     ]
    },
    {
     "name": "stderr",
     "output_type": "stream",
     "text": [
      "\u001b[32mprogress ...  63%|█████████████████████████              |  ETA: 1:05:31\u001b[39m\u001b[K"
     ]
    },
    {
     "name": "stdout",
     "output_type": "stream",
     "text": [
      "Set parameter Username\r\n",
      "Academic license - for non-commercial use only - expires 2024-03-28\r\n"
     ]
    },
    {
     "name": "stderr",
     "output_type": "stream",
     "text": [
      "\r"
     ]
    },
    {
     "name": "stderr",
     "output_type": "stream",
     "text": [
      "\u001b[32mprogress ...  64%|█████████████████████████              |  ETA: 1:05:15\u001b[39m\u001b[K"
     ]
    },
    {
     "name": "stdout",
     "output_type": "stream",
     "text": [
      "Set parameter Username\r\n",
      "Academic license - for non-commercial use only - expires 2024-03-28\r\n"
     ]
    },
    {
     "name": "stderr",
     "output_type": "stream",
     "text": [
      "\r\u001b[32mprogress ...  65%|██████████████████████████             |  ETA: 1:07:32\u001b[39m\u001b[K"
     ]
    },
    {
     "name": "stderr",
     "output_type": "stream",
     "text": [
      "\r\u001b[32mprogress ...  67%|███████████████████████████            |  ETA: 1:03:18\u001b[39m\u001b[K"
     ]
    },
    {
     "name": "stdout",
     "output_type": "stream",
     "text": [
      "Set parameter Username\r\n",
      "Academic license - for non-commercial use only - expires 2024-03-28\r\n",
      "Set parameter Username\r\n",
      "Academic license - for non-commercial use only - expires 2024-03-28\r\n"
     ]
    },
    {
     "name": "stderr",
     "output_type": "stream",
     "text": [
      "\r\u001b[32mprogress ...  69%|███████████████████████████            |  ETA: 0:58:57\u001b[39m\u001b[K"
     ]
    },
    {
     "name": "stdout",
     "output_type": "stream",
     "text": [
      "Set parameter Username\r\n",
      "Academic license - for non-commercial use only - expires 2024-03-28\r\n",
      "Set parameter Username\r\n",
      "Academic license - for non-commercial use only - expires 2024-03-28\r\n"
     ]
    },
    {
     "name": "stderr",
     "output_type": "stream",
     "text": [
      "\r\u001b[32mprogress ...  73%|█████████████████████████████          |  ETA: 0:49:49\u001b[39m\u001b[K"
     ]
    },
    {
     "name": "stdout",
     "output_type": "stream",
     "text": [
      "Set parameter Username\r\n",
      "Academic license - for non-commercial use only - expires 2024-03-28\r\n",
      "Set parameter Username\r\n",
      "Academic license - for non-commercial use only - expires 2024-03-28\r\n",
      "Set parameter Username\r\n",
      "Academic license - for non-commercial use only - expires 2024-03-28\r\n",
      "Set parameter Username\r\n",
      "Academic license - for non-commercial use only - expires 2024-03-28\r\n"
     ]
    },
    {
     "name": "stderr",
     "output_type": "stream",
     "text": [
      "\r\u001b[32mprogress ...  76%|██████████████████████████████         |  ETA: 0:43:25\u001b[39m\u001b[K"
     ]
    },
    {
     "name": "stdout",
     "output_type": "stream",
     "text": [
      "Set parameter Username\r\n",
      "Academic license - for non-commercial use only - expires 2024-03-28\r\n",
      "Set parameter Username\r\n",
      "Academic license - for non-commercial use only - expires 2024-03-28\r\n",
      "Set parameter Username\r\n",
      "Academic license - for non-commercial use only - expires 2024-03-28\r\n"
     ]
    },
    {
     "name": "stderr",
     "output_type": "stream",
     "text": [
      "\r\u001b[32mprogress ...  77%|███████████████████████████████        |  ETA: 0:42:18\u001b[39m\u001b[K"
     ]
    },
    {
     "name": "stdout",
     "output_type": "stream",
     "text": [
      "Set parameter Username\r\n",
      "Academic license - for non-commercial use only - expires 2024-03-28\r\n"
     ]
    },
    {
     "name": "stderr",
     "output_type": "stream",
     "text": [
      "\r\u001b[32mprogress ...  80%|████████████████████████████████       |  ETA: 0:36:14\u001b[39m\u001b[K"
     ]
    },
    {
     "name": "stdout",
     "output_type": "stream",
     "text": [
      "Set parameter Username\r\n",
      "Academic license - for non-commercial use only - expires 2024-03-28\r\n",
      "Set parameter Username\r\n",
      "Academic license - for non-commercial use only - expires 2024-03-28\r\n",
      "Set parameter Username\r\n",
      "Academic license - for non-commercial use only - expires 2024-03-28\r\n"
     ]
    },
    {
     "name": "stderr",
     "output_type": "stream",
     "text": [
      "\r\u001b[32mprogress ...  82%|████████████████████████████████       |  ETA: 0:32:38\u001b[39m\u001b[K"
     ]
    },
    {
     "name": "stdout",
     "output_type": "stream",
     "text": [
      "Set parameter Username\r\n",
      "Academic license - for non-commercial use only - expires 2024-03-28\r\n",
      "Set parameter Username\r\n",
      "Academic license - for non-commercial use only - expires 2024-03-28\r\n"
     ]
    },
    {
     "name": "stderr",
     "output_type": "stream",
     "text": [
      "\r\u001b[32mprogress ...  85%|██████████████████████████████████     |  ETA: 0:26:36\u001b[39m\u001b[K"
     ]
    },
    {
     "name": "stdout",
     "output_type": "stream",
     "text": [
      "Set parameter Username\r\n",
      "Academic license - for non-commercial use only - expires 2024-03-28\r\n",
      "Set parameter Username\r\n",
      "Academic license - for non-commercial use only - expires 2024-03-28\r\n",
      "Set parameter Username\r\n",
      "Academic license - for non-commercial use only - expires 2024-03-28\r\n"
     ]
    },
    {
     "name": "stderr",
     "output_type": "stream",
     "text": [
      "\r\u001b[32mprogress ...  88%|███████████████████████████████████    |  ETA: 0:21:18\u001b[39m\u001b[K"
     ]
    },
    {
     "name": "stdout",
     "output_type": "stream",
     "text": [
      "Set parameter Username\r\n",
      "Academic license - for non-commercial use only - expires 2024-03-28\r\n",
      "Set parameter Username\r\n",
      "Academic license - for non-commercial use only - expires 2024-03-28\r\n",
      "Set parameter Username\r\n",
      "Academic license - for non-commercial use only - expires 2024-03-28\r\n"
     ]
    },
    {
     "name": "stdout",
     "output_type": "stream",
     "text": [
      "Set parameter Username\r\n",
      "Academic license - for non-commercial use only - expires 2024-03-28\r\n"
     ]
    },
    {
     "name": "stderr",
     "output_type": "stream",
     "text": [
      "\r\u001b[32mprogress ...  89%|███████████████████████████████████    |  ETA: 0:19:34\u001b[39m\u001b[K"
     ]
    },
    {
     "name": "stderr",
     "output_type": "stream",
     "text": [
      "\r\u001b[32mprogress ...  90%|████████████████████████████████████   |  ETA: 0:17:51\u001b[39m\u001b[K"
     ]
    },
    {
     "name": "stdout",
     "output_type": "stream",
     "text": [
      "Set parameter Username\r\n",
      "Academic license - for non-commercial use only - expires 2024-03-28\r\n"
     ]
    },
    {
     "name": "stderr",
     "output_type": "stream",
     "text": [
      "\r\u001b[32mprogress ...  92%|████████████████████████████████████   |  ETA: 0:14:10\u001b[39m\u001b[K"
     ]
    },
    {
     "name": "stdout",
     "output_type": "stream",
     "text": [
      "Set parameter Username\r\n",
      "Academic license - for non-commercial use only - expires 2024-03-28\r\n",
      "Set parameter Username\r\n",
      "Academic license - for non-commercial use only - expires 2024-03-28\r\n"
     ]
    },
    {
     "name": "stderr",
     "output_type": "stream",
     "text": [
      "\r\u001b[32mprogress ...  94%|█████████████████████████████████████  |  ETA: 0:10:35\u001b[39m\u001b[K"
     ]
    },
    {
     "name": "stdout",
     "output_type": "stream",
     "text": [
      "Set parameter Username\r\n",
      "Academic license - for non-commercial use only - expires 2024-03-28\r\n",
      "Set parameter Username\r\n",
      "Academic license - for non-commercial use only - expires 2024-03-28\r\n"
     ]
    },
    {
     "name": "stderr",
     "output_type": "stream",
     "text": [
      "\r\u001b[32mprogress ...  99%|███████████████████████████████████████|  ETA: 0:01:42\u001b[39m\u001b[K"
     ]
    },
    {
     "name": "stdout",
     "output_type": "stream",
     "text": [
      "Set parameter Username\r\n",
      "Academic license - for non-commercial use only - expires 2024-03-28\r\n",
      "Set parameter Username\r\n",
      "Academic license - for non-commercial use only - expires 2024-03-28\r\n",
      "Set parameter Username\r\n",
      "Academic license - for non-commercial use only - expires 2024-03-28\r\n",
      "Set parameter Username\r\n",
      "Academic license - for non-commercial use only - expires 2024-03-28\r\n",
      "Set parameter Username\r\n",
      "Academic license - for non-commercial use only - expires 2024-03-28\r\n"
     ]
    },
    {
     "name": "stderr",
     "output_type": "stream",
     "text": [
      "\r\u001b[32mprogress ... 100%|███████████████████████████████████████| Time: 2:48:59\u001b[39m\u001b[K\n"
     ]
    },
    {
     "name": "stdout",
     "output_type": "stream",
     "text": [
      "Set parameter Username\r\n",
      "Academic license - for non-commercial use only - expires 2024-03-28\r\n"
     ]
    }
   ],
   "source": [
    "pred_solution = []\n",
    "@showprogress 120 \"progress ...\" for (delivery, constraint) in zip(pred_deliveries, pred_constraints)\n",
    "   push!(pred_solution, solve_tsp(delivery, constraint, Gurobi.Optimizer));\n",
    "end"
   ]
  },
  {
   "cell_type": "code",
   "execution_count": 18,
   "metadata": {},
   "outputs": [],
   "source": [
    "file = File(format\"JLD2\", \"Data/multi_output_0,1.jld2\")\n",
    "  \n",
    "# Save data into the file\n",
    "save(file, \"delivery\", pred_deliveries, \"constraint\", pred_constraints, \"solutions\", pred_solution, \"trainings_losses\", losses)"
   ]
  },
  {
   "cell_type": "code",
   "execution_count": 19,
   "metadata": {},
   "outputs": [],
   "source": []
  }
 ],
 "metadata": {
  "kernelspec": {
   "display_name": "Julia 1.8.5",
   "language": "julia",
   "name": "julia-1.8"
  },
  "language_info": {
   "file_extension": ".jl",
   "mimetype": "application/julia",
   "name": "julia",
   "version": "1.8.5"
  },
  "orig_nbformat": 4
 },
 "nbformat": 4,
 "nbformat_minor": 2
}
