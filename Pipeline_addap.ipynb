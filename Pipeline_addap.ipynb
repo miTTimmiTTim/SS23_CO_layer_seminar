{
 "cells": [
  {
   "cell_type": "code",
   "execution_count": 1,
   "metadata": {},
   "outputs": [],
   "source": [
    "using DataFrames\n",
    "using Hungarian\n",
    "using InferOpt\n",
    "using Flux\n",
    "using StatsBase\n",
    "using MLJ\n",
    "using ProgressMeter\n",
    "using Random"
   ]
  },
  {
   "cell_type": "code",
   "execution_count": 2,
   "metadata": {},
   "outputs": [],
   "source": [
    "using JuMP\n",
    "using MathOptInterface\n",
    "using Gurobi\n",
    "using Graphs\n",
    "using Plots\n",
    "using JLD2\n",
    "using FileIO"
   ]
  },
  {
   "cell_type": "code",
   "execution_count": 3,
   "metadata": {},
   "outputs": [
    {
     "data": {
      "text/plain": [
       "display_solution (generic function with 1 method)"
      ]
     },
     "metadata": {},
     "output_type": "display_data"
    }
   ],
   "source": [
    "include(\"optimization_Util.jl\")"
   ]
  },
  {
   "attachments": {},
   "cell_type": "markdown",
   "metadata": {},
   "source": [
    "### Training and evaluation of the pipeline using a additive perturbation layer "
   ]
  },
  {
   "cell_type": "code",
   "execution_count": 4,
   "metadata": {},
   "outputs": [],
   "source": [
    "ENV[\"COLUMNS\"] = 100\n",
    "ENV[\"LINES\"] = 100\n",
    "Random.seed!(67);"
   ]
  },
  {
   "cell_type": "code",
   "execution_count": 5,
   "metadata": {},
   "outputs": [
    {
     "data": {
      "text/plain": [
       "Dict{String, Any} with 4 entries:\n",
       "  \"Y\"   => [[0 0 … 0 0; 0 0 … 0 0; … ; 0 0 … 0 0; 0 0 … 0 0], [0 0 … 0 0; 0 0 … 0 0; … ; 0 0 … 0 0;…\n",
       "  \"X\"   => Array{Float32, 3}[[0.0 0.0 … 0.0 0.0; 0.0303127 0.0325272 … 0.0179837 0.0136011; 0.02519…\n",
       "  \"X_A\" => DataFrame[\u001b[1m67×2 DataFrame\u001b[0m…\n",
       "  \"X_C\" => DataFrame[\u001b[1m201×2 DataFrame\u001b[0m…"
      ]
     },
     "metadata": {},
     "output_type": "display_data"
    }
   ],
   "source": [
    "file = File(format\"JLD2\", \"Data/train_data.jld2\")\n",
    "train_data = JLD2.load(file)"
   ]
  },
  {
   "cell_type": "code",
   "execution_count": 6,
   "metadata": {},
   "outputs": [
    {
     "data": {
      "text/plain": [
       "Dict{String, Any} with 4 entries:\n",
       "  \"Y\"   => [[0 0 … 0 0; 0 0 … 0 0; … ; 0 0 … 0 0; 0 0 … 0 0], [0 0 … 0 0; 0 0 … 0 0; … ; 0 0 … 0 0;…\n",
       "  \"X\"   => Array{Float32, 3}[[1.0 0.0 … 0.0 0.0; 0.0174359 0.0132141 … 0.00802322 0.0326288; 0.0329…\n",
       "  \"X_A\" => DataFrame[\u001b[1m54×2 DataFrame\u001b[0m…\n",
       "  \"X_C\" => DataFrame[\u001b[1m177×2 DataFrame\u001b[0m…"
      ]
     },
     "metadata": {},
     "output_type": "display_data"
    }
   ],
   "source": [
    "file = File(format\"JLD2\", \"Data/test_data.jld2\")\n",
    "test_data = JLD2.load(file)"
   ]
  },
  {
   "cell_type": "code",
   "execution_count": 7,
   "metadata": {},
   "outputs": [],
   "source": [
    "X_train, X_A_train, X_C_train, Y_train = train_data[\"X\"], train_data[\"X_A\"], train_data[\"X_C\"], train_data[\"Y\"];\n"
   ]
  },
  {
   "cell_type": "code",
   "execution_count": 8,
   "metadata": {},
   "outputs": [],
   "source": [
    "X_test, X_A_test, X_C_test, Y_test = test_data[\"X\"], test_data[\"X_A\"], test_data[\"X_C\"], test_data[\"Y\"];"
   ]
  },
  {
   "cell_type": "code",
   "execution_count": 9,
   "metadata": {},
   "outputs": [
    {
     "data": {
      "text/plain": [
       "optimizer"
      ]
     },
     "metadata": {},
     "output_type": "display_data"
    }
   ],
   "source": [
    "\"\"\"\n",
    "optimizer(cost_matrix)\n",
    "\n",
    "Wrapper function for the hungarian assignment algorithm.\n",
    "\"\"\"\n",
    "function optimizer(cost_matrix)\n",
    "    vector = hungarian(-cost_matrix)[1]\n",
    "    n, m = size(cost_matrix)\n",
    "\n",
    "    # Create a matrix of size n×n filled with 0's\n",
    "    matrix = zeros(Int, n, m)\n",
    "\n",
    "    # Set the value to 1 at the specified points in the vector\n",
    "    for i in 1:length(vector)\n",
    "        matrix[i, vector[i]] = 1\n",
    "    end\n",
    "    return matrix\n",
    "end"
   ]
  },
  {
   "attachments": {},
   "cell_type": "markdown",
   "metadata": {},
   "source": [
    "Additive perturbation Layer using ε \\in {0.1, 1} and nb_samples=5"
   ]
  },
  {
   "cell_type": "code",
   "execution_count": 20,
   "metadata": {},
   "outputs": [],
   "source": [
    "optimizer_layer = PerturbedAdditive(optimizer; ε=0.1, nb_samples=5, seed=69);\n",
    "loss = FenchelYoungLoss(optimizer_layer);"
   ]
  },
  {
   "attachments": {},
   "cell_type": "markdown",
   "metadata": {},
   "source": [
    "Linear Model for each entry in the Matrix\n",
    "with dimension reduction to reduce M:N:4 Matrix to M:N Matrix"
   ]
  },
  {
   "cell_type": "code",
   "execution_count": 21,
   "metadata": {},
   "outputs": [
    {
     "data": {
      "text/plain": [
       "Chain(\n",
       "  Dense(4 => 1),                        \u001b[90m# 5 parameters\u001b[39m\n",
       "  var\"#36#37\"(),\n",
       ") "
      ]
     },
     "metadata": {},
     "output_type": "display_data"
    }
   ],
   "source": [
    "og_encoder = Chain(\n",
    "  Dense(4, 1),\n",
    "  z -> dropdims(z; dims=1),\n",
    ")"
   ]
  },
  {
   "attachments": {},
   "cell_type": "markdown",
   "metadata": {},
   "source": [
    "Trainings run of the Pipeline using Adam optimizer with early stop and best model recovery"
   ]
  },
  {
   "cell_type": "code",
   "execution_count": 22,
   "metadata": {},
   "outputs": [
    {
     "name": "stderr",
     "output_type": "stream",
     "text": [
      "\r\u001b[32mTraining epoch:   1%|█                                   |  ETA: 0:05:48\u001b[39m\u001b[K"
     ]
    },
    {
     "name": "stderr",
     "output_type": "stream",
     "text": [
      "\r\u001b[32mTraining epoch:   2%|█                                   |  ETA: 0:05:23\u001b[39m\u001b[K"
     ]
    },
    {
     "name": "stderr",
     "output_type": "stream",
     "text": [
      "\r\u001b[32mTraining epoch:   2%|█                                   |  ETA: 0:05:17\u001b[39m\u001b[K"
     ]
    },
    {
     "name": "stderr",
     "output_type": "stream",
     "text": [
      "\r\u001b[32mTraining epoch:   2%|█                                   |  ETA: 0:05:07\u001b[39m\u001b[K"
     ]
    },
    {
     "name": "stderr",
     "output_type": "stream",
     "text": [
      "\r\u001b[32mTraining epoch:   3%|██                                  |  ETA: 0:05:02\u001b[39m\u001b[K"
     ]
    },
    {
     "name": "stderr",
     "output_type": "stream",
     "text": [
      "\r\u001b[32mTraining epoch:   4%|██                                  |  ETA: 0:04:58\u001b[39m\u001b[K"
     ]
    },
    {
     "name": "stderr",
     "output_type": "stream",
     "text": [
      "\r\u001b[32mTraining epoch:   4%|██                                  |  ETA: 0:04:52\u001b[39m\u001b[K"
     ]
    },
    {
     "name": "stderr",
     "output_type": "stream",
     "text": [
      "\r\u001b[32mTraining epoch:   4%|██                                  |  ETA: 0:04:46\u001b[39m\u001b[K"
     ]
    },
    {
     "name": "stderr",
     "output_type": "stream",
     "text": [
      "\r\u001b[32mTraining epoch:   5%|██                                  |  ETA: 0:04:41\u001b[39m\u001b[K"
     ]
    },
    {
     "name": "stderr",
     "output_type": "stream",
     "text": [
      "\r\u001b[32mTraining epoch:   6%|██                                  |  ETA: 0:04:36\u001b[39m\u001b[K"
     ]
    },
    {
     "name": "stderr",
     "output_type": "stream",
     "text": [
      "\r\u001b[32mTraining epoch:   6%|███                                 |  ETA: 0:04:32\u001b[39m\u001b[K"
     ]
    },
    {
     "name": "stderr",
     "output_type": "stream",
     "text": [
      "\r\u001b[32mTraining epoch:   6%|███                                 |  ETA: 0:04:28\u001b[39m\u001b[K"
     ]
    },
    {
     "name": "stderr",
     "output_type": "stream",
     "text": [
      "\r\u001b[32mTraining epoch:   7%|███                                 |  ETA: 0:04:24\u001b[39m\u001b[K"
     ]
    },
    {
     "name": "stderr",
     "output_type": "stream",
     "text": [
      "\r\u001b[32mTraining epoch:   8%|███                                 |  ETA: 0:04:21\u001b[39m\u001b[K"
     ]
    },
    {
     "name": "stderr",
     "output_type": "stream",
     "text": [
      "\r\u001b[32mTraining epoch:   8%|███                                 |  ETA: 0:04:18\u001b[39m\u001b[K"
     ]
    },
    {
     "name": "stderr",
     "output_type": "stream",
     "text": [
      "\r\u001b[32mTraining epoch:   8%|████                                |  ETA: 0:04:15\u001b[39m\u001b[K"
     ]
    },
    {
     "name": "stderr",
     "output_type": "stream",
     "text": [
      "\r\u001b[32mTraining epoch:   9%|████                                |  ETA: 0:04:13\u001b[39m\u001b[K"
     ]
    },
    {
     "name": "stderr",
     "output_type": "stream",
     "text": [
      "\r\u001b[32mTraining epoch:  10%|████                                |  ETA: 0:04:10\u001b[39m\u001b[K"
     ]
    },
    {
     "name": "stderr",
     "output_type": "stream",
     "text": [
      "\r\u001b[32mTraining epoch:  10%|████                                |  ETA: 0:04:08\u001b[39m\u001b[K"
     ]
    },
    {
     "name": "stderr",
     "output_type": "stream",
     "text": [
      "\r\u001b[32mTraining epoch:  10%|████                                |  ETA: 0:04:05\u001b[39m\u001b[K"
     ]
    },
    {
     "name": "stderr",
     "output_type": "stream",
     "text": [
      "\r\u001b[32mTraining epoch:  11%|████                                |  ETA: 0:04:03\u001b[39m\u001b[K"
     ]
    },
    {
     "name": "stderr",
     "output_type": "stream",
     "text": [
      "\r\u001b[32mTraining epoch:  12%|█████                               |  ETA: 0:04:00\u001b[39m\u001b[K"
     ]
    },
    {
     "name": "stderr",
     "output_type": "stream",
     "text": [
      "\r\u001b[32mTraining epoch:  12%|█████                               |  ETA: 0:03:58\u001b[39m\u001b[K"
     ]
    },
    {
     "name": "stderr",
     "output_type": "stream",
     "text": [
      "\r\u001b[32mTraining epoch:  12%|█████                               |  ETA: 0:03:57\u001b[39m\u001b[K"
     ]
    },
    {
     "name": "stderr",
     "output_type": "stream",
     "text": [
      "\r\u001b[32mTraining epoch:  13%|█████                               |  ETA: 0:03:55\u001b[39m\u001b[K"
     ]
    },
    {
     "name": "stderr",
     "output_type": "stream",
     "text": [
      "\r\u001b[32mTraining epoch:  14%|█████                               |  ETA: 0:03:53\u001b[39m\u001b[K"
     ]
    },
    {
     "name": "stderr",
     "output_type": "stream",
     "text": [
      "\r\u001b[32mTraining epoch:  14%|██████                              |  ETA: 0:03:51\u001b[39m\u001b[K"
     ]
    },
    {
     "name": "stderr",
     "output_type": "stream",
     "text": [
      "\r\u001b[32mTraining epoch:  14%|██████                              |  ETA: 0:03:49\u001b[39m\u001b[K"
     ]
    },
    {
     "name": "stderr",
     "output_type": "stream",
     "text": [
      "\r\u001b[32mTraining epoch:  15%|██████                              |  ETA: 0:03:47\u001b[39m\u001b[K"
     ]
    },
    {
     "name": "stderr",
     "output_type": "stream",
     "text": [
      "\r\u001b[32mTraining epoch:  16%|██████                              |  ETA: 0:03:46\u001b[39m\u001b[K"
     ]
    },
    {
     "name": "stderr",
     "output_type": "stream",
     "text": [
      "\r\u001b[32mTraining epoch:  16%|██████                              |  ETA: 0:03:44\u001b[39m\u001b[K"
     ]
    },
    {
     "name": "stderr",
     "output_type": "stream",
     "text": [
      "\r\u001b[32mTraining epoch:  16%|██████                              |  ETA: 0:03:42\u001b[39m\u001b[K"
     ]
    },
    {
     "name": "stderr",
     "output_type": "stream",
     "text": [
      "\r\u001b[32mTraining epoch:  17%|███████                             |  ETA: 0:03:41\u001b[39m\u001b[K"
     ]
    },
    {
     "name": "stderr",
     "output_type": "stream",
     "text": [
      "\r\u001b[32mTraining epoch:  18%|███████                             |  ETA: 0:03:39\u001b[39m\u001b[K"
     ]
    },
    {
     "name": "stderr",
     "output_type": "stream",
     "text": [
      "\r\u001b[32mTraining epoch:  18%|███████                             |  ETA: 0:03:37\u001b[39m\u001b[K"
     ]
    },
    {
     "name": "stderr",
     "output_type": "stream",
     "text": [
      "\r\u001b[32mTraining epoch:  18%|███████                             |  ETA: 0:03:36\u001b[39m\u001b[K"
     ]
    },
    {
     "name": "stderr",
     "output_type": "stream",
     "text": [
      "\r\u001b[32mTraining epoch:  19%|███████                             |  ETA: 0:03:34\u001b[39m\u001b[K"
     ]
    },
    {
     "name": "stderr",
     "output_type": "stream",
     "text": [
      "\r\u001b[32mTraining epoch:  20%|████████                            |  ETA: 0:03:33\u001b[39m\u001b[K"
     ]
    },
    {
     "name": "stderr",
     "output_type": "stream",
     "text": [
      "\r\u001b[32mTraining epoch:  20%|████████                            |  ETA: 0:03:31\u001b[39m\u001b[K"
     ]
    },
    {
     "name": "stderr",
     "output_type": "stream",
     "text": [
      "\r\u001b[32mTraining epoch:  20%|████████                            |  ETA: 0:03:29\u001b[39m\u001b[K"
     ]
    },
    {
     "name": "stderr",
     "output_type": "stream",
     "text": [
      "\r\u001b[32mTraining epoch:  21%|████████                            |  ETA: 0:03:28\u001b[39m\u001b[K"
     ]
    },
    {
     "name": "stderr",
     "output_type": "stream",
     "text": [
      "\r\u001b[32mTraining epoch:  22%|████████                            |  ETA: 0:03:27\u001b[39m\u001b[K"
     ]
    },
    {
     "name": "stderr",
     "output_type": "stream",
     "text": [
      "\r\u001b[32mTraining epoch:  22%|████████                            |  ETA: 0:03:25\u001b[39m\u001b[K"
     ]
    },
    {
     "name": "stderr",
     "output_type": "stream",
     "text": [
      "\r\u001b[32mTraining epoch:  22%|█████████                           |  ETA: 0:03:24\u001b[39m\u001b[K"
     ]
    },
    {
     "name": "stderr",
     "output_type": "stream",
     "text": [
      "\r\u001b[32mTraining epoch:  23%|█████████                           |  ETA: 0:03:22\u001b[39m\u001b[K"
     ]
    },
    {
     "name": "stderr",
     "output_type": "stream",
     "text": [
      "\r\u001b[32mTraining epoch:  24%|█████████                           |  ETA: 0:03:21\u001b[39m\u001b[K"
     ]
    },
    {
     "name": "stderr",
     "output_type": "stream",
     "text": [
      "\r\u001b[32mTraining epoch:  24%|█████████                           |  ETA: 0:03:20\u001b[39m\u001b[K"
     ]
    },
    {
     "name": "stderr",
     "output_type": "stream",
     "text": [
      "\r\u001b[32mTraining epoch:  24%|█████████                           |  ETA: 0:03:18\u001b[39m\u001b[K"
     ]
    },
    {
     "name": "stderr",
     "output_type": "stream",
     "text": [
      "\r\u001b[32mTraining epoch:  25%|██████████                          |  ETA: 0:03:17\u001b[39m\u001b[K"
     ]
    },
    {
     "name": "stderr",
     "output_type": "stream",
     "text": [
      "\r\u001b[32mTraining epoch:  26%|██████████                          |  ETA: 0:03:15\u001b[39m\u001b[K"
     ]
    },
    {
     "name": "stderr",
     "output_type": "stream",
     "text": [
      "\r\u001b[32mTraining epoch:  26%|██████████                          |  ETA: 0:03:14\u001b[39m\u001b[K"
     ]
    },
    {
     "name": "stderr",
     "output_type": "stream",
     "text": [
      "\r\u001b[32mTraining epoch:  26%|██████████                          |  ETA: 0:03:12\u001b[39m\u001b[K"
     ]
    },
    {
     "name": "stderr",
     "output_type": "stream",
     "text": [
      "\r\u001b[32mTraining epoch:  27%|██████████                          |  ETA: 0:03:11\u001b[39m\u001b[K"
     ]
    },
    {
     "name": "stderr",
     "output_type": "stream",
     "text": [
      "\r\u001b[32mTraining epoch:  28%|██████████                          |  ETA: 0:03:10\u001b[39m\u001b[K"
     ]
    },
    {
     "name": "stderr",
     "output_type": "stream",
     "text": [
      "\r\u001b[32mTraining epoch:  28%|███████████                         |  ETA: 0:03:08\u001b[39m\u001b[K"
     ]
    },
    {
     "name": "stderr",
     "output_type": "stream",
     "text": [
      "\r\u001b[32mTraining epoch:  28%|███████████                         |  ETA: 0:03:07\u001b[39m\u001b[K"
     ]
    },
    {
     "name": "stderr",
     "output_type": "stream",
     "text": [
      "\r\u001b[32mTraining epoch:  29%|███████████                         |  ETA: 0:03:05\u001b[39m\u001b[K"
     ]
    },
    {
     "name": "stderr",
     "output_type": "stream",
     "text": [
      "\r\u001b[32mTraining epoch:  30%|███████████                         |  ETA: 0:03:04\u001b[39m\u001b[K"
     ]
    },
    {
     "name": "stderr",
     "output_type": "stream",
     "text": [
      "\r\u001b[32mTraining epoch:  30%|███████████                         |  ETA: 0:03:03\u001b[39m\u001b[K"
     ]
    },
    {
     "name": "stderr",
     "output_type": "stream",
     "text": [
      "\r\u001b[32mTraining epoch:  30%|███████████                         |  ETA: 0:03:01\u001b[39m\u001b[K"
     ]
    },
    {
     "name": "stderr",
     "output_type": "stream",
     "text": [
      "\r\u001b[32mTraining epoch:  31%|████████████                        |  ETA: 0:03:00\u001b[39m\u001b[K"
     ]
    },
    {
     "name": "stderr",
     "output_type": "stream",
     "text": [
      "\r\u001b[32mTraining epoch:  32%|████████████                        |  ETA: 0:02:59\u001b[39m\u001b[K"
     ]
    },
    {
     "name": "stderr",
     "output_type": "stream",
     "text": [
      "\r\u001b[32mTraining epoch:  32%|████████████                        |  ETA: 0:02:57\u001b[39m\u001b[K"
     ]
    },
    {
     "name": "stderr",
     "output_type": "stream",
     "text": [
      "\r\u001b[32mTraining epoch:  32%|████████████                        |  ETA: 0:02:56\u001b[39m\u001b[K"
     ]
    },
    {
     "name": "stderr",
     "output_type": "stream",
     "text": [
      "\r\u001b[32mTraining epoch:  33%|████████████                        |  ETA: 0:02:55\u001b[39m\u001b[K"
     ]
    },
    {
     "name": "stderr",
     "output_type": "stream",
     "text": [
      "\r\u001b[32mTraining epoch:  34%|█████████████                       |  ETA: 0:02:53\u001b[39m\u001b[K"
     ]
    },
    {
     "name": "stderr",
     "output_type": "stream",
     "text": [
      "\r\u001b[32mTraining epoch:  34%|█████████████                       |  ETA: 0:02:52\u001b[39m\u001b[K"
     ]
    },
    {
     "name": "stderr",
     "output_type": "stream",
     "text": [
      "\r\u001b[32mTraining epoch:  34%|█████████████                       |  ETA: 0:02:50\u001b[39m\u001b[K"
     ]
    },
    {
     "name": "stderr",
     "output_type": "stream",
     "text": [
      "\r\u001b[32mTraining epoch:  35%|█████████████                       |  ETA: 0:02:49\u001b[39m\u001b[K"
     ]
    },
    {
     "name": "stderr",
     "output_type": "stream",
     "text": [
      "\r\u001b[32mTraining epoch:  36%|█████████████                       |  ETA: 0:02:48\u001b[39m\u001b[K"
     ]
    },
    {
     "name": "stderr",
     "output_type": "stream",
     "text": [
      "\r\u001b[32mTraining epoch:  36%|█████████████                       |  ETA: 0:02:46\u001b[39m\u001b[K"
     ]
    },
    {
     "name": "stderr",
     "output_type": "stream",
     "text": [
      "\r\u001b[32mTraining epoch:  36%|██████████████                      |  ETA: 0:02:45\u001b[39m\u001b[K"
     ]
    },
    {
     "name": "stderr",
     "output_type": "stream",
     "text": [
      "\r\u001b[32mTraining epoch:  37%|██████████████                      |  ETA: 0:02:44\u001b[39m"
     ]
    },
    {
     "name": "stderr",
     "output_type": "stream",
     "text": [
      "\u001b[K\r\u001b[32mTraining epoch:  38%|██████████████                      |  ETA: 0:02:42\u001b[39m\u001b[K"
     ]
    },
    {
     "name": "stderr",
     "output_type": "stream",
     "text": [
      "\r\u001b[32mTraining epoch:  38%|██████████████                      |  ETA: 0:02:41\u001b[39m\u001b[K"
     ]
    },
    {
     "name": "stderr",
     "output_type": "stream",
     "text": [
      "\r\u001b[32mTraining epoch:  38%|██████████████                      |  ETA: 0:02:39\u001b[39m\u001b[K"
     ]
    },
    {
     "name": "stderr",
     "output_type": "stream",
     "text": [
      "\r\u001b[32mTraining epoch:  39%|███████████████                     |  ETA: 0:02:38\u001b[39m\u001b[K"
     ]
    },
    {
     "name": "stderr",
     "output_type": "stream",
     "text": [
      "\r\u001b[32mTraining epoch:  40%|███████████████                     |  ETA: 0:02:37\u001b[39m\u001b[K"
     ]
    },
    {
     "name": "stderr",
     "output_type": "stream",
     "text": [
      "\r\u001b[32mTraining epoch:  40%|███████████████                     |  ETA: 0:02:35\u001b[39m\u001b[K"
     ]
    },
    {
     "name": "stderr",
     "output_type": "stream",
     "text": [
      "\r\u001b[32mTraining epoch:  40%|███████████████                     |  ETA: 0:02:34\u001b[39m\u001b[K"
     ]
    },
    {
     "name": "stderr",
     "output_type": "stream",
     "text": [
      "\r\u001b[32mTraining epoch:  41%|███████████████                     |  ETA: 0:02:33\u001b[39m\u001b[K"
     ]
    },
    {
     "name": "stderr",
     "output_type": "stream",
     "text": [
      "\r\u001b[32mTraining epoch:  42%|███████████████                     |  ETA: 0:02:31\u001b[39m\u001b[K"
     ]
    },
    {
     "name": "stderr",
     "output_type": "stream",
     "text": [
      "\r\u001b[32mTraining epoch:  42%|████████████████                    |  ETA: 0:02:30\u001b[39m\u001b[K"
     ]
    },
    {
     "name": "stderr",
     "output_type": "stream",
     "text": [
      "\r\u001b[32mTraining epoch:  42%|████████████████                    |  ETA: 0:02:29\u001b[39m\u001b[K"
     ]
    },
    {
     "name": "stderr",
     "output_type": "stream",
     "text": [
      "\r\u001b[32mTraining epoch:  43%|████████████████                    |  ETA: 0:02:27\u001b[39m\u001b[K"
     ]
    },
    {
     "name": "stderr",
     "output_type": "stream",
     "text": [
      "\r\u001b[32mTraining epoch:  44%|████████████████                    |  ETA: 0:02:26\u001b[39m\u001b[K"
     ]
    },
    {
     "name": "stderr",
     "output_type": "stream",
     "text": [
      "\r\u001b[32mTraining epoch:  44%|████████████████                    |  ETA: 0:02:25\u001b[39m\u001b[K"
     ]
    },
    {
     "name": "stderr",
     "output_type": "stream",
     "text": [
      "\r\u001b[32mTraining epoch:  44%|█████████████████                   |  ETA: 0:02:23\u001b[39m\u001b[K"
     ]
    },
    {
     "name": "stderr",
     "output_type": "stream",
     "text": [
      "\r\u001b[32mTraining epoch:  45%|█████████████████                   |  ETA: 0:02:22\u001b[39m\u001b[K"
     ]
    },
    {
     "name": "stderr",
     "output_type": "stream",
     "text": [
      "\r\u001b[32mTraining epoch:  46%|█████████████████                   |  ETA: 0:02:21\u001b[39m\u001b[K"
     ]
    },
    {
     "name": "stderr",
     "output_type": "stream",
     "text": [
      "\r\u001b[32mTraining epoch:  46%|█████████████████                   |  ETA: 0:02:19\u001b[39m\u001b[K"
     ]
    },
    {
     "name": "stderr",
     "output_type": "stream",
     "text": [
      "\r\u001b[32mTraining epoch:  46%|█████████████████                   |  ETA: 0:02:18\u001b[39m\u001b[K"
     ]
    },
    {
     "name": "stderr",
     "output_type": "stream",
     "text": [
      "\r\u001b[32mTraining epoch:  47%|█████████████████                   |  ETA: 0:02:17\u001b[39m\u001b[K"
     ]
    },
    {
     "name": "stderr",
     "output_type": "stream",
     "text": [
      "\r\u001b[32mTraining epoch:  48%|██████████████████                  |  ETA: 0:02:15\u001b[39m\u001b[K"
     ]
    },
    {
     "name": "stderr",
     "output_type": "stream",
     "text": [
      "\r\u001b[32mTraining epoch:  48%|██████████████████                  |  ETA: 0:02:14\u001b[39m\u001b[K"
     ]
    },
    {
     "name": "stderr",
     "output_type": "stream",
     "text": [
      "\r\u001b[32mTraining epoch:  48%|██████████████████                  |  ETA: 0:02:13\u001b[39m\u001b[K"
     ]
    },
    {
     "name": "stderr",
     "output_type": "stream",
     "text": [
      "\r\u001b[32mTraining epoch:  49%|██████████████████                  |  ETA: 0:02:11\u001b[39m\u001b[K"
     ]
    },
    {
     "name": "stderr",
     "output_type": "stream",
     "text": [
      "\r\u001b[32mTraining epoch:  50%|██████████████████                  |  ETA: 0:02:10\u001b[39m\u001b[K"
     ]
    },
    {
     "name": "stderr",
     "output_type": "stream",
     "text": [
      "\r\u001b[32mTraining epoch:  50%|███████████████████                 |  ETA: 0:02:09\u001b[39m\u001b[K"
     ]
    },
    {
     "name": "stderr",
     "output_type": "stream",
     "text": [
      "\r\u001b[32mTraining epoch:  50%|███████████████████                 |  ETA: 0:02:08\u001b[39m\u001b[K"
     ]
    },
    {
     "name": "stderr",
     "output_type": "stream",
     "text": [
      "\r\u001b[32mTraining epoch:  51%|███████████████████                 |  ETA: 0:02:06\u001b[39m\u001b[K"
     ]
    },
    {
     "name": "stderr",
     "output_type": "stream",
     "text": [
      "\r\u001b[32mTraining epoch:  52%|███████████████████                 |  ETA: 0:02:05\u001b[39m\u001b[K"
     ]
    },
    {
     "name": "stderr",
     "output_type": "stream",
     "text": [
      "\r\u001b[32mTraining epoch:  52%|███████████████████                 |  ETA: 0:02:04\u001b[39m\u001b[K"
     ]
    },
    {
     "name": "stderr",
     "output_type": "stream",
     "text": [
      "\r\u001b[32mTraining epoch:  52%|███████████████████                 |  ETA: 0:02:02\u001b[39m\u001b[K"
     ]
    },
    {
     "name": "stderr",
     "output_type": "stream",
     "text": [
      "\r\u001b[32mTraining epoch:  53%|████████████████████                |  ETA: 0:02:01\u001b[39m\u001b[K"
     ]
    },
    {
     "name": "stderr",
     "output_type": "stream",
     "text": [
      "\r\u001b[32mTraining epoch:  54%|████████████████████                |  ETA: 0:02:00\u001b[39m\u001b[K"
     ]
    },
    {
     "name": "stderr",
     "output_type": "stream",
     "text": [
      "\r\u001b[32mTraining epoch:  54%|████████████████████                |  ETA: 0:01:58\u001b[39m\u001b[K"
     ]
    },
    {
     "name": "stderr",
     "output_type": "stream",
     "text": [
      "\r\u001b[32mTraining epoch:  54%|████████████████████                |  ETA: 0:01:57\u001b[39m\u001b[K"
     ]
    },
    {
     "name": "stderr",
     "output_type": "stream",
     "text": [
      "\r\u001b[32mTraining epoch:  55%|████████████████████                |  ETA: 0:01:56\u001b[39m\u001b[K"
     ]
    },
    {
     "name": "stderr",
     "output_type": "stream",
     "text": [
      "\r\u001b[32mTraining epoch:  56%|████████████████████                |  ETA: 0:01:54\u001b[39m\u001b[K"
     ]
    },
    {
     "name": "stderr",
     "output_type": "stream",
     "text": [
      "\r\u001b[32mTraining epoch:  56%|█████████████████████               |  ETA: 0:01:53\u001b[39m\u001b[K"
     ]
    },
    {
     "name": "stderr",
     "output_type": "stream",
     "text": [
      "\r\u001b[32mTraining epoch:  56%|█████████████████████               |  ETA: 0:01:52\u001b[39m\u001b[K"
     ]
    },
    {
     "name": "stderr",
     "output_type": "stream",
     "text": [
      "\r\u001b[32mTraining epoch:  57%|█████████████████████               |  ETA: 0:01:50\u001b[39m\u001b[K"
     ]
    },
    {
     "name": "stderr",
     "output_type": "stream",
     "text": [
      "\r\u001b[32mTraining epoch:  58%|█████████████████████               |  ETA: 0:01:49\u001b[39m\u001b[K"
     ]
    },
    {
     "name": "stderr",
     "output_type": "stream",
     "text": [
      "\r\u001b[32mTraining epoch:  58%|█████████████████████               |  ETA: 0:01:48\u001b[39m\u001b[K"
     ]
    },
    {
     "name": "stderr",
     "output_type": "stream",
     "text": [
      "\r\u001b[32mTraining epoch:  58%|██████████████████████              |  ETA: 0:01:46\u001b[39m\u001b[K"
     ]
    },
    {
     "name": "stderr",
     "output_type": "stream",
     "text": [
      "\r\u001b[32mTraining epoch:  59%|██████████████████████              |  ETA: 0:01:45\u001b[39m\u001b[K"
     ]
    },
    {
     "name": "stderr",
     "output_type": "stream",
     "text": [
      "\r\u001b[32mTraining epoch:  60%|██████████████████████              |  ETA: 0:01:44\u001b[39m\u001b[K"
     ]
    },
    {
     "name": "stderr",
     "output_type": "stream",
     "text": [
      "\r\u001b[32mTraining epoch:  60%|██████████████████████              |  ETA: 0:01:43\u001b[39m\u001b[K"
     ]
    },
    {
     "name": "stderr",
     "output_type": "stream",
     "text": [
      "\r\u001b[32mTraining epoch:  60%|██████████████████████              |  ETA: 0:01:41\u001b[39m\u001b[K"
     ]
    },
    {
     "name": "stderr",
     "output_type": "stream",
     "text": [
      "\r\u001b[32mTraining epoch:  61%|██████████████████████              |  ETA: 0:01:40\u001b[39m\u001b[K"
     ]
    },
    {
     "name": "stderr",
     "output_type": "stream",
     "text": [
      "\r\u001b[32mTraining epoch:  62%|███████████████████████             |  ETA: 0:01:39\u001b[39m\u001b[K"
     ]
    },
    {
     "name": "stderr",
     "output_type": "stream",
     "text": [
      "\r\u001b[32mTraining epoch:  62%|███████████████████████             |  ETA: 0:01:37\u001b[39m\u001b[K"
     ]
    },
    {
     "name": "stderr",
     "output_type": "stream",
     "text": [
      "\r\u001b[32mTraining epoch:  62%|███████████████████████             |  ETA: 0:01:36\u001b[39m\u001b[K"
     ]
    },
    {
     "name": "stderr",
     "output_type": "stream",
     "text": [
      "\r\u001b[32mTraining epoch:  63%|███████████████████████             |  ETA: 0:01:35\u001b[39m\u001b[K"
     ]
    },
    {
     "name": "stderr",
     "output_type": "stream",
     "text": [
      "\r\u001b[32mTraining epoch:  64%|███████████████████████             |  ETA: 0:01:34\u001b[39m\u001b[K"
     ]
    },
    {
     "name": "stderr",
     "output_type": "stream",
     "text": [
      "\r\u001b[32mTraining epoch:  64%|████████████████████████            |  ETA: 0:01:32\u001b[39m\u001b[K"
     ]
    },
    {
     "name": "stderr",
     "output_type": "stream",
     "text": [
      "\r\u001b[32mTraining epoch:  64%|████████████████████████            |  ETA: 0:01:31\u001b[39m\u001b[K"
     ]
    },
    {
     "name": "stderr",
     "output_type": "stream",
     "text": [
      "\r\u001b[32mTraining epoch:  65%|████████████████████████            |  ETA: 0:01:30\u001b[39m\u001b[K"
     ]
    },
    {
     "name": "stderr",
     "output_type": "stream",
     "text": [
      "\r\u001b[32mTraining epoch:  66%|████████████████████████            |  ETA: 0:01:28\u001b[39m\u001b[K"
     ]
    },
    {
     "name": "stderr",
     "output_type": "stream",
     "text": [
      "\r\u001b[32mTraining epoch:  66%|████████████████████████            |  ETA: 0:01:27\u001b[39m\u001b[K"
     ]
    },
    {
     "name": "stderr",
     "output_type": "stream",
     "text": [
      "\r\u001b[32mTraining epoch:  66%|████████████████████████            |  ETA: 0:01:26\u001b[39m\u001b[K"
     ]
    },
    {
     "name": "stderr",
     "output_type": "stream",
     "text": [
      "\r\u001b[32mTraining epoch:  67%|█████████████████████████           |  ETA: 0:01:25\u001b[39m\u001b[K"
     ]
    },
    {
     "name": "stderr",
     "output_type": "stream",
     "text": [
      "\r\u001b[32mTraining epoch:  68%|█████████████████████████           |  ETA: 0:01:23\u001b[39m\u001b[K"
     ]
    },
    {
     "name": "stderr",
     "output_type": "stream",
     "text": [
      "\r\u001b[32mTraining epoch:  68%|█████████████████████████           |  ETA: 0:01:22\u001b[39m\u001b[K"
     ]
    },
    {
     "name": "stderr",
     "output_type": "stream",
     "text": [
      "\r\u001b[32mTraining epoch:  68%|█████████████████████████           |  ETA: 0:01:21\u001b[39m\u001b[K"
     ]
    },
    {
     "name": "stderr",
     "output_type": "stream",
     "text": [
      "\r\u001b[32mTraining epoch:  69%|█████████████████████████           |  ETA: 0:01:19\u001b[39m\u001b[K"
     ]
    },
    {
     "name": "stderr",
     "output_type": "stream",
     "text": [
      "\r\u001b[32mTraining epoch:  70%|██████████████████████████          |  ETA: 0:01:18\u001b[39m\u001b[K"
     ]
    },
    {
     "name": "stderr",
     "output_type": "stream",
     "text": [
      "\r\u001b[32mTraining epoch:  70%|██████████████████████████          |  ETA: 0:01:17\u001b[39m\u001b[K"
     ]
    },
    {
     "name": "stderr",
     "output_type": "stream",
     "text": [
      "\r\u001b[32mTraining epoch:  70%|██████████████████████████          |  ETA: 0:01:15\u001b[39m\u001b[K"
     ]
    },
    {
     "name": "stderr",
     "output_type": "stream",
     "text": [
      "\r\u001b[32mTraining epoch:  71%|██████████████████████████          |  ETA: 0:01:14\u001b[39m\u001b[K"
     ]
    },
    {
     "name": "stderr",
     "output_type": "stream",
     "text": [
      "\r\u001b[32mTraining epoch:  72%|██████████████████████████          |  ETA: 0:01:13\u001b[39m\u001b[K"
     ]
    },
    {
     "name": "stderr",
     "output_type": "stream",
     "text": [
      "\r\u001b[32mTraining epoch:  72%|██████████████████████████          |  ETA: 0:01:12\u001b[39m\u001b[K"
     ]
    },
    {
     "name": "stderr",
     "output_type": "stream",
     "text": [
      "\r\u001b[32mTraining epoch:  72%|███████████████████████████         |  ETA: 0:01:10\u001b[39m\u001b[K"
     ]
    },
    {
     "name": "stderr",
     "output_type": "stream",
     "text": [
      "\r\u001b[32mTraining epoch:  73%|███████████████████████████         |  ETA: 0:01:09\u001b[39m\u001b[K"
     ]
    },
    {
     "name": "stderr",
     "output_type": "stream",
     "text": [
      "\r\u001b[32mTraining epoch:  74%|███████████████████████████         |  ETA: 0:01:08\u001b[39m\u001b[K"
     ]
    },
    {
     "name": "stderr",
     "output_type": "stream",
     "text": [
      "\r\u001b[32mTraining epoch:  74%|███████████████████████████         |  ETA: 0:01:06\u001b[39m\u001b[K"
     ]
    },
    {
     "name": "stderr",
     "output_type": "stream",
     "text": [
      "\r\u001b[32mTraining epoch:  74%|███████████████████████████         |  ETA: 0:01:05\u001b[39m\u001b[K"
     ]
    },
    {
     "name": "stderr",
     "output_type": "stream",
     "text": [
      "\r\u001b[32mTraining epoch:  75%|████████████████████████████        |  ETA: 0:01:04\u001b[39m\u001b[K"
     ]
    },
    {
     "name": "stderr",
     "output_type": "stream",
     "text": [
      "\r\u001b[32mTraining epoch:  76%|████████████████████████████        |  ETA: 0:01:03\u001b[39m\u001b[K"
     ]
    },
    {
     "name": "stderr",
     "output_type": "stream",
     "text": [
      "\r\u001b[32mTraining epoch:  76%|████████████████████████████        |  ETA: 0:01:01\u001b[39m\u001b[K"
     ]
    },
    {
     "name": "stderr",
     "output_type": "stream",
     "text": [
      "\r\u001b[32mTraining epoch:  76%|████████████████████████████        |  ETA: 0:01:00\u001b[39m\u001b[K"
     ]
    },
    {
     "name": "stderr",
     "output_type": "stream",
     "text": [
      "\r\u001b[32mTraining epoch:  77%|████████████████████████████        |  ETA: 0:00:59\u001b[39m\u001b[K"
     ]
    },
    {
     "name": "stderr",
     "output_type": "stream",
     "text": [
      "\r\u001b[32mTraining epoch:  78%|████████████████████████████        |  ETA: 0:00:58\u001b[39m\u001b[K"
     ]
    },
    {
     "name": "stderr",
     "output_type": "stream",
     "text": [
      "\r\u001b[32mTraining epoch:  78%|█████████████████████████████       |  ETA: 0:00:56\u001b[39m\u001b[K"
     ]
    },
    {
     "name": "stderr",
     "output_type": "stream",
     "text": [
      "\r\u001b[32mTraining epoch:  78%|█████████████████████████████       |  ETA: 0:00:55\u001b[39m\u001b[K"
     ]
    },
    {
     "name": "stderr",
     "output_type": "stream",
     "text": [
      "\r\u001b[32mTraining epoch:  79%|█████████████████████████████       |  ETA: 0:00:54\u001b[39m\u001b[K"
     ]
    },
    {
     "name": "stderr",
     "output_type": "stream",
     "text": [
      "\r\u001b[32mTraining epoch:  80%|█████████████████████████████       |  ETA: 0:00:52\u001b[39m\u001b[K"
     ]
    },
    {
     "name": "stderr",
     "output_type": "stream",
     "text": [
      "\r\u001b[32mTraining epoch:  80%|█████████████████████████████       |  ETA: 0:00:51\u001b[39m\u001b[K"
     ]
    },
    {
     "name": "stderr",
     "output_type": "stream",
     "text": [
      "\r\u001b[32mTraining epoch:  80%|█████████████████████████████       |  ETA: 0:00:50\u001b[39m\u001b[K"
     ]
    },
    {
     "name": "stderr",
     "output_type": "stream",
     "text": [
      "\r\u001b[32mTraining epoch:  81%|██████████████████████████████      |  ETA: 0:00:49\u001b[39m\u001b[K"
     ]
    },
    {
     "name": "stderr",
     "output_type": "stream",
     "text": [
      "\r\u001b[32mTraining epoch:  82%|██████████████████████████████      |  ETA: 0:00:47\u001b[39m\u001b[K"
     ]
    },
    {
     "name": "stderr",
     "output_type": "stream",
     "text": [
      "\r\u001b[32mTraining epoch:  82%|██████████████████████████████      |  ETA: 0:00:46\u001b[39m\u001b[K"
     ]
    },
    {
     "name": "stderr",
     "output_type": "stream",
     "text": [
      "\r\u001b[32mTraining epoch:  82%|██████████████████████████████      |  ETA: 0:00:45\u001b[39m\u001b[K"
     ]
    },
    {
     "name": "stderr",
     "output_type": "stream",
     "text": [
      "\r\u001b[32mTraining epoch:  83%|██████████████████████████████      |  ETA: 0:00:43\u001b[39m\u001b[K"
     ]
    },
    {
     "name": "stderr",
     "output_type": "stream",
     "text": [
      "\r\u001b[32mTraining epoch:  84%|███████████████████████████████     |  ETA: 0:00:42\u001b[39m\u001b[K"
     ]
    },
    {
     "name": "stderr",
     "output_type": "stream",
     "text": [
      "\r\u001b[32mTraining epoch:  84%|███████████████████████████████     |  ETA: 0:00:41\u001b[39m\u001b[K"
     ]
    },
    {
     "name": "stderr",
     "output_type": "stream",
     "text": [
      "\r\u001b[32mTraining epoch:  84%|███████████████████████████████     |  ETA: 0:00:40\u001b[39m\u001b[K"
     ]
    },
    {
     "name": "stderr",
     "output_type": "stream",
     "text": [
      "\r\u001b[32mTraining epoch:  85%|███████████████████████████████     |  ETA: 0:00:38\u001b[39m\u001b[K"
     ]
    },
    {
     "name": "stderr",
     "output_type": "stream",
     "text": [
      "\r\u001b[32mTraining epoch:  86%|███████████████████████████████     |  ETA: 0:00:37\u001b[39m\u001b[K"
     ]
    },
    {
     "name": "stderr",
     "output_type": "stream",
     "text": [
      "\r\u001b[32mTraining epoch:  86%|███████████████████████████████     |  ETA: 0:00:36\u001b[39m\u001b[K"
     ]
    },
    {
     "name": "stderr",
     "output_type": "stream",
     "text": [
      "\r\u001b[32mTraining epoch:  86%|████████████████████████████████    |  ETA: 0:00:35\u001b[39m\u001b[K"
     ]
    },
    {
     "name": "stderr",
     "output_type": "stream",
     "text": [
      "\r\u001b[32mTraining epoch:  87%|████████████████████████████████    |  ETA: 0:00:33\u001b[39m\u001b[K"
     ]
    },
    {
     "name": "stderr",
     "output_type": "stream",
     "text": [
      "\r\u001b[32mTraining epoch:  88%|████████████████████████████████    |  ETA: 0:00:32\u001b[39m\u001b[K"
     ]
    },
    {
     "name": "stderr",
     "output_type": "stream",
     "text": [
      "\r\u001b[32mTraining epoch:  88%|████████████████████████████████    |  ETA: 0:00:31\u001b[39m\u001b[K"
     ]
    },
    {
     "name": "stderr",
     "output_type": "stream",
     "text": [
      "\r\u001b[32mTraining epoch:  88%|████████████████████████████████    |  ETA: 0:00:29\u001b[39m\u001b[K"
     ]
    },
    {
     "name": "stderr",
     "output_type": "stream",
     "text": [
      "\r\u001b[32mTraining epoch:  89%|█████████████████████████████████   |  ETA: 0:00:28\u001b[39m\u001b[K"
     ]
    },
    {
     "name": "stderr",
     "output_type": "stream",
     "text": [
      "\r\u001b[32mTraining epoch:  90%|█████████████████████████████████   |  ETA: 0:00:27\u001b[39m\u001b[K"
     ]
    },
    {
     "name": "stderr",
     "output_type": "stream",
     "text": [
      "\r\u001b[32mTraining epoch:  90%|█████████████████████████████████   |  ETA: 0:00:26\u001b[39m\u001b[K"
     ]
    },
    {
     "name": "stderr",
     "output_type": "stream",
     "text": [
      "\r\u001b[32mTraining epoch:  90%|█████████████████████████████████   |  ETA: 0:00:24\u001b[39m\u001b[K"
     ]
    },
    {
     "name": "stderr",
     "output_type": "stream",
     "text": [
      "\r\u001b[32mTraining epoch:  91%|█████████████████████████████████   |  ETA: 0:00:23\u001b[39m\u001b[K"
     ]
    },
    {
     "name": "stderr",
     "output_type": "stream",
     "text": [
      "\r\u001b[32mTraining epoch:  92%|█████████████████████████████████   |  ETA: 0:00:22\u001b[39m\u001b[K"
     ]
    },
    {
     "name": "stderr",
     "output_type": "stream",
     "text": [
      "\r\u001b[32mTraining epoch:  92%|██████████████████████████████████  |  ETA: 0:00:20\u001b[39m\u001b[K"
     ]
    },
    {
     "name": "stderr",
     "output_type": "stream",
     "text": [
      "\r\u001b[32mTraining epoch:  92%|██████████████████████████████████  |  ETA: 0:00:19\u001b[39m\u001b[K"
     ]
    },
    {
     "name": "stderr",
     "output_type": "stream",
     "text": [
      "\r\u001b[32mTraining epoch:  93%|██████████████████████████████████  |  ETA: 0:00:18\u001b[39m\u001b[K"
     ]
    },
    {
     "name": "stderr",
     "output_type": "stream",
     "text": [
      "\r\u001b[32mTraining epoch:  94%|██████████████████████████████████  |  ETA: 0:00:17\u001b[39m\u001b[K"
     ]
    },
    {
     "name": "stderr",
     "output_type": "stream",
     "text": [
      "\r\u001b[32mTraining epoch:  94%|██████████████████████████████████  |  ETA: 0:00:15\u001b[39m\u001b[K"
     ]
    },
    {
     "name": "stderr",
     "output_type": "stream",
     "text": [
      "\r\u001b[32mTraining epoch:  94%|███████████████████████████████████ |  ETA: 0:00:14\u001b[39m\u001b[K"
     ]
    },
    {
     "name": "stderr",
     "output_type": "stream",
     "text": [
      "\r\u001b[32mTraining epoch:  95%|███████████████████████████████████ |  ETA: 0:00:13\u001b[39m\u001b[K"
     ]
    },
    {
     "name": "stderr",
     "output_type": "stream",
     "text": [
      "\r\u001b[32mTraining epoch:  96%|███████████████████████████████████ |  ETA: 0:00:11\u001b[39m\u001b[K"
     ]
    },
    {
     "name": "stderr",
     "output_type": "stream",
     "text": [
      "\r\u001b[32mTraining epoch:  96%|███████████████████████████████████ |  ETA: 0:00:10\u001b[39m\u001b[K"
     ]
    },
    {
     "name": "stderr",
     "output_type": "stream",
     "text": [
      "\r\u001b[32mTraining epoch:  96%|███████████████████████████████████ |  ETA: 0:00:09\u001b[39m\u001b[K"
     ]
    },
    {
     "name": "stderr",
     "output_type": "stream",
     "text": [
      "\r\u001b[32mTraining epoch:  97%|███████████████████████████████████ |  ETA: 0:00:08\u001b[39m\u001b[K"
     ]
    },
    {
     "name": "stderr",
     "output_type": "stream",
     "text": [
      "\r\u001b[32mTraining epoch:  98%|████████████████████████████████████|  ETA: 0:00:06\u001b[39m\u001b[K"
     ]
    },
    {
     "name": "stderr",
     "output_type": "stream",
     "text": [
      "\r\u001b[32mTraining epoch:  98%|████████████████████████████████████|  ETA: 0:00:05\u001b[39m\u001b[K"
     ]
    },
    {
     "name": "stderr",
     "output_type": "stream",
     "text": [
      "\r\u001b[32mTraining epoch:  98%|████████████████████████████████████|  ETA: 0:00:04\u001b[39m\u001b[K"
     ]
    },
    {
     "name": "stderr",
     "output_type": "stream",
     "text": [
      "\r\u001b[32mTraining epoch:  99%|████████████████████████████████████|  ETA: 0:00:03\u001b[39m\u001b[K"
     ]
    },
    {
     "name": "stderr",
     "output_type": "stream",
     "text": [
      "\r\u001b[32mTraining epoch: 100%|████████████████████████████████████|  ETA: 0:00:01\u001b[39m\u001b[K"
     ]
    },
    {
     "name": "stderr",
     "output_type": "stream",
     "text": [
      "\r\u001b[32mTraining epoch: 100%|████████████████████████████████████| Time: 0:04:15\u001b[39m\u001b[K\n"
     ]
    },
    {
     "data": {
      "text/plain": [
       "Chain(\n",
       "  Dense(4 => 1),                        \u001b[90m# 5 parameters\u001b[39m\n",
       "  var\"#36#37\"(),\n",
       ") "
      ]
     },
     "metadata": {},
     "output_type": "display_data"
    }
   ],
   "source": [
    "# Create a copy of the original encoder\n",
    "encoder = deepcopy(og_encoder)\n",
    "\n",
    "# Initialize the optimizer\n",
    "opt_state = Flux.setup(Adam(), encoder)\n",
    "\n",
    "# Initialize the losses array\n",
    "losses = Float64[]\n",
    "best_loss = Inf\n",
    "best_model = deepcopy(encoder)\n",
    "\n",
    "# Define the early stopping criterion\n",
    "es = Flux.early_stopping(() -> best_loss, 5)\n",
    "\n",
    "@showprogress \"Training epoch:\" for epoch in 1:200\n",
    "    l = 0.0\n",
    "    # Iterate through each data point\n",
    "    for (x, y) in zip(X_train, Y_train)\n",
    "        \n",
    "        # Calculate gradients using the current data point\n",
    "        val, grads = Flux.withgradient(encoder) do m\n",
    "            # Any code inside here is differentiated.\n",
    "            # Evaluation of the model and loss must be inside!\n",
    "            result = m(x)\n",
    "            loss(result, y)\n",
    "        end\n",
    "        l += val \n",
    "        # Update the model parameters using the calculated gradients\n",
    "        Flux.update!(opt_state, encoder, grads[1])\n",
    "    end\n",
    "\n",
    "    # Calculate average loss for this epoch\n",
    "    average_loss = l / length(X_train)\n",
    "    # Append the average loss to the losses array\n",
    "    push!(losses, average_loss)\n",
    "    # Check for improvement \n",
    "    if average_loss < best_loss && average_loss > 0\n",
    "        best_loss = average_loss\n",
    "        best_model = deepcopy(encoder)\n",
    "    else\n",
    "        es() && break\n",
    "    end\n",
    "end\n",
    "encoder = best_model  # set encoder to the best model"
   ]
  },
  {
   "cell_type": "code",
   "execution_count": 23,
   "metadata": {},
   "outputs": [
    {
     "data": {
      "image/png": "[encoded data removed]",
      "image/svg+xml": [
       "<?xml version=\"1.0\" encoding=\"utf-8\"?>\n",
       "<svg xmlns=\"http://www.w3.org/2000/svg\" xmlns:xlink=\"http://www.w3.org/1999/xlink\" width=\"600\" height=\"400\" viewBox=\"0 0 2400 1600\">\n",
       "<defs>\n",
       "  <clipPath id=\"clip970\">\n",
       "    <rect x=\"0\" y=\"0\" width=\"2400\" height=\"1600\"/>\n",
       "  </clipPath>\n",
       "</defs>\n",
       "<path clip-path=\"url(#clip970)\" d=\"M0 1600 L2400 1600 L2400 0 L0 0  Z\" fill=\"#ffffff\" fill-rule=\"evenodd\" fill-opacity=\"1\"/>\n",
       "<defs>\n",
       "  <clipPath id=\"clip971\">\n",
       "    <rect x=\"480\" y=\"0\" width=\"1681\" height=\"1600\"/>\n",
       "  </clipPath>\n",
       "</defs>\n",
       "<path clip-path=\"url(#clip970)\" d=\"M247.459 1423.18 L2352.76 1423.18 L2352.76 47.2441 L247.459 47.2441  Z\" fill=\"#ffffff\" fill-rule=\"evenodd\" fill-opacity=\"1\"/>\n",
       "<defs>\n",
       "  <clipPath id=\"clip972\">\n",
       "    <rect x=\"247\" y=\"47\" width=\"2106\" height=\"1377\"/>\n",
       "  </clipPath>\n",
       "</defs>\n",
       "<polyline clip-path=\"url(#clip972)\" style=\"stroke:#000000; stroke-linecap:round; stroke-linejoin:round; stroke-width:2; stroke-opacity:0.1; fill:none\" points=\"297.062,1423.18 297.062,47.2441 \"/>\n",
       "<polyline clip-path=\"url(#clip972)\" style=\"stroke:#000000; stroke-linecap:round; stroke-linejoin:round; stroke-width:2; stroke-opacity:0.1; fill:none\" points=\"796.09,1423.18 796.09,47.2441 \"/>\n",
       "<polyline clip-path=\"url(#clip972)\" style=\"stroke:#000000; stroke-linecap:round; stroke-linejoin:round; stroke-width:2; stroke-opacity:0.1; fill:none\" points=\"1295.12,1423.18 1295.12,47.2441 \"/>\n",
       "<polyline clip-path=\"url(#clip972)\" style=\"stroke:#000000; stroke-linecap:round; stroke-linejoin:round; stroke-width:2; stroke-opacity:0.1; fill:none\" points=\"1794.14,1423.18 1794.14,47.2441 \"/>\n",
       "<polyline clip-path=\"url(#clip972)\" style=\"stroke:#000000; stroke-linecap:round; stroke-linejoin:round; stroke-width:2; stroke-opacity:0.1; fill:none\" points=\"2293.17,1423.18 2293.17,47.2441 \"/>\n",
       "<polyline clip-path=\"url(#clip970)\" style=\"stroke:#000000; stroke-linecap:round; stroke-linejoin:round; stroke-width:4; stroke-opacity:1; fill:none\" points=\"247.459,1423.18 2352.76,1423.18 \"/>\n",
       "<polyline clip-path=\"url(#clip970)\" style=\"stroke:#000000; stroke-linecap:round; stroke-linejoin:round; stroke-width:4; stroke-opacity:1; fill:none\" points=\"297.062,1423.18 297.062,1404.28 \"/>\n",
       "<polyline clip-path=\"url(#clip970)\" style=\"stroke:#000000; stroke-linecap:round; stroke-linejoin:round; stroke-width:4; stroke-opacity:1; fill:none\" points=\"796.09,1423.18 796.09,1404.28 \"/>\n",
       "<polyline clip-path=\"url(#clip970)\" style=\"stroke:#000000; stroke-linecap:round; stroke-linejoin:round; stroke-width:4; stroke-opacity:1; fill:none\" points=\"1295.12,1423.18 1295.12,1404.28 \"/>\n",
       "<polyline clip-path=\"url(#clip970)\" style=\"stroke:#000000; stroke-linecap:round; stroke-linejoin:round; stroke-width:4; stroke-opacity:1; fill:none\" points=\"1794.14,1423.18 1794.14,1404.28 \"/>\n",
       "<polyline clip-path=\"url(#clip970)\" style=\"stroke:#000000; stroke-linecap:round; stroke-linejoin:round; stroke-width:4; stroke-opacity:1; fill:none\" points=\"2293.17,1423.18 2293.17,1404.28 \"/>\n",
       "<path clip-path=\"url(#clip970)\" d=\"M297.062 1454.1 Q293.451 1454.1 291.622 1457.66 Q289.817 1461.2 289.817 1468.33 Q289.817 1475.44 291.622 1479.01 Q293.451 1482.55 297.062 1482.55 Q300.696 1482.55 302.502 1479.01 Q304.331 1475.44 304.331 1468.33 Q304.331 1461.2 302.502 1457.66 Q300.696 1454.1 297.062 1454.1 M297.062 1450.39 Q302.872 1450.39 305.928 1455 Q309.006 1459.58 309.006 1468.33 Q309.006 1477.06 305.928 1481.67 Q302.872 1486.25 297.062 1486.25 Q291.252 1486.25 288.173 1481.67 Q285.118 1477.06 285.118 1468.33 Q285.118 1459.58 288.173 1455 Q291.252 1450.39 297.062 1450.39 Z\" fill=\"#000000\" fill-rule=\"nonzero\" fill-opacity=\"1\" /><path clip-path=\"url(#clip970)\" d=\"M770.789 1451.02 L789.145 1451.02 L789.145 1454.96 L775.071 1454.96 L775.071 1463.43 Q776.09 1463.08 777.108 1462.92 Q778.127 1462.73 779.145 1462.73 Q784.932 1462.73 788.312 1465.9 Q791.691 1469.08 791.691 1474.49 Q791.691 1480.07 788.219 1483.17 Q784.747 1486.25 778.428 1486.25 Q776.252 1486.25 773.983 1485.88 Q771.738 1485.51 769.33 1484.77 L769.33 1480.07 Q771.414 1481.2 773.636 1481.76 Q775.858 1482.32 778.335 1482.32 Q782.34 1482.32 784.678 1480.21 Q787.016 1478.1 787.016 1474.49 Q787.016 1470.88 784.678 1468.77 Q782.34 1466.67 778.335 1466.67 Q776.46 1466.67 774.585 1467.08 Q772.733 1467.5 770.789 1468.38 L770.789 1451.02 Z\" fill=\"#000000\" fill-rule=\"nonzero\" fill-opacity=\"1\" /><path clip-path=\"url(#clip970)\" d=\"M810.904 1454.1 Q807.293 1454.1 805.464 1457.66 Q803.659 1461.2 803.659 1468.33 Q803.659 1475.44 805.464 1479.01 Q807.293 1482.55 810.904 1482.55 Q814.539 1482.55 816.344 1479.01 Q818.173 1475.44 818.173 1468.33 Q818.173 1461.2 816.344 1457.66 Q814.539 1454.1 810.904 1454.1 M810.904 1450.39 Q816.714 1450.39 819.77 1455 Q822.849 1459.58 822.849 1468.33 Q822.849 1477.06 819.77 1481.67 Q816.714 1486.25 810.904 1486.25 Q805.094 1486.25 802.015 1481.67 Q798.96 1477.06 798.96 1468.33 Q798.96 1459.58 802.015 1455 Q805.094 1450.39 810.904 1450.39 Z\" fill=\"#000000\" fill-rule=\"nonzero\" fill-opacity=\"1\" /><path clip-path=\"url(#clip970)\" d=\"M1254.72 1481.64 L1262.36 1481.64 L1262.36 1455.28 L1254.05 1456.95 L1254.05 1452.69 L1262.32 1451.02 L1266.99 1451.02 L1266.99 1481.64 L1274.63 1481.64 L1274.63 1485.58 L1254.72 1485.58 L1254.72 1481.64 Z\" fill=\"#000000\" fill-rule=\"nonzero\" fill-opacity=\"1\" /><path clip-path=\"url(#clip970)\" d=\"M1294.08 1454.1 Q1290.46 1454.1 1288.64 1457.66 Q1286.83 1461.2 1286.83 1468.33 Q1286.83 1475.44 1288.64 1479.01 Q1290.46 1482.55 1294.08 1482.55 Q1297.71 1482.55 1299.52 1479.01 Q1301.34 1475.44 1301.34 1468.33 Q1301.34 1461.2 1299.52 1457.66 Q1297.71 1454.1 1294.08 1454.1 M1294.08 1450.39 Q1299.89 1450.39 1302.94 1455 Q1306.02 1459.58 1306.02 1468.33 Q1306.02 1477.06 1302.94 1481.67 Q1299.89 1486.25 1294.08 1486.25 Q1288.27 1486.25 1285.19 1481.67 Q1282.13 1477.06 1282.13 1468.33 Q1282.13 1459.58 1285.19 1455 Q1288.27 1450.39 1294.08 1450.39 Z\" fill=\"#000000\" fill-rule=\"nonzero\" fill-opacity=\"1\" /><path clip-path=\"url(#clip970)\" d=\"M1324.24 1454.1 Q1320.63 1454.1 1318.8 1457.66 Q1316.99 1461.2 1316.99 1468.33 Q1316.99 1475.44 1318.8 1479.01 Q1320.63 1482.55 1324.24 1482.55 Q1327.87 1482.55 1329.68 1479.01 Q1331.51 1475.44 1331.51 1468.33 Q1331.51 1461.2 1329.68 1457.66 Q1327.87 1454.1 1324.24 1454.1 M1324.24 1450.39 Q1330.05 1450.39 1333.1 1455 Q1336.18 1459.58 1336.18 1468.33 Q1336.18 1477.06 1333.1 1481.67 Q1330.05 1486.25 1324.24 1486.25 Q1318.43 1486.25 1315.35 1481.67 Q1312.29 1477.06 1312.29 1468.33 Q1312.29 1459.58 1315.35 1455 Q1318.43 1450.39 1324.24 1450.39 Z\" fill=\"#000000\" fill-rule=\"nonzero\" fill-opacity=\"1\" /><path clip-path=\"url(#clip970)\" d=\"M1753.75 1481.64 L1761.39 1481.64 L1761.39 1455.28 L1753.08 1456.95 L1753.08 1452.69 L1761.34 1451.02 L1766.02 1451.02 L1766.02 1481.64 L1773.66 1481.64 L1773.66 1485.58 L1753.75 1485.58 L1753.75 1481.64 Z\" fill=\"#000000\" fill-rule=\"nonzero\" fill-opacity=\"1\" /><path clip-path=\"url(#clip970)\" d=\"M1783.15 1451.02 L1801.51 1451.02 L1801.51 1454.96 L1787.43 1454.96 L1787.43 1463.43 Q1788.45 1463.08 1789.47 1462.92 Q1790.49 1462.73 1791.51 1462.73 Q1797.29 1462.73 1800.67 1465.9 Q1804.05 1469.08 1804.05 1474.49 Q1804.05 1480.07 1800.58 1483.17 Q1797.11 1486.25 1790.79 1486.25 Q1788.61 1486.25 1786.34 1485.88 Q1784.1 1485.51 1781.69 1484.77 L1781.69 1480.07 Q1783.77 1481.2 1786 1481.76 Q1788.22 1482.32 1790.7 1482.32 Q1794.7 1482.32 1797.04 1480.21 Q1799.38 1478.1 1799.38 1474.49 Q1799.38 1470.88 1797.04 1468.77 Q1794.7 1466.67 1790.7 1466.67 Q1788.82 1466.67 1786.95 1467.08 Q1785.09 1467.5 1783.15 1468.38 L1783.15 1451.02 Z\" fill=\"#000000\" fill-rule=\"nonzero\" fill-opacity=\"1\" /><path clip-path=\"url(#clip970)\" d=\"M1823.26 1454.1 Q1819.65 1454.1 1817.82 1457.66 Q1816.02 1461.2 1816.02 1468.33 Q1816.02 1475.44 1817.82 1479.01 Q1819.65 1482.55 1823.26 1482.55 Q1826.9 1482.55 1828.7 1479.01 Q1830.53 1475.44 1830.53 1468.33 Q1830.53 1461.2 1828.7 1457.66 Q1826.9 1454.1 1823.26 1454.1 M1823.26 1450.39 Q1829.07 1450.39 1832.13 1455 Q1835.21 1459.58 1835.21 1468.33 Q1835.21 1477.06 1832.13 1481.67 Q1829.07 1486.25 1823.26 1486.25 Q1817.45 1486.25 1814.38 1481.67 Q1811.32 1477.06 1811.32 1468.33 Q1811.32 1459.58 1814.38 1455 Q1817.45 1450.39 1823.26 1450.39 Z\" fill=\"#000000\" fill-rule=\"nonzero\" fill-opacity=\"1\" /><path clip-path=\"url(#clip970)\" d=\"M2256.86 1481.64 L2273.18 1481.64 L2273.18 1485.58 L2251.24 1485.58 L2251.24 1481.64 Q2253.9 1478.89 2258.48 1474.26 Q2263.09 1469.61 2264.27 1468.27 Q2266.52 1465.74 2267.4 1464.01 Q2268.3 1462.25 2268.3 1460.56 Q2268.3 1457.8 2266.36 1456.07 Q2264.43 1454.33 2261.33 1454.33 Q2259.13 1454.33 2256.68 1455.09 Q2254.25 1455.86 2251.47 1457.41 L2251.47 1452.69 Q2254.29 1451.55 2256.75 1450.97 Q2259.2 1450.39 2261.24 1450.39 Q2266.61 1450.39 2269.8 1453.08 Q2273 1455.77 2273 1460.26 Q2273 1462.39 2272.19 1464.31 Q2271.4 1466.2 2269.29 1468.8 Q2268.72 1469.47 2265.61 1472.69 Q2262.51 1475.88 2256.86 1481.64 Z\" fill=\"#000000\" fill-rule=\"nonzero\" fill-opacity=\"1\" /><path clip-path=\"url(#clip970)\" d=\"M2293 1454.1 Q2289.39 1454.1 2287.56 1457.66 Q2285.75 1461.2 2285.75 1468.33 Q2285.75 1475.44 2287.56 1479.01 Q2289.39 1482.55 2293 1482.55 Q2296.63 1482.55 2298.44 1479.01 Q2300.27 1475.44 2300.27 1468.33 Q2300.27 1461.2 2298.44 1457.66 Q2296.63 1454.1 2293 1454.1 M2293 1450.39 Q2298.81 1450.39 2301.86 1455 Q2304.94 1459.58 2304.94 1468.33 Q2304.94 1477.06 2301.86 1481.67 Q2298.81 1486.25 2293 1486.25 Q2287.19 1486.25 2284.11 1481.67 Q2281.05 1477.06 2281.05 1468.33 Q2281.05 1459.58 2284.11 1455 Q2287.19 1450.39 2293 1450.39 Z\" fill=\"#000000\" fill-rule=\"nonzero\" fill-opacity=\"1\" /><path clip-path=\"url(#clip970)\" d=\"M2323.16 1454.1 Q2319.55 1454.1 2317.72 1457.66 Q2315.91 1461.2 2315.91 1468.33 Q2315.91 1475.44 2317.72 1479.01 Q2319.55 1482.55 2323.16 1482.55 Q2326.79 1482.55 2328.6 1479.01 Q2330.43 1475.44 2330.43 1468.33 Q2330.43 1461.2 2328.6 1457.66 Q2326.79 1454.1 2323.16 1454.1 M2323.16 1450.39 Q2328.97 1450.39 2332.03 1455 Q2335.1 1459.58 2335.1 1468.33 Q2335.1 1477.06 2332.03 1481.67 Q2328.97 1486.25 2323.16 1486.25 Q2317.35 1486.25 2314.27 1481.67 Q2311.22 1477.06 2311.22 1468.33 Q2311.22 1459.58 2314.27 1455 Q2317.35 1450.39 2323.16 1450.39 Z\" fill=\"#000000\" fill-rule=\"nonzero\" fill-opacity=\"1\" /><path clip-path=\"url(#clip970)\" d=\"M1206.28 1520.52 L1236.32 1520.52 L1236.32 1525.93 L1212.71 1525.93 L1212.71 1540 L1235.34 1540 L1235.34 1545.41 L1212.71 1545.41 L1212.71 1562.63 L1236.9 1562.63 L1236.9 1568.04 L1206.28 1568.04 L1206.28 1520.52 Z\" fill=\"#000000\" fill-rule=\"nonzero\" fill-opacity=\"1\" /><path clip-path=\"url(#clip970)\" d=\"M1252.87 1562.7 L1252.87 1581.6 L1246.99 1581.6 L1246.99 1532.4 L1252.87 1532.4 L1252.87 1537.81 Q1254.72 1534.62 1257.52 1533.1 Q1260.35 1531.54 1264.27 1531.54 Q1270.76 1531.54 1274.8 1536.69 Q1278.88 1541.85 1278.88 1550.25 Q1278.88 1558.65 1274.8 1563.81 Q1270.76 1568.97 1264.27 1568.97 Q1260.35 1568.97 1257.52 1567.44 Q1254.72 1565.88 1252.87 1562.7 M1272.8 1550.25 Q1272.8 1543.79 1270.12 1540.13 Q1267.48 1536.44 1262.84 1536.44 Q1258.19 1536.44 1255.52 1540.13 Q1252.87 1543.79 1252.87 1550.25 Q1252.87 1556.71 1255.52 1560.4 Q1258.19 1564.07 1262.84 1564.07 Q1267.48 1564.07 1270.12 1560.4 Q1272.8 1556.71 1272.8 1550.25 Z\" fill=\"#000000\" fill-rule=\"nonzero\" fill-opacity=\"1\" /><path clip-path=\"url(#clip970)\" d=\"M1302.4 1536.5 Q1297.69 1536.5 1294.95 1540.19 Q1292.21 1543.85 1292.21 1550.25 Q1292.21 1556.65 1294.92 1560.34 Q1297.66 1564 1302.4 1564 Q1307.08 1564 1309.82 1560.31 Q1312.55 1556.62 1312.55 1550.25 Q1312.55 1543.92 1309.82 1540.23 Q1307.08 1536.5 1302.4 1536.5 M1302.4 1531.54 Q1310.04 1531.54 1314.4 1536.5 Q1318.76 1541.47 1318.76 1550.25 Q1318.76 1559 1314.4 1564 Q1310.04 1568.97 1302.4 1568.97 Q1294.73 1568.97 1290.37 1564 Q1286.04 1559 1286.04 1550.25 Q1286.04 1541.47 1290.37 1536.5 Q1294.73 1531.54 1302.4 1531.54 Z\" fill=\"#000000\" fill-rule=\"nonzero\" fill-opacity=\"1\" /><path clip-path=\"url(#clip970)\" d=\"M1354.12 1533.76 L1354.12 1539.24 Q1351.64 1537.87 1349.12 1537.2 Q1346.64 1536.5 1344.09 1536.5 Q1338.4 1536.5 1335.25 1540.13 Q1332.09 1543.73 1332.09 1550.25 Q1332.09 1556.78 1335.25 1560.4 Q1338.4 1564 1344.09 1564 Q1346.64 1564 1349.12 1563.33 Q1351.64 1562.63 1354.12 1561.26 L1354.12 1566.68 Q1351.67 1567.82 1349.03 1568.39 Q1346.42 1568.97 1343.46 1568.97 Q1335.41 1568.97 1330.66 1563.91 Q1325.92 1558.85 1325.92 1550.25 Q1325.92 1541.53 1330.69 1536.53 Q1335.5 1531.54 1343.84 1531.54 Q1346.55 1531.54 1349.12 1532.11 Q1351.7 1532.65 1354.12 1533.76 Z\" fill=\"#000000\" fill-rule=\"nonzero\" fill-opacity=\"1\" /><path clip-path=\"url(#clip970)\" d=\"M1393.94 1546.53 L1393.94 1568.04 L1388.08 1568.04 L1388.08 1546.72 Q1388.08 1541.66 1386.11 1539.14 Q1384.13 1536.63 1380.19 1536.63 Q1375.45 1536.63 1372.71 1539.65 Q1369.97 1542.68 1369.97 1547.9 L1369.97 1568.04 L1364.08 1568.04 L1364.08 1518.52 L1369.97 1518.52 L1369.97 1537.93 Q1372.07 1534.72 1374.9 1533.13 Q1377.77 1531.54 1381.49 1531.54 Q1387.64 1531.54 1390.79 1535.36 Q1393.94 1539.14 1393.94 1546.53 Z\" fill=\"#000000\" fill-rule=\"nonzero\" fill-opacity=\"1\" /><polyline clip-path=\"url(#clip972)\" style=\"stroke:#000000; stroke-linecap:round; stroke-linejoin:round; stroke-width:2; stroke-opacity:0.1; fill:none\" points=\"247.459,1309.3 2352.76,1309.3 \"/>\n",
       "<polyline clip-path=\"url(#clip972)\" style=\"stroke:#000000; stroke-linecap:round; stroke-linejoin:round; stroke-width:2; stroke-opacity:0.1; fill:none\" points=\"247.459,1098.39 2352.76,1098.39 \"/>\n",
       "<polyline clip-path=\"url(#clip972)\" style=\"stroke:#000000; stroke-linecap:round; stroke-linejoin:round; stroke-width:2; stroke-opacity:0.1; fill:none\" points=\"247.459,887.477 2352.76,887.477 \"/>\n",
       "<polyline clip-path=\"url(#clip972)\" style=\"stroke:#000000; stroke-linecap:round; stroke-linejoin:round; stroke-width:2; stroke-opacity:0.1; fill:none\" points=\"247.459,676.563 2352.76,676.563 \"/>\n",
       "<polyline clip-path=\"url(#clip972)\" style=\"stroke:#000000; stroke-linecap:round; stroke-linejoin:round; stroke-width:2; stroke-opacity:0.1; fill:none\" points=\"247.459,465.649 2352.76,465.649 \"/>\n",
       "<polyline clip-path=\"url(#clip972)\" style=\"stroke:#000000; stroke-linecap:round; stroke-linejoin:round; stroke-width:2; stroke-opacity:0.1; fill:none\" points=\"247.459,254.735 2352.76,254.735 \"/>\n",
       "<polyline clip-path=\"url(#clip970)\" style=\"stroke:#000000; stroke-linecap:round; stroke-linejoin:round; stroke-width:4; stroke-opacity:1; fill:none\" points=\"247.459,1423.18 247.459,47.2441 \"/>\n",
       "<polyline clip-path=\"url(#clip970)\" style=\"stroke:#000000; stroke-linecap:round; stroke-linejoin:round; stroke-width:4; stroke-opacity:1; fill:none\" points=\"247.459,1309.3 266.356,1309.3 \"/>\n",
       "<polyline clip-path=\"url(#clip970)\" style=\"stroke:#000000; stroke-linecap:round; stroke-linejoin:round; stroke-width:4; stroke-opacity:1; fill:none\" points=\"247.459,1098.39 266.356,1098.39 \"/>\n",
       "<polyline clip-path=\"url(#clip970)\" style=\"stroke:#000000; stroke-linecap:round; stroke-linejoin:round; stroke-width:4; stroke-opacity:1; fill:none\" points=\"247.459,887.477 266.356,887.477 \"/>\n",
       "<polyline clip-path=\"url(#clip970)\" style=\"stroke:#000000; stroke-linecap:round; stroke-linejoin:round; stroke-width:4; stroke-opacity:1; fill:none\" points=\"247.459,676.563 266.356,676.563 \"/>\n",
       "<polyline clip-path=\"url(#clip970)\" style=\"stroke:#000000; stroke-linecap:round; stroke-linejoin:round; stroke-width:4; stroke-opacity:1; fill:none\" points=\"247.459,465.649 266.356,465.649 \"/>\n",
       "<polyline clip-path=\"url(#clip970)\" style=\"stroke:#000000; stroke-linecap:round; stroke-linejoin:round; stroke-width:4; stroke-opacity:1; fill:none\" points=\"247.459,254.735 266.356,254.735 \"/>\n",
       "<path clip-path=\"url(#clip970)\" d=\"M114.931 1322.65 L122.57 1322.65 L122.57 1296.28 L114.26 1297.95 L114.26 1293.69 L122.524 1292.02 L127.2 1292.02 L127.2 1322.65 L134.839 1322.65 L134.839 1326.58 L114.931 1326.58 L114.931 1322.65 Z\" fill=\"#000000\" fill-rule=\"nonzero\" fill-opacity=\"1\" /><path clip-path=\"url(#clip970)\" d=\"M144.329 1292.02 L162.686 1292.02 L162.686 1295.96 L148.612 1295.96 L148.612 1304.43 Q149.63 1304.08 150.649 1303.92 Q151.667 1303.74 152.686 1303.74 Q158.473 1303.74 161.852 1306.91 Q165.232 1310.08 165.232 1315.5 Q165.232 1321.08 161.76 1324.18 Q158.288 1327.26 151.968 1327.26 Q149.792 1327.26 147.524 1326.89 Q145.279 1326.51 142.871 1325.77 L142.871 1321.08 Q144.954 1322.21 147.177 1322.76 Q149.399 1323.32 151.876 1323.32 Q155.88 1323.32 158.218 1321.21 Q160.556 1319.11 160.556 1315.5 Q160.556 1311.89 158.218 1309.78 Q155.88 1307.67 151.876 1307.67 Q150.001 1307.67 148.126 1308.09 Q146.274 1308.51 144.329 1309.39 L144.329 1292.02 Z\" fill=\"#000000\" fill-rule=\"nonzero\" fill-opacity=\"1\" /><path clip-path=\"url(#clip970)\" d=\"M174.445 1320.7 L179.329 1320.7 L179.329 1326.58 L174.445 1326.58 L174.445 1320.7 Z\" fill=\"#000000\" fill-rule=\"nonzero\" fill-opacity=\"1\" /><path clip-path=\"url(#clip970)\" d=\"M199.514 1295.1 Q195.903 1295.1 194.075 1298.67 Q192.269 1302.21 192.269 1309.34 Q192.269 1316.45 194.075 1320.01 Q195.903 1323.55 199.514 1323.55 Q203.149 1323.55 204.954 1320.01 Q206.783 1316.45 206.783 1309.34 Q206.783 1302.21 204.954 1298.67 Q203.149 1295.1 199.514 1295.1 M199.514 1291.4 Q205.324 1291.4 208.38 1296.01 Q211.459 1300.59 211.459 1309.34 Q211.459 1318.07 208.38 1322.67 Q205.324 1327.26 199.514 1327.26 Q193.704 1327.26 190.625 1322.67 Q187.57 1318.07 187.57 1309.34 Q187.57 1300.59 190.625 1296.01 Q193.704 1291.4 199.514 1291.4 Z\" fill=\"#000000\" fill-rule=\"nonzero\" fill-opacity=\"1\" /><path clip-path=\"url(#clip970)\" d=\"M115.927 1111.74 L123.566 1111.74 L123.566 1085.37 L115.256 1087.04 L115.256 1082.78 L123.519 1081.11 L128.195 1081.11 L128.195 1111.74 L135.834 1111.74 L135.834 1115.67 L115.927 1115.67 L115.927 1111.74 Z\" fill=\"#000000\" fill-rule=\"nonzero\" fill-opacity=\"1\" /><path clip-path=\"url(#clip970)\" d=\"M145.325 1081.11 L163.681 1081.11 L163.681 1085.05 L149.607 1085.05 L149.607 1093.52 Q150.626 1093.17 151.644 1093.01 Q152.663 1092.82 153.681 1092.82 Q159.468 1092.82 162.848 1095.99 Q166.227 1099.17 166.227 1104.58 Q166.227 1110.16 162.755 1113.26 Q159.283 1116.34 152.964 1116.34 Q150.788 1116.34 148.519 1115.97 Q146.274 1115.6 143.866 1114.86 L143.866 1110.16 Q145.95 1111.3 148.172 1111.85 Q150.394 1112.41 152.871 1112.41 Q156.876 1112.41 159.214 1110.3 Q161.552 1108.19 161.552 1104.58 Q161.552 1100.97 159.214 1098.86 Q156.876 1096.76 152.871 1096.76 Q150.996 1096.76 149.121 1097.18 Q147.269 1097.59 145.325 1098.47 L145.325 1081.11 Z\" fill=\"#000000\" fill-rule=\"nonzero\" fill-opacity=\"1\" /><path clip-path=\"url(#clip970)\" d=\"M175.44 1109.79 L180.325 1109.79 L180.325 1115.67 L175.44 1115.67 L175.44 1109.79 Z\" fill=\"#000000\" fill-rule=\"nonzero\" fill-opacity=\"1\" /><path clip-path=\"url(#clip970)\" d=\"M190.556 1081.11 L208.912 1081.11 L208.912 1085.05 L194.838 1085.05 L194.838 1093.52 Q195.857 1093.17 196.875 1093.01 Q197.894 1092.82 198.912 1092.82 Q204.699 1092.82 208.079 1095.99 Q211.459 1099.17 211.459 1104.58 Q211.459 1110.16 207.987 1113.26 Q204.514 1116.34 198.195 1116.34 Q196.019 1116.34 193.75 1115.97 Q191.505 1115.6 189.098 1114.86 L189.098 1110.16 Q191.181 1111.3 193.403 1111.85 Q195.625 1112.41 198.102 1112.41 Q202.107 1112.41 204.445 1110.3 Q206.783 1108.19 206.783 1104.58 Q206.783 1100.97 204.445 1098.86 Q202.107 1096.76 198.102 1096.76 Q196.227 1096.76 194.352 1097.18 Q192.5 1097.59 190.556 1098.47 L190.556 1081.11 Z\" fill=\"#000000\" fill-rule=\"nonzero\" fill-opacity=\"1\" /><path clip-path=\"url(#clip970)\" d=\"M114.931 900.821 L122.57 900.821 L122.57 874.456 L114.26 876.122 L114.26 871.863 L122.524 870.197 L127.2 870.197 L127.2 900.821 L134.839 900.821 L134.839 904.757 L114.931 904.757 L114.931 900.821 Z\" fill=\"#000000\" fill-rule=\"nonzero\" fill-opacity=\"1\" /><path clip-path=\"url(#clip970)\" d=\"M154.862 885.613 Q151.714 885.613 149.862 887.766 Q148.033 889.919 148.033 893.669 Q148.033 897.395 149.862 899.571 Q151.714 901.724 154.862 901.724 Q158.01 901.724 159.839 899.571 Q161.69 897.395 161.69 893.669 Q161.69 889.919 159.839 887.766 Q158.01 885.613 154.862 885.613 M164.144 870.96 L164.144 875.22 Q162.385 874.386 160.579 873.947 Q158.797 873.507 157.038 873.507 Q152.408 873.507 149.954 876.632 Q147.524 879.757 147.177 886.076 Q148.542 884.062 150.603 882.997 Q152.663 881.909 155.14 881.909 Q160.348 881.909 163.357 885.081 Q166.39 888.229 166.39 893.669 Q166.39 898.993 163.241 902.21 Q160.093 905.428 154.862 905.428 Q148.866 905.428 145.695 900.845 Q142.524 896.238 142.524 887.511 Q142.524 879.317 146.413 874.456 Q150.302 869.572 156.853 869.572 Q158.612 869.572 160.394 869.919 Q162.2 870.266 164.144 870.96 Z\" fill=\"#000000\" fill-rule=\"nonzero\" fill-opacity=\"1\" /><path clip-path=\"url(#clip970)\" d=\"M174.445 898.877 L179.329 898.877 L179.329 904.757 L174.445 904.757 L174.445 898.877 Z\" fill=\"#000000\" fill-rule=\"nonzero\" fill-opacity=\"1\" /><path clip-path=\"url(#clip970)\" d=\"M199.514 873.275 Q195.903 873.275 194.075 876.84 Q192.269 880.382 192.269 887.511 Q192.269 894.618 194.075 898.183 Q195.903 901.724 199.514 901.724 Q203.149 901.724 204.954 898.183 Q206.783 894.618 206.783 887.511 Q206.783 880.382 204.954 876.84 Q203.149 873.275 199.514 873.275 M199.514 869.572 Q205.324 869.572 208.38 874.178 Q211.459 878.761 211.459 887.511 Q211.459 896.238 208.38 900.845 Q205.324 905.428 199.514 905.428 Q193.704 905.428 190.625 900.845 Q187.57 896.238 187.57 887.511 Q187.57 878.761 190.625 874.178 Q193.704 869.572 199.514 869.572 Z\" fill=\"#000000\" fill-rule=\"nonzero\" fill-opacity=\"1\" /><path clip-path=\"url(#clip970)\" d=\"M115.927 689.907 L123.566 689.907 L123.566 663.542 L115.256 665.209 L115.256 660.949 L123.519 659.283 L128.195 659.283 L128.195 689.907 L135.834 689.907 L135.834 693.843 L115.927 693.843 L115.927 689.907 Z\" fill=\"#000000\" fill-rule=\"nonzero\" fill-opacity=\"1\" /><path clip-path=\"url(#clip970)\" d=\"M155.857 674.699 Q152.709 674.699 150.857 676.852 Q149.028 679.005 149.028 682.755 Q149.028 686.482 150.857 688.657 Q152.709 690.81 155.857 690.81 Q159.005 690.81 160.834 688.657 Q162.686 686.482 162.686 682.755 Q162.686 679.005 160.834 676.852 Q159.005 674.699 155.857 674.699 M165.14 660.047 L165.14 664.306 Q163.38 663.472 161.575 663.033 Q159.792 662.593 158.033 662.593 Q153.403 662.593 150.95 665.718 Q148.519 668.843 148.172 675.162 Q149.538 673.148 151.598 672.084 Q153.658 670.996 156.135 670.996 Q161.343 670.996 164.352 674.167 Q167.385 677.315 167.385 682.755 Q167.385 688.079 164.237 691.296 Q161.089 694.514 155.857 694.514 Q149.862 694.514 146.691 689.931 Q143.519 685.324 143.519 676.597 Q143.519 668.403 147.408 663.542 Q151.297 658.658 157.848 658.658 Q159.607 658.658 161.39 659.005 Q163.195 659.352 165.14 660.047 Z\" fill=\"#000000\" fill-rule=\"nonzero\" fill-opacity=\"1\" /><path clip-path=\"url(#clip970)\" d=\"M175.44 687.963 L180.325 687.963 L180.325 693.843 L175.44 693.843 L175.44 687.963 Z\" fill=\"#000000\" fill-rule=\"nonzero\" fill-opacity=\"1\" /><path clip-path=\"url(#clip970)\" d=\"M190.556 659.283 L208.912 659.283 L208.912 663.218 L194.838 663.218 L194.838 671.69 Q195.857 671.343 196.875 671.181 Q197.894 670.996 198.912 670.996 Q204.699 670.996 208.079 674.167 Q211.459 677.338 211.459 682.755 Q211.459 688.333 207.987 691.435 Q204.514 694.514 198.195 694.514 Q196.019 694.514 193.75 694.144 Q191.505 693.773 189.098 693.032 L189.098 688.333 Q191.181 689.468 193.403 690.023 Q195.625 690.579 198.102 690.579 Q202.107 690.579 204.445 688.472 Q206.783 686.366 206.783 682.755 Q206.783 679.144 204.445 677.037 Q202.107 674.931 198.102 674.931 Q196.227 674.931 194.352 675.347 Q192.5 675.764 190.556 676.644 L190.556 659.283 Z\" fill=\"#000000\" fill-rule=\"nonzero\" fill-opacity=\"1\" /><path clip-path=\"url(#clip970)\" d=\"M114.931 478.994 L122.57 478.994 L122.57 452.628 L114.26 454.295 L114.26 450.035 L122.524 448.369 L127.2 448.369 L127.2 478.994 L134.839 478.994 L134.839 482.929 L114.931 482.929 L114.931 478.994 Z\" fill=\"#000000\" fill-rule=\"nonzero\" fill-opacity=\"1\" /><path clip-path=\"url(#clip970)\" d=\"M143.103 448.369 L165.325 448.369 L165.325 450.359 L152.778 482.929 L147.894 482.929 L159.7 452.304 L143.103 452.304 L143.103 448.369 Z\" fill=\"#000000\" fill-rule=\"nonzero\" fill-opacity=\"1\" /><path clip-path=\"url(#clip970)\" d=\"M174.445 477.049 L179.329 477.049 L179.329 482.929 L174.445 482.929 L174.445 477.049 Z\" fill=\"#000000\" fill-rule=\"nonzero\" fill-opacity=\"1\" /><path clip-path=\"url(#clip970)\" d=\"M199.514 451.447 Q195.903 451.447 194.075 455.012 Q192.269 458.554 192.269 465.683 Q192.269 472.79 194.075 476.355 Q195.903 479.896 199.514 479.896 Q203.149 479.896 204.954 476.355 Q206.783 472.79 206.783 465.683 Q206.783 458.554 204.954 455.012 Q203.149 451.447 199.514 451.447 M199.514 447.744 Q205.324 447.744 208.38 452.35 Q211.459 456.934 211.459 465.683 Q211.459 474.41 208.38 479.017 Q205.324 483.6 199.514 483.6 Q193.704 483.6 190.625 479.017 Q187.57 474.41 187.57 465.683 Q187.57 456.934 190.625 452.35 Q193.704 447.744 199.514 447.744 Z\" fill=\"#000000\" fill-rule=\"nonzero\" fill-opacity=\"1\" /><path clip-path=\"url(#clip970)\" d=\"M115.927 268.08 L123.566 268.08 L123.566 241.714 L115.256 243.381 L115.256 239.122 L123.519 237.455 L128.195 237.455 L128.195 268.08 L135.834 268.08 L135.834 272.015 L115.927 272.015 L115.927 268.08 Z\" fill=\"#000000\" fill-rule=\"nonzero\" fill-opacity=\"1\" /><path clip-path=\"url(#clip970)\" d=\"M144.098 237.455 L166.32 237.455 L166.32 239.446 L153.774 272.015 L148.89 272.015 L160.695 241.39 L144.098 241.39 L144.098 237.455 Z\" fill=\"#000000\" fill-rule=\"nonzero\" fill-opacity=\"1\" /><path clip-path=\"url(#clip970)\" d=\"M175.44 266.135 L180.325 266.135 L180.325 272.015 L175.44 272.015 L175.44 266.135 Z\" fill=\"#000000\" fill-rule=\"nonzero\" fill-opacity=\"1\" /><path clip-path=\"url(#clip970)\" d=\"M190.556 237.455 L208.912 237.455 L208.912 241.39 L194.838 241.39 L194.838 249.862 Q195.857 249.515 196.875 249.353 Q197.894 249.168 198.912 249.168 Q204.699 249.168 208.079 252.339 Q211.459 255.51 211.459 260.927 Q211.459 266.506 207.987 269.607 Q204.514 272.686 198.195 272.686 Q196.019 272.686 193.75 272.316 Q191.505 271.945 189.098 271.205 L189.098 266.506 Q191.181 267.64 193.403 268.195 Q195.625 268.751 198.102 268.751 Q202.107 268.751 204.445 266.645 Q206.783 264.538 206.783 260.927 Q206.783 257.316 204.445 255.209 Q202.107 253.103 198.102 253.103 Q196.227 253.103 194.352 253.52 Q192.5 253.936 190.556 254.816 L190.556 237.455 Z\" fill=\"#000000\" fill-rule=\"nonzero\" fill-opacity=\"1\" /><path clip-path=\"url(#clip970)\" d=\"M16.4842 801.909 L16.4842 795.479 L58.5933 795.479 L58.5933 772.34 L64.0042 772.34 L64.0042 801.909 L16.4842 801.909 Z\" fill=\"#000000\" fill-rule=\"nonzero\" fill-opacity=\"1\" /><path clip-path=\"url(#clip970)\" d=\"M32.4621 753.179 Q32.4621 757.89 36.1542 760.627 Q39.8145 763.364 46.212 763.364 Q52.6095 763.364 56.3017 760.659 Q59.9619 757.922 59.9619 753.179 Q59.9619 748.5 56.2698 745.763 Q52.5777 743.026 46.212 743.026 Q39.8781 743.026 36.186 745.763 Q32.4621 748.5 32.4621 753.179 M27.4968 753.179 Q27.4968 745.54 32.4621 741.18 Q37.4273 736.819 46.212 736.819 Q54.9649 736.819 59.9619 741.18 Q64.9272 745.54 64.9272 753.179 Q64.9272 760.85 59.9619 765.21 Q54.9649 769.539 46.212 769.539 Q37.4273 769.539 32.4621 765.21 Q27.4968 760.85 27.4968 753.179 Z\" fill=\"#000000\" fill-rule=\"nonzero\" fill-opacity=\"1\" /><path clip-path=\"url(#clip970)\" d=\"M29.4065 704.386 L34.9447 704.386 Q33.6716 706.869 33.035 709.542 Q32.3984 712.216 32.3984 715.08 Q32.3984 719.441 33.7352 721.637 Q35.072 723.801 37.7456 723.801 Q39.7826 723.801 40.9603 722.242 Q42.1061 720.682 43.1565 715.972 L43.6021 713.966 Q44.9389 707.728 47.3897 705.118 Q49.8086 702.476 54.1691 702.476 Q59.1344 702.476 62.0308 706.423 Q64.9272 710.338 64.9272 717.213 Q64.9272 720.078 64.3543 723.197 Q63.8132 726.284 62.6992 729.722 L56.6518 729.722 Q58.3387 726.475 59.198 723.324 Q60.0256 720.173 60.0256 717.086 Q60.0256 712.948 58.6251 710.72 Q57.1929 708.492 54.6147 708.492 Q52.2276 708.492 50.9545 710.115 Q49.6813 711.707 48.5037 717.149 L48.0262 719.186 Q46.8804 724.629 44.5251 727.048 Q42.138 729.467 38.0002 729.467 Q32.9713 729.467 30.2341 725.902 Q27.4968 722.337 27.4968 715.781 Q27.4968 712.534 27.9743 709.67 Q28.4517 706.805 29.4065 704.386 Z\" fill=\"#000000\" fill-rule=\"nonzero\" fill-opacity=\"1\" /><path clip-path=\"url(#clip970)\" d=\"M29.4065 670.425 L34.9447 670.425 Q33.6716 672.908 33.035 675.581 Q32.3984 678.255 32.3984 681.119 Q32.3984 685.48 33.7352 687.676 Q35.072 689.84 37.7456 689.84 Q39.7826 689.84 40.9603 688.281 Q42.1061 686.721 43.1565 682.011 L43.6021 680.005 Q44.9389 673.767 47.3897 671.157 Q49.8086 668.515 54.1691 668.515 Q59.1344 668.515 62.0308 672.462 Q64.9272 676.377 64.9272 683.252 Q64.9272 686.116 64.3543 689.236 Q63.8132 692.323 62.6992 695.761 L56.6518 695.761 Q58.3387 692.514 59.198 689.363 Q60.0256 686.212 60.0256 683.125 Q60.0256 678.987 58.6251 676.759 Q57.1929 674.531 54.6147 674.531 Q52.2276 674.531 50.9545 676.154 Q49.6813 677.746 48.5037 683.188 L48.0262 685.225 Q46.8804 690.668 44.5251 693.087 Q42.138 695.506 38.0002 695.506 Q32.9713 695.506 30.2341 691.941 Q27.4968 688.376 27.4968 681.82 Q27.4968 678.573 27.9743 675.709 Q28.4517 672.844 29.4065 670.425 Z\" fill=\"#000000\" fill-rule=\"nonzero\" fill-opacity=\"1\" /><polyline clip-path=\"url(#clip972)\" style=\"stroke:#009af9; stroke-linecap:round; stroke-linejoin:round; stroke-width:4; stroke-opacity:1; fill:none\" points=\"307.043,86.1857 317.023,716.818 327.004,1077.96 336.984,1240.29 346.965,1301.4 356.945,1321.85 366.926,1327.8 376.906,1329.51 386.887,1330.1 396.868,1330.43 406.848,1330.7 416.829,1330.98 426.809,1331.26 436.79,1331.53 446.77,1331.81 456.751,1332.09 466.731,1332.37 476.712,1332.65 486.692,1332.92 496.673,1333.21 506.654,1333.49 516.634,1333.76 526.615,1334.04 536.595,1334.33 546.576,1334.6 556.556,1334.89 566.537,1335.17 576.517,1335.45 586.498,1335.73 596.479,1336.01 606.459,1336.3 616.44,1336.58 626.42,1336.86 636.401,1337.14 646.381,1337.42 656.362,1337.71 666.342,1337.99 676.323,1338.27 686.303,1338.56 696.284,1338.84 706.265,1339.12 716.245,1339.41 726.226,1339.69 736.206,1339.97 746.187,1340.26 756.167,1340.54 766.148,1340.82 776.128,1341.1 786.109,1341.39 796.09,1341.67 806.07,1341.96 816.051,1342.24 826.031,1342.53 836.012,1342.81 845.992,1343.09 855.973,1343.38 865.953,1343.66 875.934,1343.95 885.914,1344.23 895.895,1344.51 905.876,1344.8 915.856,1345.08 925.837,1345.36 935.817,1345.65 945.798,1345.93 955.778,1346.22 965.759,1346.5 975.739,1346.78 985.72,1347.07 995.701,1347.35 1005.68,1347.63 1015.66,1347.92 1025.64,1348.2 1035.62,1348.48 1045.6,1348.77 1055.58,1349.05 1065.56,1349.34 1075.54,1349.62 1085.53,1349.9 1095.51,1350.19 1105.49,1350.47 1115.47,1350.76 1125.45,1351.04 1135.43,1351.32 1145.41,1351.6 1155.39,1351.89 1165.37,1352.17 1175.35,1352.46 1185.33,1352.74 1195.31,1353.02 1205.29,1353.31 1215.27,1353.59 1225.25,1353.88 1235.23,1354.16 1245.21,1354.44 1255.19,1354.73 1265.18,1355.01 1275.16,1355.3 1285.14,1355.58 1295.12,1355.86 1305.1,1356.14 1315.08,1356.43 1325.06,1356.71 1335.04,1356.99 1345.02,1357.28 1355,1357.56 1364.98,1357.85 1374.96,1358.13 1384.94,1358.41 1394.92,1358.7 1404.9,1358.98 1414.88,1359.27 1424.86,1359.55 1434.84,1359.83 1444.83,1360.12 1454.81,1360.4 1464.79,1360.68 1474.77,1360.97 1484.75,1361.25 1494.73,1361.54 1504.71,1361.82 1514.69,1362.1 1524.67,1362.39 1534.65,1362.67 1544.63,1362.95 1554.61,1363.24 1564.59,1363.52 1574.57,1363.8 1584.55,1364.09 1594.53,1364.37 1604.51,1364.65 1614.49,1364.94 1624.48,1365.23 1634.46,1365.51 1644.44,1365.79 1654.42,1366.07 1664.4,1366.36 1674.38,1366.64 1684.36,1366.93 1694.34,1367.21 1704.32,1367.5 1714.3,1367.78 1724.28,1368.06 1734.26,1368.34 1744.24,1368.63 1754.22,1368.91 1764.2,1369.19 1774.18,1369.48 1784.16,1369.76 1794.14,1370.05 1804.13,1370.33 1814.11,1370.61 1824.09,1370.9 1834.07,1371.18 1844.05,1371.46 1854.03,1371.75 1864.01,1372.03 1873.99,1372.32 1883.97,1372.6 1893.95,1372.89 1903.93,1373.17 1913.91,1373.45 1923.89,1373.74 1933.87,1374.02 1943.85,1374.3 1953.83,1374.59 1963.81,1374.87 1973.79,1375.15 1983.77,1375.43 1993.76,1375.72 2003.74,1376.01 2013.72,1376.29 2023.7,1376.57 2033.68,1376.86 2043.66,1377.14 2053.64,1377.43 2063.62,1377.71 2073.6,1377.99 2083.58,1378.28 2093.56,1378.56 2103.54,1378.84 2113.52,1379.12 2123.5,1379.41 2133.48,1379.69 2143.46,1379.98 2153.44,1380.26 2163.42,1380.54 2173.41,1380.83 2183.39,1381.11 2193.37,1381.39 2203.35,1381.68 2213.33,1381.96 2223.31,1382.25 2233.29,1382.53 2243.27,1382.81 2253.25,1383.1 2263.23,1383.38 2273.21,1383.67 2283.19,1383.95 2293.17,1384.24 \"/>\n",
       "<path clip-path=\"url(#clip970)\" d=\"M2019.62 196.789 L2282.58 196.789 L2282.58 93.1086 L2019.62 93.1086  Z\" fill=\"#ffffff\" fill-rule=\"evenodd\" fill-opacity=\"1\"/>\n",
       "<polyline clip-path=\"url(#clip970)\" style=\"stroke:#000000; stroke-linecap:round; stroke-linejoin:round; stroke-width:4; stroke-opacity:1; fill:none\" points=\"2019.62,196.789 2282.58,196.789 2282.58,93.1086 2019.62,93.1086 2019.62,196.789 \"/>\n",
       "<polyline clip-path=\"url(#clip970)\" style=\"stroke:#009af9; stroke-linecap:round; stroke-linejoin:round; stroke-width:4; stroke-opacity:1; fill:none\" points=\"2043.01,144.949 2183.36,144.949 \"/>\n",
       "<path clip-path=\"url(#clip970)\" d=\"M2220.6 164.636 Q2218.79 169.266 2217.08 170.678 Q2215.37 172.09 2212.5 172.09 L2209.09 172.09 L2209.09 168.525 L2211.59 168.525 Q2213.35 168.525 2214.33 167.692 Q2215.3 166.858 2216.48 163.756 L2217.24 161.812 L2206.76 136.303 L2211.27 136.303 L2219.37 156.581 L2227.47 136.303 L2231.99 136.303 L2220.6 164.636 Z\" fill=\"#000000\" fill-rule=\"nonzero\" fill-opacity=\"1\" /><path clip-path=\"url(#clip970)\" d=\"M2239.28 158.293 L2246.92 158.293 L2246.92 131.928 L2238.61 133.595 L2238.61 129.335 L2246.87 127.669 L2251.55 127.669 L2251.55 158.293 L2259.19 158.293 L2259.19 162.229 L2239.28 162.229 L2239.28 158.293 Z\" fill=\"#000000\" fill-rule=\"nonzero\" fill-opacity=\"1\" /></svg>\n"
      ],
      "text/html": [
       "<?xml version=\"1.0\" encoding=\"utf-8\"?>\n",
       "<svg xmlns=\"http://www.w3.org/2000/svg\" xmlns:xlink=\"http://www.w3.org/1999/xlink\" width=\"600\" height=\"400\" viewBox=\"0 0 2400 1600\">\n",
       "<defs>\n",
       "  <clipPath id=\"clip020\">\n",
       "    <rect x=\"0\" y=\"0\" width=\"2400\" height=\"1600\"/>\n",
       "  </clipPath>\n",
       "</defs>\n",
       "<path clip-path=\"url(#clip020)\" d=\"M0 1600 L2400 1600 L2400 0 L0 0  Z\" fill=\"#ffffff\" fill-rule=\"evenodd\" fill-opacity=\"1\"/>\n",
       "<defs>\n",
       "  <clipPath id=\"clip021\">\n",
       "    <rect x=\"480\" y=\"0\" width=\"1681\" height=\"1600\"/>\n",
       "  </clipPath>\n",
       "</defs>\n",
       "<path clip-path=\"url(#clip020)\" d=\"M247.459 1423.18 L2352.76 1423.18 L2352.76 47.2441 L247.459 47.2441  Z\" fill=\"#ffffff\" fill-rule=\"evenodd\" fill-opacity=\"1\"/>\n",
       "<defs>\n",
       "  <clipPath id=\"clip022\">\n",
       "    <rect x=\"247\" y=\"47\" width=\"2106\" height=\"1377\"/>\n",
       "  </clipPath>\n",
       "</defs>\n",
       "<polyline clip-path=\"url(#clip022)\" style=\"stroke:#000000; stroke-linecap:round; stroke-linejoin:round; stroke-width:2; stroke-opacity:0.1; fill:none\" points=\"297.062,1423.18 297.062,47.2441 \"/>\n",
       "<polyline clip-path=\"url(#clip022)\" style=\"stroke:#000000; stroke-linecap:round; stroke-linejoin:round; stroke-width:2; stroke-opacity:0.1; fill:none\" points=\"796.09,1423.18 796.09,47.2441 \"/>\n",
       "<polyline clip-path=\"url(#clip022)\" style=\"stroke:#000000; stroke-linecap:round; stroke-linejoin:round; stroke-width:2; stroke-opacity:0.1; fill:none\" points=\"1295.12,1423.18 1295.12,47.2441 \"/>\n",
       "<polyline clip-path=\"url(#clip022)\" style=\"stroke:#000000; stroke-linecap:round; stroke-linejoin:round; stroke-width:2; stroke-opacity:0.1; fill:none\" points=\"1794.14,1423.18 1794.14,47.2441 \"/>\n",
       "<polyline clip-path=\"url(#clip022)\" style=\"stroke:#000000; stroke-linecap:round; stroke-linejoin:round; stroke-width:2; stroke-opacity:0.1; fill:none\" points=\"2293.17,1423.18 2293.17,47.2441 \"/>\n",
       "<polyline clip-path=\"url(#clip020)\" style=\"stroke:#000000; stroke-linecap:round; stroke-linejoin:round; stroke-width:4; stroke-opacity:1; fill:none\" points=\"247.459,1423.18 2352.76,1423.18 \"/>\n",
       "<polyline clip-path=\"url(#clip020)\" style=\"stroke:#000000; stroke-linecap:round; stroke-linejoin:round; stroke-width:4; stroke-opacity:1; fill:none\" points=\"297.062,1423.18 297.062,1404.28 \"/>\n",
       "<polyline clip-path=\"url(#clip020)\" style=\"stroke:#000000; stroke-linecap:round; stroke-linejoin:round; stroke-width:4; stroke-opacity:1; fill:none\" points=\"796.09,1423.18 796.09,1404.28 \"/>\n",
       "<polyline clip-path=\"url(#clip020)\" style=\"stroke:#000000; stroke-linecap:round; stroke-linejoin:round; stroke-width:4; stroke-opacity:1; fill:none\" points=\"1295.12,1423.18 1295.12,1404.28 \"/>\n",
       "<polyline clip-path=\"url(#clip020)\" style=\"stroke:#000000; stroke-linecap:round; stroke-linejoin:round; stroke-width:4; stroke-opacity:1; fill:none\" points=\"1794.14,1423.18 1794.14,1404.28 \"/>\n",
       "<polyline clip-path=\"url(#clip020)\" style=\"stroke:#000000; stroke-linecap:round; stroke-linejoin:round; stroke-width:4; stroke-opacity:1; fill:none\" points=\"2293.17,1423.18 2293.17,1404.28 \"/>\n",
       "<path clip-path=\"url(#clip020)\" d=\"M297.062 1454.1 Q293.451 1454.1 291.622 1457.66 Q289.817 1461.2 289.817 1468.33 Q289.817 1475.44 291.622 1479.01 Q293.451 1482.55 297.062 1482.55 Q300.696 1482.55 302.502 1479.01 Q304.331 1475.44 304.331 1468.33 Q304.331 1461.2 302.502 1457.66 Q300.696 1454.1 297.062 1454.1 M297.062 1450.39 Q302.872 1450.39 305.928 1455 Q309.006 1459.58 309.006 1468.33 Q309.006 1477.06 305.928 1481.67 Q302.872 1486.25 297.062 1486.25 Q291.252 1486.25 288.173 1481.67 Q285.118 1477.06 285.118 1468.33 Q285.118 1459.58 288.173 1455 Q291.252 1450.39 297.062 1450.39 Z\" fill=\"#000000\" fill-rule=\"nonzero\" fill-opacity=\"1\" /><path clip-path=\"url(#clip020)\" d=\"M770.789 1451.02 L789.145 1451.02 L789.145 1454.96 L775.071 1454.96 L775.071 1463.43 Q776.09 1463.08 777.108 1462.92 Q778.127 1462.73 779.145 1462.73 Q784.932 1462.73 788.312 1465.9 Q791.691 1469.08 791.691 1474.49 Q791.691 1480.07 788.219 1483.17 Q784.747 1486.25 778.428 1486.25 Q776.252 1486.25 773.983 1485.88 Q771.738 1485.51 769.33 1484.77 L769.33 1480.07 Q771.414 1481.2 773.636 1481.76 Q775.858 1482.32 778.335 1482.32 Q782.34 1482.32 784.678 1480.21 Q787.016 1478.1 787.016 1474.49 Q787.016 1470.88 784.678 1468.77 Q782.34 1466.67 778.335 1466.67 Q776.46 1466.67 774.585 1467.08 Q772.733 1467.5 770.789 1468.38 L770.789 1451.02 Z\" fill=\"#000000\" fill-rule=\"nonzero\" fill-opacity=\"1\" /><path clip-path=\"url(#clip020)\" d=\"M810.904 1454.1 Q807.293 1454.1 805.464 1457.66 Q803.659 1461.2 803.659 1468.33 Q803.659 1475.44 805.464 1479.01 Q807.293 1482.55 810.904 1482.55 Q814.539 1482.55 816.344 1479.01 Q818.173 1475.44 818.173 1468.33 Q818.173 1461.2 816.344 1457.66 Q814.539 1454.1 810.904 1454.1 M810.904 1450.39 Q816.714 1450.39 819.77 1455 Q822.849 1459.58 822.849 1468.33 Q822.849 1477.06 819.77 1481.67 Q816.714 1486.25 810.904 1486.25 Q805.094 1486.25 802.015 1481.67 Q798.96 1477.06 798.96 1468.33 Q798.96 1459.58 802.015 1455 Q805.094 1450.39 810.904 1450.39 Z\" fill=\"#000000\" fill-rule=\"nonzero\" fill-opacity=\"1\" /><path clip-path=\"url(#clip020)\" d=\"M1254.72 1481.64 L1262.36 1481.64 L1262.36 1455.28 L1254.05 1456.95 L1254.05 1452.69 L1262.32 1451.02 L1266.99 1451.02 L1266.99 1481.64 L1274.63 1481.64 L1274.63 1485.58 L1254.72 1485.58 L1254.72 1481.64 Z\" fill=\"#000000\" fill-rule=\"nonzero\" fill-opacity=\"1\" /><path clip-path=\"url(#clip020)\" d=\"M1294.08 1454.1 Q1290.46 1454.1 1288.64 1457.66 Q1286.83 1461.2 1286.83 1468.33 Q1286.83 1475.44 1288.64 1479.01 Q1290.46 1482.55 1294.08 1482.55 Q1297.71 1482.55 1299.52 1479.01 Q1301.34 1475.44 1301.34 1468.33 Q1301.34 1461.2 1299.52 1457.66 Q1297.71 1454.1 1294.08 1454.1 M1294.08 1450.39 Q1299.89 1450.39 1302.94 1455 Q1306.02 1459.58 1306.02 1468.33 Q1306.02 1477.06 1302.94 1481.67 Q1299.89 1486.25 1294.08 1486.25 Q1288.27 1486.25 1285.19 1481.67 Q1282.13 1477.06 1282.13 1468.33 Q1282.13 1459.58 1285.19 1455 Q1288.27 1450.39 1294.08 1450.39 Z\" fill=\"#000000\" fill-rule=\"nonzero\" fill-opacity=\"1\" /><path clip-path=\"url(#clip020)\" d=\"M1324.24 1454.1 Q1320.63 1454.1 1318.8 1457.66 Q1316.99 1461.2 1316.99 1468.33 Q1316.99 1475.44 1318.8 1479.01 Q1320.63 1482.55 1324.24 1482.55 Q1327.87 1482.55 1329.68 1479.01 Q1331.51 1475.44 1331.51 1468.33 Q1331.51 1461.2 1329.68 1457.66 Q1327.87 1454.1 1324.24 1454.1 M1324.24 1450.39 Q1330.05 1450.39 1333.1 1455 Q1336.18 1459.58 1336.18 1468.33 Q1336.18 1477.06 1333.1 1481.67 Q1330.05 1486.25 1324.24 1486.25 Q1318.43 1486.25 1315.35 1481.67 Q1312.29 1477.06 1312.29 1468.33 Q1312.29 1459.58 1315.35 1455 Q1318.43 1450.39 1324.24 1450.39 Z\" fill=\"#000000\" fill-rule=\"nonzero\" fill-opacity=\"1\" /><path clip-path=\"url(#clip020)\" d=\"M1753.75 1481.64 L1761.39 1481.64 L1761.39 1455.28 L1753.08 1456.95 L1753.08 1452.69 L1761.34 1451.02 L1766.02 1451.02 L1766.02 1481.64 L1773.66 1481.64 L1773.66 1485.58 L1753.75 1485.58 L1753.75 1481.64 Z\" fill=\"#000000\" fill-rule=\"nonzero\" fill-opacity=\"1\" /><path clip-path=\"url(#clip020)\" d=\"M1783.15 1451.02 L1801.51 1451.02 L1801.51 1454.96 L1787.43 1454.96 L1787.43 1463.43 Q1788.45 1463.08 1789.47 1462.92 Q1790.49 1462.73 1791.51 1462.73 Q1797.29 1462.73 1800.67 1465.9 Q1804.05 1469.08 1804.05 1474.49 Q1804.05 1480.07 1800.58 1483.17 Q1797.11 1486.25 1790.79 1486.25 Q1788.61 1486.25 1786.34 1485.88 Q1784.1 1485.51 1781.69 1484.77 L1781.69 1480.07 Q1783.77 1481.2 1786 1481.76 Q1788.22 1482.32 1790.7 1482.32 Q1794.7 1482.32 1797.04 1480.21 Q1799.38 1478.1 1799.38 1474.49 Q1799.38 1470.88 1797.04 1468.77 Q1794.7 1466.67 1790.7 1466.67 Q1788.82 1466.67 1786.95 1467.08 Q1785.09 1467.5 1783.15 1468.38 L1783.15 1451.02 Z\" fill=\"#000000\" fill-rule=\"nonzero\" fill-opacity=\"1\" /><path clip-path=\"url(#clip020)\" d=\"M1823.26 1454.1 Q1819.65 1454.1 1817.82 1457.66 Q1816.02 1461.2 1816.02 1468.33 Q1816.02 1475.44 1817.82 1479.01 Q1819.65 1482.55 1823.26 1482.55 Q1826.9 1482.55 1828.7 1479.01 Q1830.53 1475.44 1830.53 1468.33 Q1830.53 1461.2 1828.7 1457.66 Q1826.9 1454.1 1823.26 1454.1 M1823.26 1450.39 Q1829.07 1450.39 1832.13 1455 Q1835.21 1459.58 1835.21 1468.33 Q1835.21 1477.06 1832.13 1481.67 Q1829.07 1486.25 1823.26 1486.25 Q1817.45 1486.25 1814.38 1481.67 Q1811.32 1477.06 1811.32 1468.33 Q1811.32 1459.58 1814.38 1455 Q1817.45 1450.39 1823.26 1450.39 Z\" fill=\"#000000\" fill-rule=\"nonzero\" fill-opacity=\"1\" /><path clip-path=\"url(#clip020)\" d=\"M2256.86 1481.64 L2273.18 1481.64 L2273.18 1485.58 L2251.24 1485.58 L2251.24 1481.64 Q2253.9 1478.89 2258.48 1474.26 Q2263.09 1469.61 2264.27 1468.27 Q2266.52 1465.74 2267.4 1464.01 Q2268.3 1462.25 2268.3 1460.56 Q2268.3 1457.8 2266.36 1456.07 Q2264.43 1454.33 2261.33 1454.33 Q2259.13 1454.33 2256.68 1455.09 Q2254.25 1455.86 2251.47 1457.41 L2251.47 1452.69 Q2254.29 1451.55 2256.75 1450.97 Q2259.2 1450.39 2261.24 1450.39 Q2266.61 1450.39 2269.8 1453.08 Q2273 1455.77 2273 1460.26 Q2273 1462.39 2272.19 1464.31 Q2271.4 1466.2 2269.29 1468.8 Q2268.72 1469.47 2265.61 1472.69 Q2262.51 1475.88 2256.86 1481.64 Z\" fill=\"#000000\" fill-rule=\"nonzero\" fill-opacity=\"1\" /><path clip-path=\"url(#clip020)\" d=\"M2293 1454.1 Q2289.39 1454.1 2287.56 1457.66 Q2285.75 1461.2 2285.75 1468.33 Q2285.75 1475.44 2287.56 1479.01 Q2289.39 1482.55 2293 1482.55 Q2296.63 1482.55 2298.44 1479.01 Q2300.27 1475.44 2300.27 1468.33 Q2300.27 1461.2 2298.44 1457.66 Q2296.63 1454.1 2293 1454.1 M2293 1450.39 Q2298.81 1450.39 2301.86 1455 Q2304.94 1459.58 2304.94 1468.33 Q2304.94 1477.06 2301.86 1481.67 Q2298.81 1486.25 2293 1486.25 Q2287.19 1486.25 2284.11 1481.67 Q2281.05 1477.06 2281.05 1468.33 Q2281.05 1459.58 2284.11 1455 Q2287.19 1450.39 2293 1450.39 Z\" fill=\"#000000\" fill-rule=\"nonzero\" fill-opacity=\"1\" /><path clip-path=\"url(#clip020)\" d=\"M2323.16 1454.1 Q2319.55 1454.1 2317.72 1457.66 Q2315.91 1461.2 2315.91 1468.33 Q2315.91 1475.44 2317.72 1479.01 Q2319.55 1482.55 2323.16 1482.55 Q2326.79 1482.55 2328.6 1479.01 Q2330.43 1475.44 2330.43 1468.33 Q2330.43 1461.2 2328.6 1457.66 Q2326.79 1454.1 2323.16 1454.1 M2323.16 1450.39 Q2328.97 1450.39 2332.03 1455 Q2335.1 1459.58 2335.1 1468.33 Q2335.1 1477.06 2332.03 1481.67 Q2328.97 1486.25 2323.16 1486.25 Q2317.35 1486.25 2314.27 1481.67 Q2311.22 1477.06 2311.22 1468.33 Q2311.22 1459.58 2314.27 1455 Q2317.35 1450.39 2323.16 1450.39 Z\" fill=\"#000000\" fill-rule=\"nonzero\" fill-opacity=\"1\" /><path clip-path=\"url(#clip020)\" d=\"M1206.28 1520.52 L1236.32 1520.52 L1236.32 1525.93 L1212.71 1525.93 L1212.71 1540 L1235.34 1540 L1235.34 1545.41 L1212.71 1545.41 L1212.71 1562.63 L1236.9 1562.63 L1236.9 1568.04 L1206.28 1568.04 L1206.28 1520.52 Z\" fill=\"#000000\" fill-rule=\"nonzero\" fill-opacity=\"1\" /><path clip-path=\"url(#clip020)\" d=\"M1252.87 1562.7 L1252.87 1581.6 L1246.99 1581.6 L1246.99 1532.4 L1252.87 1532.4 L1252.87 1537.81 Q1254.72 1534.62 1257.52 1533.1 Q1260.35 1531.54 1264.27 1531.54 Q1270.76 1531.54 1274.8 1536.69 Q1278.88 1541.85 1278.88 1550.25 Q1278.88 1558.65 1274.8 1563.81 Q1270.76 1568.97 1264.27 1568.97 Q1260.35 1568.97 1257.52 1567.44 Q1254.72 1565.88 1252.87 1562.7 M1272.8 1550.25 Q1272.8 1543.79 1270.12 1540.13 Q1267.48 1536.44 1262.84 1536.44 Q1258.19 1536.44 1255.52 1540.13 Q1252.87 1543.79 1252.87 1550.25 Q1252.87 1556.71 1255.52 1560.4 Q1258.19 1564.07 1262.84 1564.07 Q1267.48 1564.07 1270.12 1560.4 Q1272.8 1556.71 1272.8 1550.25 Z\" fill=\"#000000\" fill-rule=\"nonzero\" fill-opacity=\"1\" /><path clip-path=\"url(#clip020)\" d=\"M1302.4 1536.5 Q1297.69 1536.5 1294.95 1540.19 Q1292.21 1543.85 1292.21 1550.25 Q1292.21 1556.65 1294.92 1560.34 Q1297.66 1564 1302.4 1564 Q1307.08 1564 1309.82 1560.31 Q1312.55 1556.62 1312.55 1550.25 Q1312.55 1543.92 1309.82 1540.23 Q1307.08 1536.5 1302.4 1536.5 M1302.4 1531.54 Q1310.04 1531.54 1314.4 1536.5 Q1318.76 1541.47 1318.76 1550.25 Q1318.76 1559 1314.4 1564 Q1310.04 1568.97 1302.4 1568.97 Q1294.73 1568.97 1290.37 1564 Q1286.04 1559 1286.04 1550.25 Q1286.04 1541.47 1290.37 1536.5 Q1294.73 1531.54 1302.4 1531.54 Z\" fill=\"#000000\" fill-rule=\"nonzero\" fill-opacity=\"1\" /><path clip-path=\"url(#clip020)\" d=\"M1354.12 1533.76 L1354.12 1539.24 Q1351.64 1537.87 1349.12 1537.2 Q1346.64 1536.5 1344.09 1536.5 Q1338.4 1536.5 1335.25 1540.13 Q1332.09 1543.73 1332.09 1550.25 Q1332.09 1556.78 1335.25 1560.4 Q1338.4 1564 1344.09 1564 Q1346.64 1564 1349.12 1563.33 Q1351.64 1562.63 1354.12 1561.26 L1354.12 1566.68 Q1351.67 1567.82 1349.03 1568.39 Q1346.42 1568.97 1343.46 1568.97 Q1335.41 1568.97 1330.66 1563.91 Q1325.92 1558.85 1325.92 1550.25 Q1325.92 1541.53 1330.69 1536.53 Q1335.5 1531.54 1343.84 1531.54 Q1346.55 1531.54 1349.12 1532.11 Q1351.7 1532.65 1354.12 1533.76 Z\" fill=\"#000000\" fill-rule=\"nonzero\" fill-opacity=\"1\" /><path clip-path=\"url(#clip020)\" d=\"M1393.94 1546.53 L1393.94 1568.04 L1388.08 1568.04 L1388.08 1546.72 Q1388.08 1541.66 1386.11 1539.14 Q1384.13 1536.63 1380.19 1536.63 Q1375.45 1536.63 1372.71 1539.65 Q1369.97 1542.68 1369.97 1547.9 L1369.97 1568.04 L1364.08 1568.04 L1364.08 1518.52 L1369.97 1518.52 L1369.97 1537.93 Q1372.07 1534.72 1374.9 1533.13 Q1377.77 1531.54 1381.49 1531.54 Q1387.64 1531.54 1390.79 1535.36 Q1393.94 1539.14 1393.94 1546.53 Z\" fill=\"#000000\" fill-rule=\"nonzero\" fill-opacity=\"1\" /><polyline clip-path=\"url(#clip022)\" style=\"stroke:#000000; stroke-linecap:round; stroke-linejoin:round; stroke-width:2; stroke-opacity:0.1; fill:none\" points=\"247.459,1309.3 2352.76,1309.3 \"/>\n",
       "<polyline clip-path=\"url(#clip022)\" style=\"stroke:#000000; stroke-linecap:round; stroke-linejoin:round; stroke-width:2; stroke-opacity:0.1; fill:none\" points=\"247.459,1098.39 2352.76,1098.39 \"/>\n",
       "<polyline clip-path=\"url(#clip022)\" style=\"stroke:#000000; stroke-linecap:round; stroke-linejoin:round; stroke-width:2; stroke-opacity:0.1; fill:none\" points=\"247.459,887.477 2352.76,887.477 \"/>\n",
       "<polyline clip-path=\"url(#clip022)\" style=\"stroke:#000000; stroke-linecap:round; stroke-linejoin:round; stroke-width:2; stroke-opacity:0.1; fill:none\" points=\"247.459,676.563 2352.76,676.563 \"/>\n",
       "<polyline clip-path=\"url(#clip022)\" style=\"stroke:#000000; stroke-linecap:round; stroke-linejoin:round; stroke-width:2; stroke-opacity:0.1; fill:none\" points=\"247.459,465.649 2352.76,465.649 \"/>\n",
       "<polyline clip-path=\"url(#clip022)\" style=\"stroke:#000000; stroke-linecap:round; stroke-linejoin:round; stroke-width:2; stroke-opacity:0.1; fill:none\" points=\"247.459,254.735 2352.76,254.735 \"/>\n",
       "<polyline clip-path=\"url(#clip020)\" style=\"stroke:#000000; stroke-linecap:round; stroke-linejoin:round; stroke-width:4; stroke-opacity:1; fill:none\" points=\"247.459,1423.18 247.459,47.2441 \"/>\n",
       "<polyline clip-path=\"url(#clip020)\" style=\"stroke:#000000; stroke-linecap:round; stroke-linejoin:round; stroke-width:4; stroke-opacity:1; fill:none\" points=\"247.459,1309.3 266.356,1309.3 \"/>\n",
       "<polyline clip-path=\"url(#clip020)\" style=\"stroke:#000000; stroke-linecap:round; stroke-linejoin:round; stroke-width:4; stroke-opacity:1; fill:none\" points=\"247.459,1098.39 266.356,1098.39 \"/>\n",
       "<polyline clip-path=\"url(#clip020)\" style=\"stroke:#000000; stroke-linecap:round; stroke-linejoin:round; stroke-width:4; stroke-opacity:1; fill:none\" points=\"247.459,887.477 266.356,887.477 \"/>\n",
       "<polyline clip-path=\"url(#clip020)\" style=\"stroke:#000000; stroke-linecap:round; stroke-linejoin:round; stroke-width:4; stroke-opacity:1; fill:none\" points=\"247.459,676.563 266.356,676.563 \"/>\n",
       "<polyline clip-path=\"url(#clip020)\" style=\"stroke:#000000; stroke-linecap:round; stroke-linejoin:round; stroke-width:4; stroke-opacity:1; fill:none\" points=\"247.459,465.649 266.356,465.649 \"/>\n",
       "<polyline clip-path=\"url(#clip020)\" style=\"stroke:#000000; stroke-linecap:round; stroke-linejoin:round; stroke-width:4; stroke-opacity:1; fill:none\" points=\"247.459,254.735 266.356,254.735 \"/>\n",
       "<path clip-path=\"url(#clip020)\" d=\"M114.931 1322.65 L122.57 1322.65 L122.57 1296.28 L114.26 1297.95 L114.26 1293.69 L122.524 1292.02 L127.2 1292.02 L127.2 1322.65 L134.839 1322.65 L134.839 1326.58 L114.931 1326.58 L114.931 1322.65 Z\" fill=\"#000000\" fill-rule=\"nonzero\" fill-opacity=\"1\" /><path clip-path=\"url(#clip020)\" d=\"M144.329 1292.02 L162.686 1292.02 L162.686 1295.96 L148.612 1295.96 L148.612 1304.43 Q149.63 1304.08 150.649 1303.92 Q151.667 1303.74 152.686 1303.74 Q158.473 1303.74 161.852 1306.91 Q165.232 1310.08 165.232 1315.5 Q165.232 1321.08 161.76 1324.18 Q158.288 1327.26 151.968 1327.26 Q149.792 1327.26 147.524 1326.89 Q145.279 1326.51 142.871 1325.77 L142.871 1321.08 Q144.954 1322.21 147.177 1322.76 Q149.399 1323.32 151.876 1323.32 Q155.88 1323.32 158.218 1321.21 Q160.556 1319.11 160.556 1315.5 Q160.556 1311.89 158.218 1309.78 Q155.88 1307.67 151.876 1307.67 Q150.001 1307.67 148.126 1308.09 Q146.274 1308.51 144.329 1309.39 L144.329 1292.02 Z\" fill=\"#000000\" fill-rule=\"nonzero\" fill-opacity=\"1\" /><path clip-path=\"url(#clip020)\" d=\"M174.445 1320.7 L179.329 1320.7 L179.329 1326.58 L174.445 1326.58 L174.445 1320.7 Z\" fill=\"#000000\" fill-rule=\"nonzero\" fill-opacity=\"1\" /><path clip-path=\"url(#clip020)\" d=\"M199.514 1295.1 Q195.903 1295.1 194.075 1298.67 Q192.269 1302.21 192.269 1309.34 Q192.269 1316.45 194.075 1320.01 Q195.903 1323.55 199.514 1323.55 Q203.149 1323.55 204.954 1320.01 Q206.783 1316.45 206.783 1309.34 Q206.783 1302.21 204.954 1298.67 Q203.149 1295.1 199.514 1295.1 M199.514 1291.4 Q205.324 1291.4 208.38 1296.01 Q211.459 1300.59 211.459 1309.34 Q211.459 1318.07 208.38 1322.67 Q205.324 1327.26 199.514 1327.26 Q193.704 1327.26 190.625 1322.67 Q187.57 1318.07 187.57 1309.34 Q187.57 1300.59 190.625 1296.01 Q193.704 1291.4 199.514 1291.4 Z\" fill=\"#000000\" fill-rule=\"nonzero\" fill-opacity=\"1\" /><path clip-path=\"url(#clip020)\" d=\"M115.927 1111.74 L123.566 1111.74 L123.566 1085.37 L115.256 1087.04 L115.256 1082.78 L123.519 1081.11 L128.195 1081.11 L128.195 1111.74 L135.834 1111.74 L135.834 1115.67 L115.927 1115.67 L115.927 1111.74 Z\" fill=\"#000000\" fill-rule=\"nonzero\" fill-opacity=\"1\" /><path clip-path=\"url(#clip020)\" d=\"M145.325 1081.11 L163.681 1081.11 L163.681 1085.05 L149.607 1085.05 L149.607 1093.52 Q150.626 1093.17 151.644 1093.01 Q152.663 1092.82 153.681 1092.82 Q159.468 1092.82 162.848 1095.99 Q166.227 1099.17 166.227 1104.58 Q166.227 1110.16 162.755 1113.26 Q159.283 1116.34 152.964 1116.34 Q150.788 1116.34 148.519 1115.97 Q146.274 1115.6 143.866 1114.86 L143.866 1110.16 Q145.95 1111.3 148.172 1111.85 Q150.394 1112.41 152.871 1112.41 Q156.876 1112.41 159.214 1110.3 Q161.552 1108.19 161.552 1104.58 Q161.552 1100.97 159.214 1098.86 Q156.876 1096.76 152.871 1096.76 Q150.996 1096.76 149.121 1097.18 Q147.269 1097.59 145.325 1098.47 L145.325 1081.11 Z\" fill=\"#000000\" fill-rule=\"nonzero\" fill-opacity=\"1\" /><path clip-path=\"url(#clip020)\" d=\"M175.44 1109.79 L180.325 1109.79 L180.325 1115.67 L175.44 1115.67 L175.44 1109.79 Z\" fill=\"#000000\" fill-rule=\"nonzero\" fill-opacity=\"1\" /><path clip-path=\"url(#clip020)\" d=\"M190.556 1081.11 L208.912 1081.11 L208.912 1085.05 L194.838 1085.05 L194.838 1093.52 Q195.857 1093.17 196.875 1093.01 Q197.894 1092.82 198.912 1092.82 Q204.699 1092.82 208.079 1095.99 Q211.459 1099.17 211.459 1104.58 Q211.459 1110.16 207.987 1113.26 Q204.514 1116.34 198.195 1116.34 Q196.019 1116.34 193.75 1115.97 Q191.505 1115.6 189.098 1114.86 L189.098 1110.16 Q191.181 1111.3 193.403 1111.85 Q195.625 1112.41 198.102 1112.41 Q202.107 1112.41 204.445 1110.3 Q206.783 1108.19 206.783 1104.58 Q206.783 1100.97 204.445 1098.86 Q202.107 1096.76 198.102 1096.76 Q196.227 1096.76 194.352 1097.18 Q192.5 1097.59 190.556 1098.47 L190.556 1081.11 Z\" fill=\"#000000\" fill-rule=\"nonzero\" fill-opacity=\"1\" /><path clip-path=\"url(#clip020)\" d=\"M114.931 900.821 L122.57 900.821 L122.57 874.456 L114.26 876.122 L114.26 871.863 L122.524 870.197 L127.2 870.197 L127.2 900.821 L134.839 900.821 L134.839 904.757 L114.931 904.757 L114.931 900.821 Z\" fill=\"#000000\" fill-rule=\"nonzero\" fill-opacity=\"1\" /><path clip-path=\"url(#clip020)\" d=\"M154.862 885.613 Q151.714 885.613 149.862 887.766 Q148.033 889.919 148.033 893.669 Q148.033 897.395 149.862 899.571 Q151.714 901.724 154.862 901.724 Q158.01 901.724 159.839 899.571 Q161.69 897.395 161.69 893.669 Q161.69 889.919 159.839 887.766 Q158.01 885.613 154.862 885.613 M164.144 870.96 L164.144 875.22 Q162.385 874.386 160.579 873.947 Q158.797 873.507 157.038 873.507 Q152.408 873.507 149.954 876.632 Q147.524 879.757 147.177 886.076 Q148.542 884.062 150.603 882.997 Q152.663 881.909 155.14 881.909 Q160.348 881.909 163.357 885.081 Q166.39 888.229 166.39 893.669 Q166.39 898.993 163.241 902.21 Q160.093 905.428 154.862 905.428 Q148.866 905.428 145.695 900.845 Q142.524 896.238 142.524 887.511 Q142.524 879.317 146.413 874.456 Q150.302 869.572 156.853 869.572 Q158.612 869.572 160.394 869.919 Q162.2 870.266 164.144 870.96 Z\" fill=\"#000000\" fill-rule=\"nonzero\" fill-opacity=\"1\" /><path clip-path=\"url(#clip020)\" d=\"M174.445 898.877 L179.329 898.877 L179.329 904.757 L174.445 904.757 L174.445 898.877 Z\" fill=\"#000000\" fill-rule=\"nonzero\" fill-opacity=\"1\" /><path clip-path=\"url(#clip020)\" d=\"M199.514 873.275 Q195.903 873.275 194.075 876.84 Q192.269 880.382 192.269 887.511 Q192.269 894.618 194.075 898.183 Q195.903 901.724 199.514 901.724 Q203.149 901.724 204.954 898.183 Q206.783 894.618 206.783 887.511 Q206.783 880.382 204.954 876.84 Q203.149 873.275 199.514 873.275 M199.514 869.572 Q205.324 869.572 208.38 874.178 Q211.459 878.761 211.459 887.511 Q211.459 896.238 208.38 900.845 Q205.324 905.428 199.514 905.428 Q193.704 905.428 190.625 900.845 Q187.57 896.238 187.57 887.511 Q187.57 878.761 190.625 874.178 Q193.704 869.572 199.514 869.572 Z\" fill=\"#000000\" fill-rule=\"nonzero\" fill-opacity=\"1\" /><path clip-path=\"url(#clip020)\" d=\"M115.927 689.907 L123.566 689.907 L123.566 663.542 L115.256 665.209 L115.256 660.949 L123.519 659.283 L128.195 659.283 L128.195 689.907 L135.834 689.907 L135.834 693.843 L115.927 693.843 L115.927 689.907 Z\" fill=\"#000000\" fill-rule=\"nonzero\" fill-opacity=\"1\" /><path clip-path=\"url(#clip020)\" d=\"M155.857 674.699 Q152.709 674.699 150.857 676.852 Q149.028 679.005 149.028 682.755 Q149.028 686.482 150.857 688.657 Q152.709 690.81 155.857 690.81 Q159.005 690.81 160.834 688.657 Q162.686 686.482 162.686 682.755 Q162.686 679.005 160.834 676.852 Q159.005 674.699 155.857 674.699 M165.14 660.047 L165.14 664.306 Q163.38 663.472 161.575 663.033 Q159.792 662.593 158.033 662.593 Q153.403 662.593 150.95 665.718 Q148.519 668.843 148.172 675.162 Q149.538 673.148 151.598 672.084 Q153.658 670.996 156.135 670.996 Q161.343 670.996 164.352 674.167 Q167.385 677.315 167.385 682.755 Q167.385 688.079 164.237 691.296 Q161.089 694.514 155.857 694.514 Q149.862 694.514 146.691 689.931 Q143.519 685.324 143.519 676.597 Q143.519 668.403 147.408 663.542 Q151.297 658.658 157.848 658.658 Q159.607 658.658 161.39 659.005 Q163.195 659.352 165.14 660.047 Z\" fill=\"#000000\" fill-rule=\"nonzero\" fill-opacity=\"1\" /><path clip-path=\"url(#clip020)\" d=\"M175.44 687.963 L180.325 687.963 L180.325 693.843 L175.44 693.843 L175.44 687.963 Z\" fill=\"#000000\" fill-rule=\"nonzero\" fill-opacity=\"1\" /><path clip-path=\"url(#clip020)\" d=\"M190.556 659.283 L208.912 659.283 L208.912 663.218 L194.838 663.218 L194.838 671.69 Q195.857 671.343 196.875 671.181 Q197.894 670.996 198.912 670.996 Q204.699 670.996 208.079 674.167 Q211.459 677.338 211.459 682.755 Q211.459 688.333 207.987 691.435 Q204.514 694.514 198.195 694.514 Q196.019 694.514 193.75 694.144 Q191.505 693.773 189.098 693.032 L189.098 688.333 Q191.181 689.468 193.403 690.023 Q195.625 690.579 198.102 690.579 Q202.107 690.579 204.445 688.472 Q206.783 686.366 206.783 682.755 Q206.783 679.144 204.445 677.037 Q202.107 674.931 198.102 674.931 Q196.227 674.931 194.352 675.347 Q192.5 675.764 190.556 676.644 L190.556 659.283 Z\" fill=\"#000000\" fill-rule=\"nonzero\" fill-opacity=\"1\" /><path clip-path=\"url(#clip020)\" d=\"M114.931 478.994 L122.57 478.994 L122.57 452.628 L114.26 454.295 L114.26 450.035 L122.524 448.369 L127.2 448.369 L127.2 478.994 L134.839 478.994 L134.839 482.929 L114.931 482.929 L114.931 478.994 Z\" fill=\"#000000\" fill-rule=\"nonzero\" fill-opacity=\"1\" /><path clip-path=\"url(#clip020)\" d=\"M143.103 448.369 L165.325 448.369 L165.325 450.359 L152.778 482.929 L147.894 482.929 L159.7 452.304 L143.103 452.304 L143.103 448.369 Z\" fill=\"#000000\" fill-rule=\"nonzero\" fill-opacity=\"1\" /><path clip-path=\"url(#clip020)\" d=\"M174.445 477.049 L179.329 477.049 L179.329 482.929 L174.445 482.929 L174.445 477.049 Z\" fill=\"#000000\" fill-rule=\"nonzero\" fill-opacity=\"1\" /><path clip-path=\"url(#clip020)\" d=\"M199.514 451.447 Q195.903 451.447 194.075 455.012 Q192.269 458.554 192.269 465.683 Q192.269 472.79 194.075 476.355 Q195.903 479.896 199.514 479.896 Q203.149 479.896 204.954 476.355 Q206.783 472.79 206.783 465.683 Q206.783 458.554 204.954 455.012 Q203.149 451.447 199.514 451.447 M199.514 447.744 Q205.324 447.744 208.38 452.35 Q211.459 456.934 211.459 465.683 Q211.459 474.41 208.38 479.017 Q205.324 483.6 199.514 483.6 Q193.704 483.6 190.625 479.017 Q187.57 474.41 187.57 465.683 Q187.57 456.934 190.625 452.35 Q193.704 447.744 199.514 447.744 Z\" fill=\"#000000\" fill-rule=\"nonzero\" fill-opacity=\"1\" /><path clip-path=\"url(#clip020)\" d=\"M115.927 268.08 L123.566 268.08 L123.566 241.714 L115.256 243.381 L115.256 239.122 L123.519 237.455 L128.195 237.455 L128.195 268.08 L135.834 268.08 L135.834 272.015 L115.927 272.015 L115.927 268.08 Z\" fill=\"#000000\" fill-rule=\"nonzero\" fill-opacity=\"1\" /><path clip-path=\"url(#clip020)\" d=\"M144.098 237.455 L166.32 237.455 L166.32 239.446 L153.774 272.015 L148.89 272.015 L160.695 241.39 L144.098 241.39 L144.098 237.455 Z\" fill=\"#000000\" fill-rule=\"nonzero\" fill-opacity=\"1\" /><path clip-path=\"url(#clip020)\" d=\"M175.44 266.135 L180.325 266.135 L180.325 272.015 L175.44 272.015 L175.44 266.135 Z\" fill=\"#000000\" fill-rule=\"nonzero\" fill-opacity=\"1\" /><path clip-path=\"url(#clip020)\" d=\"M190.556 237.455 L208.912 237.455 L208.912 241.39 L194.838 241.39 L194.838 249.862 Q195.857 249.515 196.875 249.353 Q197.894 249.168 198.912 249.168 Q204.699 249.168 208.079 252.339 Q211.459 255.51 211.459 260.927 Q211.459 266.506 207.987 269.607 Q204.514 272.686 198.195 272.686 Q196.019 272.686 193.75 272.316 Q191.505 271.945 189.098 271.205 L189.098 266.506 Q191.181 267.64 193.403 268.195 Q195.625 268.751 198.102 268.751 Q202.107 268.751 204.445 266.645 Q206.783 264.538 206.783 260.927 Q206.783 257.316 204.445 255.209 Q202.107 253.103 198.102 253.103 Q196.227 253.103 194.352 253.52 Q192.5 253.936 190.556 254.816 L190.556 237.455 Z\" fill=\"#000000\" fill-rule=\"nonzero\" fill-opacity=\"1\" /><path clip-path=\"url(#clip020)\" d=\"M16.4842 801.909 L16.4842 795.479 L58.5933 795.479 L58.5933 772.34 L64.0042 772.34 L64.0042 801.909 L16.4842 801.909 Z\" fill=\"#000000\" fill-rule=\"nonzero\" fill-opacity=\"1\" /><path clip-path=\"url(#clip020)\" d=\"M32.4621 753.179 Q32.4621 757.89 36.1542 760.627 Q39.8145 763.364 46.212 763.364 Q52.6095 763.364 56.3017 760.659 Q59.9619 757.922 59.9619 753.179 Q59.9619 748.5 56.2698 745.763 Q52.5777 743.026 46.212 743.026 Q39.8781 743.026 36.186 745.763 Q32.4621 748.5 32.4621 753.179 M27.4968 753.179 Q27.4968 745.54 32.4621 741.18 Q37.4273 736.819 46.212 736.819 Q54.9649 736.819 59.9619 741.18 Q64.9272 745.54 64.9272 753.179 Q64.9272 760.85 59.9619 765.21 Q54.9649 769.539 46.212 769.539 Q37.4273 769.539 32.4621 765.21 Q27.4968 760.85 27.4968 753.179 Z\" fill=\"#000000\" fill-rule=\"nonzero\" fill-opacity=\"1\" /><path clip-path=\"url(#clip020)\" d=\"M29.4065 704.386 L34.9447 704.386 Q33.6716 706.869 33.035 709.542 Q32.3984 712.216 32.3984 715.08 Q32.3984 719.441 33.7352 721.637 Q35.072 723.801 37.7456 723.801 Q39.7826 723.801 40.9603 722.242 Q42.1061 720.682 43.1565 715.972 L43.6021 713.966 Q44.9389 707.728 47.3897 705.118 Q49.8086 702.476 54.1691 702.476 Q59.1344 702.476 62.0308 706.423 Q64.9272 710.338 64.9272 717.213 Q64.9272 720.078 64.3543 723.197 Q63.8132 726.284 62.6992 729.722 L56.6518 729.722 Q58.3387 726.475 59.198 723.324 Q60.0256 720.173 60.0256 717.086 Q60.0256 712.948 58.6251 710.72 Q57.1929 708.492 54.6147 708.492 Q52.2276 708.492 50.9545 710.115 Q49.6813 711.707 48.5037 717.149 L48.0262 719.186 Q46.8804 724.629 44.5251 727.048 Q42.138 729.467 38.0002 729.467 Q32.9713 729.467 30.2341 725.902 Q27.4968 722.337 27.4968 715.781 Q27.4968 712.534 27.9743 709.67 Q28.4517 706.805 29.4065 704.386 Z\" fill=\"#000000\" fill-rule=\"nonzero\" fill-opacity=\"1\" /><path clip-path=\"url(#clip020)\" d=\"M29.4065 670.425 L34.9447 670.425 Q33.6716 672.908 33.035 675.581 Q32.3984 678.255 32.3984 681.119 Q32.3984 685.48 33.7352 687.676 Q35.072 689.84 37.7456 689.84 Q39.7826 689.84 40.9603 688.281 Q42.1061 686.721 43.1565 682.011 L43.6021 680.005 Q44.9389 673.767 47.3897 671.157 Q49.8086 668.515 54.1691 668.515 Q59.1344 668.515 62.0308 672.462 Q64.9272 676.377 64.9272 683.252 Q64.9272 686.116 64.3543 689.236 Q63.8132 692.323 62.6992 695.761 L56.6518 695.761 Q58.3387 692.514 59.198 689.363 Q60.0256 686.212 60.0256 683.125 Q60.0256 678.987 58.6251 676.759 Q57.1929 674.531 54.6147 674.531 Q52.2276 674.531 50.9545 676.154 Q49.6813 677.746 48.5037 683.188 L48.0262 685.225 Q46.8804 690.668 44.5251 693.087 Q42.138 695.506 38.0002 695.506 Q32.9713 695.506 30.2341 691.941 Q27.4968 688.376 27.4968 681.82 Q27.4968 678.573 27.9743 675.709 Q28.4517 672.844 29.4065 670.425 Z\" fill=\"#000000\" fill-rule=\"nonzero\" fill-opacity=\"1\" /><polyline clip-path=\"url(#clip022)\" style=\"stroke:#009af9; stroke-linecap:round; stroke-linejoin:round; stroke-width:4; stroke-opacity:1; fill:none\" points=\"307.043,86.1857 317.023,716.818 327.004,1077.96 336.984,1240.29 346.965,1301.4 356.945,1321.85 366.926,1327.8 376.906,1329.51 386.887,1330.1 396.868,1330.43 406.848,1330.7 416.829,1330.98 426.809,1331.26 436.79,1331.53 446.77,1331.81 456.751,1332.09 466.731,1332.37 476.712,1332.65 486.692,1332.92 496.673,1333.21 506.654,1333.49 516.634,1333.76 526.615,1334.04 536.595,1334.33 546.576,1334.6 556.556,1334.89 566.537,1335.17 576.517,1335.45 586.498,1335.73 596.479,1336.01 606.459,1336.3 616.44,1336.58 626.42,1336.86 636.401,1337.14 646.381,1337.42 656.362,1337.71 666.342,1337.99 676.323,1338.27 686.303,1338.56 696.284,1338.84 706.265,1339.12 716.245,1339.41 726.226,1339.69 736.206,1339.97 746.187,1340.26 756.167,1340.54 766.148,1340.82 776.128,1341.1 786.109,1341.39 796.09,1341.67 806.07,1341.96 816.051,1342.24 826.031,1342.53 836.012,1342.81 845.992,1343.09 855.973,1343.38 865.953,1343.66 875.934,1343.95 885.914,1344.23 895.895,1344.51 905.876,1344.8 915.856,1345.08 925.837,1345.36 935.817,1345.65 945.798,1345.93 955.778,1346.22 965.759,1346.5 975.739,1346.78 985.72,1347.07 995.701,1347.35 1005.68,1347.63 1015.66,1347.92 1025.64,1348.2 1035.62,1348.48 1045.6,1348.77 1055.58,1349.05 1065.56,1349.34 1075.54,1349.62 1085.53,1349.9 1095.51,1350.19 1105.49,1350.47 1115.47,1350.76 1125.45,1351.04 1135.43,1351.32 1145.41,1351.6 1155.39,1351.89 1165.37,1352.17 1175.35,1352.46 1185.33,1352.74 1195.31,1353.02 1205.29,1353.31 1215.27,1353.59 1225.25,1353.88 1235.23,1354.16 1245.21,1354.44 1255.19,1354.73 1265.18,1355.01 1275.16,1355.3 1285.14,1355.58 1295.12,1355.86 1305.1,1356.14 1315.08,1356.43 1325.06,1356.71 1335.04,1356.99 1345.02,1357.28 1355,1357.56 1364.98,1357.85 1374.96,1358.13 1384.94,1358.41 1394.92,1358.7 1404.9,1358.98 1414.88,1359.27 1424.86,1359.55 1434.84,1359.83 1444.83,1360.12 1454.81,1360.4 1464.79,1360.68 1474.77,1360.97 1484.75,1361.25 1494.73,1361.54 1504.71,1361.82 1514.69,1362.1 1524.67,1362.39 1534.65,1362.67 1544.63,1362.95 1554.61,1363.24 1564.59,1363.52 1574.57,1363.8 1584.55,1364.09 1594.53,1364.37 1604.51,1364.65 1614.49,1364.94 1624.48,1365.23 1634.46,1365.51 1644.44,1365.79 1654.42,1366.07 1664.4,1366.36 1674.38,1366.64 1684.36,1366.93 1694.34,1367.21 1704.32,1367.5 1714.3,1367.78 1724.28,1368.06 1734.26,1368.34 1744.24,1368.63 1754.22,1368.91 1764.2,1369.19 1774.18,1369.48 1784.16,1369.76 1794.14,1370.05 1804.13,1370.33 1814.11,1370.61 1824.09,1370.9 1834.07,1371.18 1844.05,1371.46 1854.03,1371.75 1864.01,1372.03 1873.99,1372.32 1883.97,1372.6 1893.95,1372.89 1903.93,1373.17 1913.91,1373.45 1923.89,1373.74 1933.87,1374.02 1943.85,1374.3 1953.83,1374.59 1963.81,1374.87 1973.79,1375.15 1983.77,1375.43 1993.76,1375.72 2003.74,1376.01 2013.72,1376.29 2023.7,1376.57 2033.68,1376.86 2043.66,1377.14 2053.64,1377.43 2063.62,1377.71 2073.6,1377.99 2083.58,1378.28 2093.56,1378.56 2103.54,1378.84 2113.52,1379.12 2123.5,1379.41 2133.48,1379.69 2143.46,1379.98 2153.44,1380.26 2163.42,1380.54 2173.41,1380.83 2183.39,1381.11 2193.37,1381.39 2203.35,1381.68 2213.33,1381.96 2223.31,1382.25 2233.29,1382.53 2243.27,1382.81 2253.25,1383.1 2263.23,1383.38 2273.21,1383.67 2283.19,1383.95 2293.17,1384.24 \"/>\n",
       "<path clip-path=\"url(#clip020)\" d=\"M2019.62 196.789 L2282.58 196.789 L2282.58 93.1086 L2019.62 93.1086  Z\" fill=\"#ffffff\" fill-rule=\"evenodd\" fill-opacity=\"1\"/>\n",
       "<polyline clip-path=\"url(#clip020)\" style=\"stroke:#000000; stroke-linecap:round; stroke-linejoin:round; stroke-width:4; stroke-opacity:1; fill:none\" points=\"2019.62,196.789 2282.58,196.789 2282.58,93.1086 2019.62,93.1086 2019.62,196.789 \"/>\n",
       "<polyline clip-path=\"url(#clip020)\" style=\"stroke:#009af9; stroke-linecap:round; stroke-linejoin:round; stroke-width:4; stroke-opacity:1; fill:none\" points=\"2043.01,144.949 2183.36,144.949 \"/>\n",
       "<path clip-path=\"url(#clip020)\" d=\"M2220.6 164.636 Q2218.79 169.266 2217.08 170.678 Q2215.37 172.09 2212.5 172.09 L2209.09 172.09 L2209.09 168.525 L2211.59 168.525 Q2213.35 168.525 2214.33 167.692 Q2215.3 166.858 2216.48 163.756 L2217.24 161.812 L2206.76 136.303 L2211.27 136.303 L2219.37 156.581 L2227.47 136.303 L2231.99 136.303 L2220.6 164.636 Z\" fill=\"#000000\" fill-rule=\"nonzero\" fill-opacity=\"1\" /><path clip-path=\"url(#clip020)\" d=\"M2239.28 158.293 L2246.92 158.293 L2246.92 131.928 L2238.61 133.595 L2238.61 129.335 L2246.87 127.669 L2251.55 127.669 L2251.55 158.293 L2259.19 158.293 L2259.19 162.229 L2239.28 162.229 L2239.28 158.293 Z\" fill=\"#000000\" fill-rule=\"nonzero\" fill-opacity=\"1\" /></svg>\n"
      ]
     },
     "metadata": {},
     "output_type": "display_data"
    }
   ],
   "source": [
    "plot(losses; xlabel=\"Epoch\", ylabel=\"Loss\")"
   ]
  },
  {
   "cell_type": "code",
   "execution_count": 24,
   "metadata": {},
   "outputs": [],
   "source": [
    "Y_test_pred = [optimizer(encoder(x)) for x in X_test];"
   ]
  },
  {
   "cell_type": "code",
   "execution_count": 9,
   "metadata": {},
   "outputs": [
    {
     "data": {
      "text/plain": [
       "(Any[Any[Delivery(0.285346664252601, 0.6273783228378499), Delivery(0.24729524152972113, 0.6628829842550245), Delivery(0.3783120422506709, 0.048379579810059865), Delivery(0.47991851433751576, 0.3707969674749293), Delivery(0.8264013413387067, 0.4703621739147121), Delivery(0.8239548385343233, 0.606538926136958), Delivery(0.1350309617043981, 0.3708253000664519), Delivery(0.132045408695281, 0.43123728701746944), Delivery(0.43696027617590094, 0.48756806489193616), Delivery(0.5256088107148651, 0.45820021948378514)  …  Delivery(0.39307066589540063, 0.4521628001019801), Delivery(0.2599478427455764, 0.34918721588169577), Delivery(0.19145244001483747, 0.4720641267535328), Delivery(0.12007041323853788, 0.3480334978059114), Delivery(0.2947361659722497, 0.32271153723750273), Delivery(0.518799375267699, 0.3719299120233189), Delivery(0.20720045402617457, 0.33598569900260533), Delivery(0.14732147941555362, 0.40038345148013094), Delivery(0.3374655945205997, 0.12195601148557526), Delivery(0.37483029765392484, 0.06633492834741664)], Any[Delivery(0.459945591702841, 0.06947460903433474), Delivery(0.46627239448399754, 0.10804848204377145), Delivery(0.48400902292340314, 0.0), Delivery(0.6374869365090288, 0.19005566788627673), Delivery(0.5865550345339836, 0.34366374970194724), Delivery(0.5599667339088438, 0.1670151970005232), Delivery(0.6414325623512279, 0.21456772680322828), Delivery(0.5757840761153871, 0.3207779558294384), Delivery(0.4572522355550041, 0.15216562544237014), Delivery(0.4640626534432567, 0.056420537427700625)  …  Delivery(0.4013468410247256, 0.4795083883465124), Delivery(0.2297260236320552, 0.3290298132877944), Delivery(0.04481693566858558, 0.46702545873812207), Delivery(0.020893917204127747, 0.4625740785823224), Delivery(0.24869075635008484, 0.4217956619166328), Delivery(0.09198107238779507, 0.33763363371255056), Delivery(0.04212211514682242, 0.4560857001540419), Delivery(0.15242988101737584, 0.2727267747119431), Delivery(0.5846183473723122, 0.16959018267408207), Delivery(0.5913032010372863, 0.021633930224925237)], Any[Delivery(0.5101690486752573, 0.06050474842406016), Delivery(0.5079427203258685, 0.0810050064724454), Delivery(0.5511898246835949, 0.6043357450506751), Delivery(0.6553292637433191, 0.8684524457471111), Delivery(0.6549378921530629, 0.6060150913480126), Delivery(0.5968167330937493, 0.5916447999083547), Delivery(0.47955825019411424, 0.6298605865997229), Delivery(0.5769951957419156, 0.5742405181918037), Delivery(0.5391918332596178, 0.29057557113753396), Delivery(0.7173939731213852, 0.3050858390937373)  …  Delivery(0.40287172919434916, 0.2056900781082022), Delivery(0.3478597476481058, 0.040056770774193215), Delivery(0.30130548479305924, 0.7504544823213529), Delivery(0.13646958515948948, 0.5957074404827474), Delivery(0.4127713069632662, 0.33612863540096116), Delivery(0.34209813500540365, 0.2776862890436918), Delivery(0.20720045402617457, 0.33598569900260533), Delivery(0.21789738314733637, 0.4786502409005558), Delivery(0.6672079291911307, 0.616957263627718), Delivery(0.6973407031503552, 0.9202257347085718)], Any[Delivery(0.18973790774482688, 0.5448248020981691), Delivery(0.20289399958270465, 0.5248186552610311), Delivery(0.23319006375511914, 0.4162952444482584), Delivery(0.18874448705097138, 0.5078658986328816), Delivery(0.14505151005987893, 0.5900056061658244), Delivery(0.34725469729069575, 0.4875935663400992), Delivery(0.2516626660379381, 0.7524073448978424), Delivery(0.2484172223438689, 0.6506071119451332), Delivery(0.26011886239428084, 0.71177187832149), Delivery(0.14483766872108492, 0.6656998030034745)  …  Delivery(0.33585066273811304, 0.12343025550790104), Delivery(0.3333208216306353, 0.24805166123453662), Delivery(0.3098351619837189, 0.4271268415552503), Delivery(0.4107783498799045, 0.2010934711796621), Delivery(0.14719084581032876, 0.7416014902466578), Delivery(0.14483766872108492, 0.6656998030034745), Delivery(0.2830691588672635, 0.6390995649136392), Delivery(0.184135236889685, 0.426508409620687), Delivery(0.1409465267822151, 0.5098001449704567), Delivery(0.36855545094971287, 0.34617871081995194)], Any[Delivery(0.6408148673072004, 0.507149692234475), Delivery(0.6495027199615258, 0.5669345050452039), Delivery(0.5751177945018024, 0.1411248410052771), Delivery(0.4899056984224404, 0.016715307247333312), Delivery(0.5470458771666485, 0.14834861831704563), Delivery(0.6312906117336047, 0.289429914407565), Delivery(0.600466786211615, 0.08720724025672248), Delivery(0.6379377437204123, 0.16893697886037545), Delivery(0.48070029331219677, 0.15995367385631118), Delivery(0.5178993988918955, 0.09940369073782407)  …  Delivery(0.14437217660385704, 0.3658380611267808), Delivery(0.12007041323853788, 0.3480334978059114), Delivery(0.3226164452652189, 0.6344543027729677), Delivery(0.27597699351436117, 0.46353238244164613), Delivery(0.08879607086603969, 0.6762848846089282), Delivery(0.1843077738875101, 0.7020434704534626), Delivery(0.8226066197096112, 0.48170239321642555), Delivery(0.7308602949908816, 0.46502227444392286), Delivery(0.17559795521278443, 0.42252418038817774), Delivery(0.19517888760786786, 0.44486673663671)], Any[Delivery(0.22030311810809217, 0.4664683852513962), Delivery(0.2272964200923503, 0.3798946529856446), Delivery(0.6156820828771126, 0.21727812632243557), Delivery(0.5493349692110373, 0.13803220417343934), Delivery(0.44093428486253566, 0.6157203316877231), Delivery(0.6303703490576129, 0.49801507379311455), Delivery(0.8408646369140323, 0.5424088211886928), Delivery(0.8885212951134287, 0.5786428586929303), Delivery(0.6508779330033475, 0.541507249803847), Delivery(0.6775231902123832, 0.568340387943079)  …  Delivery(0.258302504821615, 0.3169708255731391), Delivery(0.41027621350181354, 0.47320692621791327), Delivery(0.12407410081886977, 0.7307373639080632), Delivery(0.11275796052815609, 0.6896358894966669), Delivery(0.38862459762472845, 0.649264297910411), Delivery(0.13556637994099516, 0.7100680854541948), Delivery(0.23001065239779867, 0.45085642609478394), Delivery(0.24884465811370676, 0.37849349038739577), Delivery(0.3683687962295367, 0.3966536922923448), Delivery(0.27423726247075847, 0.3397942858761131)], Any[Delivery(0.24866752629827063, 0.5789027444182104), Delivery(0.22611017587902496, 0.32055733872632464), Delivery(0.08576810503326128, 0.6785688163129502), Delivery(0.15624861453367828, 0.75076235661456), Delivery(0.3324236738486585, 0.525300163947983), Delivery(0.23497654738188853, 0.3069380989493057), Delivery(0.4496436059754003, 0.019768967635450566), Delivery(0.4519154689925923, 0.009392579404136318), Delivery(0.5173245063376221, 0.5550137989856709), Delivery(0.7067233856097342, 0.5802846511051127)  …  Delivery(0.06353111813901965, 0.27038994955820034), Delivery(0.05801161197101185, 0.23046736959121414), Delivery(0.2297260236320552, 0.3362363461428979), Delivery(0.30655127862853937, 0.1145875337281298), Delivery(0.822593439140182, 0.8565843126999665), Delivery(0.6855974722041064, 0.8759355662644511), Delivery(0.15157624238679152, 0.41898792150530145), Delivery(0.179358202885338, 0.42891296963811226), Delivery(0.026897334060966633, 0.43335503726431596), Delivery(0.026919660510197382, 0.45600038782068136)], Any[Delivery(0.41892150153699814, 0.11999062391777308), Delivery(0.4184074870637022, 0.17158829098461406), Delivery(0.15157624238679152, 0.41898792150530145), Delivery(0.14065865886178663, 0.4084734775904555), Delivery(0.6259583477767597, 0.5595064372446557), Delivery(0.533556930071813, 0.7542177374868411), Delivery(0.8268568915626465, 0.49289636193850545), Delivery(0.8348421688107573, 0.5518032791362941), Delivery(0.5865550345339836, 0.34366374970194724), Delivery(0.5665118277403058, 0.16706783481020637)  …  Delivery(0.43454477786769957, 0.49955356865374945), Delivery(0.4272379631693314, 0.46891419146543), Delivery(0.030279878454825174, 0.7811568359848873), Delivery(0.10694873734188096, 0.7640882920251718), Delivery(0.3747919675783543, 0.3450436625753883), Delivery(0.3275823032267483, 0.5310243232018595), Delivery(0.16099064572912755, 0.42512673243792065), Delivery(0.13585548708903605, 0.3206388826209899), Delivery(0.6909376384896753, 0.852415514226277), Delivery(0.6757371951113642, 0.8191097111613943)], Any[Delivery(0.46627239448399754, 0.11041499992253712), Delivery(0.5470458771666485, 0.14516907153641104), Delivery(0.7886415860289403, 0.5866839998695379), Delivery(0.8478587905839776, 0.46096328519765045), Delivery(0.5579868383797002, 0.26403520470421904), Delivery(0.5888410731156906, 0.25535831525902186), Delivery(0.4668240946321394, 0.14367573657969865), Delivery(0.4972042391829754, 0.1089439733437067), Delivery(0.7948064375245165, 0.49961250453906964), Delivery(0.840398049582796, 0.5358596040648355)  …  Delivery(0.06576914478859155, 0.37666846642337853), Delivery(0.049542693593879715, 0.3642756753091744), Delivery(0.020055747556497867, 0.30696807664945935), Delivery(0.2649216461914513, 0.7055707179745067), Delivery(0.19527706567749398, 0.37517207631424043), Delivery(0.23889700016009432, 0.32494346702646465), Delivery(0.6819270991199582, 0.8730774356479436), Delivery(0.6941485089227842, 0.9028679120793393), Delivery(0.10125899875533194, 0.6542977646785502), Delivery(0.33133190285394554, 0.601659286044356)], Any[Delivery(0.6447541341782757, 0.5913857614401469), Delivery(0.6480418603279319, 0.6028119086933813), Delivery(0.6216115757913018, 0.5772406341386114), Delivery(0.641817306270328, 0.5518452092871272), Delivery(0.9328826838644546, 0.6229479191842587), Delivery(0.8765903016291365, 0.6131351974101398), Delivery(0.2553381044628161, 0.3895632907822085), Delivery(0.4598280681497392, 0.3925974023823264), Delivery(0.8852372783448652, 0.5374259805026922), Delivery(0.8043691530000688, 0.5436807918657843)  …  Delivery(0.016374022148674422, 0.265859397203915), Delivery(0.07191227575522405, 0.24657014907045482), Delivery(0.1990464220477554, 0.42176584317516463), Delivery(0.15625847963248132, 0.4161126833375246), Delivery(0.16835758522696237, 0.4233224363195304), Delivery(0.1979857541571381, 0.3201972673561901), Delivery(0.6700373798033852, 0.8735287094360489), Delivery(0.6808953174490958, 0.8580055499547847), Delivery(0.17791901951626543, 0.4164555956286436), Delivery(0.16813244557086454, 0.3965579643392675)]  …  Any[Delivery(0.271675575231721, 0.6101206644067164), Delivery(0.2914364752479562, 0.6159985765872714), Delivery(0.6644177221005382, 0.2789421622504526), Delivery(0.6306357624381042, 0.30520220246699425), Delivery(0.6272959251389392, 0.6975101321659143), Delivery(0.6143010437227202, 0.7262325138057939), Delivery(0.22964214435724556, 0.6925757828045551), Delivery(0.21640847367068533, 0.42016234713142586), Delivery(0.6189511473370902, 0.34084825272587493), Delivery(0.6073465612848921, 0.3159769394459392)  …  Delivery(0.04238161223250581, 0.5179623533662022), Delivery(0.03697631064203134, 0.45349247287899574), Delivery(0.26123477621831304, 0.3967740706280165), Delivery(0.03824499530419458, 0.47865593603475837), Delivery(0.6865819714439272, 0.19522520430950338), Delivery(0.6111210258819149, 0.2648601502358892), Delivery(0.3825869274697584, 0.6228114499599953), Delivery(0.16428525532524343, 0.6780121913282204), Delivery(0.2723139038860466, 0.5510669346864563), Delivery(0.3231313684900019, 0.44541223039475175)], Any[Delivery(0.5007825347165198, 0.12169411618764099), Delivery(0.4918507318994962, 0.05197710852567514), Delivery(0.44772727694513637, 0.09084209076125634), Delivery(0.5144198058405172, 0.10383386074212396), Delivery(0.6587932573953329, 0.5390770340995614), Delivery(0.7109316138634745, 0.5880661749435236), Delivery(0.5865550345339836, 0.34366374970194724), Delivery(0.46696689181920087, 0.0903402163914064), Delivery(0.6075235785638522, 0.19311599205345253), Delivery(0.5671660232462165, 0.19389293963555937)  …  Delivery(0.21764907220176521, 0.5296556371155761), Delivery(0.2210669856077324, 0.44457892038706587), Delivery(0.16734770907019186, 0.3983869736430949), Delivery(0.17791901951626543, 0.40752972855027003), Delivery(0.15713461904569564, 0.2820364100057623), Delivery(0.1920470976039376, 0.3865088110360466), Delivery(0.12248660257486621, 0.5169351844132888), Delivery(0.14514829654110675, 0.39593732790387803), Delivery(0.09117838118336531, 0.6946296544498793), Delivery(0.1022932690317521, 0.7507442594351972)], Any[Delivery(0.5447361995412536, 0.20657335597768997), Delivery(0.6414325623512279, 0.20996890995730894), Delivery(0.6489945593830861, 0.1843289168156771), Delivery(0.5751177945018024, 0.1381001209979298), Delivery(0.67285502190902, 0.5738326468182219), Delivery(0.5344122472945779, 0.7038742222878693), Delivery(0.6751314877925608, 0.6013053458095315), Delivery(0.731451715373294, 0.8956813963097668), Delivery(0.8613980012169438, 0.5956806526209396), Delivery(0.779036997486314, 0.45923783156817544)  …  Delivery(0.2007806154151933, 0.4510424282509611), Delivery(0.09351859057657552, 0.479685648477105), Delivery(0.3677402785441401, 0.3707701207179651), Delivery(0.3589722063115998, 0.32030956846608905), Delivery(0.08879607086603969, 0.6762848846089282), Delivery(0.1652704200229834, 0.6876326525628471), Delivery(0.06236330707642325, 0.44196937047150325), Delivery(0.18131639401946092, 0.4606176273458603), Delivery(0.1910056581387673, 0.437728785503584), Delivery(0.11894168134723024, 0.3351597905104326)], Any[Delivery(0.707007548236192, 0.30492298253826094), Delivery(0.6069009278287616, 0.1619083153496098), Delivery(0.5914234926760368, 0.3291264461109926), Delivery(0.5914234926760368, 0.3220722993044654), Delivery(0.6896333519246608, 0.5878258473307569), Delivery(0.67285502190902, 0.5615337271146721), Delivery(0.48180044980110365, 0.06483920312841313), Delivery(0.4918507318994962, 0.05197710852567514), Delivery(0.5128092794731403, 0.7643174582748362), Delivery(0.5159362075336672, 0.5773932413142793)  …  Delivery(0.4158515134756085, 0.34628141720129907), Delivery(0.3466027329342139, 0.24477600928204243), Delivery(0.6869119120788949, 0.8777037522423279), Delivery(0.644376635868373, 0.9166263834389599), Delivery(0.7032719381604974, 0.41147606347267207), Delivery(0.6812394101554091, 0.5064956646862918), Delivery(0.22394042882931894, 0.61130286973088), Delivery(0.29617466842588136, 0.7390128145858197), Delivery(0.7948064375245165, 0.49961250453906964), Delivery(0.8130684615272441, 0.344040856697012)], Any[Delivery(0.2885907683708575, 0.7026115578363036), Delivery(0.253722857262907, 0.6699030207414389), Delivery(0.24504908864562014, 0.5226673544815845), Delivery(0.29423812562335305, 0.4656875830838237), Delivery(0.5581751796294706, 0.34900059265138184), Delivery(0.603317655740032, 0.3490993023315449), Delivery(0.5043473140169231, 0.09734067342719734), Delivery(0.40187168659933753, 0.10007554268570848), Delivery(0.5595569821714221, 0.2868286386355712), Delivery(0.5751177945018024, 0.1381001209979298)  …  Delivery(0.1061627929075057, 0.3826950195108511), Delivery(0.13096366920935357, 0.35083410191353265), Delivery(0.10876501902851382, 0.36525281660786346), Delivery(0.11050866042612503, 0.36494990685687206), Delivery(0.20497434489552857, 0.47077836018875424), Delivery(0.23582430592292386, 0.4180337435862632), Delivery(0.39307066589540063, 0.4521628001019801), Delivery(0.4224515612610446, 0.462963165104346), Delivery(0.10483735487455154, 0.665324883516363), Delivery(0.14365257700706716, 0.7452331537494972)], Any[Delivery(0.8438234777366571, 0.5762425890021565), Delivery(0.8317813869282813, 0.4967850585181432), Delivery(0.30816094846963005, 0.6317136703700735), Delivery(0.24122648499963636, 0.3765296362597923), Delivery(0.48400902292340314, 0.0), Delivery(0.46479457452416795, 0.02915816401009953), Delivery(0.2590470336033623, 0.5607370827741884), Delivery(0.3667909497229779, 0.3229134238612976), Delivery(0.8327150121974002, 0.45327081744442044), Delivery(0.7424982991558913, 0.43256643937307654)  …  Delivery(0.1061627929075057, 0.3826950195108511), Delivery(0.22741479678970872, 0.39413369447725294), Delivery(0.249224708619797, 0.43262926345233493), Delivery(0.09703112230668655, 0.4213487787171881), Delivery(0.14476835427843737, 0.41668759259439997), Delivery(0.14732147941555362, 0.40038345148013094), Delivery(0.3098889106260637, 0.07931208471269408), Delivery(0.30152472072468306, 0.08901504438417664), Delivery(0.8955846628809779, 0.7500939256484048), Delivery(0.6843047672005227, 0.8458452413739191)], Any[Delivery(0.2272964200923503, 0.388215246401976), Delivery(0.1803716747423537, 0.4518994587660003), Delivery(0.7529150948498898, 0.25593361243939244), Delivery(0.826142873323784, 0.255446223354687), Delivery(0.659167441489227, 0.41261156404233906), Delivery(0.5511898246835949, 0.591383054325294), Delivery(0.5617253148970182, 0.2993149441599379), Delivery(0.43030764649680264, 0.1352736125101057), Delivery(0.2645704194399115, 0.5647383955836641), Delivery(0.3499700376290446, 0.5953320044584071)  …  Delivery(0.06734727038788942, 0.25377930563515905), Delivery(0.008369945146381608, 0.2653360621424512), Delivery(0.3121935438474093, 0.5350491358189454), Delivery(0.17676446919911065, 0.6177043643056875), Delivery(0.41329275136914667, 0.4183258578214157), Delivery(0.4641881078697257, 0.4157193383483497), Delivery(0.7858477898560357, 0.2894765462670014), Delivery(0.7704325960550309, 0.2429838499148174), Delivery(0.6855298745832131, 0.874041066415609), Delivery(0.8942502382781982, 0.8575229412865742)], Any[Delivery(0.5872512929830722, 0.36675255173931764), Delivery(0.6235815518823755, 0.32750633506599386), Delivery(0.3750776226372325, 0.44271436356165933), Delivery(0.34747786660756613, 0.3573234525253714), Delivery(0.5729861543136449, 0.18781092385203896), Delivery(0.5490362432470395, 0.20685693741926148), Delivery(0.22964214435724556, 0.6925757828045551), Delivery(0.18874448705097138, 0.5078658986328816), Delivery(0.5483916276309636, 0.4860573479902232), Delivery(0.6859253472059261, 0.5620206469087466)  …  Delivery(0.12365684662155656, 0.6524730798836919), Delivery(0.35261565522094995, 0.36828684253796534), Delivery(0.40313384043012634, 0.4641078723781394), Delivery(0.43454477786769957, 0.4888466678481553), Delivery(0.41037171351982266, 0.4677418248525832), Delivery(0.43454477786769957, 0.4888466678481553), Delivery(0.8077875549934902, 0.6016487422294302), Delivery(0.8285913573931459, 0.5131981645074677), Delivery(0.04434906221729789, 0.49223126873307477), Delivery(0.2300490047616559, 0.41725129759064156)], Any[Delivery(0.5955261879211432, 0.3592743850636974), Delivery(0.5486723843412303, 0.2852747690150429), Delivery(0.7716112736354622, 0.22635126798574717), Delivery(0.8035108035800416, 0.284500743180876), Delivery(0.8882074318164924, 0.7836945301198225), Delivery(0.4957935736790314, 0.4015655064712811), Delivery(0.8381832137901183, 0.4920129438568952), Delivery(0.8388116918333285, 0.47525329349480794), Delivery(0.43015468811211544, 0.051979080347506874), Delivery(0.6720074143036234, 0.18216943559011148)  …  Delivery(0.24507089682295796, 0.33800539123717743), Delivery(0.3048668575643264, 0.3002796710370759), Delivery(0.1805791410152905, 0.3018888960035494), Delivery(0.10949005021445522, 0.5145121020558464), Delivery(0.34139485221351296, 0.2447526965553754), Delivery(0.3098351619837189, 0.41797225832153795), Delivery(0.5250054090404058, 0.44656252897909754), Delivery(0.6556770655492664, 0.5634487643071148), Delivery(0.1955389352522833, 0.720669942649837), Delivery(0.08879607086603969, 0.6617901124159399)], Any[Delivery(0.35148028980125773, 0.6135185312290181), Delivery(0.30816094846963005, 0.6181741902610279), Delivery(0.13687932042911025, 0.48008380990651317), Delivery(0.24504908864562014, 0.511465057330875), Delivery(0.47153760121968624, 0.03108939832984315), Delivery(0.5493379095480742, 0.08894545028398194), Delivery(0.8133571981722466, 0.4995188728443533), Delivery(0.868013504574344, 0.5852090784778345), Delivery(0.5769951957419156, 0.5868177467405772), Delivery(0.6480418603279319, 0.6028119086933813)  …  Delivery(0.15075547467762349, 0.4807817432734781), Delivery(0.23966549998059733, 0.34516819218324596), Delivery(0.39157308474104635, 0.6051179330478046), Delivery(0.14687710908550516, 0.38574880247836457), Delivery(0.32402190478093384, 0.2901646257568261), Delivery(0.3821617180213942, 0.44221771229544743), Delivery(0.17800127653633713, 0.6845231437733728), Delivery(0.18230305445351008, 0.6512282364792765), Delivery(0.6834252736321587, 0.3252744604113348), Delivery(0.6812394101554091, 0.5064956646862918)]], Any[Any[(1, 2), (3, 4), (5, 6), (7, 8), (9, 10), (11, 12), (13, 14), (15, 16), (17, 18), (19, 20)  …  (89, 90), (91, 92), (93, 94), (95, 96), (97, 98), (99, 100), (101, 102), (103, 104), (105, 106), (107, 108)], Any[(1, 2), (3, 4), (5, 6), (7, 8), (9, 10), (11, 12), (13, 14), (15, 16), (17, 18), (19, 20)  …  (79, 80), (81, 82), (83, 84), (85, 86), (87, 88), (89, 90), (91, 92), (93, 94), (95, 96), (97, 98)], Any[(1, 2), (3, 4), (5, 6), (7, 8), (9, 10), (11, 12), (13, 14), (15, 16), (17, 18), (19, 20)  …  (137, 138), (139, 140), (141, 142), (143, 144), (145, 146), (147, 148), (149, 150), (151, 152), (153, 154), (155, 156)], Any[(1, 2), (3, 4), (5, 6), (7, 8), (9, 10), (11, 12), (13, 14), (15, 16), (17, 18), (19, 20)  …  (101, 102), (103, 104), (105, 106), (107, 108), (109, 110), (111, 112), (113, 114), (115, 116), (117, 118), (119, 120)], Any[(1, 2), (3, 4), (5, 6), (7, 8), (9, 10), (11, 12), (13, 14), (15, 16), (17, 18), (19, 20)  …  (117, 118), (119, 120), (121, 122), (123, 124), (125, 126), (127, 128), (129, 130), (131, 132), (133, 134), (135, 136)], Any[(1, 2), (3, 4), (5, 6), (7, 8), (9, 10), (11, 12), (13, 14), (15, 16), (17, 18), (19, 20)  …  (107, 108), (109, 110), (111, 112), (113, 114), (115, 116), (117, 118), (119, 120), (121, 122), (123, 124), (125, 126)], Any[(1, 2), (3, 4), (5, 6), (7, 8), (9, 10), (11, 12), (13, 14), (15, 16), (17, 18), (19, 20)  …  (143, 144), (145, 146), (147, 148), (149, 150), (151, 152), (153, 154), (155, 156), (157, 158), (159, 160), (161, 162)], Any[(1, 2), (3, 4), (5, 6), (7, 8), (9, 10), (11, 12), (13, 14), (15, 16), (17, 18), (19, 20)  …  (173, 174), (175, 176), (177, 178), (179, 180), (181, 182), (183, 184), (185, 186), (187, 188), (189, 190), (191, 192)], Any[(1, 2), (3, 4), (5, 6), (7, 8), (9, 10), (11, 12), (13, 14), (15, 16), (17, 18), (19, 20)  …  (93, 94), (95, 96), (97, 98), (99, 100), (101, 102), (103, 104), (105, 106), (107, 108), (109, 110), (111, 112)], Any[(1, 2), (3, 4), (5, 6), (7, 8), (9, 10), (11, 12), (13, 14), (15, 16), (17, 18), (19, 20)  …  (131, 132), (133, 134), (135, 136), (137, 138), (139, 140), (141, 142), (143, 144), (145, 146), (147, 148), (149, 150)]  …  Any[(1, 2), (3, 4), (5, 6), (7, 8), (9, 10), (11, 12), (13, 14), (15, 16), (17, 18), (19, 20)  …  (135, 136), (137, 138), (139, 140), (141, 142), (143, 144), (145, 146), (147, 148), (149, 150), (151, 152), (153, 154)], Any[(1, 2), (3, 4), (5, 6), (7, 8), (9, 10), (11, 12), (13, 14), (15, 16), (17, 18), (19, 20)  …  (125, 126), (127, 128), (129, 130), (131, 132), (133, 134), (135, 136), (137, 138), (139, 140), (141, 142), (143, 144)], Any[(1, 2), (3, 4), (5, 6), (7, 8), (9, 10), (11, 12), (13, 14), (15, 16), (17, 18), (19, 20)  …  (145, 146), (147, 148), (149, 150), (151, 152), (153, 154), (155, 156), (157, 158), (159, 160), (161, 162), (163, 164)], Any[(1, 2), (3, 4), (5, 6), (7, 8), (9, 10), (11, 12), (13, 14), (15, 16), (17, 18), (19, 20)  …  (123, 124), (125, 126), (127, 128), (129, 130), (131, 132), (133, 134), (135, 136), (137, 138), (139, 140), (141, 142)], Any[(1, 2), (3, 4), (5, 6), (7, 8), (9, 10), (11, 12), (13, 14), (15, 16), (17, 18), (19, 20)  …  (95, 96), (97, 98), (99, 100), (101, 102), (103, 104), (105, 106), (107, 108), (109, 110), (111, 112), (113, 114)], Any[(1, 2), (3, 4), (5, 6), (7, 8), (9, 10), (11, 12), (13, 14), (15, 16), (17, 18), (19, 20)  …  (93, 94), (95, 96), (97, 98), (99, 100), (101, 102), (103, 104), (105, 106), (107, 108), (109, 110), (111, 112)], Any[(1, 2), (3, 4), (5, 6), (7, 8), (9, 10), (11, 12), (13, 14), (15, 16), (17, 18), (19, 20)  …  (113, 114), (115, 116), (117, 118), (119, 120), (121, 122), (123, 124), (125, 126), (127, 128), (129, 130), (131, 132)], Any[(1, 2), (3, 4), (5, 6), (7, 8), (9, 10), (11, 12), (13, 14), (15, 16), (17, 18), (19, 20)  …  (75, 76), (77, 78), (79, 80), (81, 82), (83, 84), (85, 86), (87, 88), (89, 90), (91, 92), (93, 94)], Any[(1, 2), (3, 4), (5, 6), (7, 8), (9, 10), (11, 12), (13, 14), (15, 16), (17, 18), (19, 20)  …  (81, 82), (83, 84), (85, 86), (87, 88), (89, 90), (91, 92), (93, 94), (95, 96), (97, 98), (99, 100)], Any[(1, 2), (3, 4), (5, 6), (7, 8), (9, 10), (11, 12), (13, 14), (15, 16), (17, 18), (19, 20)  …  (117, 118), (119, 120), (121, 122), (123, 124), (125, 126), (127, 128), (129, 130), (131, 132), (133, 134), (135, 136)]])"
      ]
     },
     "metadata": {},
     "output_type": "display_data"
    }
   ],
   "source": [
    "true_deliveries, true_constraints = create_deliveries(X_A_test, X_C_test, Y_test)"
   ]
  },
  {
   "attachments": {},
   "cell_type": "markdown",
   "metadata": {},
   "source": [
    "Evaluations of the true assignments and the resulting pipeline using TravelingSalesPerson with pickup and delivery"
   ]
  },
  {
   "cell_type": "code",
   "execution_count": 12,
   "metadata": {},
   "outputs": [
    {
     "name": "stdout",
     "output_type": "stream",
     "text": [
      "Set parameter Username\r\n",
      "Academic license - for non-commercial use only - expires 2024-03-28\r\n",
      "Set parameter Username\r\n",
      "Academic license - for non-commercial use only - expires 2024-03-28\r\n",
      "Set parameter Username\r\n",
      "Academic license - for non-commercial use only - expires 2024-03-28\r\n",
      "Set parameter Username\r\n",
      "Academic license - for non-commercial use only - expires 2024-03-28\r\n"
     ]
    },
    {
     "name": "stderr",
     "output_type": "stream",
     "text": [
      "\r\u001b[32mprogress ...   4%|██                                     |  ETA: 0:15:32\u001b[39m\u001b[K"
     ]
    },
    {
     "name": "stderr",
     "output_type": "stream",
     "text": [
      "\r\u001b[32mprogress ...   7%|███                                    |  ETA: 0:22:13\u001b[39m\u001b[K"
     ]
    },
    {
     "name": "stdout",
     "output_type": "stream",
     "text": [
      "Set parameter Username\r\n",
      "Academic license - for non-commercial use only - expires 2024-03-28\r\n",
      "Set parameter Username\r\n",
      "Academic license - for non-commercial use only - expires 2024-03-28\r\n",
      "Set parameter Username\r\n",
      "Academic license - for non-commercial use only - expires 2024-03-28\r\n"
     ]
    },
    {
     "name": "stderr",
     "output_type": "stream",
     "text": [
      "\r\u001b[32mprogress ...   8%|████                                   |  ETA: 0:26:51\u001b[39m\u001b[K"
     ]
    },
    {
     "name": "stdout",
     "output_type": "stream",
     "text": [
      "Set parameter Username\r\n",
      "Academic license - for non-commercial use only - expires 2024-03-28\r\n"
     ]
    },
    {
     "name": "stderr",
     "output_type": "stream",
     "text": [
      "\r\u001b[32mprogress ...  13%|██████                                 |  ETA: 0:37:38\u001b[39m\u001b[K"
     ]
    },
    {
     "name": "stdout",
     "output_type": "stream",
     "text": [
      "Set parameter Username\r\n",
      "Academic license - for non-commercial use only - expires 2024-03-28\r\n",
      "Set parameter Username\r\n",
      "Academic license - for non-commercial use only - expires 2024-03-28\r\n",
      "Set parameter Username\r\n",
      "Academic license - for non-commercial use only - expires 2024-03-28\r\n",
      "Set parameter Username\r\n",
      "Academic license - for non-commercial use only - expires 2024-03-28\r\n",
      "Set parameter Username\r\n",
      "Academic license - for non-commercial use only - expires 2024-03-28\r\n"
     ]
    },
    {
     "name": "stderr",
     "output_type": "stream",
     "text": [
      "\r\u001b[32mprogress ...  17%|███████                                |  ETA: 0:30:30\u001b[39m\u001b[K"
     ]
    },
    {
     "name": "stdout",
     "output_type": "stream",
     "text": [
      "Set parameter Username\r\n",
      "Academic license - for non-commercial use only - expires 2024-03-28\r\n",
      "Set parameter Username\r\n",
      "Academic license - for non-commercial use only - expires 2024-03-28\r\n",
      "Set parameter Username\r\n",
      "Academic license - for non-commercial use only - expires 2024-03-28\r\n",
      "Set parameter Username\r\n",
      "Academic license - for non-commercial use only - expires 2024-03-28\r\n"
     ]
    },
    {
     "name": "stderr",
     "output_type": "stream",
     "text": [
      "\r\u001b[32mprogress ...  19%|████████                               |  ETA: 0:29:13\u001b[39m\u001b[K"
     ]
    },
    {
     "name": "stdout",
     "output_type": "stream",
     "text": [
      "Set parameter Username\r\n",
      "Academic license - for non-commercial use only - expires 2024-03-28\r\n",
      "Set parameter Username\r\n",
      "Academic license - for non-commercial use only - expires 2024-03-28\r\n"
     ]
    },
    {
     "name": "stderr",
     "output_type": "stream",
     "text": [
      "\r\u001b[32mprogress ...  23%|█████████                              |  ETA: 0:26:07\u001b[39m\u001b[K"
     ]
    },
    {
     "name": "stdout",
     "output_type": "stream",
     "text": [
      "Set parameter Username\r\n",
      "Academic license - for non-commercial use only - expires 2024-03-28\r\n",
      "Set parameter Username\r\n",
      "Academic license - for non-commercial use only - expires 2024-03-28\r\n",
      "Set parameter Username\r\n",
      "Academic license - for non-commercial use only - expires 2024-03-28\r\n",
      "Set parameter Username\r\n",
      "Academic license - for non-commercial use only - expires 2024-03-28\r\n"
     ]
    },
    {
     "name": "stderr",
     "output_type": "stream",
     "text": [
      "\r\u001b[32mprogress ...  25%|██████████                             |  ETA: 0:25:44\u001b[39m\u001b[K"
     ]
    },
    {
     "name": "stdout",
     "output_type": "stream",
     "text": [
      "Set parameter Username\r\n",
      "Academic license - for non-commercial use only - expires 2024-03-28\r\n",
      "Set parameter Username\r\n",
      "Academic license - for non-commercial use only - expires 2024-03-28\r\n"
     ]
    },
    {
     "name": "stderr",
     "output_type": "stream",
     "text": [
      "\r\u001b[32mprogress ...  27%|███████████                            |  ETA: 0:29:31\u001b[39m\u001b[K"
     ]
    },
    {
     "name": "stdout",
     "output_type": "stream",
     "text": [
      "Set parameter Username\r\n",
      "Academic license - for non-commercial use only - expires 2024-03-28\r\n",
      "Set parameter Username\r\n",
      "Academic license - for non-commercial use only - expires 2024-03-28\r\n"
     ]
    },
    {
     "name": "stderr",
     "output_type": "stream",
     "text": [
      "\r\u001b[32mprogress ...  30%|████████████                           |  ETA: 0:27:22\u001b[39m\u001b[K"
     ]
    },
    {
     "name": "stdout",
     "output_type": "stream",
     "text": [
      "Set parameter Username\r\n",
      "Academic license - for non-commercial use only - expires 2024-03-28\r\n",
      "Set parameter Username\r\n",
      "Academic license - for non-commercial use only - expires 2024-03-28\r\n",
      "Set parameter Username\r\n",
      "Academic license - for non-commercial use only - expires 2024-03-28\r\n"
     ]
    },
    {
     "name": "stderr",
     "output_type": "stream",
     "text": [
      "\r\u001b[32mprogress ...  36%|███████████████                        |  ETA: 0:23:19\u001b[39m\u001b[K"
     ]
    },
    {
     "name": "stdout",
     "output_type": "stream",
     "text": [
      "Set parameter Username\r\n",
      "Academic license - for non-commercial use only - expires 2024-03-28\r\n",
      "Set parameter Username\r\n",
      "Academic license - for non-commercial use only - expires 2024-03-28\r\n",
      "Set parameter Username\r\n",
      "Academic license - for non-commercial use only - expires 2024-03-28\r\n",
      "Set parameter Username\r\n",
      "Academic license - for non-commercial use only - expires 2024-03-28\r\n",
      "Set parameter Username\r\n",
      "Academic license - for non-commercial use only - expires 2024-03-28\r\n",
      "Set parameter Username\r\n",
      "Academic license - for non-commercial use only - expires 2024-03-28\r\n"
     ]
    },
    {
     "name": "stderr",
     "output_type": "stream",
     "text": [
      "\r\u001b[32mprogress ...  38%|███████████████                        |  ETA: 0:22:34\u001b[39m\u001b[K"
     ]
    },
    {
     "name": "stdout",
     "output_type": "stream",
     "text": [
      "Set parameter Username\r\n",
      "Academic license - for non-commercial use only - expires 2024-03-28\r\n",
      "Set parameter Username\r\n",
      "Academic license - for non-commercial use only - expires 2024-03-28\r\n"
     ]
    },
    {
     "name": "stderr",
     "output_type": "stream",
     "text": [
      "\r\u001b[32mprogress ...  39%|████████████████                       |  ETA: 0:23:00\u001b[39m\u001b[K"
     ]
    },
    {
     "name": "stdout",
     "output_type": "stream",
     "text": [
      "Set parameter Username\r\n",
      "Academic license - for non-commercial use only - expires 2024-03-28\r\n"
     ]
    },
    {
     "name": "stderr",
     "output_type": "stream",
     "text": [
      "\r\u001b[32mprogress ...  43%|█████████████████                      |  ETA: 0:26:41\u001b[39m\u001b[K"
     ]
    },
    {
     "name": "stdout",
     "output_type": "stream",
     "text": [
      "Set parameter Username\r\n",
      "Academic license - for non-commercial use only - expires 2024-03-28\r\n",
      "Set parameter Username\r\n",
      "Academic license - for non-commercial use only - expires 2024-03-28\r\n",
      "Set parameter Username\r\n",
      "Academic license - for non-commercial use only - expires 2024-03-28\r\n",
      "Set parameter Username\r\n",
      "Academic license - for non-commercial use only - expires 2024-03-28\r\n"
     ]
    },
    {
     "name": "stderr",
     "output_type": "stream",
     "text": [
      "\r\u001b[32mprogress ...  45%|██████████████████                     |  ETA: 0:25:39\u001b[39m\u001b[K"
     ]
    },
    {
     "name": "stdout",
     "output_type": "stream",
     "text": [
      "Set parameter Username\r\n",
      "Academic license - for non-commercial use only - expires 2024-03-28\r\n",
      "Set parameter Username\r\n",
      "Academic license - for non-commercial use only - expires 2024-03-28\r\n"
     ]
    },
    {
     "name": "stderr",
     "output_type": "stream",
     "text": [
      "\r\u001b[32mprogress ...  46%|██████████████████                     |  ETA: 0:25:15\u001b[39m\u001b[K"
     ]
    },
    {
     "name": "stdout",
     "output_type": "stream",
     "text": [
      "Set parameter Username\r\n",
      "Academic license - for non-commercial use only - expires 2024-03-28\r\n"
     ]
    },
    {
     "name": "stderr",
     "output_type": "stream",
     "text": [
      "\r\u001b[32mprogress ...  51%|████████████████████                   |  ETA: 0:24:28\u001b[39m\u001b[K"
     ]
    },
    {
     "name": "stdout",
     "output_type": "stream",
     "text": [
      "Set parameter Username\r\n",
      "Academic license - for non-commercial use only - expires 2024-03-28\r\n",
      "Set parameter Username\r\n",
      "Academic license - for non-commercial use only - expires 2024-03-28\r\n",
      "Set parameter Username\r\n",
      "Academic license - for non-commercial use only - expires 2024-03-28\r\n",
      "Set parameter Username\r\n",
      "Academic license - for non-commercial use only - expires 2024-03-28\r\n",
      "Set parameter Username\r\n",
      "Academic license - for non-commercial use only - expires 2024-03-28\r\n"
     ]
    },
    {
     "name": "stderr",
     "output_type": "stream",
     "text": [
      "\r\u001b[32mprogress ...  52%|█████████████████████                  |  ETA: 0:23:58\u001b[39m\u001b[K"
     ]
    },
    {
     "name": "stdout",
     "output_type": "stream",
     "text": [
      "Set parameter Username\r\n",
      "Academic license - for non-commercial use only - expires 2024-03-28\r\n"
     ]
    },
    {
     "name": "stderr",
     "output_type": "stream",
     "text": [
      "\r\u001b[32mprogress ...  55%|██████████████████████                 |  ETA: 0:21:42\u001b[39m\u001b[K"
     ]
    },
    {
     "name": "stdout",
     "output_type": "stream",
     "text": [
      "Set parameter Username\r\n",
      "Academic license - for non-commercial use only - expires 2024-03-28\r\n",
      "Set parameter Username\r\n",
      "Academic license - for non-commercial use only - expires 2024-03-28\r\n",
      "Set parameter Username\r\n",
      "Academic license - for non-commercial use only - expires 2024-03-28\r\n"
     ]
    },
    {
     "name": "stderr",
     "output_type": "stream",
     "text": [
      "\r\u001b[32mprogress ...  58%|███████████████████████                |  ETA: 0:21:26\u001b[39m\u001b[K"
     ]
    },
    {
     "name": "stdout",
     "output_type": "stream",
     "text": [
      "Set parameter Username\r\n",
      "Academic license - for non-commercial use only - expires 2024-03-28\r\n",
      "Set parameter Username\r\n",
      "Academic license - for non-commercial use only - expires 2024-03-28\r\n",
      "Set parameter Username\r\n",
      "Academic license - for non-commercial use only - expires 2024-03-28\r\n"
     ]
    },
    {
     "name": "stderr",
     "output_type": "stream",
     "text": [
      "\r\u001b[32mprogress ...  61%|████████████████████████               |  ETA: 0:19:34\u001b[39m\u001b[K"
     ]
    },
    {
     "name": "stdout",
     "output_type": "stream",
     "text": [
      "Set parameter Username\r\n",
      "Academic license - for non-commercial use only - expires 2024-03-28\r\n",
      "Set parameter Username\r\n",
      "Academic license - for non-commercial use only - expires 2024-03-28\r\n",
      "Set parameter Username\r\n",
      "Academic license - for non-commercial use only - expires 2024-03-28\r\n"
     ]
    },
    {
     "name": "stderr",
     "output_type": "stream",
     "text": [
      "\r\u001b[32mprogress ...  62%|█████████████████████████              |  ETA: 0:19:10\u001b[39m\u001b[K"
     ]
    },
    {
     "name": "stdout",
     "output_type": "stream",
     "text": [
      "Set parameter Username\r\n",
      "Academic license - for non-commercial use only - expires 2024-03-28\r\n"
     ]
    },
    {
     "name": "stderr",
     "output_type": "stream",
     "text": [
      "\r\u001b[32mprogress ...  68%|███████████████████████████            |  ETA: 0:17:02\u001b[39m\u001b[K"
     ]
    },
    {
     "name": "stdout",
     "output_type": "stream",
     "text": [
      "Set parameter Username\r\n",
      "Academic license - for non-commercial use only - expires 2024-03-28\r\n",
      "Set parameter Username\r\n",
      "Academic license - for non-commercial use only - expires 2024-03-28\r\n",
      "Set parameter Username\r\n",
      "Academic license - for non-commercial use only - expires 2024-03-28\r\n",
      "Set parameter Username\r\n",
      "Academic license - for non-commercial use only - expires 2024-03-28\r\n",
      "Set parameter Username\r\n",
      "Academic license - for non-commercial use only - expires 2024-03-28\r\n",
      "Set parameter Username\r\n",
      "Academic license - for non-commercial use only - expires 2024-03-28\r\n"
     ]
    },
    {
     "name": "stderr",
     "output_type": "stream",
     "text": [
      "\r\u001b[32mprogress ...  70%|████████████████████████████           |  ETA: 0:15:50\u001b[39m\u001b[K"
     ]
    },
    {
     "name": "stdout",
     "output_type": "stream",
     "text": [
      "Set parameter Username\r\n",
      "Academic license - for non-commercial use only - expires 2024-03-28\r\n",
      "Set parameter Username\r\n",
      "Academic license - for non-commercial use only - expires 2024-03-28\r\n"
     ]
    },
    {
     "name": "stderr",
     "output_type": "stream",
     "text": [
      "\r\u001b[32mprogress ...  71%|████████████████████████████           |  ETA: 0:15:19\u001b[39m\u001b[K"
     ]
    },
    {
     "name": "stdout",
     "output_type": "stream",
     "text": [
      "Set parameter Username\r\n",
      "Academic license - for non-commercial use only - expires 2024-03-28\r\n"
     ]
    },
    {
     "name": "stderr",
     "output_type": "stream",
     "text": [
      "\r\u001b[32mprogress ...  72%|█████████████████████████████          |  ETA: 0:14:50\u001b[39m\u001b[K"
     ]
    },
    {
     "name": "stdout",
     "output_type": "stream",
     "text": [
      "Set parameter Username\r\n",
      "Academic license - for non-commercial use only - expires 2024-03-28\r\n"
     ]
    },
    {
     "name": "stderr",
     "output_type": "stream",
     "text": [
      "\r\u001b[32mprogress ...  76%|██████████████████████████████         |  ETA: 0:12:36\u001b[39m\u001b[K"
     ]
    },
    {
     "name": "stdout",
     "output_type": "stream",
     "text": [
      "Set parameter Username\r\n",
      "Academic license - for non-commercial use only - expires 2024-03-28\r\n",
      "Set parameter Username\r\n",
      "Academic license - for non-commercial use only - expires 2024-03-28\r\n",
      "Set parameter Username\r\n",
      "Academic license - for non-commercial use only - expires 2024-03-28\r\n",
      "Set parameter Username\r\n",
      "Academic license - for non-commercial use only - expires 2024-03-28\r\n"
     ]
    },
    {
     "name": "stderr",
     "output_type": "stream",
     "text": [
      "\r\u001b[32mprogress ...  77%|███████████████████████████████        |  ETA: 0:12:06\u001b[39m\u001b[K"
     ]
    },
    {
     "name": "stdout",
     "output_type": "stream",
     "text": [
      "Set parameter Username\r\n",
      "Academic license - for non-commercial use only - expires 2024-03-28\r\n"
     ]
    },
    {
     "name": "stderr",
     "output_type": "stream",
     "text": [
      "\r\u001b[32mprogress ...  78%|███████████████████████████████        |  ETA: 0:11:34\u001b[39m\u001b[K"
     ]
    },
    {
     "name": "stdout",
     "output_type": "stream",
     "text": [
      "Set parameter Username\r\n",
      "Academic license - for non-commercial use only - expires 2024-03-28\r\n"
     ]
    },
    {
     "name": "stderr",
     "output_type": "stream",
     "text": [
      "\r\u001b[32mprogress ...  80%|████████████████████████████████       |  ETA: 0:10:41\u001b[39m\u001b[K"
     ]
    },
    {
     "name": "stdout",
     "output_type": "stream",
     "text": [
      "Set parameter Username\r\n",
      "Academic license - for non-commercial use only - expires 2024-03-28\r\n",
      "Set parameter Username\r\n",
      "Academic license - for non-commercial use only - expires 2024-03-28\r\n"
     ]
    },
    {
     "name": "stderr",
     "output_type": "stream",
     "text": [
      "\r\u001b[32mprogress ...  82%|████████████████████████████████       |  ETA: 0:09:36\u001b[39m\u001b[K"
     ]
    },
    {
     "name": "stdout",
     "output_type": "stream",
     "text": [
      "Set parameter Username\r\n",
      "Academic license - for non-commercial use only - expires 2024-03-28\r\n",
      "Set parameter Username\r\n",
      "Academic license - for non-commercial use only - expires 2024-03-28\r\n"
     ]
    },
    {
     "name": "stderr",
     "output_type": "stream",
     "text": [
      "\r\u001b[32mprogress ...  85%|██████████████████████████████████     |  ETA: 0:07:55\u001b[39m\u001b[K"
     ]
    },
    {
     "name": "stdout",
     "output_type": "stream",
     "text": [
      "Set parameter Username\r\n",
      "Academic license - for non-commercial use only - expires 2024-03-28\r\n",
      "Set parameter Username\r\n",
      "Academic license - for non-commercial use only - expires 2024-03-28\r\n",
      "Set parameter Username\r\n",
      "Academic license - for non-commercial use only - expires 2024-03-28\r\n"
     ]
    },
    {
     "name": "stderr",
     "output_type": "stream",
     "text": [
      "\r\u001b[32mprogress ...  86%|██████████████████████████████████     |  ETA: 0:07:32\u001b[39m\u001b[K"
     ]
    },
    {
     "name": "stdout",
     "output_type": "stream",
     "text": [
      "Set parameter Username\r\n",
      "Academic license - for non-commercial use only - expires 2024-03-28\r\n"
     ]
    },
    {
     "name": "stderr",
     "output_type": "stream",
     "text": [
      "\r\u001b[32mprogress ...  88%|███████████████████████████████████    |  ETA: 0:06:26\u001b[39m\u001b[K"
     ]
    },
    {
     "name": "stdout",
     "output_type": "stream",
     "text": [
      "Set parameter Username\r\n",
      "Academic license - for non-commercial use only - expires 2024-03-28\r\n",
      "Set parameter Username\r\n",
      "Academic license - for non-commercial use only - expires 2024-03-28\r\n"
     ]
    },
    {
     "name": "stderr",
     "output_type": "stream",
     "text": [
      "\r\u001b[32mprogress ...  90%|████████████████████████████████████   |  ETA: 0:05:20\u001b[39m\u001b[K"
     ]
    },
    {
     "name": "stdout",
     "output_type": "stream",
     "text": [
      "Set parameter Username\r\n",
      "Academic license - for non-commercial use only - expires 2024-03-28\r\n",
      "Set parameter Username\r\n",
      "Academic license - for non-commercial use only - expires 2024-03-28\r\n"
     ]
    },
    {
     "name": "stderr",
     "output_type": "stream",
     "text": [
      "\r\u001b[32mprogress ...  91%|████████████████████████████████████   |  ETA: 0:04:52\u001b[39m\u001b[K"
     ]
    },
    {
     "name": "stdout",
     "output_type": "stream",
     "text": [
      "Set parameter Username\r\n",
      "Academic license - for non-commercial use only - expires 2024-03-28\r\n"
     ]
    },
    {
     "name": "stderr",
     "output_type": "stream",
     "text": [
      "\r\u001b[32mprogress ...  93%|█████████████████████████████████████  |  ETA: 0:03:49\u001b[39m\u001b[K"
     ]
    },
    {
     "name": "stdout",
     "output_type": "stream",
     "text": [
      "Set parameter Username\r\n",
      "Academic license - for non-commercial use only - expires 2024-03-28\r\n",
      "Set parameter Username\r\n",
      "Academic license - for non-commercial use only - expires 2024-03-28\r\n"
     ]
    },
    {
     "name": "stderr",
     "output_type": "stream",
     "text": [
      "\r\u001b[32mprogress ...  95%|██████████████████████████████████████ |  ETA: 0:02:42\u001b[39m\u001b[K"
     ]
    },
    {
     "name": "stdout",
     "output_type": "stream",
     "text": [
      "Set parameter Username\r\n",
      "Academic license - for non-commercial use only - expires 2024-03-28\r\n",
      "Set parameter Username\r\n",
      "Academic license - for non-commercial use only - expires 2024-03-28\r\n"
     ]
    },
    {
     "name": "stderr",
     "output_type": "stream",
     "text": [
      "\r\u001b[32mprogress ...  97%|██████████████████████████████████████ |  ETA: 0:01:36\u001b[39m\u001b[K"
     ]
    },
    {
     "name": "stdout",
     "output_type": "stream",
     "text": [
      "Set parameter Username\r\n",
      "Academic license - for non-commercial use only - expires 2024-03-28\r\n",
      "Set parameter Username\r\n",
      "Academic license - for non-commercial use only - expires 2024-03-28\r\n"
     ]
    },
    {
     "name": "stderr",
     "output_type": "stream",
     "text": [
      "\r\u001b[32mprogress ...  99%|███████████████████████████████████████|  ETA: 0:00:32\u001b[39m\u001b[K"
     ]
    },
    {
     "name": "stdout",
     "output_type": "stream",
     "text": [
      "Set parameter Username\r\n",
      "Academic license - for non-commercial use only - expires 2024-03-28\r\n",
      "Set parameter Username\r\n",
      "Academic license - for non-commercial use only - expires 2024-03-28\r\n"
     ]
    },
    {
     "name": "stderr",
     "output_type": "stream",
     "text": [
      "\r\u001b[32mprogress ... 100%|███████████████████████████████████████| Time: 0:52:41\u001b[39m\u001b[K\n"
     ]
    },
    {
     "name": "stdout",
     "output_type": "stream",
     "text": [
      "Set parameter Username\r\n",
      "Academic license - for non-commercial use only - expires 2024-03-28\r\n"
     ]
    }
   ],
   "source": [
    "true_solution = []\n",
    "@showprogress 30 \"progress ...\" for (delivery, constraint) in zip(true_deliveries, true_constraints)\n",
    "   push!(true_solution, solve_tsp(delivery, constraint, Gurobi.Optimizer));\n",
    "end"
   ]
  },
  {
   "cell_type": "code",
   "execution_count": 14,
   "metadata": {},
   "outputs": [],
   "source": [
    "file = File(format\"JLD2\", \"Data/true_output.jld2\")\n",
    "  \n",
    "# Save data into the file\n",
    "save(file, \"delivery\", true_deliveries, \"constraint\", true_constraints, \"solutions\", true_solution)"
   ]
  },
  {
   "cell_type": "code",
   "execution_count": 25,
   "metadata": {},
   "outputs": [
    {
     "data": {
      "text/plain": [
       "(Any[Any[Delivery(0.1995734533842224, 0.434246987466408), Delivery(0.24729524152972113, 0.6628829842550245), Delivery(0.19145244001483747, 0.4720641267535328), Delivery(0.47991851433751576, 0.3707969674749293), Delivery(0.6726980265811969, 0.7858258237600879), Delivery(0.8239548385343233, 0.606538926136958), Delivery(0.1350309617043981, 0.3708253000664519), Delivery(0.132045408695281, 0.43123728701746944), Delivery(0.653247205235899, 0.5122223234632847), Delivery(0.5256088107148651, 0.45820021948378514)  …  Delivery(0.3589722063115998, 0.32732510728881525), Delivery(0.2599478427455764, 0.34918721588169577), Delivery(0.3374655945205997, 0.12195601148557526), Delivery(0.12007041323853788, 0.3480334978059114), Delivery(0.3723498751345028, 0.36890440134104485), Delivery(0.518799375267699, 0.3719299120233189), Delivery(0.420733505846175, 0.25116755458278495), Delivery(0.14732147941555362, 0.40038345148013094), Delivery(0.24145660980897274, 0.4248454319618809), Delivery(0.37483029765392484, 0.06633492834741664)], Any[Delivery(0.5023451954880586, 0.43017289702678807), Delivery(0.46627239448399754, 0.10804848204377145), Delivery(0.6683917044114862, 0.6007886327942741), Delivery(0.6374869365090288, 0.19005566788627673), Delivery(0.3165380229853985, 0.5114072630001656), Delivery(0.5599667339088438, 0.1670151970005232), Delivery(0.574299777933952, 0.35132446525639044), Delivery(0.5757840761153871, 0.3207779558294384), Delivery(0.4453264710168892, 0.48241474228886844), Delivery(0.4640626534432567, 0.056420537427700625)  …  Delivery(0.2539003479505137, 0.3781183195897276), Delivery(0.2297260236320552, 0.3290298132877944), Delivery(0.04481693566858558, 0.46702545873812207), Delivery(0.020893917204127747, 0.4625740785823224), Delivery(0.045171566628091964, 0.2407637907846053), Delivery(0.09198107238779507, 0.33763363371255056), Delivery(0.2521715168552382, 0.3984521488360523), Delivery(0.15242988101737584, 0.2727267747119431), Delivery(0.5962740355635028, 0.37878928245729454), Delivery(0.5913032010372863, 0.021633930224925237)], Any[Delivery(0.4453264710168892, 0.48241474228886844), Delivery(0.5079427203258685, 0.0810050064724454), Delivery(0.6679447873049064, 0.5722536892996385), Delivery(0.6553292637433191, 0.8684524457471111), Delivery(0.6031735969735906, 0.5792942328563622), Delivery(0.5968167330937493, 0.5916447999083547), Delivery(0.642705923090803, 0.5807671201933715), Delivery(0.5769951957419156, 0.5742405181918037), Delivery(0.6794031144761579, 0.6068174024270919), Delivery(0.7173939731213852, 0.3050858390937373)  …  Delivery(0.40287172919434916, 0.2056900781082022), Delivery(0.3478597476481058, 0.040056770774193215), Delivery(0.13828514901429942, 0.7042963909114498), Delivery(0.13646958515948948, 0.5957074404827474), Delivery(0.3677402785441401, 0.3707701207179651), Delivery(0.34209813500540365, 0.2776862890436918), Delivery(0.2238536394410789, 0.3501046690928528), Delivery(0.21789738314733637, 0.4786502409005558), Delivery(0.676728012207807, 0.6163869695145973), Delivery(0.6973407031503552, 0.9202257347085718)], Any[Delivery(0.21640847367068533, 0.42936489850154), Delivery(0.20289399958270465, 0.5248186552610311), Delivery(0.184135236889685, 0.4358499548022507), Delivery(0.18874448705097138, 0.5078658986328816), Delivery(0.36037136357761435, 0.6290662814711611), Delivery(0.34725469729069575, 0.4875935663400992), Delivery(0.14505151005987893, 0.5900056061658244), Delivery(0.2484172223438689, 0.6506071119451332), Delivery(0.07457047866177859, 0.2546117267176962), Delivery(0.14483766872108492, 0.6656998030034745)  …  Delivery(0.3098351619837189, 0.4271268415552503), Delivery(0.3333208216306353, 0.24805166123453662), Delivery(0.46565509999984667, 0.33012630097853624), Delivery(0.4107783498799045, 0.2010934711796621), Delivery(0.2490929731746961, 0.5426993835984927), Delivery(0.14483766872108492, 0.6656998030034745), Delivery(0.11990744366483454, 0.3752078984397984), Delivery(0.184135236889685, 0.426508409620687), Delivery(0.34986652603832297, 0.3288003961906959), Delivery(0.36855545094971287, 0.34617871081995194)], Any[Delivery(0.6454638928130423, 0.5500482574130758), Delivery(0.6495027199615258, 0.5669345050452039), Delivery(0.5256070136502854, 0.4572285398053846), Delivery(0.4899056984224404, 0.016715307247333312), Delivery(0.6407651218572918, 0.5259106506033017), Delivery(0.6312906117336047, 0.289429914407565), Delivery(0.6623750730586726, 0.5577283899935753), Delivery(0.6379377437204123, 0.16893697886037545), Delivery(0.6408148673072004, 0.507149692234475), Delivery(0.5178993988918955, 0.09940369073782407)  …  Delivery(0.14437217660385704, 0.3658380611267808), Delivery(0.12007041323853788, 0.3480334978059114), Delivery(0.3855131702541007, 0.3614343306072521), Delivery(0.27597699351436117, 0.46353238244164613), Delivery(0.26883729253160576, 0.22098478334749558), Delivery(0.1843077738875101, 0.7020434704534626), Delivery(0.5514933176209125, 0.7223238531312026), Delivery(0.7308602949908816, 0.46502227444392286), Delivery(0.17662740084532544, 0.39038123542126474), Delivery(0.19517888760786786, 0.44486673663671)], Any[Delivery(0.20844297014484758, 0.41929342184457025), Delivery(0.2272964200923503, 0.3798946529856446), Delivery(0.5409982847605761, 0.50719029500136), Delivery(0.5493349692110373, 0.13803220417343934), Delivery(0.6679447873049064, 0.5722536892996385), Delivery(0.6303703490576129, 0.49801507379311455), Delivery(0.8613980012169438, 0.5956806526209396), Delivery(0.8885212951134287, 0.5786428586929303), Delivery(0.676728012207807, 0.6163869695145973), Delivery(0.6775231902123832, 0.568340387943079)  …  Delivery(0.3677402785441401, 0.3707701207179651), Delivery(0.41027621350181354, 0.47320692621791327), Delivery(0.15465369188745398, 0.5333013248805685), Delivery(0.11275796052815609, 0.6896358894966669), Delivery(0.1910056581387673, 0.437728785503584), Delivery(0.13556637994099516, 0.7100680854541948), Delivery(0.10028230015150515, 0.37502063783844275), Delivery(0.24884465811370676, 0.37849349038739577), Delivery(0.24898137492631056, 0.4827600247538607), Delivery(0.27423726247075847, 0.3397942858761131)], Any[Delivery(0.2374201573672167, 0.45814898853875563), Delivery(0.22611017587902496, 0.32055733872632464), Delivery(0.18711268837255338, 0.4113051353933668), Delivery(0.15624861453367828, 0.75076235661456), Delivery(0.4232080353718488, 0.19605850629401722), Delivery(0.23497654738188853, 0.3069380989493057), Delivery(0.4957935736790314, 0.41036074294831826), Delivery(0.4519154689925923, 0.009392579404136318), Delivery(0.6560048371249556, 0.6932392085075877), Delivery(0.7067233856097342, 0.5802846511051127)  …  Delivery(0.06353111813901965, 0.27038994955820034), Delivery(0.05801161197101185, 0.23046736959121414), Delivery(0.320319185253055, 0.23919650197064368), Delivery(0.30655127862853937, 0.1145875337281298), Delivery(0.5369080412661233, 0.7551937083273151), Delivery(0.6855974722041064, 0.8759355662644511), Delivery(0.15157624238679152, 0.41898792150530145), Delivery(0.179358202885338, 0.42891296963811226), Delivery(0.026897334060966633, 0.43335503726431596), Delivery(0.026919660510197382, 0.45600038782068136)], Any[Delivery(0.4893091644282125, 0.43185222784784477), Delivery(0.4184074870637022, 0.17158829098461406), Delivery(0.15242988101737584, 0.27870013755948825), Delivery(0.14065865886178663, 0.4084734775904555), Delivery(0.4819938745521746, 0.45959251598661016), Delivery(0.533556930071813, 0.7542177374868411), Delivery(0.8519713736986251, 0.5697565519761615), Delivery(0.8348421688107573, 0.5518032791362941), Delivery(0.5865550345339836, 0.34366374970194724), Delivery(0.5665118277403058, 0.16706783481020637)  …  Delivery(0.43454477786769957, 0.49955356865374945), Delivery(0.4272379631693314, 0.46891419146543), Delivery(0.3341534249332963, 0.566988739288155), Delivery(0.10694873734188096, 0.7640882920251718), Delivery(0.3038540378236269, 0.35376035949349544), Delivery(0.3275823032267483, 0.5310243232018595), Delivery(0.21431084250897156, 0.3638130095580553), Delivery(0.13585548708903605, 0.3206388826209899), Delivery(0.786382508605819, 0.5141194174600597), Delivery(0.6757371951113642, 0.8191097111613943)], Any[Delivery(0.65182839978941, 0.5569614510998961), Delivery(0.5470458771666485, 0.14516907153641104), Delivery(0.8983427156616348, 0.7205597098024926), Delivery(0.8478587905839776, 0.46096328519765045), Delivery(0.6021529342121038, 0.5937387419429869), Delivery(0.5888410731156906, 0.25535831525902186), Delivery(0.5320207900634925, 0.4540992126545787), Delivery(0.4972042391829754, 0.1089439733437067), Delivery(0.8824574890291, 0.6022482751370261), Delivery(0.840398049582796, 0.5358596040648355)  …  Delivery(0.06576914478859155, 0.37666846642337853), Delivery(0.049542693593879715, 0.3642756753091744), Delivery(0.271675575231721, 0.6101206644067164), Delivery(0.2649216461914513, 0.7055707179745067), Delivery(0.24507089682295796, 0.33800539123717743), Delivery(0.23889700016009432, 0.32494346702646465), Delivery(0.8164613984049189, 0.5416413209667411), Delivery(0.6941485089227842, 0.9028679120793393), Delivery(0.33796400960467415, 0.3089990917755609), Delivery(0.33133190285394554, 0.601659286044356)], Any[Delivery(0.6447541341782757, 0.5913857614401469), Delivery(0.6480418603279319, 0.6028119086933813), Delivery(0.637785816172002, 0.5716376794680684), Delivery(0.641817306270328, 0.5518452092871272), Delivery(0.9161609347247995, 0.7772078236573057), Delivery(0.8765903016291365, 0.6131351974101398), Delivery(0.4453264710168892, 0.48241474228886844), Delivery(0.4598280681497392, 0.3925974023823264), Delivery(0.8193283573698854, 0.5886978637861155), Delivery(0.8043691530000688, 0.5436807918657843)  …  Delivery(0.016374022148674422, 0.265859397203915), Delivery(0.07191227575522405, 0.24657014907045482), Delivery(0.16835758522696237, 0.4233224363195304), Delivery(0.15625847963248132, 0.4161126833375246), Delivery(0.24507089682295796, 0.33800539123717743), Delivery(0.1979857541571381, 0.3201972673561901), Delivery(0.6896333519246608, 0.5878258473307569), Delivery(0.6808953174490958, 0.8580055499547847), Delivery(0.1990464220477554, 0.42176584317516463), Delivery(0.16813244557086454, 0.3965579643392675)]  …  Any[Delivery(0.22631437205957083, 0.5220287449957858), Delivery(0.2914364752479562, 0.6159985765872714), Delivery(0.6587435750745106, 0.6222631807178018), Delivery(0.6306357624381042, 0.30520220246699425), Delivery(0.6646466873969893, 0.5659735609291603), Delivery(0.6143010437227202, 0.7262325138057939), Delivery(0.15820550379593784, 0.38759739157317524), Delivery(0.21640847367068533, 0.42016234713142586), Delivery(0.6751314877925608, 0.6013053458095315), Delivery(0.6073465612848921, 0.3159769394459392)  …  Delivery(0.04238161223250581, 0.5179623533662022), Delivery(0.03697631064203134, 0.45349247287899574), Delivery(0.11990744366483454, 0.3752078984397984), Delivery(0.03824499530419458, 0.47865593603475837), Delivery(0.6454638928130423, 0.5500482574130758), Delivery(0.6111210258819149, 0.2648601502358892), Delivery(0.35264260649994816, 0.572322969194707), Delivery(0.16428525532524343, 0.6780121913282204), Delivery(0.2723139038860466, 0.5510669346864563), Delivery(0.3231313684900019, 0.44541223039475175)], Any[Delivery(0.37398957700591706, 0.5222303355030606), Delivery(0.4918507318994962, 0.05197710852567514), Delivery(0.37317010886584934, 0.5463982546925279), Delivery(0.5144198058405172, 0.10383386074212396), Delivery(0.6384051847333742, 0.7081284115060709), Delivery(0.7109316138634745, 0.5880661749435236), Delivery(0.3450687284881177, 0.5445825775098232), Delivery(0.46696689181920087, 0.0903402163914064), Delivery(0.6021529342121038, 0.5937387419429869), Delivery(0.5671660232462165, 0.19389293963555937)  …  Delivery(0.3806836955499982, 0.14520467937327555), Delivery(0.2210669856077324, 0.44457892038706587), Delivery(0.34747786660756613, 0.36514968314803764), Delivery(0.17791901951626543, 0.40752972855027003), Delivery(0.15713461904569564, 0.2820364100057623), Delivery(0.1920470976039376, 0.3865088110360466), Delivery(0.1803716747423537, 0.46179712811170226), Delivery(0.14514829654110675, 0.39593732790387803), Delivery(0.1656484492786414, 0.29469107248806514), Delivery(0.1022932690317521, 0.7507442594351972)], Any[Delivery(0.6495027199615258, 0.5793517145876307), Delivery(0.6414325623512279, 0.20996890995730894), Delivery(0.6031735969735906, 0.5792942328563622), Delivery(0.5751177945018024, 0.1381001209979298), Delivery(0.5092072592827054, 0.48670900818755686), Delivery(0.5344122472945779, 0.7038742222878693), Delivery(0.6751314877925608, 0.6013053458095315), Delivery(0.731451715373294, 0.8956813963097668), Delivery(0.6997297262070339, 0.5824612034989373), Delivery(0.779036997486314, 0.45923783156817544)  …  Delivery(0.11138966695863572, 0.5352156926381927), Delivery(0.09351859057657552, 0.479685648477105), Delivery(0.3677402785441401, 0.3707701207179651), Delivery(0.3589722063115998, 0.32030956846608905), Delivery(0.20720045402617457, 0.33598569900260533), Delivery(0.1652704200229834, 0.6876326525628471), Delivery(0.2238536394410789, 0.3501046690928528), Delivery(0.18131639401946092, 0.4606176273458603), Delivery(0.1910056581387673, 0.437728785503584), Delivery(0.11894168134723024, 0.3351597905104326)], Any[Delivery(0.5992503819149138, 0.6379902484775687), Delivery(0.6069009278287616, 0.1619083153496098), Delivery(0.6331601820910258, 0.5821348278911246), Delivery(0.5914234926760368, 0.3220722993044654), Delivery(0.6887532500982814, 0.6182728787946765), Delivery(0.67285502190902, 0.5615337271146721), Delivery(0.44093428486253566, 0.6157203316877231), Delivery(0.4918507318994962, 0.05197710852567514), Delivery(0.47476876054377226, 0.5604907969462889), Delivery(0.5159362075336672, 0.5773932413142793)  …  Delivery(0.3683687962295367, 0.3966536922923448), Delivery(0.3466027329342139, 0.24477600928204243), Delivery(0.8388215358081044, 0.5296863949921397), Delivery(0.644376635868373, 0.9166263834389599), Delivery(0.6906242379238562, 0.6100898383786714), Delivery(0.6812394101554091, 0.5064956646862918), Delivery(0.2185526468050341, 0.5507463497162457), Delivery(0.29617466842588136, 0.7390128145858197), Delivery(0.6869119120788949, 0.8777037522423279), Delivery(0.8130684615272441, 0.344040856697012)], Any[Delivery(0.24984739941313655, 0.3651149011996695), Delivery(0.253722857262907, 0.6699030207414389), Delivery(0.14687710908550516, 0.394197615645473), Delivery(0.29423812562335305, 0.4656875830838237), Delivery(0.6628286817944923, 0.5771371466187247), Delivery(0.603317655740032, 0.3490993023315449), Delivery(0.4453264710168892, 0.48241474228886844), Delivery(0.40187168659933753, 0.10007554268570848), Delivery(0.6530879444047895, 0.571880534805763), Delivery(0.5751177945018024, 0.1381001209979298)  …  Delivery(0.10876501902851382, 0.36525281660786346), Delivery(0.13096366920935357, 0.35083410191353265), Delivery(0.1061627929075057, 0.3826950195108511), Delivery(0.11050866042612503, 0.36494990685687206), Delivery(0.27071511902485534, 0.2875030574502352), Delivery(0.23582430592292386, 0.4180337435862632), Delivery(0.4397251922759283, 0.4647881268895564), Delivery(0.4224515612610446, 0.462963165104346), Delivery(0.18305095606330232, 0.5063322529527275), Delivery(0.14365257700706716, 0.7452331537494972)], Any[Delivery(0.865782974790941, 0.589462639434824), Delivery(0.8317813869282813, 0.4967850585181432), Delivery(0.21621021607714888, 0.34308535620313835), Delivery(0.24122648499963636, 0.3765296362597923), Delivery(0.5023451954880586, 0.43017289702678807), Delivery(0.46479457452416795, 0.02915816401009953), Delivery(0.3442594834424876, 0.4582805034619793), Delivery(0.3667909497229779, 0.3229134238612976), Delivery(0.7704722643330812, 0.5700174547248553), Delivery(0.7424982991558913, 0.43256643937307654)  …  Delivery(0.3537884648786576, 0.16087569843166533), Delivery(0.22741479678970872, 0.39413369447725294), Delivery(0.3098889106260637, 0.07931208471269408), Delivery(0.09703112230668655, 0.4213487787171881), Delivery(0.1061627929075057, 0.3826950195108511), Delivery(0.14732147941555362, 0.40038345148013094), Delivery(0.37404598270357137, 0.42187358898318217), Delivery(0.30152472072468306, 0.08901504438417664), Delivery(0.5487610897655227, 0.7290036980442971), Delivery(0.6843047672005227, 0.8458452413739191)], Any[Delivery(0.0712291331623148, 0.22778666705706305), Delivery(0.1803716747423537, 0.4518994587660003), Delivery(0.819785428934981, 0.8419159240066985), Delivery(0.826142873323784, 0.255446223354687), Delivery(0.6386473577297953, 0.5787080319994803), Delivery(0.5511898246835949, 0.591383054325294), Delivery(0.4453264710168892, 0.48241474228886844), Delivery(0.43030764649680264, 0.1352736125101057), Delivery(0.32215748067688305, 0.5119237315646605), Delivery(0.3499700376290446, 0.5953320044584071)  …  Delivery(0.06734727038788942, 0.25377930563515905), Delivery(0.008369945146381608, 0.2653360621424512), Delivery(0.1942756805024706, 0.5264419241016509), Delivery(0.17676446919911065, 0.6177043643056875), Delivery(0.4359645764581801, 0.5308116065705887), Delivery(0.4641881078697257, 0.4157193383483497), Delivery(0.8560343276877314, 0.5972065974199928), Delivery(0.7704325960550309, 0.2429838499148174), Delivery(0.7002087623700908, 0.8589118521199262), Delivery(0.8942502382781982, 0.8575229412865742)], Any[Delivery(0.6794031144761579, 0.6068174024270919), Delivery(0.6235815518823755, 0.32750633506599386), Delivery(0.4397251922759283, 0.4647881268895564), Delivery(0.34747786660756613, 0.3573234525253714), Delivery(0.6021529342121038, 0.5937387419429869), Delivery(0.5490362432470395, 0.20685693741926148), Delivery(0.15564896070244028, 0.38739012448762083), Delivery(0.18874448705097138, 0.5078658986328816), Delivery(0.6363427336772626, 0.6753601124807654), Delivery(0.6859253472059261, 0.5620206469087466)  …  Delivery(0.33899674583318035, 0.3786394615653702), Delivery(0.35261565522094995, 0.36828684253796534), Delivery(0.41037171351982266, 0.4677418248525832), Delivery(0.43454477786769957, 0.4888466678481553), Delivery(0.40313384043012634, 0.4641078723781394), Delivery(0.43454477786769957, 0.4888466678481553), Delivery(0.9457429591942745, 0.6421273350199369), Delivery(0.8285913573931459, 0.5131981645074677), Delivery(0.06576914478859155, 0.37666846642337853), Delivery(0.2300490047616559, 0.41725129759064156)], Any[Delivery(0.6259583477767597, 0.5595064372446557), Delivery(0.5486723843412303, 0.2852747690150429), Delivery(0.6869119120788949, 0.8777037522423279), Delivery(0.8035108035800416, 0.284500743180876), Delivery(0.40313384043012634, 0.4641078723781394), Delivery(0.4957935736790314, 0.4015655064712811), Delivery(0.8882074318164924, 0.7836945301198225), Delivery(0.8388116918333285, 0.47525329349480794), Delivery(0.65182839978941, 0.5569614510998961), Delivery(0.6720074143036234, 0.18216943559011148)  …  Delivery(0.24507089682295796, 0.33800539123717743), Delivery(0.3048668575643264, 0.3002796710370759), Delivery(0.1805791410152905, 0.3018888960035494), Delivery(0.10949005021445522, 0.5145121020558464), Delivery(0.3038540378236269, 0.35376035949349544), Delivery(0.3098351619837189, 0.41797225832153795), Delivery(0.68733360451688, 0.5601599816409615), Delivery(0.6556770655492664, 0.5634487643071148), Delivery(0.22741479678970872, 0.40276615665498655), Delivery(0.08879607086603969, 0.6617901124159399)], Any[Delivery(0.3241537302131957, 0.46555529385457767), Delivery(0.30816094846963005, 0.6181741902610279), Delivery(0.1728890939496097, 0.4253384210929003), Delivery(0.24504908864562014, 0.511465057330875), Delivery(0.6454638928130423, 0.5500482574130758), Delivery(0.5493379095480742, 0.08894545028398194), Delivery(0.8885212951134287, 0.5913165089341447), Delivery(0.868013504574344, 0.5852090784778345), Delivery(0.6556569659701326, 0.5724068478440052), Delivery(0.6480418603279319, 0.6028119086933813)  …  Delivery(0.22760137114404183, 0.424929173684188), Delivery(0.23966549998059733, 0.34516819218324596), Delivery(0.15564896070244028, 0.38739012448762083), Delivery(0.14687710908550516, 0.38574880247836457), Delivery(0.4346316082539932, 0.3476772444477608), Delivery(0.3821617180213942, 0.44221771229544743), Delivery(0.035774840228220965, 0.38364588075546524), Delivery(0.18230305445351008, 0.6512282364792765), Delivery(0.7139133381608581, 0.5797911325892942), Delivery(0.6812394101554091, 0.5064956646862918)]], Any[Any[(1, 2), (3, 4), (5, 6), (7, 8), (9, 10), (11, 12), (13, 14), (15, 16), (17, 18), (19, 20)  …  (89, 90), (91, 92), (93, 94), (95, 96), (97, 98), (99, 100), (101, 102), (103, 104), (105, 106), (107, 108)], Any[(1, 2), (3, 4), (5, 6), (7, 8), (9, 10), (11, 12), (13, 14), (15, 16), (17, 18), (19, 20)  …  (79, 80), (81, 82), (83, 84), (85, 86), (87, 88), (89, 90), (91, 92), (93, 94), (95, 96), (97, 98)], Any[(1, 2), (3, 4), (5, 6), (7, 8), (9, 10), (11, 12), (13, 14), (15, 16), (17, 18), (19, 20)  …  (137, 138), (139, 140), (141, 142), (143, 144), (145, 146), (147, 148), (149, 150), (151, 152), (153, 154), (155, 156)], Any[(1, 2), (3, 4), (5, 6), (7, 8), (9, 10), (11, 12), (13, 14), (15, 16), (17, 18), (19, 20)  …  (101, 102), (103, 104), (105, 106), (107, 108), (109, 110), (111, 112), (113, 114), (115, 116), (117, 118), (119, 120)], Any[(1, 2), (3, 4), (5, 6), (7, 8), (9, 10), (11, 12), (13, 14), (15, 16), (17, 18), (19, 20)  …  (117, 118), (119, 120), (121, 122), (123, 124), (125, 126), (127, 128), (129, 130), (131, 132), (133, 134), (135, 136)], Any[(1, 2), (3, 4), (5, 6), (7, 8), (9, 10), (11, 12), (13, 14), (15, 16), (17, 18), (19, 20)  …  (107, 108), (109, 110), (111, 112), (113, 114), (115, 116), (117, 118), (119, 120), (121, 122), (123, 124), (125, 126)], Any[(1, 2), (3, 4), (5, 6), (7, 8), (9, 10), (11, 12), (13, 14), (15, 16), (17, 18), (19, 20)  …  (143, 144), (145, 146), (147, 148), (149, 150), (151, 152), (153, 154), (155, 156), (157, 158), (159, 160), (161, 162)], Any[(1, 2), (3, 4), (5, 6), (7, 8), (9, 10), (11, 12), (13, 14), (15, 16), (17, 18), (19, 20)  …  (173, 174), (175, 176), (177, 178), (179, 180), (181, 182), (183, 184), (185, 186), (187, 188), (189, 190), (191, 192)], Any[(1, 2), (3, 4), (5, 6), (7, 8), (9, 10), (11, 12), (13, 14), (15, 16), (17, 18), (19, 20)  …  (93, 94), (95, 96), (97, 98), (99, 100), (101, 102), (103, 104), (105, 106), (107, 108), (109, 110), (111, 112)], Any[(1, 2), (3, 4), (5, 6), (7, 8), (9, 10), (11, 12), (13, 14), (15, 16), (17, 18), (19, 20)  …  (131, 132), (133, 134), (135, 136), (137, 138), (139, 140), (141, 142), (143, 144), (145, 146), (147, 148), (149, 150)]  …  Any[(1, 2), (3, 4), (5, 6), (7, 8), (9, 10), (11, 12), (13, 14), (15, 16), (17, 18), (19, 20)  …  (135, 136), (137, 138), (139, 140), (141, 142), (143, 144), (145, 146), (147, 148), (149, 150), (151, 152), (153, 154)], Any[(1, 2), (3, 4), (5, 6), (7, 8), (9, 10), (11, 12), (13, 14), (15, 16), (17, 18), (19, 20)  …  (125, 126), (127, 128), (129, 130), (131, 132), (133, 134), (135, 136), (137, 138), (139, 140), (141, 142), (143, 144)], Any[(1, 2), (3, 4), (5, 6), (7, 8), (9, 10), (11, 12), (13, 14), (15, 16), (17, 18), (19, 20)  …  (145, 146), (147, 148), (149, 150), (151, 152), (153, 154), (155, 156), (157, 158), (159, 160), (161, 162), (163, 164)], Any[(1, 2), (3, 4), (5, 6), (7, 8), (9, 10), (11, 12), (13, 14), (15, 16), (17, 18), (19, 20)  …  (123, 124), (125, 126), (127, 128), (129, 130), (131, 132), (133, 134), (135, 136), (137, 138), (139, 140), (141, 142)], Any[(1, 2), (3, 4), (5, 6), (7, 8), (9, 10), (11, 12), (13, 14), (15, 16), (17, 18), (19, 20)  …  (95, 96), (97, 98), (99, 100), (101, 102), (103, 104), (105, 106), (107, 108), (109, 110), (111, 112), (113, 114)], Any[(1, 2), (3, 4), (5, 6), (7, 8), (9, 10), (11, 12), (13, 14), (15, 16), (17, 18), (19, 20)  …  (93, 94), (95, 96), (97, 98), (99, 100), (101, 102), (103, 104), (105, 106), (107, 108), (109, 110), (111, 112)], Any[(1, 2), (3, 4), (5, 6), (7, 8), (9, 10), (11, 12), (13, 14), (15, 16), (17, 18), (19, 20)  …  (113, 114), (115, 116), (117, 118), (119, 120), (121, 122), (123, 124), (125, 126), (127, 128), (129, 130), (131, 132)], Any[(1, 2), (3, 4), (5, 6), (7, 8), (9, 10), (11, 12), (13, 14), (15, 16), (17, 18), (19, 20)  …  (75, 76), (77, 78), (79, 80), (81, 82), (83, 84), (85, 86), (87, 88), (89, 90), (91, 92), (93, 94)], Any[(1, 2), (3, 4), (5, 6), (7, 8), (9, 10), (11, 12), (13, 14), (15, 16), (17, 18), (19, 20)  …  (81, 82), (83, 84), (85, 86), (87, 88), (89, 90), (91, 92), (93, 94), (95, 96), (97, 98), (99, 100)], Any[(1, 2), (3, 4), (5, 6), (7, 8), (9, 10), (11, 12), (13, 14), (15, 16), (17, 18), (19, 20)  …  (117, 118), (119, 120), (121, 122), (123, 124), (125, 126), (127, 128), (129, 130), (131, 132), (133, 134), (135, 136)]])"
      ]
     },
     "metadata": {},
     "output_type": "display_data"
    }
   ],
   "source": [
    "pred_deliveries, pred_constraints = create_deliveries(X_A_test, X_C_test, Y_test_pred)"
   ]
  },
  {
   "cell_type": "code",
   "execution_count": 26,
   "metadata": {},
   "outputs": [
    {
     "name": "stderr",
     "output_type": "stream",
     "text": [
      "\r\u001b[32mprogress ...   3%|██                                     |  ETA: 0:28:30\u001b[39m\u001b[K"
     ]
    },
    {
     "name": "stdout",
     "output_type": "stream",
     "text": [
      "Set parameter Username\r\n",
      "Academic license - for non-commercial use only - expires 2024-03-28\r\n",
      "Set parameter Username\r\n",
      "Academic license - for non-commercial use only - expires 2024-03-28\r\n",
      "Set parameter Username\r\n",
      "Academic license - for non-commercial use only - expires 2024-03-28\r\n"
     ]
    },
    {
     "name": "stderr",
     "output_type": "stream",
     "text": [
      "\r\u001b[32mprogress ...   6%|███                                    |  ETA: 0:28:00\u001b[39m\u001b[K"
     ]
    },
    {
     "name": "stdout",
     "output_type": "stream",
     "text": [
      "Set parameter Username\r\n",
      "Academic license - for non-commercial use only - expires 2024-03-28\r\n",
      "Set parameter Username\r\n",
      "Academic license - for non-commercial use only - expires 2024-03-28\r\n",
      "Set parameter Username\r\n",
      "Academic license - for non-commercial use only - expires 2024-03-28\r\n"
     ]
    },
    {
     "name": "stderr",
     "output_type": "stream",
     "text": [
      "\r\u001b[32mprogress ...   8%|████                                   |  ETA: 0:44:45\u001b[39m\u001b[K"
     ]
    },
    {
     "name": "stdout",
     "output_type": "stream",
     "text": [
      "Set parameter Username\r\n",
      "Academic license - for non-commercial use only - expires 2024-03-28\r\n",
      "Set parameter Username\r\n",
      "Academic license - for non-commercial use only - expires 2024-03-28\r\n"
     ]
    },
    {
     "name": "stderr",
     "output_type": "stream",
     "text": [
      "\r\u001b[32mprogress ...  11%|█████                                  |  ETA: 0:43:45\u001b[39m\u001b[K"
     ]
    },
    {
     "name": "stdout",
     "output_type": "stream",
     "text": [
      "Set parameter Username\r\n",
      "Academic license - for non-commercial use only - expires 2024-03-28\r\n",
      "Set parameter Username\r\n",
      "Academic license - for non-commercial use only - expires 2024-03-28\r\n",
      "Set parameter Username\r\n",
      "Academic license - for non-commercial use only - expires 2024-03-28\r\n"
     ]
    },
    {
     "name": "stderr",
     "output_type": "stream",
     "text": [
      "\r\u001b[32mprogress ...  13%|██████                                 |  ETA: 3:19:38\u001b[39m\u001b[K"
     ]
    },
    {
     "name": "stdout",
     "output_type": "stream",
     "text": [
      "Set parameter Username\r\n",
      "Academic license - for non-commercial use only - expires 2024-03-28\r\n",
      "Set parameter Username\r\n",
      "Academic license - for non-commercial use only - expires 2024-03-28\r\n"
     ]
    },
    {
     "name": "stderr",
     "output_type": "stream",
     "text": [
      "\r\u001b[32mprogress ...  15%|██████                                 |  ETA: 2:52:41\u001b[39m\u001b[K"
     ]
    },
    {
     "name": "stdout",
     "output_type": "stream",
     "text": [
      "Set parameter Username\r\n",
      "Academic license - for non-commercial use only - expires 2024-03-28\r\n",
      "Set parameter Username\r\n",
      "Academic license - for non-commercial use only - expires 2024-03-28\r\n"
     ]
    },
    {
     "name": "stderr",
     "output_type": "stream",
     "text": [
      "\r\u001b[32mprogress ...  19%|████████                               |  ETA: 2:16:00\u001b[39m\u001b[K"
     ]
    },
    {
     "name": "stdout",
     "output_type": "stream",
     "text": [
      "Set parameter Username\r\n",
      "Academic license - for non-commercial use only - expires 2024-03-28\r\n",
      "Set parameter Username\r\n",
      "Academic license - for non-commercial use only - expires 2024-03-28\r\n",
      "Set parameter Username\r\n",
      "Academic license - for non-commercial use only - expires 2024-03-28\r\n",
      "Set parameter Username\r\n",
      "Academic license - for non-commercial use only - expires 2024-03-28\r\n"
     ]
    },
    {
     "name": "stderr",
     "output_type": "stream",
     "text": [
      "\r\u001b[32mprogress ...  22%|█████████                              |  ETA: 1:55:58\u001b[39m\u001b[K"
     ]
    },
    {
     "name": "stdout",
     "output_type": "stream",
     "text": [
      "Set parameter Username\r\n",
      "Academic license - for non-commercial use only - expires 2024-03-28\r\n",
      "Set parameter Username\r\n",
      "Academic license - for non-commercial use only - expires 2024-03-28\r\n",
      "Set parameter Username\r\n",
      "Academic license - for non-commercial use only - expires 2024-03-28\r\n"
     ]
    },
    {
     "name": "stderr",
     "output_type": "stream",
     "text": [
      "\r\u001b[32mprogress ...  24%|██████████                             |  ETA: 1:51:12\u001b[39m\u001b[K"
     ]
    },
    {
     "name": "stdout",
     "output_type": "stream",
     "text": [
      "Set parameter Username\r\n",
      "Academic license - for non-commercial use only - expires 2024-03-28\r\n",
      "Set parameter Username\r\n",
      "Academic license - for non-commercial use only - expires 2024-03-28\r\n"
     ]
    },
    {
     "name": "stderr",
     "output_type": "stream",
     "text": [
      "\r\u001b[32mprogress ...  25%|██████████                             |  ETA: 1:47:08\u001b[39m\u001b[K"
     ]
    },
    {
     "name": "stdout",
     "output_type": "stream",
     "text": [
      "Set parameter Username\r\n",
      "Academic license - for non-commercial use only - expires 2024-03-28\r\n"
     ]
    },
    {
     "name": "stderr",
     "output_type": "stream",
     "text": [
      "\r\u001b[32mprogress ...  27%|███████████                            |  ETA: 1:43:27\u001b[39m\u001b[K"
     ]
    },
    {
     "name": "stdout",
     "output_type": "stream",
     "text": [
      "Set parameter Username\r\n",
      "Academic license - for non-commercial use only - expires 2024-03-28\r\n",
      "Set parameter Username\r\n",
      "Academic license - for non-commercial use only - expires 2024-03-28\r\n"
     ]
    },
    {
     "name": "stderr",
     "output_type": "stream",
     "text": [
      "\r\u001b[32mprogress ...  28%|███████████                            |  ETA: 1:39:59\u001b[39m\u001b[K"
     ]
    },
    {
     "name": "stdout",
     "output_type": "stream",
     "text": [
      "Set parameter Username\r\n",
      "Academic license - for non-commercial use only - expires 2024-03-28\r\n"
     ]
    },
    {
     "name": "stderr",
     "output_type": "stream",
     "text": [
      "\r\u001b[32mprogress ...  38%|███████████████                        |  ETA: 1:11:46\u001b[39m\u001b[K"
     ]
    },
    {
     "name": "stdout",
     "output_type": "stream",
     "text": [
      "Set parameter Username\r\n",
      "Academic license - for non-commercial use only - expires 2024-03-28\r\n",
      "Set parameter Username\r\n",
      "Academic license - for non-commercial use only - expires 2024-03-28\r\n",
      "Set parameter Username\r\n",
      "Academic license - for non-commercial use only - expires 2024-03-28\r\n",
      "Set parameter Username\r\n",
      "Academic license - for non-commercial use only - expires 2024-03-28\r\n",
      "Set parameter Username\r\n",
      "Academic license - for non-commercial use only - expires 2024-03-28\r\n",
      "Set parameter Username\r\n",
      "Academic license - for non-commercial use only - expires 2024-03-28\r\n",
      "Set parameter Username\r\n",
      "Academic license - for non-commercial use only - expires 2024-03-28\r\n",
      "Set parameter Username\r\n",
      "Academic license - for non-commercial use only - expires 2024-03-28\r\n",
      "Set parameter Username\r\n",
      "Academic license - for non-commercial use only - expires 2024-03-28\r\n",
      "Set parameter Username\r\n",
      "Academic license - for non-commercial use only - expires 2024-03-28\r\n"
     ]
    },
    {
     "name": "stderr",
     "output_type": "stream",
     "text": [
      "\r\u001b[32mprogress ...  39%|████████████████                       |  ETA: 1:10:18\u001b[39m\u001b[K"
     ]
    },
    {
     "name": "stdout",
     "output_type": "stream",
     "text": [
      "Set parameter Username\r\n",
      "Academic license - for non-commercial use only - expires 2024-03-28\r\n"
     ]
    },
    {
     "name": "stderr",
     "output_type": "stream",
     "text": [
      "\r\u001b[32mprogress ...  42%|█████████████████                      |  ETA: 1:03:19\u001b[39m\u001b[K"
     ]
    },
    {
     "name": "stdout",
     "output_type": "stream",
     "text": [
      "Set parameter Username\r\n",
      "Academic license - for non-commercial use only - expires 2024-03-28\r\n",
      "Set parameter Username\r\n",
      "Academic license - for non-commercial use only - expires 2024-03-28\r\n",
      "Set parameter Username\r\n",
      "Academic license - for non-commercial use only - expires 2024-03-28\r\n"
     ]
    },
    {
     "name": "stderr",
     "output_type": "stream",
     "text": [
      "\r\u001b[32mprogress ...  43%|█████████████████                      |  ETA: 1:04:56\u001b[39m\u001b[K"
     ]
    },
    {
     "name": "stdout",
     "output_type": "stream",
     "text": [
      "Set parameter Username\r\n",
      "Academic license - for non-commercial use only - expires 2024-03-28\r\n"
     ]
    },
    {
     "name": "stderr",
     "output_type": "stream",
     "text": [
      "\r\u001b[32mprogress ...  44%|██████████████████                     |  ETA: 1:14:50\u001b[39m\u001b[K"
     ]
    },
    {
     "name": "stdout",
     "output_type": "stream",
     "text": [
      "Set parameter Username\r\n",
      "Academic license - for non-commercial use only - expires 2024-03-28\r\n"
     ]
    },
    {
     "name": "stderr",
     "output_type": "stream",
     "text": [
      "\r\u001b[32mprogress ...  45%|██████████████████                     |  ETA: 1:12:39\u001b[39m\u001b[K"
     ]
    },
    {
     "name": "stdout",
     "output_type": "stream",
     "text": [
      "Set parameter Username\r\n",
      "Academic license - for non-commercial use only - expires 2024-03-28\r\n"
     ]
    },
    {
     "name": "stderr",
     "output_type": "stream",
     "text": [
      "\r\u001b[32mprogress ...  46%|██████████████████                     |  ETA: 1:11:15\u001b[39m"
     ]
    },
    {
     "name": "stdout",
     "output_type": "stream",
     "text": [
      "Set parameter Username\r\n",
      "Academic license - for non-commercial use only - expires 2024-03-28\r\n"
     ]
    },
    {
     "name": "stderr",
     "output_type": "stream",
     "text": [
      "\u001b[K\r\u001b[32mprogress ...  48%|███████████████████                    |  ETA: 1:07:09\u001b[39m\u001b[K"
     ]
    },
    {
     "name": "stdout",
     "output_type": "stream",
     "text": [
      "Set parameter Username\r\n",
      "Academic license - for non-commercial use only - expires 2024-03-28\r\n",
      "Set parameter Username\r\n",
      "Academic license - for non-commercial use only - expires 2024-03-28\r\n"
     ]
    },
    {
     "name": "stderr",
     "output_type": "stream",
     "text": [
      "\r\u001b[32mprogress ...  49%|████████████████████                   |  ETA: 1:05:11\u001b[39m\u001b[K"
     ]
    },
    {
     "name": "stdout",
     "output_type": "stream",
     "text": [
      "Set parameter Username\r\n",
      "Academic license - for non-commercial use only - expires 2024-03-28\r\n"
     ]
    },
    {
     "name": "stderr",
     "output_type": "stream",
     "text": [
      "\r\u001b[32mprogress ...  51%|████████████████████                   |  ETA: 1:06:05\u001b[39m\u001b[K"
     ]
    },
    {
     "name": "stdout",
     "output_type": "stream",
     "text": [
      "Set parameter Username\r\n",
      "Academic license - for non-commercial use only - expires 2024-03-28\r\n",
      "Set parameter Username\r\n",
      "Academic license - for non-commercial use only - expires 2024-03-28\r\n"
     ]
    },
    {
     "name": "stderr",
     "output_type": "stream",
     "text": [
      "\r\u001b[32mprogress ...  52%|█████████████████████                  |  ETA: 1:05:17\u001b[39m\u001b[K"
     ]
    },
    {
     "name": "stdout",
     "output_type": "stream",
     "text": [
      "Set parameter Username\r\n",
      "Academic license - for non-commercial use only - expires 2024-03-28\r\n"
     ]
    },
    {
     "name": "stderr",
     "output_type": "stream",
     "text": [
      "\r\u001b[32mprogress ...  54%|██████████████████████                 |  ETA: 1:00:46\u001b[39m\u001b[K"
     ]
    },
    {
     "name": "stdout",
     "output_type": "stream",
     "text": [
      "Set parameter Username\r\n",
      "Academic license - for non-commercial use only - expires 2024-03-28\r\n",
      "Set parameter Username\r\n",
      "Academic license - for non-commercial use only - expires 2024-03-28\r\n"
     ]
    },
    {
     "name": "stderr",
     "output_type": "stream",
     "text": [
      "\r\u001b[32mprogress ...  56%|██████████████████████                 |  ETA: 0:56:42\u001b[39m\u001b[K"
     ]
    },
    {
     "name": "stdout",
     "output_type": "stream",
     "text": [
      "Set parameter Username\r\n",
      "Academic license - for non-commercial use only - expires 2024-03-28\r\n",
      "Set parameter Username\r\n",
      "Academic license - for non-commercial use only - expires 2024-03-28\r\n"
     ]
    },
    {
     "name": "stderr",
     "output_type": "stream",
     "text": [
      "\r\u001b[32mprogress ...  58%|███████████████████████                |  ETA: 0:52:57\u001b[39m\u001b[K"
     ]
    },
    {
     "name": "stdout",
     "output_type": "stream",
     "text": [
      "Set parameter Username\r\n",
      "Academic license - for non-commercial use only - expires 2024-03-28\r\n",
      "Set parameter Username\r\n",
      "Academic license - for non-commercial use only - expires 2024-03-28\r\n"
     ]
    },
    {
     "name": "stderr",
     "output_type": "stream",
     "text": [
      "\r\u001b[32mprogress ...  60%|████████████████████████               |  ETA: 0:49:48\u001b[39m\u001b[K"
     ]
    },
    {
     "name": "stdout",
     "output_type": "stream",
     "text": [
      "Set parameter Username\r\n",
      "Academic license - for non-commercial use only - expires 2024-03-28\r\n",
      "Set parameter Username\r\n",
      "Academic license - for non-commercial use only - expires 2024-03-28\r\n"
     ]
    },
    {
     "name": "stderr",
     "output_type": "stream",
     "text": [
      "\r\u001b[32mprogress ...  61%|████████████████████████               |  ETA: 0:48:58\u001b[39m\u001b[K"
     ]
    },
    {
     "name": "stdout",
     "output_type": "stream",
     "text": [
      "Set parameter Username\r\n",
      "Academic license - for non-commercial use only - expires 2024-03-28\r\n"
     ]
    },
    {
     "name": "stderr",
     "output_type": "stream",
     "text": [
      "\r\u001b[32mprogress ...  62%|█████████████████████████              |  ETA: 0:47:57\u001b[39m\u001b[K"
     ]
    },
    {
     "name": "stdout",
     "output_type": "stream",
     "text": [
      "Set parameter Username\r\n",
      "Academic license - for non-commercial use only - expires 2024-03-28\r\n"
     ]
    },
    {
     "name": "stderr",
     "output_type": "stream",
     "text": [
      "\r\u001b[32mprogress ...  65%|██████████████████████████             |  ETA: 0:45:27\u001b[39m\u001b[K"
     ]
    },
    {
     "name": "stdout",
     "output_type": "stream",
     "text": [
      "Set parameter Username\r\n",
      "Academic license - for non-commercial use only - expires 2024-03-28\r\n",
      "Set parameter Username\r\n",
      "Academic license - for non-commercial use only - expires 2024-03-28\r\n",
      "Set parameter Username\r\n",
      "Academic license - for non-commercial use only - expires 2024-03-28\r\n"
     ]
    },
    {
     "name": "stderr",
     "output_type": "stream",
     "text": [
      "\r\u001b[32mprogress ...  67%|███████████████████████████            |  ETA: 0:42:05\u001b[39m\u001b[K"
     ]
    },
    {
     "name": "stdout",
     "output_type": "stream",
     "text": [
      "Set parameter Username\r\n",
      "Academic license - for non-commercial use only - expires 2024-03-28\r\n",
      "Set parameter Username\r\n",
      "Academic license - for non-commercial use only - expires 2024-03-28\r\n"
     ]
    },
    {
     "name": "stderr",
     "output_type": "stream",
     "text": [
      "\r\u001b[32mprogress ...  68%|███████████████████████████            |  ETA: 0:43:07\u001b[39m\u001b[K"
     ]
    },
    {
     "name": "stdout",
     "output_type": "stream",
     "text": [
      "Set parameter Username\r\n",
      "Academic license - for non-commercial use only - expires 2024-03-28\r\n"
     ]
    },
    {
     "name": "stderr",
     "output_type": "stream",
     "text": [
      "\r\u001b[32mprogress ...  69%|███████████████████████████            |  ETA: 0:41:42\u001b[39m\u001b[K"
     ]
    },
    {
     "name": "stdout",
     "output_type": "stream",
     "text": [
      "Set parameter Username\r\n",
      "Academic license - for non-commercial use only - expires 2024-03-28\r\n"
     ]
    },
    {
     "name": "stderr",
     "output_type": "stream",
     "text": [
      "\r\u001b[32mprogress ...  70%|████████████████████████████           |  ETA: 0:40:10\u001b[39m\u001b[K"
     ]
    },
    {
     "name": "stdout",
     "output_type": "stream",
     "text": [
      "Set parameter Username\r\n",
      "Academic license - for non-commercial use only - expires 2024-03-28\r\n"
     ]
    },
    {
     "name": "stderr",
     "output_type": "stream",
     "text": [
      "\r\u001b[32mprogress ...  71%|████████████████████████████           |  ETA: 0:39:03\u001b[39m\u001b[K"
     ]
    },
    {
     "name": "stdout",
     "output_type": "stream",
     "text": [
      "Set parameter Username\r\n",
      "Academic license - for non-commercial use only - expires 2024-03-28\r\n"
     ]
    },
    {
     "name": "stderr",
     "output_type": "stream",
     "text": [
      "\r\u001b[32mprogress ...  72%|█████████████████████████████          |  ETA: 0:38:06\u001b[39m\u001b[K"
     ]
    },
    {
     "name": "stdout",
     "output_type": "stream",
     "text": [
      "Set parameter Username\r\n",
      "Academic license - for non-commercial use only - expires 2024-03-28\r\n"
     ]
    },
    {
     "name": "stderr",
     "output_type": "stream",
     "text": [
      "\r\u001b[32mprogress ...  74%|█████████████████████████████          |  ETA: 0:34:58\u001b[39m\u001b[K"
     ]
    },
    {
     "name": "stdout",
     "output_type": "stream",
     "text": [
      "Set parameter Username\r\n",
      "Academic license - for non-commercial use only - expires 2024-03-28\r\n",
      "Set parameter Username\r\n",
      "Academic license - for non-commercial use only - expires 2024-03-28\r\n"
     ]
    },
    {
     "name": "stderr",
     "output_type": "stream",
     "text": [
      "\r\u001b[32mprogress ...  75%|██████████████████████████████         |  ETA: 0:33:20\u001b[39m\u001b[K"
     ]
    },
    {
     "name": "stdout",
     "output_type": "stream",
     "text": [
      "Set parameter Username\r\n",
      "Academic license - for non-commercial use only - expires 2024-03-28\r\n"
     ]
    },
    {
     "name": "stderr",
     "output_type": "stream",
     "text": [
      "\r\u001b[32mprogress ...  76%|██████████████████████████████         |  ETA: 0:32:14\u001b[39m\u001b[K"
     ]
    },
    {
     "name": "stdout",
     "output_type": "stream",
     "text": [
      "Set parameter Username\r\n",
      "Academic license - for non-commercial use only - expires 2024-03-28\r\n"
     ]
    },
    {
     "name": "stderr",
     "output_type": "stream",
     "text": [
      "\r\u001b[32mprogress ...  77%|███████████████████████████████        |  ETA: 0:31:02\u001b[39m\u001b[K"
     ]
    },
    {
     "name": "stdout",
     "output_type": "stream",
     "text": [
      "Set parameter Username\r\n",
      "Academic license - for non-commercial use only - expires 2024-03-28\r\n"
     ]
    },
    {
     "name": "stderr",
     "output_type": "stream",
     "text": [
      "\r\u001b[32mprogress ...  78%|███████████████████████████████        |  ETA: 0:29:29\u001b[39m\u001b[K"
     ]
    },
    {
     "name": "stdout",
     "output_type": "stream",
     "text": [
      "Set parameter Username\r\n",
      "Academic license - for non-commercial use only - expires 2024-03-28\r\n"
     ]
    },
    {
     "name": "stderr",
     "output_type": "stream",
     "text": [
      "\r\u001b[32mprogress ...  79%|███████████████████████████████        |  ETA: 0:28:04\u001b[39m\u001b[K"
     ]
    },
    {
     "name": "stdout",
     "output_type": "stream",
     "text": [
      "Set parameter Username\r\n",
      "Academic license - for non-commercial use only - expires 2024-03-28\r\n"
     ]
    },
    {
     "name": "stderr",
     "output_type": "stream",
     "text": [
      "\r\u001b[32mprogress ...  80%|████████████████████████████████       |  ETA: 0:26:42\u001b[39m\u001b[K"
     ]
    },
    {
     "name": "stdout",
     "output_type": "stream",
     "text": [
      "Set parameter Username\r\n",
      "Academic license - for non-commercial use only - expires 2024-03-28\r\n"
     ]
    },
    {
     "name": "stderr",
     "output_type": "stream",
     "text": [
      "\r\u001b[32mprogress ...  81%|████████████████████████████████       |  ETA: 0:25:16\u001b[39m\u001b[K"
     ]
    },
    {
     "name": "stdout",
     "output_type": "stream",
     "text": [
      "Set parameter Username\r\n",
      "Academic license - for non-commercial use only - expires 2024-03-28\r\n"
     ]
    },
    {
     "name": "stderr",
     "output_type": "stream",
     "text": [
      "\r\u001b[32mprogress ...  82%|████████████████████████████████       |  ETA: 0:23:59\u001b[39m\u001b[K"
     ]
    },
    {
     "name": "stdout",
     "output_type": "stream",
     "text": [
      "Set parameter Username\r\n",
      "Academic license - for non-commercial use only - expires 2024-03-28\r\n"
     ]
    },
    {
     "name": "stderr",
     "output_type": "stream",
     "text": [
      "\r\u001b[32mprogress ...  83%|█████████████████████████████████      |  ETA: 0:22:42\u001b[39m\u001b[K"
     ]
    },
    {
     "name": "stdout",
     "output_type": "stream",
     "text": [
      "Set parameter Username\r\n",
      "Academic license - for non-commercial use only - expires 2024-03-28\r\n"
     ]
    },
    {
     "name": "stderr",
     "output_type": "stream",
     "text": [
      "\r\u001b[32mprogress ...  85%|██████████████████████████████████     |  ETA: 0:20:27\u001b[39m\u001b[K"
     ]
    },
    {
     "name": "stdout",
     "output_type": "stream",
     "text": [
      "Set parameter Username\r\n",
      "Academic license - for non-commercial use only - expires 2024-03-28\r\n",
      "Set parameter Username\r\n",
      "Academic license - for non-commercial use only - expires 2024-03-28\r\n"
     ]
    },
    {
     "name": "stderr",
     "output_type": "stream",
     "text": [
      "\r\u001b[32mprogress ...  86%|██████████████████████████████████     |  ETA: 0:19:48\u001b[39m\u001b[K"
     ]
    },
    {
     "name": "stdout",
     "output_type": "stream",
     "text": [
      "Set parameter Username\r\n",
      "Academic license - for non-commercial use only - expires 2024-03-28\r\n"
     ]
    },
    {
     "name": "stderr",
     "output_type": "stream",
     "text": [
      "\r\u001b[32mprogress ...  88%|███████████████████████████████████    |  ETA: 0:16:41\u001b[39m\u001b[K"
     ]
    },
    {
     "name": "stdout",
     "output_type": "stream",
     "text": [
      "Set parameter Username\r\n",
      "Academic license - for non-commercial use only - expires 2024-03-28\r\n",
      "Set parameter Username\r\n",
      "Academic license - for non-commercial use only - expires 2024-03-28\r\n"
     ]
    },
    {
     "name": "stderr",
     "output_type": "stream",
     "text": [
      "\r\u001b[32mprogress ...  89%|███████████████████████████████████    |  ETA: 0:15:11\u001b[39m\u001b[K"
     ]
    },
    {
     "name": "stdout",
     "output_type": "stream",
     "text": [
      "Set parameter Username\r\n",
      "Academic license - for non-commercial use only - expires 2024-03-28\r\n"
     ]
    },
    {
     "name": "stderr",
     "output_type": "stream",
     "text": [
      "\r\u001b[32mprogress ...  90%|████████████████████████████████████   |  ETA: 0:13:45\u001b[39m\u001b[K"
     ]
    },
    {
     "name": "stdout",
     "output_type": "stream",
     "text": [
      "Set parameter Username\r\n",
      "Academic license - for non-commercial use only - expires 2024-03-28\r\n"
     ]
    },
    {
     "name": "stderr",
     "output_type": "stream",
     "text": [
      "\r\u001b[32mprogress ...  91%|████████████████████████████████████   |  ETA: 0:12:19\u001b[39m\u001b[K"
     ]
    },
    {
     "name": "stdout",
     "output_type": "stream",
     "text": [
      "Set parameter Username\r\n",
      "Academic license - for non-commercial use only - expires 2024-03-28\r\n"
     ]
    },
    {
     "name": "stderr",
     "output_type": "stream",
     "text": [
      "\r\u001b[32mprogress ...  93%|█████████████████████████████████████  |  ETA: 0:09:43\u001b[39m\u001b[K"
     ]
    },
    {
     "name": "stdout",
     "output_type": "stream",
     "text": [
      "Set parameter Username\r\n",
      "Academic license - for non-commercial use only - expires 2024-03-28\r\n",
      "Set parameter Username\r\n",
      "Academic license - for non-commercial use only - expires 2024-03-28\r\n"
     ]
    },
    {
     "name": "stderr",
     "output_type": "stream",
     "text": [
      "\r\u001b[32mprogress ...  95%|██████████████████████████████████████ |  ETA: 0:06:50\u001b[39m\u001b[K"
     ]
    },
    {
     "name": "stdout",
     "output_type": "stream",
     "text": [
      "Set parameter Username\r\n",
      "Academic license - for non-commercial use only - expires 2024-03-28\r\n",
      "Set parameter Username\r\n",
      "Academic license - for non-commercial use only - expires 2024-03-28\r\n"
     ]
    },
    {
     "name": "stderr",
     "output_type": "stream",
     "text": [
      "\r\u001b[32mprogress ...  97%|██████████████████████████████████████ |  ETA: 0:04:03\u001b[39m\u001b[K"
     ]
    },
    {
     "name": "stdout",
     "output_type": "stream",
     "text": [
      "Set parameter Username\r\n",
      "Academic license - for non-commercial use only - expires 2024-03-28\r\n",
      "Set parameter Username\r\n",
      "Academic license - for non-commercial use only - expires 2024-03-28\r\n"
     ]
    },
    {
     "name": "stderr",
     "output_type": "stream",
     "text": [
      "\r\u001b[32mprogress ... 100%|███████████████████████████████████████| Time: 2:11:38\u001b[39m\u001b[K\n"
     ]
    },
    {
     "name": "stdout",
     "output_type": "stream",
     "text": [
      "Set parameter Username\r\n",
      "Academic license - for non-commercial use only - expires 2024-03-28\r\n",
      "Set parameter Username\r\n",
      "Academic license - for non-commercial use only - expires 2024-03-28\r\n",
      "Set parameter Username\r\n",
      "Academic license - for non-commercial use only - expires 2024-03-28\r\n"
     ]
    }
   ],
   "source": [
    "pred_solution = []\n",
    "@showprogress 30 \"progress ...\" for (delivery, constraint) in zip(pred_deliveries, pred_constraints)\n",
    "   push!(pred_solution, solve_tsp(delivery, constraint, Gurobi.Optimizer));\n",
    "end"
   ]
  },
  {
   "cell_type": "code",
   "execution_count": 27,
   "metadata": {},
   "outputs": [],
   "source": [
    "file = File(format\"JLD2\", \"Data/addap_output_0,1.jld2\")\n",
    "  \n",
    "# Save data into the file\n",
    "save(file, \"delivery\", pred_deliveries, \"constraint\", pred_constraints, \"solutions\", pred_solution, \"trainings_losses\", losses)"
   ]
  },
  {
   "cell_type": "code",
   "execution_count": null,
   "metadata": {},
   "outputs": [],
   "source": []
  }
 ],
 "metadata": {
  "kernelspec": {
   "display_name": "Julia 1.8.5",
   "language": "julia",
   "name": "julia-1.8"
  },
  "language_info": {
   "file_extension": ".jl",
   "mimetype": "application/julia",
   "name": "julia",
   "version": "1.8.5"
  },
  "orig_nbformat": 4
 },
 "nbformat": 4,
 "nbformat_minor": 2
}
