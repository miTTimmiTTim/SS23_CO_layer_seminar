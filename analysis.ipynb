{
 "cells": [
  {
   "cell_type": "code",
   "execution_count": null,
   "metadata": {},
   "outputs": [],
   "source": [
    "using CSV\n",
    "using DataFrames\n",
    "using JLD2\n",
    "using FileIO\n",
    "using Plots\n",
    "using StatsPlots\n",
    "using StatsBase\n",
    "using Statistics"
   ]
  },
  {
   "cell_type": "code",
   "execution_count": null,
   "metadata": {},
   "outputs": [],
   "source": [
    "include(\"optimization_Util.jl\")"
   ]
  },
  {
   "attachments": {},
   "cell_type": "markdown",
   "metadata": {},
   "source": [
    "### Visulization of the evaluated models"
   ]
  },
  {
   "attachments": {},
   "cell_type": "markdown",
   "metadata": {},
   "source": [
    "Load evaluation data"
   ]
  },
  {
   "cell_type": "code",
   "execution_count": null,
   "metadata": {},
   "outputs": [],
   "source": [
    "file = File(format\"JLD2\", \"Data/addap_output_1.jld2\")\n",
    "addap_output_1 = JLD2.load(file)\n",
    "file = File(format\"JLD2\", \"Data/addap_output_0,1.jld2\")\n",
    "addap_output_01 = JLD2.load(file)\n",
    "file = File(format\"JLD2\", \"Data/multi_output_1.jld2\")\n",
    "multi_output_1 = JLD2.load(file)\n",
    "file = File(format\"JLD2\", \"Data/multi_output_0,1.jld2\")\n",
    "multi_output_01 = JLD2.load(file)\n",
    "file = File(format\"JLD2\", \"Data/regulized_output.jld2\")\n",
    "regulized_output = JLD2.load(file)\n",
    "file = File(format\"JLD2\", \"Data/true_output.jld2\")\n",
    "true_output = JLD2.load(file)"
   ]
  },
  {
   "attachments": {},
   "cell_type": "markdown",
   "metadata": {},
   "source": [
    "save TSP evaluations"
   ]
  },
  {
   "cell_type": "code",
   "execution_count": null,
   "metadata": {},
   "outputs": [],
   "source": [
    "df = DataFrame(Addap_1 = [x[2] for x in addap_output_1[\"solutions\"]],\n",
    "                Addap_01 = [x[2] for x in addap_output_01[\"solutions\"]],\n",
    "                Multi_1 = [x[2] for x in multi_output_1[\"solutions\"]],\n",
    "                Multi_01 = [x[2] for x in multi_output_01[\"solutions\"]],\n",
    "                Generic_regu = [x[2] for x in regulized_output[\"solutions\"]],\n",
    "                true_solutions = [x[2] for x in true_output[\"solutions\"]]);"
   ]
  },
  {
   "attachments": {},
   "cell_type": "markdown",
   "metadata": {},
   "source": [
    "save loss "
   ]
  },
  {
   "cell_type": "code",
   "execution_count": null,
   "metadata": {},
   "outputs": [],
   "source": [
    "Addap_1 = [x for x in addap_output_1[\"trainings_losses\"]]\n",
    "Addap_01 = [x for x in addap_output_01[\"trainings_losses\"]]\n",
    "Multi_1 = [x for x in multi_output_1[\"trainings_losses\"]]\n",
    "Multi_01 = [x for x in multi_output_01[\"trainings_losses\"]]\n",
    "Generic_regu = [x for x in regulized_output[\"trainings_losses\"]]"
   ]
  },
  {
   "cell_type": "code",
   "execution_count": null,
   "metadata": {},
   "outputs": [],
   "source": [
    "df_losses = DataFrame(Addap_1 = Addap_1,\n",
    "                     Addap_01 = Addap_01,\n",
    "                     Multi_1 = vcat(Multi_1, fill(missing, 200 - length(Multi_1))),\n",
    "                     Multi_01 = vcat(Multi_01, fill(missing, 200 - length(Multi_01))),\n",
    "                     Generic_regu = vcat(Generic_regu, fill(missing, 200 - length(Generic_regu))));"
   ]
  },
  {
   "attachments": {},
   "cell_type": "markdown",
   "metadata": {},
   "source": [
    "Build plots of losses and save them as png"
   ]
  },
  {
   "cell_type": "code",
   "execution_count": null,
   "metadata": {},
   "outputs": [],
   "source": [
    "plot(skipmissing(df_losses[!, :Addap_1]),  title=\"Addap 1\", xlabel = \"Epoch\", legend = false)\n",
    "savefig(\"graphs/Addap_1.png\")  \n"
   ]
  },
  {
   "cell_type": "code",
   "execution_count": null,
   "metadata": {},
   "outputs": [],
   "source": [
    "plot(skipmissing(df_losses[!, :Addap_01]),  title=\"Addap 1\", xlabel = \"Epoch\", legend = false)\n",
    "savefig(\"graphs/Addap_01.png\")  "
   ]
  },
  {
   "cell_type": "code",
   "execution_count": null,
   "metadata": {},
   "outputs": [],
   "source": [
    "plot3 = plot(skipmissing(df_losses[!, :Generic_regu]), title=\"Generic regu\",  xlabel = \"Epoch\",legend = false)\n",
    "savefig(\"graphs/Generic_regu.png\")  "
   ]
  },
  {
   "cell_type": "code",
   "execution_count": null,
   "metadata": {},
   "outputs": [],
   "source": [
    "plot3 = plot(skipmissing(df_losses[!, :Multi_01]), title=\"Multi 0.1\", xlabel = \"Epoch\", legend = false)\n",
    "savefig(\"graphs/Multi_01.png\")  "
   ]
  },
  {
   "cell_type": "code",
   "execution_count": null,
   "metadata": {},
   "outputs": [],
   "source": [
    "plot3 = plot(skipmissing(df_losses[!, :Multi_1]), title=\"Multi 1\",  xlabel = \"Epoch\",legend = false)\n",
    "savefig(\"graphs/Multi_1.png\")  "
   ]
  },
  {
   "attachments": {},
   "cell_type": "markdown",
   "metadata": {},
   "source": [
    "Normalize TSP evaluation metric as % of true solution"
   ]
  },
  {
   "cell_type": "code",
   "execution_count": null,
   "metadata": {},
   "outputs": [],
   "source": [
    "df[!, :Addap_1] = df[!, :Addap_1] ./ df[!, :true_solutions]\n",
    "df[!, :Addap_01] = df[!, :Addap_01] ./ df[!, :true_solutions]\n",
    "df[!, :Multi_1] = df[!, :Multi_1] ./ df[!, :true_solutions]\n",
    "df[!, :Multi_01] = df[!, :Multi_01] ./ df[!, :true_solutions]\n",
    "df[!, :Generic_regu] = df[!, :Generic_regu] ./ df[!, :true_solutions]"
   ]
  },
  {
   "attachments": {},
   "cell_type": "markdown",
   "metadata": {},
   "source": [
    "Stack in Dataframe and rename Columns"
   ]
  },
  {
   "cell_type": "code",
   "execution_count": null,
   "metadata": {},
   "outputs": [],
   "source": [
    "df_long = stack(df, [:Addap_1, :Addap_01, :Multi_1, :Multi_01, :Generic_regu])\n",
    "replace!(df_long.variable, \"Addap_01\" => \"Addap_0.1\")\n",
    "replace!(df_long.variable, \"Multi_01\" => \"Multi_0.1\")"
   ]
  },
  {
   "attachments": {},
   "cell_type": "markdown",
   "metadata": {},
   "source": [
    "Draw boxplot"
   ]
  },
  {
   "cell_type": "code",
   "execution_count": null,
   "metadata": {},
   "outputs": [],
   "source": [
    "@df df_long boxplot(string.(:variable), :value, legend = false)\n",
    "ylabel!(\"relative distance to true assignments\")"
   ]
  },
  {
   "cell_type": "code",
   "execution_count": null,
   "metadata": {},
   "outputs": [],
   "source": [
    "savefig(\"boxplot.png\")  "
   ]
  }
 ],
 "metadata": {
  "kernelspec": {
   "display_name": "Julia 1.8.5",
   "language": "julia",
   "name": "julia-1.8"
  },
  "language_info": {
   "file_extension": ".jl",
   "mimetype": "application/julia",
   "name": "julia",
   "version": "1.8.5"
  },
  "orig_nbformat": 4
 },
 "nbformat": 4,
 "nbformat_minor": 2
}
